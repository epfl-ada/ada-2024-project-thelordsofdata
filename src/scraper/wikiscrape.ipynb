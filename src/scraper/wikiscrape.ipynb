{
 "cells": [
  {
   "cell_type": "code",
   "execution_count": 20,
   "metadata": {},
   "outputs": [],
   "source": [
    "import requests\n",
    "from bs4 import BeautifulSoup\n",
    "import pandas as pd"
   ]
  },
  {
   "cell_type": "code",
   "execution_count": 29,
   "metadata": {},
   "outputs": [],
   "source": [
    "df_wiki_to_scrape = pd.read_csv('wiki2.csv')"
   ]
  },
  {
   "cell_type": "code",
   "execution_count": 30,
   "metadata": {},
   "outputs": [
    {
     "data": {
      "text/html": [
       "<div>\n",
       "<style scoped>\n",
       "    .dataframe tbody tr th:only-of-type {\n",
       "        vertical-align: middle;\n",
       "    }\n",
       "\n",
       "    .dataframe tbody tr th {\n",
       "        vertical-align: top;\n",
       "    }\n",
       "\n",
       "    .dataframe thead th {\n",
       "        text-align: right;\n",
       "    }\n",
       "</style>\n",
       "<table border=\"1\" class=\"dataframe\">\n",
       "  <thead>\n",
       "    <tr style=\"text-align: right;\">\n",
       "      <th></th>\n",
       "      <th>Name</th>\n",
       "      <th>Year</th>\n",
       "      <th>Languages</th>\n",
       "      <th>Countries</th>\n",
       "      <th>Genres</th>\n",
       "      <th>Budget</th>\n",
       "      <th>domestic_gross</th>\n",
       "      <th>domestic_percentage</th>\n",
       "      <th>foreign_gross</th>\n",
       "      <th>foreign_percentage</th>\n",
       "      <th>worldwide_gross</th>\n",
       "    </tr>\n",
       "  </thead>\n",
       "  <tbody>\n",
       "    <tr>\n",
       "      <th>0</th>\n",
       "      <td>10 cloverfield lane</td>\n",
       "      <td>2016</td>\n",
       "      <td>english</td>\n",
       "      <td>united states</td>\n",
       "      <td>drama, horror, sci-fi, thriller</td>\n",
       "      <td>5000000</td>\n",
       "      <td>72082999</td>\n",
       "      <td>0.654010</td>\n",
       "      <td>38134000</td>\n",
       "      <td>0.345990</td>\n",
       "      <td>110216999</td>\n",
       "    </tr>\n",
       "    <tr>\n",
       "      <th>1</th>\n",
       "      <td>12 monkeys</td>\n",
       "      <td>1995</td>\n",
       "      <td>english</td>\n",
       "      <td>united states</td>\n",
       "      <td>mystery, sci-fi, thriller</td>\n",
       "      <td>29000000</td>\n",
       "      <td>57141459</td>\n",
       "      <td>0.338437</td>\n",
       "      <td>111698000</td>\n",
       "      <td>0.661563</td>\n",
       "      <td>168839459</td>\n",
       "    </tr>\n",
       "    <tr>\n",
       "      <th>2</th>\n",
       "      <td>12 strong</td>\n",
       "      <td>2018</td>\n",
       "      <td>english</td>\n",
       "      <td>united states</td>\n",
       "      <td>action, drama, history, war</td>\n",
       "      <td>35000000</td>\n",
       "      <td>45819713</td>\n",
       "      <td>0.644274</td>\n",
       "      <td>25298665</td>\n",
       "      <td>0.355726</td>\n",
       "      <td>71118378</td>\n",
       "    </tr>\n",
       "    <tr>\n",
       "      <th>3</th>\n",
       "      <td>12 years a slave</td>\n",
       "      <td>2013</td>\n",
       "      <td>NaN</td>\n",
       "      <td>NaN</td>\n",
       "      <td>biography, drama, history</td>\n",
       "      <td>20000000</td>\n",
       "      <td>56671993</td>\n",
       "      <td>0.301875</td>\n",
       "      <td>131061209</td>\n",
       "      <td>0.698125</td>\n",
       "      <td>187733202</td>\n",
       "    </tr>\n",
       "    <tr>\n",
       "      <th>4</th>\n",
       "      <td>13 hours</td>\n",
       "      <td>2016</td>\n",
       "      <td>NaN</td>\n",
       "      <td>NaN</td>\n",
       "      <td>action, drama, history, thriller, war</td>\n",
       "      <td>50000000</td>\n",
       "      <td>52853219</td>\n",
       "      <td>0.761449</td>\n",
       "      <td>16558151</td>\n",
       "      <td>0.238551</td>\n",
       "      <td>69411370</td>\n",
       "    </tr>\n",
       "  </tbody>\n",
       "</table>\n",
       "</div>"
      ],
      "text/plain": [
       "                  Name  Year Languages      Countries  \\\n",
       "0  10 cloverfield lane  2016   english  united states   \n",
       "1           12 monkeys  1995   english  united states   \n",
       "2            12 strong  2018   english  united states   \n",
       "3     12 years a slave  2013       NaN            NaN   \n",
       "4             13 hours  2016       NaN            NaN   \n",
       "\n",
       "                                  Genres    Budget  domestic_gross  \\\n",
       "0        drama, horror, sci-fi, thriller   5000000        72082999   \n",
       "1              mystery, sci-fi, thriller  29000000        57141459   \n",
       "2            action, drama, history, war  35000000        45819713   \n",
       "3              biography, drama, history  20000000        56671993   \n",
       "4  action, drama, history, thriller, war  50000000        52853219   \n",
       "\n",
       "   domestic_percentage  foreign_gross  foreign_percentage  worldwide_gross  \n",
       "0             0.654010       38134000            0.345990        110216999  \n",
       "1             0.338437      111698000            0.661563        168839459  \n",
       "2             0.644274       25298665            0.355726         71118378  \n",
       "3             0.301875      131061209            0.698125        187733202  \n",
       "4             0.761449       16558151            0.238551         69411370  "
      ]
     },
     "execution_count": 30,
     "metadata": {},
     "output_type": "execute_result"
    }
   ],
   "source": [
    "df_wiki_to_scrape.head()"
   ]
  },
  {
   "cell_type": "code",
   "execution_count": 33,
   "metadata": {},
   "outputs": [
    {
     "name": "stdout",
     "output_type": "stream",
     "text": [
      "Before dropping nans 1263\n",
      "After dropping nans 456\n"
     ]
    }
   ],
   "source": [
    "print(f\"Before dropping nans {len(df_wiki_to_scrape)}\")\n",
    "df_wiki_to_scrape = df_wiki_to_scrape.dropna()\n",
    "print(f\"After dropping nans {len(df_wiki_to_scrape)}\")"
   ]
  },
  {
   "cell_type": "code",
   "execution_count": 34,
   "metadata": {},
   "outputs": [
    {
     "data": {
      "text/plain": [
       "Languages\n",
       "english                           405\n",
       "hindi                               6\n",
       "englishspanish                      5\n",
       "japanese                            4\n",
       "englishfrench                       2\n",
       "mandarin                            2\n",
       "english  spanish                    2\n",
       "english russian                     2\n",
       "hindi[1]                            2\n",
       "telugutamil                         2\n",
       "urdupunjabi                         1\n",
       "englishgerman                       1\n",
       "\\nenglish\\nhindi\\n                  1\n",
       "silent filmenglish intertitles      1\n",
       "american sign languageenglish       1\n",
       "englishluganda                      1\n",
       "englisharamaic                      1\n",
       "englishturkish                      1\n",
       "hindienglish[4]                     1\n",
       "englishhindi                        1\n",
       "vietnamese english                  1\n",
       "english[3]                          1\n",
       "mandarin[1]englishhindi             1\n",
       "englishchinesejapanese              1\n",
       "\\nenglish\\n                         1\n",
       "koreanenglish                       1\n",
       "albanianenglishfrenchspanish        1\n",
       "frenchenglish                       1\n",
       "english, spanish                    1\n",
       "englishhindipunjabi                 1\n",
       "english[a]                          1\n",
       "englishgermanrussian                1\n",
       "englishamerican sign language       1\n",
       "mandarin english                    1\n",
       "Name: count, dtype: int64"
      ]
     },
     "execution_count": 34,
     "metadata": {},
     "output_type": "execute_result"
    }
   ],
   "source": [
    "df_wiki_to_scrape['Languages'].value_counts()"
   ]
  },
  {
   "cell_type": "code",
   "execution_count": 36,
   "metadata": {},
   "outputs": [],
   "source": [
    "df_wiki_to_scrape.to_csv('wiki_extracted.csv')"
   ]
  }
 ],
 "metadata": {
  "kernelspec": {
   "display_name": "Python 3",
   "language": "python",
   "name": "python3"
  },
  "language_info": {
   "codemirror_mode": {
    "name": "ipython",
    "version": 3
   },
   "file_extension": ".py",
   "mimetype": "text/x-python",
   "name": "python",
   "nbconvert_exporter": "python",
   "pygments_lexer": "ipython3",
   "version": "3.8.5"
  }
 },
 "nbformat": 4,
 "nbformat_minor": 2
}
