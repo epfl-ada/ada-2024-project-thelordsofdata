{
 "cells": [
  {
   "cell_type": "code",
   "execution_count": 326,
   "metadata": {},
   "outputs": [],
   "source": [
    "import pandas as pd\n",
    "import numpy as np\n",
    "import matplotlib.pyplot as plt\n",
    "import statsmodels.api as sm\n",
    "import random\n",
    "from sklearn.preprocessing import StandardScaler\n",
    "import plotly.express as px\n"
   ]
  },
  {
   "cell_type": "code",
   "execution_count": 327,
   "metadata": {},
   "outputs": [
    {
     "data": {
      "text/html": [
       "<div>\n",
       "<style scoped>\n",
       "    .dataframe tbody tr th:only-of-type {\n",
       "        vertical-align: middle;\n",
       "    }\n",
       "\n",
       "    .dataframe tbody tr th {\n",
       "        vertical-align: top;\n",
       "    }\n",
       "\n",
       "    .dataframe thead th {\n",
       "        text-align: right;\n",
       "    }\n",
       "</style>\n",
       "<table border=\"1\" class=\"dataframe\">\n",
       "  <thead>\n",
       "    <tr style=\"text-align: right;\">\n",
       "      <th></th>\n",
       "      <th>Name</th>\n",
       "      <th>Countries</th>\n",
       "      <th>Genres</th>\n",
       "      <th>Budget(USD)_Inflated</th>\n",
       "      <th>Domestic(USD)_Inflated</th>\n",
       "      <th>Domestic_Percentage</th>\n",
       "      <th>Foreign(USD)_Inflated</th>\n",
       "      <th>Foreign_Percentage</th>\n",
       "      <th>Worldwide(USD)_Inflated</th>\n",
       "      <th>Runtime(mins)</th>\n",
       "      <th>...</th>\n",
       "      <th>animation</th>\n",
       "      <th>teen</th>\n",
       "      <th>film adaptation</th>\n",
       "      <th>musical</th>\n",
       "      <th>history</th>\n",
       "      <th>coming of age</th>\n",
       "      <th>sports</th>\n",
       "      <th>black comedy</th>\n",
       "      <th>war film</th>\n",
       "      <th>Worldwide_profit</th>\n",
       "    </tr>\n",
       "  </thead>\n",
       "  <tbody>\n",
       "    <tr>\n",
       "      <th>0</th>\n",
       "      <td>10 cloverfield lane</td>\n",
       "      <td>united states of america</td>\n",
       "      <td>drama, horror, sci-fi, thriller</td>\n",
       "      <td>6.076746e+06</td>\n",
       "      <td>8.760602e+07</td>\n",
       "      <td>0.654010</td>\n",
       "      <td>4.634613e+07</td>\n",
       "      <td>0.345990</td>\n",
       "      <td>1.339521e+08</td>\n",
       "      <td>103</td>\n",
       "      <td>...</td>\n",
       "      <td>0</td>\n",
       "      <td>0</td>\n",
       "      <td>0</td>\n",
       "      <td>0</td>\n",
       "      <td>0</td>\n",
       "      <td>0</td>\n",
       "      <td>0</td>\n",
       "      <td>0</td>\n",
       "      <td>0</td>\n",
       "      <td>22.043400</td>\n",
       "    </tr>\n",
       "    <tr>\n",
       "      <th>1</th>\n",
       "      <td>10,000 bc</td>\n",
       "      <td>united states of america</td>\n",
       "      <td>thriller, adventure, costume drama, action, ad...</td>\n",
       "      <td>1.441563e+08</td>\n",
       "      <td>1.301309e+08</td>\n",
       "      <td>0.351333</td>\n",
       "      <td>2.402606e+08</td>\n",
       "      <td>0.648667</td>\n",
       "      <td>3.703914e+08</td>\n",
       "      <td>109</td>\n",
       "      <td>...</td>\n",
       "      <td>0</td>\n",
       "      <td>0</td>\n",
       "      <td>0</td>\n",
       "      <td>0</td>\n",
       "      <td>0</td>\n",
       "      <td>0</td>\n",
       "      <td>0</td>\n",
       "      <td>0</td>\n",
       "      <td>0</td>\n",
       "      <td>2.569373</td>\n",
       "    </tr>\n",
       "    <tr>\n",
       "      <th>2</th>\n",
       "      <td>12 rounds</td>\n",
       "      <td>united states of america</td>\n",
       "      <td>action thrillers, thriller, action, crime fiction</td>\n",
       "      <td>2.726275e+07</td>\n",
       "      <td>1.667757e+07</td>\n",
       "      <td>0.708013</td>\n",
       "      <td>6.877890e+06</td>\n",
       "      <td>0.291987</td>\n",
       "      <td>2.355546e+07</td>\n",
       "      <td>108</td>\n",
       "      <td>...</td>\n",
       "      <td>0</td>\n",
       "      <td>0</td>\n",
       "      <td>0</td>\n",
       "      <td>0</td>\n",
       "      <td>0</td>\n",
       "      <td>0</td>\n",
       "      <td>0</td>\n",
       "      <td>0</td>\n",
       "      <td>0</td>\n",
       "      <td>0.864016</td>\n",
       "    </tr>\n",
       "    <tr>\n",
       "      <th>3</th>\n",
       "      <td>12 strong</td>\n",
       "      <td>united states of america</td>\n",
       "      <td>action, drama, history, war</td>\n",
       "      <td>3.979050e+07</td>\n",
       "      <td>5.209113e+07</td>\n",
       "      <td>0.644274</td>\n",
       "      <td>2.876133e+07</td>\n",
       "      <td>0.355726</td>\n",
       "      <td>8.085246e+07</td>\n",
       "      <td>130</td>\n",
       "      <td>...</td>\n",
       "      <td>0</td>\n",
       "      <td>0</td>\n",
       "      <td>0</td>\n",
       "      <td>0</td>\n",
       "      <td>1</td>\n",
       "      <td>0</td>\n",
       "      <td>0</td>\n",
       "      <td>0</td>\n",
       "      <td>0</td>\n",
       "      <td>2.031954</td>\n",
       "    </tr>\n",
       "    <tr>\n",
       "      <th>4</th>\n",
       "      <td>12 years a slave</td>\n",
       "      <td>united states of america</td>\n",
       "      <td>biography, drama, history</td>\n",
       "      <td>2.539260e+07</td>\n",
       "      <td>7.195247e+07</td>\n",
       "      <td>0.301875</td>\n",
       "      <td>1.663993e+08</td>\n",
       "      <td>0.698125</td>\n",
       "      <td>2.383517e+08</td>\n",
       "      <td>134</td>\n",
       "      <td>...</td>\n",
       "      <td>0</td>\n",
       "      <td>0</td>\n",
       "      <td>0</td>\n",
       "      <td>0</td>\n",
       "      <td>1</td>\n",
       "      <td>0</td>\n",
       "      <td>0</td>\n",
       "      <td>0</td>\n",
       "      <td>0</td>\n",
       "      <td>9.386660</td>\n",
       "    </tr>\n",
       "    <tr>\n",
       "      <th>...</th>\n",
       "      <td>...</td>\n",
       "      <td>...</td>\n",
       "      <td>...</td>\n",
       "      <td>...</td>\n",
       "      <td>...</td>\n",
       "      <td>...</td>\n",
       "      <td>...</td>\n",
       "      <td>...</td>\n",
       "      <td>...</td>\n",
       "      <td>...</td>\n",
       "      <td>...</td>\n",
       "      <td>...</td>\n",
       "      <td>...</td>\n",
       "      <td>...</td>\n",
       "      <td>...</td>\n",
       "      <td>...</td>\n",
       "      <td>...</td>\n",
       "      <td>...</td>\n",
       "      <td>...</td>\n",
       "      <td>...</td>\n",
       "      <td>...</td>\n",
       "    </tr>\n",
       "    <tr>\n",
       "      <th>2684</th>\n",
       "      <td>zoolander</td>\n",
       "      <td>united states of america</td>\n",
       "      <td>parody, comedy of errors, comedy</td>\n",
       "      <td>4.851315e+07</td>\n",
       "      <td>7.826600e+07</td>\n",
       "      <td>0.743197</td>\n",
       "      <td>2.704388e+07</td>\n",
       "      <td>0.256803</td>\n",
       "      <td>1.053099e+08</td>\n",
       "      <td>90</td>\n",
       "      <td>...</td>\n",
       "      <td>0</td>\n",
       "      <td>0</td>\n",
       "      <td>0</td>\n",
       "      <td>0</td>\n",
       "      <td>0</td>\n",
       "      <td>0</td>\n",
       "      <td>0</td>\n",
       "      <td>0</td>\n",
       "      <td>0</td>\n",
       "      <td>2.170749</td>\n",
       "    </tr>\n",
       "    <tr>\n",
       "      <th>2685</th>\n",
       "      <td>zoolander 2</td>\n",
       "      <td>united states of america</td>\n",
       "      <td>action, adventure, comedy, mystery, romance</td>\n",
       "      <td>6.076746e+07</td>\n",
       "      <td>3.506124e+07</td>\n",
       "      <td>0.508592</td>\n",
       "      <td>3.387664e+07</td>\n",
       "      <td>0.491408</td>\n",
       "      <td>6.893788e+07</td>\n",
       "      <td>101</td>\n",
       "      <td>...</td>\n",
       "      <td>0</td>\n",
       "      <td>0</td>\n",
       "      <td>0</td>\n",
       "      <td>0</td>\n",
       "      <td>0</td>\n",
       "      <td>0</td>\n",
       "      <td>0</td>\n",
       "      <td>0</td>\n",
       "      <td>0</td>\n",
       "      <td>1.134454</td>\n",
       "    </tr>\n",
       "    <tr>\n",
       "      <th>2686</th>\n",
       "      <td>zoom</td>\n",
       "      <td>united states of america</td>\n",
       "      <td>science fiction, action, fantasy, adventure</td>\n",
       "      <td>5.014200e+07</td>\n",
       "      <td>1.717625e+07</td>\n",
       "      <td>0.958658</td>\n",
       "      <td>7.407176e+05</td>\n",
       "      <td>0.041342</td>\n",
       "      <td>1.791697e+07</td>\n",
       "      <td>93</td>\n",
       "      <td>...</td>\n",
       "      <td>0</td>\n",
       "      <td>0</td>\n",
       "      <td>0</td>\n",
       "      <td>0</td>\n",
       "      <td>0</td>\n",
       "      <td>0</td>\n",
       "      <td>0</td>\n",
       "      <td>0</td>\n",
       "      <td>0</td>\n",
       "      <td>0.357325</td>\n",
       "    </tr>\n",
       "    <tr>\n",
       "      <th>2687</th>\n",
       "      <td>zootopia</td>\n",
       "      <td>united states of america</td>\n",
       "      <td>action, adventure, animation, comedy, crime, f...</td>\n",
       "      <td>1.823024e+08</td>\n",
       "      <td>4.147601e+08</td>\n",
       "      <td>0.333340</td>\n",
       "      <td>8.294952e+08</td>\n",
       "      <td>0.666660</td>\n",
       "      <td>1.244255e+09</td>\n",
       "      <td>108</td>\n",
       "      <td>...</td>\n",
       "      <td>1</td>\n",
       "      <td>0</td>\n",
       "      <td>0</td>\n",
       "      <td>0</td>\n",
       "      <td>0</td>\n",
       "      <td>0</td>\n",
       "      <td>0</td>\n",
       "      <td>0</td>\n",
       "      <td>0</td>\n",
       "      <td>6.825228</td>\n",
       "    </tr>\n",
       "    <tr>\n",
       "      <th>2688</th>\n",
       "      <td>aeon flux</td>\n",
       "      <td>united states of america</td>\n",
       "      <td>thriller, science fiction, action, adventure, ...</td>\n",
       "      <td>9.055065e+07</td>\n",
       "      <td>3.778932e+07</td>\n",
       "      <td>0.485250</td>\n",
       "      <td>4.008668e+07</td>\n",
       "      <td>0.514750</td>\n",
       "      <td>7.787601e+07</td>\n",
       "      <td>93</td>\n",
       "      <td>...</td>\n",
       "      <td>0</td>\n",
       "      <td>0</td>\n",
       "      <td>0</td>\n",
       "      <td>0</td>\n",
       "      <td>0</td>\n",
       "      <td>0</td>\n",
       "      <td>0</td>\n",
       "      <td>0</td>\n",
       "      <td>0</td>\n",
       "      <td>0.860027</td>\n",
       "    </tr>\n",
       "  </tbody>\n",
       "</table>\n",
       "<p>2689 rows × 45 columns</p>\n",
       "</div>"
      ],
      "text/plain": [
       "                     Name                 Countries  \\\n",
       "0     10 cloverfield lane  united states of america   \n",
       "1               10,000 bc  united states of america   \n",
       "2               12 rounds  united states of america   \n",
       "3               12 strong  united states of america   \n",
       "4        12 years a slave  united states of america   \n",
       "...                   ...                       ...   \n",
       "2684            zoolander  united states of america   \n",
       "2685          zoolander 2  united states of america   \n",
       "2686                 zoom  united states of america   \n",
       "2687             zootopia  united states of america   \n",
       "2688            aeon flux  united states of america   \n",
       "\n",
       "                                                 Genres  Budget(USD)_Inflated  \\\n",
       "0                       drama, horror, sci-fi, thriller          6.076746e+06   \n",
       "1     thriller, adventure, costume drama, action, ad...          1.441563e+08   \n",
       "2     action thrillers, thriller, action, crime fiction          2.726275e+07   \n",
       "3                           action, drama, history, war          3.979050e+07   \n",
       "4                             biography, drama, history          2.539260e+07   \n",
       "...                                                 ...                   ...   \n",
       "2684                   parody, comedy of errors, comedy          4.851315e+07   \n",
       "2685        action, adventure, comedy, mystery, romance          6.076746e+07   \n",
       "2686        science fiction, action, fantasy, adventure          5.014200e+07   \n",
       "2687  action, adventure, animation, comedy, crime, f...          1.823024e+08   \n",
       "2688  thriller, science fiction, action, adventure, ...          9.055065e+07   \n",
       "\n",
       "      Domestic(USD)_Inflated  Domestic_Percentage  Foreign(USD)_Inflated  \\\n",
       "0               8.760602e+07             0.654010           4.634613e+07   \n",
       "1               1.301309e+08             0.351333           2.402606e+08   \n",
       "2               1.667757e+07             0.708013           6.877890e+06   \n",
       "3               5.209113e+07             0.644274           2.876133e+07   \n",
       "4               7.195247e+07             0.301875           1.663993e+08   \n",
       "...                      ...                  ...                    ...   \n",
       "2684            7.826600e+07             0.743197           2.704388e+07   \n",
       "2685            3.506124e+07             0.508592           3.387664e+07   \n",
       "2686            1.717625e+07             0.958658           7.407176e+05   \n",
       "2687            4.147601e+08             0.333340           8.294952e+08   \n",
       "2688            3.778932e+07             0.485250           4.008668e+07   \n",
       "\n",
       "      Foreign_Percentage  Worldwide(USD)_Inflated  Runtime(mins)  ...  \\\n",
       "0               0.345990             1.339521e+08            103  ...   \n",
       "1               0.648667             3.703914e+08            109  ...   \n",
       "2               0.291987             2.355546e+07            108  ...   \n",
       "3               0.355726             8.085246e+07            130  ...   \n",
       "4               0.698125             2.383517e+08            134  ...   \n",
       "...                  ...                      ...            ...  ...   \n",
       "2684            0.256803             1.053099e+08             90  ...   \n",
       "2685            0.491408             6.893788e+07            101  ...   \n",
       "2686            0.041342             1.791697e+07             93  ...   \n",
       "2687            0.666660             1.244255e+09            108  ...   \n",
       "2688            0.514750             7.787601e+07             93  ...   \n",
       "\n",
       "     animation  teen  film adaptation musical history  coming of age  sports  \\\n",
       "0            0     0                0       0       0              0       0   \n",
       "1            0     0                0       0       0              0       0   \n",
       "2            0     0                0       0       0              0       0   \n",
       "3            0     0                0       0       1              0       0   \n",
       "4            0     0                0       0       1              0       0   \n",
       "...        ...   ...              ...     ...     ...            ...     ...   \n",
       "2684         0     0                0       0       0              0       0   \n",
       "2685         0     0                0       0       0              0       0   \n",
       "2686         0     0                0       0       0              0       0   \n",
       "2687         1     0                0       0       0              0       0   \n",
       "2688         0     0                0       0       0              0       0   \n",
       "\n",
       "      black comedy war film  Worldwide_profit  \n",
       "0                0        0         22.043400  \n",
       "1                0        0          2.569373  \n",
       "2                0        0          0.864016  \n",
       "3                0        0          2.031954  \n",
       "4                0        0          9.386660  \n",
       "...            ...      ...               ...  \n",
       "2684             0        0          2.170749  \n",
       "2685             0        0          1.134454  \n",
       "2686             0        0          0.357325  \n",
       "2687             0        0          6.825228  \n",
       "2688             0        0          0.860027  \n",
       "\n",
       "[2689 rows x 45 columns]"
      ]
     },
     "execution_count": 327,
     "metadata": {},
     "output_type": "execute_result"
    }
   ],
   "source": [
    "final_df = pd.read_csv('../data/final_V2.csv')\n",
    "final_df "
   ]
  },
  {
   "cell_type": "code",
   "execution_count": 328,
   "metadata": {},
   "outputs": [
    {
     "data": {
      "text/plain": [
       "Index(['Name', 'Countries', 'Genres', 'Budget(USD)_Inflated',\n",
       "       'Domestic(USD)_Inflated', 'Domestic_Percentage',\n",
       "       'Foreign(USD)_Inflated', 'Foreign_Percentage',\n",
       "       'Worldwide(USD)_Inflated', 'Runtime(mins)', 'Rating', 'Audience_Score',\n",
       "       'Critics_Score', 'plot_summary', 'Month', 'Day', 'Year',\n",
       "       'Foreign_higher', 'emotion', 'emotion_score', 'drama', 'comedy',\n",
       "       'thriller', 'action', 'adventure', 'romance film', 'horror', 'fantasy',\n",
       "       'mystery', 'crime fiction', 'indie', 'biography', 'family film',\n",
       "       'sci-fi', 'period piece', 'animation', 'teen', 'film adaptation',\n",
       "       'musical', 'history', 'coming of age', 'sports', 'black comedy',\n",
       "       'war film', 'Worldwide_profit'],\n",
       "      dtype='object')"
      ]
     },
     "execution_count": 328,
     "metadata": {},
     "output_type": "execute_result"
    }
   ],
   "source": [
    "final_df.columns"
   ]
  },
  {
   "cell_type": "markdown",
   "metadata": {},
   "source": [
    "## preparing the data"
   ]
  },
  {
   "cell_type": "code",
   "execution_count": 329,
   "metadata": {},
   "outputs": [],
   "source": [
    "# Dropping columns deemed irrelevant for the model\n",
    "df_ols = final_df.drop(columns=[\"Genres\", \"Day\",\"Name\", \"plot_summary\", \"Countries\", \"Worldwide(USD)_Inflated\", \"Domestic(USD)_Inflated\", \"Foreign(USD)_Inflated\", \"Worldwide(USD)_Inflated\", \"Foreign_higher\"])"
   ]
  },
  {
   "cell_type": "code",
   "execution_count": 330,
   "metadata": {},
   "outputs": [
    {
     "data": {
      "text/html": [
       "<div>\n",
       "<style scoped>\n",
       "    .dataframe tbody tr th:only-of-type {\n",
       "        vertical-align: middle;\n",
       "    }\n",
       "\n",
       "    .dataframe tbody tr th {\n",
       "        vertical-align: top;\n",
       "    }\n",
       "\n",
       "    .dataframe thead th {\n",
       "        text-align: right;\n",
       "    }\n",
       "</style>\n",
       "<table border=\"1\" class=\"dataframe\">\n",
       "  <thead>\n",
       "    <tr style=\"text-align: right;\">\n",
       "      <th></th>\n",
       "      <th>Budget(USD)_Inflated</th>\n",
       "      <th>Domestic_Percentage</th>\n",
       "      <th>Foreign_Percentage</th>\n",
       "      <th>Runtime(mins)</th>\n",
       "      <th>Rating</th>\n",
       "      <th>Audience_Score</th>\n",
       "      <th>Critics_Score</th>\n",
       "      <th>Month</th>\n",
       "      <th>Year</th>\n",
       "      <th>emotion</th>\n",
       "      <th>...</th>\n",
       "      <th>animation</th>\n",
       "      <th>teen</th>\n",
       "      <th>film adaptation</th>\n",
       "      <th>musical</th>\n",
       "      <th>history</th>\n",
       "      <th>coming of age</th>\n",
       "      <th>sports</th>\n",
       "      <th>black comedy</th>\n",
       "      <th>war film</th>\n",
       "      <th>Worldwide_profit</th>\n",
       "    </tr>\n",
       "  </thead>\n",
       "  <tbody>\n",
       "    <tr>\n",
       "      <th>0</th>\n",
       "      <td>6.076746e+06</td>\n",
       "      <td>0.654010</td>\n",
       "      <td>0.345990</td>\n",
       "      <td>103</td>\n",
       "      <td>pg-13</td>\n",
       "      <td>0.79</td>\n",
       "      <td>0.91</td>\n",
       "      <td>Mar</td>\n",
       "      <td>2016</td>\n",
       "      <td>fear</td>\n",
       "      <td>...</td>\n",
       "      <td>0</td>\n",
       "      <td>0</td>\n",
       "      <td>0</td>\n",
       "      <td>0</td>\n",
       "      <td>0</td>\n",
       "      <td>0</td>\n",
       "      <td>0</td>\n",
       "      <td>0</td>\n",
       "      <td>0</td>\n",
       "      <td>22.043400</td>\n",
       "    </tr>\n",
       "    <tr>\n",
       "      <th>1</th>\n",
       "      <td>1.441563e+08</td>\n",
       "      <td>0.351333</td>\n",
       "      <td>0.648667</td>\n",
       "      <td>109</td>\n",
       "      <td>pg-13</td>\n",
       "      <td>0.37</td>\n",
       "      <td>0.10</td>\n",
       "      <td>Mar</td>\n",
       "      <td>2008</td>\n",
       "      <td>fear</td>\n",
       "      <td>...</td>\n",
       "      <td>0</td>\n",
       "      <td>0</td>\n",
       "      <td>0</td>\n",
       "      <td>0</td>\n",
       "      <td>0</td>\n",
       "      <td>0</td>\n",
       "      <td>0</td>\n",
       "      <td>0</td>\n",
       "      <td>0</td>\n",
       "      <td>2.569373</td>\n",
       "    </tr>\n",
       "    <tr>\n",
       "      <th>2</th>\n",
       "      <td>2.726275e+07</td>\n",
       "      <td>0.708013</td>\n",
       "      <td>0.291987</td>\n",
       "      <td>108</td>\n",
       "      <td>pg-13</td>\n",
       "      <td>0.45</td>\n",
       "      <td>0.31</td>\n",
       "      <td>Mar</td>\n",
       "      <td>2009</td>\n",
       "      <td>anger</td>\n",
       "      <td>...</td>\n",
       "      <td>0</td>\n",
       "      <td>0</td>\n",
       "      <td>0</td>\n",
       "      <td>0</td>\n",
       "      <td>0</td>\n",
       "      <td>0</td>\n",
       "      <td>0</td>\n",
       "      <td>0</td>\n",
       "      <td>0</td>\n",
       "      <td>0.864016</td>\n",
       "    </tr>\n",
       "    <tr>\n",
       "      <th>3</th>\n",
       "      <td>3.979050e+07</td>\n",
       "      <td>0.644274</td>\n",
       "      <td>0.355726</td>\n",
       "      <td>130</td>\n",
       "      <td>r</td>\n",
       "      <td>0.62</td>\n",
       "      <td>0.50</td>\n",
       "      <td>Jan</td>\n",
       "      <td>2018</td>\n",
       "      <td>fear</td>\n",
       "      <td>...</td>\n",
       "      <td>0</td>\n",
       "      <td>0</td>\n",
       "      <td>0</td>\n",
       "      <td>0</td>\n",
       "      <td>1</td>\n",
       "      <td>0</td>\n",
       "      <td>0</td>\n",
       "      <td>0</td>\n",
       "      <td>0</td>\n",
       "      <td>2.031954</td>\n",
       "    </tr>\n",
       "    <tr>\n",
       "      <th>4</th>\n",
       "      <td>2.539260e+07</td>\n",
       "      <td>0.301875</td>\n",
       "      <td>0.698125</td>\n",
       "      <td>134</td>\n",
       "      <td>r</td>\n",
       "      <td>0.90</td>\n",
       "      <td>0.95</td>\n",
       "      <td>Oct</td>\n",
       "      <td>2013</td>\n",
       "      <td>sadness</td>\n",
       "      <td>...</td>\n",
       "      <td>0</td>\n",
       "      <td>0</td>\n",
       "      <td>0</td>\n",
       "      <td>0</td>\n",
       "      <td>1</td>\n",
       "      <td>0</td>\n",
       "      <td>0</td>\n",
       "      <td>0</td>\n",
       "      <td>0</td>\n",
       "      <td>9.386660</td>\n",
       "    </tr>\n",
       "    <tr>\n",
       "      <th>...</th>\n",
       "      <td>...</td>\n",
       "      <td>...</td>\n",
       "      <td>...</td>\n",
       "      <td>...</td>\n",
       "      <td>...</td>\n",
       "      <td>...</td>\n",
       "      <td>...</td>\n",
       "      <td>...</td>\n",
       "      <td>...</td>\n",
       "      <td>...</td>\n",
       "      <td>...</td>\n",
       "      <td>...</td>\n",
       "      <td>...</td>\n",
       "      <td>...</td>\n",
       "      <td>...</td>\n",
       "      <td>...</td>\n",
       "      <td>...</td>\n",
       "      <td>...</td>\n",
       "      <td>...</td>\n",
       "      <td>...</td>\n",
       "      <td>...</td>\n",
       "    </tr>\n",
       "    <tr>\n",
       "      <th>2684</th>\n",
       "      <td>4.851315e+07</td>\n",
       "      <td>0.743197</td>\n",
       "      <td>0.256803</td>\n",
       "      <td>90</td>\n",
       "      <td>pg-13</td>\n",
       "      <td>0.80</td>\n",
       "      <td>0.64</td>\n",
       "      <td>Sep</td>\n",
       "      <td>2001</td>\n",
       "      <td>anger</td>\n",
       "      <td>...</td>\n",
       "      <td>0</td>\n",
       "      <td>0</td>\n",
       "      <td>0</td>\n",
       "      <td>0</td>\n",
       "      <td>0</td>\n",
       "      <td>0</td>\n",
       "      <td>0</td>\n",
       "      <td>0</td>\n",
       "      <td>0</td>\n",
       "      <td>2.170749</td>\n",
       "    </tr>\n",
       "    <tr>\n",
       "      <th>2685</th>\n",
       "      <td>6.076746e+07</td>\n",
       "      <td>0.508592</td>\n",
       "      <td>0.491408</td>\n",
       "      <td>101</td>\n",
       "      <td>pg-13</td>\n",
       "      <td>0.20</td>\n",
       "      <td>0.22</td>\n",
       "      <td>Feb</td>\n",
       "      <td>2016</td>\n",
       "      <td>surprise</td>\n",
       "      <td>...</td>\n",
       "      <td>0</td>\n",
       "      <td>0</td>\n",
       "      <td>0</td>\n",
       "      <td>0</td>\n",
       "      <td>0</td>\n",
       "      <td>0</td>\n",
       "      <td>0</td>\n",
       "      <td>0</td>\n",
       "      <td>0</td>\n",
       "      <td>1.134454</td>\n",
       "    </tr>\n",
       "    <tr>\n",
       "      <th>2686</th>\n",
       "      <td>5.014200e+07</td>\n",
       "      <td>0.958658</td>\n",
       "      <td>0.041342</td>\n",
       "      <td>93</td>\n",
       "      <td>pg</td>\n",
       "      <td>0.34</td>\n",
       "      <td>0.05</td>\n",
       "      <td>Aug</td>\n",
       "      <td>2006</td>\n",
       "      <td>neutral</td>\n",
       "      <td>...</td>\n",
       "      <td>0</td>\n",
       "      <td>0</td>\n",
       "      <td>0</td>\n",
       "      <td>0</td>\n",
       "      <td>0</td>\n",
       "      <td>0</td>\n",
       "      <td>0</td>\n",
       "      <td>0</td>\n",
       "      <td>0</td>\n",
       "      <td>0.357325</td>\n",
       "    </tr>\n",
       "    <tr>\n",
       "      <th>2687</th>\n",
       "      <td>1.823024e+08</td>\n",
       "      <td>0.333340</td>\n",
       "      <td>0.666660</td>\n",
       "      <td>108</td>\n",
       "      <td>pg</td>\n",
       "      <td>0.92</td>\n",
       "      <td>0.98</td>\n",
       "      <td>Mar</td>\n",
       "      <td>2016</td>\n",
       "      <td>neutral</td>\n",
       "      <td>...</td>\n",
       "      <td>1</td>\n",
       "      <td>0</td>\n",
       "      <td>0</td>\n",
       "      <td>0</td>\n",
       "      <td>0</td>\n",
       "      <td>0</td>\n",
       "      <td>0</td>\n",
       "      <td>0</td>\n",
       "      <td>0</td>\n",
       "      <td>6.825228</td>\n",
       "    </tr>\n",
       "    <tr>\n",
       "      <th>2688</th>\n",
       "      <td>9.055065e+07</td>\n",
       "      <td>0.485250</td>\n",
       "      <td>0.514750</td>\n",
       "      <td>93</td>\n",
       "      <td>pg-13</td>\n",
       "      <td>0.39</td>\n",
       "      <td>0.10</td>\n",
       "      <td>Dec</td>\n",
       "      <td>2005</td>\n",
       "      <td>neutral</td>\n",
       "      <td>...</td>\n",
       "      <td>0</td>\n",
       "      <td>0</td>\n",
       "      <td>0</td>\n",
       "      <td>0</td>\n",
       "      <td>0</td>\n",
       "      <td>0</td>\n",
       "      <td>0</td>\n",
       "      <td>0</td>\n",
       "      <td>0</td>\n",
       "      <td>0.860027</td>\n",
       "    </tr>\n",
       "  </tbody>\n",
       "</table>\n",
       "<p>2689 rows × 36 columns</p>\n",
       "</div>"
      ],
      "text/plain": [
       "      Budget(USD)_Inflated  Domestic_Percentage  Foreign_Percentage  \\\n",
       "0             6.076746e+06             0.654010            0.345990   \n",
       "1             1.441563e+08             0.351333            0.648667   \n",
       "2             2.726275e+07             0.708013            0.291987   \n",
       "3             3.979050e+07             0.644274            0.355726   \n",
       "4             2.539260e+07             0.301875            0.698125   \n",
       "...                    ...                  ...                 ...   \n",
       "2684          4.851315e+07             0.743197            0.256803   \n",
       "2685          6.076746e+07             0.508592            0.491408   \n",
       "2686          5.014200e+07             0.958658            0.041342   \n",
       "2687          1.823024e+08             0.333340            0.666660   \n",
       "2688          9.055065e+07             0.485250            0.514750   \n",
       "\n",
       "      Runtime(mins) Rating  Audience_Score  Critics_Score Month  Year  \\\n",
       "0               103  pg-13            0.79           0.91   Mar  2016   \n",
       "1               109  pg-13            0.37           0.10   Mar  2008   \n",
       "2               108  pg-13            0.45           0.31   Mar  2009   \n",
       "3               130      r            0.62           0.50   Jan  2018   \n",
       "4               134      r            0.90           0.95   Oct  2013   \n",
       "...             ...    ...             ...            ...   ...   ...   \n",
       "2684             90  pg-13            0.80           0.64   Sep  2001   \n",
       "2685            101  pg-13            0.20           0.22   Feb  2016   \n",
       "2686             93     pg            0.34           0.05   Aug  2006   \n",
       "2687            108     pg            0.92           0.98   Mar  2016   \n",
       "2688             93  pg-13            0.39           0.10   Dec  2005   \n",
       "\n",
       "       emotion  ...  animation  teen  film adaptation  musical  history  \\\n",
       "0         fear  ...          0     0                0        0        0   \n",
       "1         fear  ...          0     0                0        0        0   \n",
       "2        anger  ...          0     0                0        0        0   \n",
       "3         fear  ...          0     0                0        0        1   \n",
       "4      sadness  ...          0     0                0        0        1   \n",
       "...        ...  ...        ...   ...              ...      ...      ...   \n",
       "2684     anger  ...          0     0                0        0        0   \n",
       "2685  surprise  ...          0     0                0        0        0   \n",
       "2686   neutral  ...          0     0                0        0        0   \n",
       "2687   neutral  ...          1     0                0        0        0   \n",
       "2688   neutral  ...          0     0                0        0        0   \n",
       "\n",
       "      coming of age  sports  black comedy  war film  Worldwide_profit  \n",
       "0                 0       0             0         0         22.043400  \n",
       "1                 0       0             0         0          2.569373  \n",
       "2                 0       0             0         0          0.864016  \n",
       "3                 0       0             0         0          2.031954  \n",
       "4                 0       0             0         0          9.386660  \n",
       "...             ...     ...           ...       ...               ...  \n",
       "2684              0       0             0         0          2.170749  \n",
       "2685              0       0             0         0          1.134454  \n",
       "2686              0       0             0         0          0.357325  \n",
       "2687              0       0             0         0          6.825228  \n",
       "2688              0       0             0         0          0.860027  \n",
       "\n",
       "[2689 rows x 36 columns]"
      ]
     },
     "execution_count": 330,
     "metadata": {},
     "output_type": "execute_result"
    }
   ],
   "source": [
    "df_ols"
   ]
  },
  {
   "cell_type": "code",
   "execution_count": 331,
   "metadata": {},
   "outputs": [
    {
     "data": {
      "text/html": [
       "<div>\n",
       "<style scoped>\n",
       "    .dataframe tbody tr th:only-of-type {\n",
       "        vertical-align: middle;\n",
       "    }\n",
       "\n",
       "    .dataframe tbody tr th {\n",
       "        vertical-align: top;\n",
       "    }\n",
       "\n",
       "    .dataframe thead th {\n",
       "        text-align: right;\n",
       "    }\n",
       "</style>\n",
       "<table border=\"1\" class=\"dataframe\">\n",
       "  <thead>\n",
       "    <tr style=\"text-align: right;\">\n",
       "      <th></th>\n",
       "      <th>Budget(USD)_Inflated</th>\n",
       "      <th>Domestic_Percentage</th>\n",
       "      <th>Foreign_Percentage</th>\n",
       "      <th>Runtime(mins)</th>\n",
       "      <th>Rating</th>\n",
       "      <th>Audience_Score</th>\n",
       "      <th>Critics_Score</th>\n",
       "      <th>Month</th>\n",
       "      <th>Year</th>\n",
       "      <th>emotion</th>\n",
       "      <th>...</th>\n",
       "      <th>animation</th>\n",
       "      <th>teen</th>\n",
       "      <th>film adaptation</th>\n",
       "      <th>musical</th>\n",
       "      <th>history</th>\n",
       "      <th>coming of age</th>\n",
       "      <th>sports</th>\n",
       "      <th>black comedy</th>\n",
       "      <th>war film</th>\n",
       "      <th>Worldwide_profit</th>\n",
       "    </tr>\n",
       "  </thead>\n",
       "  <tbody>\n",
       "    <tr>\n",
       "      <th>0</th>\n",
       "      <td>-0.820351</td>\n",
       "      <td>0.391747</td>\n",
       "      <td>-0.391747</td>\n",
       "      <td>-0.291947</td>\n",
       "      <td>pg-13</td>\n",
       "      <td>1.012762</td>\n",
       "      <td>1.412014</td>\n",
       "      <td>Mar</td>\n",
       "      <td>2016</td>\n",
       "      <td>fear</td>\n",
       "      <td>...</td>\n",
       "      <td>0</td>\n",
       "      <td>0</td>\n",
       "      <td>0</td>\n",
       "      <td>0</td>\n",
       "      <td>0</td>\n",
       "      <td>0</td>\n",
       "      <td>0</td>\n",
       "      <td>0</td>\n",
       "      <td>0</td>\n",
       "      <td>22.043400</td>\n",
       "    </tr>\n",
       "    <tr>\n",
       "      <th>1</th>\n",
       "      <td>1.305928</td>\n",
       "      <td>-0.877514</td>\n",
       "      <td>0.877514</td>\n",
       "      <td>0.052120</td>\n",
       "      <td>pg-13</td>\n",
       "      <td>-1.230673</td>\n",
       "      <td>-1.539543</td>\n",
       "      <td>Mar</td>\n",
       "      <td>2008</td>\n",
       "      <td>fear</td>\n",
       "      <td>...</td>\n",
       "      <td>0</td>\n",
       "      <td>0</td>\n",
       "      <td>0</td>\n",
       "      <td>0</td>\n",
       "      <td>0</td>\n",
       "      <td>0</td>\n",
       "      <td>0</td>\n",
       "      <td>0</td>\n",
       "      <td>0</td>\n",
       "      <td>2.569373</td>\n",
       "    </tr>\n",
       "    <tr>\n",
       "      <th>2</th>\n",
       "      <td>-0.494109</td>\n",
       "      <td>0.618207</td>\n",
       "      <td>-0.618207</td>\n",
       "      <td>-0.005225</td>\n",
       "      <td>pg-13</td>\n",
       "      <td>-0.803352</td>\n",
       "      <td>-0.774325</td>\n",
       "      <td>Mar</td>\n",
       "      <td>2009</td>\n",
       "      <td>anger</td>\n",
       "      <td>...</td>\n",
       "      <td>0</td>\n",
       "      <td>0</td>\n",
       "      <td>0</td>\n",
       "      <td>0</td>\n",
       "      <td>0</td>\n",
       "      <td>0</td>\n",
       "      <td>0</td>\n",
       "      <td>0</td>\n",
       "      <td>0</td>\n",
       "      <td>0.864016</td>\n",
       "    </tr>\n",
       "    <tr>\n",
       "      <th>3</th>\n",
       "      <td>-0.301195</td>\n",
       "      <td>0.350920</td>\n",
       "      <td>-0.350920</td>\n",
       "      <td>1.256351</td>\n",
       "      <td>r</td>\n",
       "      <td>0.104705</td>\n",
       "      <td>-0.081984</td>\n",
       "      <td>Jan</td>\n",
       "      <td>2018</td>\n",
       "      <td>fear</td>\n",
       "      <td>...</td>\n",
       "      <td>0</td>\n",
       "      <td>0</td>\n",
       "      <td>0</td>\n",
       "      <td>0</td>\n",
       "      <td>1</td>\n",
       "      <td>0</td>\n",
       "      <td>0</td>\n",
       "      <td>0</td>\n",
       "      <td>0</td>\n",
       "      <td>2.031954</td>\n",
       "    </tr>\n",
       "    <tr>\n",
       "      <th>4</th>\n",
       "      <td>-0.522908</td>\n",
       "      <td>-1.084916</td>\n",
       "      <td>1.084916</td>\n",
       "      <td>1.485729</td>\n",
       "      <td>r</td>\n",
       "      <td>1.600328</td>\n",
       "      <td>1.557770</td>\n",
       "      <td>Oct</td>\n",
       "      <td>2013</td>\n",
       "      <td>sadness</td>\n",
       "      <td>...</td>\n",
       "      <td>0</td>\n",
       "      <td>0</td>\n",
       "      <td>0</td>\n",
       "      <td>0</td>\n",
       "      <td>1</td>\n",
       "      <td>0</td>\n",
       "      <td>0</td>\n",
       "      <td>0</td>\n",
       "      <td>0</td>\n",
       "      <td>9.386660</td>\n",
       "    </tr>\n",
       "    <tr>\n",
       "      <th>...</th>\n",
       "      <td>...</td>\n",
       "      <td>...</td>\n",
       "      <td>...</td>\n",
       "      <td>...</td>\n",
       "      <td>...</td>\n",
       "      <td>...</td>\n",
       "      <td>...</td>\n",
       "      <td>...</td>\n",
       "      <td>...</td>\n",
       "      <td>...</td>\n",
       "      <td>...</td>\n",
       "      <td>...</td>\n",
       "      <td>...</td>\n",
       "      <td>...</td>\n",
       "      <td>...</td>\n",
       "      <td>...</td>\n",
       "      <td>...</td>\n",
       "      <td>...</td>\n",
       "      <td>...</td>\n",
       "      <td>...</td>\n",
       "      <td>...</td>\n",
       "    </tr>\n",
       "    <tr>\n",
       "      <th>2684</th>\n",
       "      <td>-0.166876</td>\n",
       "      <td>0.765751</td>\n",
       "      <td>-0.765751</td>\n",
       "      <td>-1.037423</td>\n",
       "      <td>pg-13</td>\n",
       "      <td>1.066177</td>\n",
       "      <td>0.428161</td>\n",
       "      <td>Sep</td>\n",
       "      <td>2001</td>\n",
       "      <td>anger</td>\n",
       "      <td>...</td>\n",
       "      <td>0</td>\n",
       "      <td>0</td>\n",
       "      <td>0</td>\n",
       "      <td>0</td>\n",
       "      <td>0</td>\n",
       "      <td>0</td>\n",
       "      <td>0</td>\n",
       "      <td>0</td>\n",
       "      <td>0</td>\n",
       "      <td>2.170749</td>\n",
       "    </tr>\n",
       "    <tr>\n",
       "      <th>2685</th>\n",
       "      <td>0.021828</td>\n",
       "      <td>-0.218058</td>\n",
       "      <td>0.218058</td>\n",
       "      <td>-0.406635</td>\n",
       "      <td>pg-13</td>\n",
       "      <td>-2.138730</td>\n",
       "      <td>-1.102276</td>\n",
       "      <td>Feb</td>\n",
       "      <td>2016</td>\n",
       "      <td>surprise</td>\n",
       "      <td>...</td>\n",
       "      <td>0</td>\n",
       "      <td>0</td>\n",
       "      <td>0</td>\n",
       "      <td>0</td>\n",
       "      <td>0</td>\n",
       "      <td>0</td>\n",
       "      <td>0</td>\n",
       "      <td>0</td>\n",
       "      <td>0</td>\n",
       "      <td>1.134454</td>\n",
       "    </tr>\n",
       "    <tr>\n",
       "      <th>2686</th>\n",
       "      <td>-0.141793</td>\n",
       "      <td>1.669279</td>\n",
       "      <td>-1.669279</td>\n",
       "      <td>-0.865390</td>\n",
       "      <td>pg</td>\n",
       "      <td>-1.390919</td>\n",
       "      <td>-1.721738</td>\n",
       "      <td>Aug</td>\n",
       "      <td>2006</td>\n",
       "      <td>neutral</td>\n",
       "      <td>...</td>\n",
       "      <td>0</td>\n",
       "      <td>0</td>\n",
       "      <td>0</td>\n",
       "      <td>0</td>\n",
       "      <td>0</td>\n",
       "      <td>0</td>\n",
       "      <td>0</td>\n",
       "      <td>0</td>\n",
       "      <td>0</td>\n",
       "      <td>0.357325</td>\n",
       "    </tr>\n",
       "    <tr>\n",
       "      <th>2687</th>\n",
       "      <td>1.893336</td>\n",
       "      <td>-0.952969</td>\n",
       "      <td>0.952969</td>\n",
       "      <td>-0.005225</td>\n",
       "      <td>pg</td>\n",
       "      <td>1.707158</td>\n",
       "      <td>1.667086</td>\n",
       "      <td>Mar</td>\n",
       "      <td>2016</td>\n",
       "      <td>neutral</td>\n",
       "      <td>...</td>\n",
       "      <td>1</td>\n",
       "      <td>0</td>\n",
       "      <td>0</td>\n",
       "      <td>0</td>\n",
       "      <td>0</td>\n",
       "      <td>0</td>\n",
       "      <td>0</td>\n",
       "      <td>0</td>\n",
       "      <td>0</td>\n",
       "      <td>6.825228</td>\n",
       "    </tr>\n",
       "    <tr>\n",
       "      <th>2688</th>\n",
       "      <td>0.480457</td>\n",
       "      <td>-0.315941</td>\n",
       "      <td>0.315941</td>\n",
       "      <td>-0.865390</td>\n",
       "      <td>pg-13</td>\n",
       "      <td>-1.123843</td>\n",
       "      <td>-1.539543</td>\n",
       "      <td>Dec</td>\n",
       "      <td>2005</td>\n",
       "      <td>neutral</td>\n",
       "      <td>...</td>\n",
       "      <td>0</td>\n",
       "      <td>0</td>\n",
       "      <td>0</td>\n",
       "      <td>0</td>\n",
       "      <td>0</td>\n",
       "      <td>0</td>\n",
       "      <td>0</td>\n",
       "      <td>0</td>\n",
       "      <td>0</td>\n",
       "      <td>0.860027</td>\n",
       "    </tr>\n",
       "  </tbody>\n",
       "</table>\n",
       "<p>2689 rows × 36 columns</p>\n",
       "</div>"
      ],
      "text/plain": [
       "      Budget(USD)_Inflated  Domestic_Percentage  Foreign_Percentage  \\\n",
       "0                -0.820351             0.391747           -0.391747   \n",
       "1                 1.305928            -0.877514            0.877514   \n",
       "2                -0.494109             0.618207           -0.618207   \n",
       "3                -0.301195             0.350920           -0.350920   \n",
       "4                -0.522908            -1.084916            1.084916   \n",
       "...                    ...                  ...                 ...   \n",
       "2684             -0.166876             0.765751           -0.765751   \n",
       "2685              0.021828            -0.218058            0.218058   \n",
       "2686             -0.141793             1.669279           -1.669279   \n",
       "2687              1.893336            -0.952969            0.952969   \n",
       "2688              0.480457            -0.315941            0.315941   \n",
       "\n",
       "      Runtime(mins) Rating  Audience_Score  Critics_Score Month  Year  \\\n",
       "0         -0.291947  pg-13        1.012762       1.412014   Mar  2016   \n",
       "1          0.052120  pg-13       -1.230673      -1.539543   Mar  2008   \n",
       "2         -0.005225  pg-13       -0.803352      -0.774325   Mar  2009   \n",
       "3          1.256351      r        0.104705      -0.081984   Jan  2018   \n",
       "4          1.485729      r        1.600328       1.557770   Oct  2013   \n",
       "...             ...    ...             ...            ...   ...   ...   \n",
       "2684      -1.037423  pg-13        1.066177       0.428161   Sep  2001   \n",
       "2685      -0.406635  pg-13       -2.138730      -1.102276   Feb  2016   \n",
       "2686      -0.865390     pg       -1.390919      -1.721738   Aug  2006   \n",
       "2687      -0.005225     pg        1.707158       1.667086   Mar  2016   \n",
       "2688      -0.865390  pg-13       -1.123843      -1.539543   Dec  2005   \n",
       "\n",
       "       emotion  ...  animation  teen  film adaptation  musical  history  \\\n",
       "0         fear  ...          0     0                0        0        0   \n",
       "1         fear  ...          0     0                0        0        0   \n",
       "2        anger  ...          0     0                0        0        0   \n",
       "3         fear  ...          0     0                0        0        1   \n",
       "4      sadness  ...          0     0                0        0        1   \n",
       "...        ...  ...        ...   ...              ...      ...      ...   \n",
       "2684     anger  ...          0     0                0        0        0   \n",
       "2685  surprise  ...          0     0                0        0        0   \n",
       "2686   neutral  ...          0     0                0        0        0   \n",
       "2687   neutral  ...          1     0                0        0        0   \n",
       "2688   neutral  ...          0     0                0        0        0   \n",
       "\n",
       "      coming of age  sports  black comedy  war film  Worldwide_profit  \n",
       "0                 0       0             0         0         22.043400  \n",
       "1                 0       0             0         0          2.569373  \n",
       "2                 0       0             0         0          0.864016  \n",
       "3                 0       0             0         0          2.031954  \n",
       "4                 0       0             0         0          9.386660  \n",
       "...             ...     ...           ...       ...               ...  \n",
       "2684              0       0             0         0          2.170749  \n",
       "2685              0       0             0         0          1.134454  \n",
       "2686              0       0             0         0          0.357325  \n",
       "2687              0       0             0         0          6.825228  \n",
       "2688              0       0             0         0          0.860027  \n",
       "\n",
       "[2689 rows x 36 columns]"
      ]
     },
     "execution_count": 331,
     "metadata": {},
     "output_type": "execute_result"
    }
   ],
   "source": [
    "# Standardizing \n",
    "\n",
    "columns_to_scale = ['Budget(USD)_Inflated', 'Domestic_Percentage', 'Foreign_Percentage', 'Runtime(mins)', 'Audience_Score', 'Critics_Score', 'emotion_score']\n",
    "scaler = StandardScaler()\n",
    "scaled_data = scaler.fit_transform(df_ols[columns_to_scale])\n",
    "df_ols[columns_to_scale] = scaled_data\n",
    "\n",
    "df_ols"
   ]
  },
  {
   "cell_type": "code",
   "execution_count": 332,
   "metadata": {},
   "outputs": [],
   "source": [
    "# one-hot encoding rating column, dropping the first column in order to avoid introducing multicollinearity\n",
    "df_ols = pd.get_dummies(df_ols, columns=['Rating'], drop_first=True)\n",
    "df_ols = df_ols.drop(columns=\"Rating_nc-17\") # Only 5 nc-17 movies, not considered for analysis\n",
    "# one-hot encoding month column, dropping first column for same reason\n",
    "df_ols = pd.get_dummies(df_ols, columns=['Month'], drop_first=True)\n",
    "# same thing for the emotion column\n",
    "df_ols = pd.get_dummies(df_ols, columns=['emotion'], drop_first=True)\n"
   ]
  },
  {
   "cell_type": "code",
   "execution_count": 333,
   "metadata": {},
   "outputs": [
    {
     "data": {
      "text/html": [
       "<div>\n",
       "<style scoped>\n",
       "    .dataframe tbody tr th:only-of-type {\n",
       "        vertical-align: middle;\n",
       "    }\n",
       "\n",
       "    .dataframe tbody tr th {\n",
       "        vertical-align: top;\n",
       "    }\n",
       "\n",
       "    .dataframe thead th {\n",
       "        text-align: right;\n",
       "    }\n",
       "</style>\n",
       "<table border=\"1\" class=\"dataframe\">\n",
       "  <thead>\n",
       "    <tr style=\"text-align: right;\">\n",
       "      <th></th>\n",
       "      <th>Budget(USD)_Inflated</th>\n",
       "      <th>Domestic_Percentage</th>\n",
       "      <th>Foreign_Percentage</th>\n",
       "      <th>Runtime(mins)</th>\n",
       "      <th>Audience_Score</th>\n",
       "      <th>Critics_Score</th>\n",
       "      <th>Year</th>\n",
       "      <th>emotion_score</th>\n",
       "      <th>drama</th>\n",
       "      <th>comedy</th>\n",
       "      <th>...</th>\n",
       "      <th>Month_May</th>\n",
       "      <th>Month_Nov</th>\n",
       "      <th>Month_Oct</th>\n",
       "      <th>Month_Sep</th>\n",
       "      <th>emotion_disgust</th>\n",
       "      <th>emotion_fear</th>\n",
       "      <th>emotion_joy</th>\n",
       "      <th>emotion_neutral</th>\n",
       "      <th>emotion_sadness</th>\n",
       "      <th>emotion_surprise</th>\n",
       "    </tr>\n",
       "  </thead>\n",
       "  <tbody>\n",
       "    <tr>\n",
       "      <th>0</th>\n",
       "      <td>-0.820351</td>\n",
       "      <td>0.391747</td>\n",
       "      <td>-0.391747</td>\n",
       "      <td>-0.291947</td>\n",
       "      <td>1.012762</td>\n",
       "      <td>1.412014</td>\n",
       "      <td>2016</td>\n",
       "      <td>0.050657</td>\n",
       "      <td>1</td>\n",
       "      <td>0</td>\n",
       "      <td>...</td>\n",
       "      <td>False</td>\n",
       "      <td>False</td>\n",
       "      <td>False</td>\n",
       "      <td>False</td>\n",
       "      <td>False</td>\n",
       "      <td>True</td>\n",
       "      <td>False</td>\n",
       "      <td>False</td>\n",
       "      <td>False</td>\n",
       "      <td>False</td>\n",
       "    </tr>\n",
       "    <tr>\n",
       "      <th>1</th>\n",
       "      <td>1.305928</td>\n",
       "      <td>-0.877514</td>\n",
       "      <td>0.877514</td>\n",
       "      <td>0.052120</td>\n",
       "      <td>-1.230673</td>\n",
       "      <td>-1.539543</td>\n",
       "      <td>2008</td>\n",
       "      <td>0.504088</td>\n",
       "      <td>1</td>\n",
       "      <td>0</td>\n",
       "      <td>...</td>\n",
       "      <td>False</td>\n",
       "      <td>False</td>\n",
       "      <td>False</td>\n",
       "      <td>False</td>\n",
       "      <td>False</td>\n",
       "      <td>True</td>\n",
       "      <td>False</td>\n",
       "      <td>False</td>\n",
       "      <td>False</td>\n",
       "      <td>False</td>\n",
       "    </tr>\n",
       "    <tr>\n",
       "      <th>2</th>\n",
       "      <td>-0.494109</td>\n",
       "      <td>0.618207</td>\n",
       "      <td>-0.618207</td>\n",
       "      <td>-0.005225</td>\n",
       "      <td>-0.803352</td>\n",
       "      <td>-0.774325</td>\n",
       "      <td>2009</td>\n",
       "      <td>0.056938</td>\n",
       "      <td>0</td>\n",
       "      <td>0</td>\n",
       "      <td>...</td>\n",
       "      <td>False</td>\n",
       "      <td>False</td>\n",
       "      <td>False</td>\n",
       "      <td>False</td>\n",
       "      <td>False</td>\n",
       "      <td>False</td>\n",
       "      <td>False</td>\n",
       "      <td>False</td>\n",
       "      <td>False</td>\n",
       "      <td>False</td>\n",
       "    </tr>\n",
       "    <tr>\n",
       "      <th>3</th>\n",
       "      <td>-0.301195</td>\n",
       "      <td>0.350920</td>\n",
       "      <td>-0.350920</td>\n",
       "      <td>1.256351</td>\n",
       "      <td>0.104705</td>\n",
       "      <td>-0.081984</td>\n",
       "      <td>2018</td>\n",
       "      <td>1.226752</td>\n",
       "      <td>1</td>\n",
       "      <td>0</td>\n",
       "      <td>...</td>\n",
       "      <td>False</td>\n",
       "      <td>False</td>\n",
       "      <td>False</td>\n",
       "      <td>False</td>\n",
       "      <td>False</td>\n",
       "      <td>True</td>\n",
       "      <td>False</td>\n",
       "      <td>False</td>\n",
       "      <td>False</td>\n",
       "      <td>False</td>\n",
       "    </tr>\n",
       "    <tr>\n",
       "      <th>4</th>\n",
       "      <td>-0.522908</td>\n",
       "      <td>-1.084916</td>\n",
       "      <td>1.084916</td>\n",
       "      <td>1.485729</td>\n",
       "      <td>1.600328</td>\n",
       "      <td>1.557770</td>\n",
       "      <td>2013</td>\n",
       "      <td>0.964755</td>\n",
       "      <td>1</td>\n",
       "      <td>0</td>\n",
       "      <td>...</td>\n",
       "      <td>False</td>\n",
       "      <td>False</td>\n",
       "      <td>True</td>\n",
       "      <td>False</td>\n",
       "      <td>False</td>\n",
       "      <td>False</td>\n",
       "      <td>False</td>\n",
       "      <td>False</td>\n",
       "      <td>True</td>\n",
       "      <td>False</td>\n",
       "    </tr>\n",
       "    <tr>\n",
       "      <th>...</th>\n",
       "      <td>...</td>\n",
       "      <td>...</td>\n",
       "      <td>...</td>\n",
       "      <td>...</td>\n",
       "      <td>...</td>\n",
       "      <td>...</td>\n",
       "      <td>...</td>\n",
       "      <td>...</td>\n",
       "      <td>...</td>\n",
       "      <td>...</td>\n",
       "      <td>...</td>\n",
       "      <td>...</td>\n",
       "      <td>...</td>\n",
       "      <td>...</td>\n",
       "      <td>...</td>\n",
       "      <td>...</td>\n",
       "      <td>...</td>\n",
       "      <td>...</td>\n",
       "      <td>...</td>\n",
       "      <td>...</td>\n",
       "      <td>...</td>\n",
       "    </tr>\n",
       "    <tr>\n",
       "      <th>2684</th>\n",
       "      <td>-0.166876</td>\n",
       "      <td>0.765751</td>\n",
       "      <td>-0.765751</td>\n",
       "      <td>-1.037423</td>\n",
       "      <td>1.066177</td>\n",
       "      <td>0.428161</td>\n",
       "      <td>2001</td>\n",
       "      <td>-0.726523</td>\n",
       "      <td>0</td>\n",
       "      <td>1</td>\n",
       "      <td>...</td>\n",
       "      <td>False</td>\n",
       "      <td>False</td>\n",
       "      <td>False</td>\n",
       "      <td>True</td>\n",
       "      <td>False</td>\n",
       "      <td>False</td>\n",
       "      <td>False</td>\n",
       "      <td>False</td>\n",
       "      <td>False</td>\n",
       "      <td>False</td>\n",
       "    </tr>\n",
       "    <tr>\n",
       "      <th>2685</th>\n",
       "      <td>0.021828</td>\n",
       "      <td>-0.218058</td>\n",
       "      <td>0.218058</td>\n",
       "      <td>-0.406635</td>\n",
       "      <td>-2.138730</td>\n",
       "      <td>-1.102276</td>\n",
       "      <td>2016</td>\n",
       "      <td>1.495326</td>\n",
       "      <td>0</td>\n",
       "      <td>1</td>\n",
       "      <td>...</td>\n",
       "      <td>False</td>\n",
       "      <td>False</td>\n",
       "      <td>False</td>\n",
       "      <td>False</td>\n",
       "      <td>False</td>\n",
       "      <td>False</td>\n",
       "      <td>False</td>\n",
       "      <td>False</td>\n",
       "      <td>False</td>\n",
       "      <td>True</td>\n",
       "    </tr>\n",
       "    <tr>\n",
       "      <th>2686</th>\n",
       "      <td>-0.141793</td>\n",
       "      <td>1.669279</td>\n",
       "      <td>-1.669279</td>\n",
       "      <td>-0.865390</td>\n",
       "      <td>-1.390919</td>\n",
       "      <td>-1.721738</td>\n",
       "      <td>2006</td>\n",
       "      <td>0.055972</td>\n",
       "      <td>0</td>\n",
       "      <td>0</td>\n",
       "      <td>...</td>\n",
       "      <td>False</td>\n",
       "      <td>False</td>\n",
       "      <td>False</td>\n",
       "      <td>False</td>\n",
       "      <td>False</td>\n",
       "      <td>False</td>\n",
       "      <td>False</td>\n",
       "      <td>True</td>\n",
       "      <td>False</td>\n",
       "      <td>False</td>\n",
       "    </tr>\n",
       "    <tr>\n",
       "      <th>2687</th>\n",
       "      <td>1.893336</td>\n",
       "      <td>-0.952969</td>\n",
       "      <td>0.952969</td>\n",
       "      <td>-0.005225</td>\n",
       "      <td>1.707158</td>\n",
       "      <td>1.667086</td>\n",
       "      <td>2016</td>\n",
       "      <td>0.256964</td>\n",
       "      <td>0</td>\n",
       "      <td>1</td>\n",
       "      <td>...</td>\n",
       "      <td>False</td>\n",
       "      <td>False</td>\n",
       "      <td>False</td>\n",
       "      <td>False</td>\n",
       "      <td>False</td>\n",
       "      <td>False</td>\n",
       "      <td>False</td>\n",
       "      <td>True</td>\n",
       "      <td>False</td>\n",
       "      <td>False</td>\n",
       "    </tr>\n",
       "    <tr>\n",
       "      <th>2688</th>\n",
       "      <td>0.480457</td>\n",
       "      <td>-0.315941</td>\n",
       "      <td>0.315941</td>\n",
       "      <td>-0.865390</td>\n",
       "      <td>-1.123843</td>\n",
       "      <td>-1.539543</td>\n",
       "      <td>2005</td>\n",
       "      <td>-1.040607</td>\n",
       "      <td>0</td>\n",
       "      <td>0</td>\n",
       "      <td>...</td>\n",
       "      <td>False</td>\n",
       "      <td>False</td>\n",
       "      <td>False</td>\n",
       "      <td>False</td>\n",
       "      <td>False</td>\n",
       "      <td>False</td>\n",
       "      <td>False</td>\n",
       "      <td>True</td>\n",
       "      <td>False</td>\n",
       "      <td>False</td>\n",
       "    </tr>\n",
       "  </tbody>\n",
       "</table>\n",
       "<p>2689 rows × 53 columns</p>\n",
       "</div>"
      ],
      "text/plain": [
       "      Budget(USD)_Inflated  Domestic_Percentage  Foreign_Percentage  \\\n",
       "0                -0.820351             0.391747           -0.391747   \n",
       "1                 1.305928            -0.877514            0.877514   \n",
       "2                -0.494109             0.618207           -0.618207   \n",
       "3                -0.301195             0.350920           -0.350920   \n",
       "4                -0.522908            -1.084916            1.084916   \n",
       "...                    ...                  ...                 ...   \n",
       "2684             -0.166876             0.765751           -0.765751   \n",
       "2685              0.021828            -0.218058            0.218058   \n",
       "2686             -0.141793             1.669279           -1.669279   \n",
       "2687              1.893336            -0.952969            0.952969   \n",
       "2688              0.480457            -0.315941            0.315941   \n",
       "\n",
       "      Runtime(mins)  Audience_Score  Critics_Score  Year  emotion_score  \\\n",
       "0         -0.291947        1.012762       1.412014  2016       0.050657   \n",
       "1          0.052120       -1.230673      -1.539543  2008       0.504088   \n",
       "2         -0.005225       -0.803352      -0.774325  2009       0.056938   \n",
       "3          1.256351        0.104705      -0.081984  2018       1.226752   \n",
       "4          1.485729        1.600328       1.557770  2013       0.964755   \n",
       "...             ...             ...            ...   ...            ...   \n",
       "2684      -1.037423        1.066177       0.428161  2001      -0.726523   \n",
       "2685      -0.406635       -2.138730      -1.102276  2016       1.495326   \n",
       "2686      -0.865390       -1.390919      -1.721738  2006       0.055972   \n",
       "2687      -0.005225        1.707158       1.667086  2016       0.256964   \n",
       "2688      -0.865390       -1.123843      -1.539543  2005      -1.040607   \n",
       "\n",
       "      drama  comedy  ...  Month_May  Month_Nov  Month_Oct  Month_Sep  \\\n",
       "0         1       0  ...      False      False      False      False   \n",
       "1         1       0  ...      False      False      False      False   \n",
       "2         0       0  ...      False      False      False      False   \n",
       "3         1       0  ...      False      False      False      False   \n",
       "4         1       0  ...      False      False       True      False   \n",
       "...     ...     ...  ...        ...        ...        ...        ...   \n",
       "2684      0       1  ...      False      False      False       True   \n",
       "2685      0       1  ...      False      False      False      False   \n",
       "2686      0       0  ...      False      False      False      False   \n",
       "2687      0       1  ...      False      False      False      False   \n",
       "2688      0       0  ...      False      False      False      False   \n",
       "\n",
       "      emotion_disgust  emotion_fear  emotion_joy  emotion_neutral  \\\n",
       "0               False          True        False            False   \n",
       "1               False          True        False            False   \n",
       "2               False         False        False            False   \n",
       "3               False          True        False            False   \n",
       "4               False         False        False            False   \n",
       "...               ...           ...          ...              ...   \n",
       "2684            False         False        False            False   \n",
       "2685            False         False        False            False   \n",
       "2686            False         False        False             True   \n",
       "2687            False         False        False             True   \n",
       "2688            False         False        False             True   \n",
       "\n",
       "      emotion_sadness  emotion_surprise  \n",
       "0               False             False  \n",
       "1               False             False  \n",
       "2               False             False  \n",
       "3               False             False  \n",
       "4                True             False  \n",
       "...               ...               ...  \n",
       "2684            False             False  \n",
       "2685            False              True  \n",
       "2686            False             False  \n",
       "2687            False             False  \n",
       "2688            False             False  \n",
       "\n",
       "[2689 rows x 53 columns]"
      ]
     },
     "execution_count": 333,
     "metadata": {},
     "output_type": "execute_result"
    }
   ],
   "source": [
    "df_ols"
   ]
  },
  {
   "cell_type": "markdown",
   "metadata": {},
   "source": [
    "## Defining features and labels for the 4 different models:\n",
    "Labels: Foreign/domestic percentage for prediction\n",
    "Predictors: before and after 2010"
   ]
  },
  {
   "cell_type": "code",
   "execution_count": 334,
   "metadata": {},
   "outputs": [],
   "source": [
    "# Movies before 2010\n",
    "df_before_2010 = df_ols[df_ols['Year'] < 2010]\n",
    "\n",
    "# Movies including and after 2010\n",
    "df_2010_and_after = df_ols[df_ols['Year'] >= 2010]"
   ]
  },
  {
   "cell_type": "markdown",
   "metadata": {},
   "source": [
    "Function to train OLS model"
   ]
  },
  {
   "cell_type": "code",
   "execution_count": 335,
   "metadata": {},
   "outputs": [],
   "source": [
    "def train_ols_model(dataframe, target_column, drop_columns):\n",
    "    \"\"\"\n",
    "    Trains an OLS regression model.\n",
    "\n",
    "    Parameters:\n",
    "        dataframe (pd.DataFrame): The input DataFrame containing features and the target variable.\n",
    "        target_column (str): The name of the column to be used as the target variable.\n",
    "        drop_columns (list): List of columns to drop from the DataFrame.\n",
    "\n",
    "    Returns:\n",
    "        ols_model (sm.OLS): The trained OLS model.\n",
    "    \"\"\"\n",
    "    # Defining features and labels\n",
    "    y = dataframe[target_column]\n",
    "    X = dataframe.drop(columns=drop_columns)\n",
    "\n",
    "    # Adding a constant column for the OLS model\n",
    "    X = sm.add_constant(X)\n",
    "\n",
    "    # Training the OLS model\n",
    "    feature_names = list(X.columns)\n",
    "    label_name = target_column\n",
    "\n",
    "    # Ensure predictors and target are numeric\n",
    "    X = pd.DataFrame(X, columns=feature_names, dtype=float)\n",
    "    y = pd.Series(y, name=label_name, dtype=float) # Including the label name\n",
    "\n",
    "    # Fit the OLS model\n",
    "    ols_model = sm.OLS(y, X).fit()\n",
    "    return ols_model"
   ]
  },
  {
   "cell_type": "markdown",
   "metadata": {},
   "source": [
    "Function to save the feature statistics for later use"
   ]
  },
  {
   "cell_type": "code",
   "execution_count": 336,
   "metadata": {},
   "outputs": [],
   "source": [
    "import pandas as pd\n",
    "\n",
    "def extract_feature_statistics(ols_model, output_csv_path=None):\n",
    "    \"\"\"\n",
    "    Extracts feature statistics from an OLS regression model.\n",
    "\n",
    "    Parameters:\n",
    "        ols_model (sm.OLS): The trained OLS regression model.\n",
    "        output_csv_path (str, optional): Path to save the feature statistics as a CSV file. Defaults to None.\n",
    "\n",
    "    Returns:\n",
    "        feature_stats (pd.DataFrame): A DataFrame containing the feature statistics.\n",
    "    \"\"\"\n",
    "    # Extracting feature statistics\n",
    "    coefficients = ols_model.params  # Coefficients (coef)\n",
    "    standard_errors = ols_model.bse  # Standard errors (std err)\n",
    "    t_values = ols_model.tvalues     # t-values (t)\n",
    "    p_values = ols_model.pvalues     # p-values (P>|t|)\n",
    "\n",
    "    # Creating a DataFrame\n",
    "    feature_stats = pd.DataFrame({\n",
    "        \"Feature\": coefficients.index,\n",
    "        \"Coefficient\": coefficients.values,\n",
    "        \"Std_Error\": standard_errors.values,\n",
    "        \"t_value\": t_values.values,\n",
    "        \"p_value\": p_values.values\n",
    "    })\n",
    "\n",
    "    # Saving the DataFrame to a CSV file if the path is provided\n",
    "    if output_csv_path:\n",
    "        feature_stats.to_csv(output_csv_path, index=False)\n",
    "\n",
    "    return feature_stats"
   ]
  },
  {
   "cell_type": "markdown",
   "metadata": {},
   "source": [
    "### 1st model: Foreign Percentage prediction "
   ]
  },
  {
   "cell_type": "code",
   "execution_count": 337,
   "metadata": {},
   "outputs": [
    {
     "name": "stdout",
     "output_type": "stream",
     "text": [
      "                            OLS Regression Results                            \n",
      "==============================================================================\n",
      "Dep. Variable:     Foreign_Percentage   R-squared:                       0.270\n",
      "Model:                            OLS   Adj. R-squared:                  0.256\n",
      "Method:                 Least Squares   F-statistic:                     19.15\n",
      "Date:                Fri, 20 Dec 2024   Prob (F-statistic):          5.21e-143\n",
      "Time:                        14:19:01   Log-Likelihood:                -3391.9\n",
      "No. Observations:                2689   AIC:                             6888.\n",
      "Df Residuals:                    2637   BIC:                             7194.\n",
      "Df Model:                          51                                         \n",
      "Covariance Type:            nonrobust                                         \n",
      "========================================================================================\n",
      "                           coef    std err          t      P>|t|      [0.025      0.975]\n",
      "----------------------------------------------------------------------------------------\n",
      "const                  -61.6763      6.737     -9.155      0.000     -74.886     -48.466\n",
      "Budget(USD)_Inflated     0.2704      0.026     10.476      0.000       0.220       0.321\n",
      "Runtime(mins)            0.0341      0.024      1.440      0.150      -0.012       0.080\n",
      "Audience_Score          -0.1466      0.025     -5.943      0.000      -0.195      -0.098\n",
      "Critics_Score            0.0917      0.024      3.771      0.000       0.044       0.139\n",
      "Year                     0.0306      0.003      9.124      0.000       0.024       0.037\n",
      "emotion_score            0.0423      0.018      2.387      0.017       0.008       0.077\n",
      "drama                   -0.0495      0.042     -1.170      0.242      -0.133       0.033\n",
      "comedy                  -0.2643      0.044     -5.988      0.000      -0.351      -0.178\n",
      "thriller                 0.1631      0.049      3.338      0.001       0.067       0.259\n",
      "action                   0.0717      0.052      1.375      0.169      -0.031       0.174\n",
      "adventure                0.1452      0.053      2.749      0.006       0.042       0.249\n",
      "romance film             0.1533      0.047      3.232      0.001       0.060       0.246\n",
      "horror                   0.0126      0.063      0.201      0.841      -0.111       0.136\n",
      "fantasy                  0.0704      0.060      1.183      0.237      -0.046       0.187\n",
      "mystery                  0.1240      0.061      2.022      0.043       0.004       0.244\n",
      "crime fiction           -0.0334      0.052     -0.642      0.521      -0.135       0.069\n",
      "indie                    0.0531      0.074      0.721      0.471      -0.091       0.197\n",
      "biography               -0.0574      0.073     -0.782      0.434      -0.201       0.086\n",
      "family film             -0.0732      0.081     -0.903      0.367      -0.232       0.086\n",
      "sci-fi                   0.0130      0.059      0.220      0.826      -0.103       0.129\n",
      "period piece            -0.0298      0.083     -0.357      0.721      -0.193       0.134\n",
      "animation                0.5021      0.101      4.965      0.000       0.304       0.700\n",
      "teen                    -0.0687      0.090     -0.765      0.445      -0.245       0.107\n",
      "film adaptation          0.0955      0.088      1.086      0.278      -0.077       0.268\n",
      "musical                  0.0109      0.077      0.141      0.888      -0.140       0.162\n",
      "history                 -0.0802      0.101     -0.792      0.428      -0.279       0.118\n",
      "coming of age           -0.1480      0.106     -1.391      0.164      -0.357       0.061\n",
      "sports                  -0.4961      0.089     -5.575      0.000      -0.671      -0.322\n",
      "black comedy             0.1764      0.102      1.732      0.083      -0.023       0.376\n",
      "war film                 0.1824      0.119      1.528      0.127      -0.052       0.417\n",
      "Worldwide_profit         0.0017      0.001      1.473      0.141      -0.001       0.004\n",
      "Rating_pg               -0.1276      0.166     -0.768      0.443      -0.454       0.198\n",
      "Rating_pg-13             0.0233      0.168      0.139      0.890      -0.306       0.353\n",
      "Rating_r                 0.1875      0.169      1.108      0.268      -0.144       0.519\n",
      "Month_Aug               -0.1302      0.081     -1.608      0.108      -0.289       0.029\n",
      "Month_Dec                0.3459      0.083      4.169      0.000       0.183       0.509\n",
      "Month_Feb               -0.0508      0.087     -0.586      0.558      -0.221       0.119\n",
      "Month_Jan                0.0529      0.083      0.635      0.526      -0.110       0.216\n",
      "Month_Jul                0.1022      0.086      1.190      0.234      -0.066       0.271\n",
      "Month_Jun                0.0205      0.085      0.240      0.810      -0.147       0.188\n",
      "Month_Mar               -0.1412      0.083     -1.709      0.088      -0.303       0.021\n",
      "Month_May                0.0409      0.088      0.463      0.644      -0.132       0.214\n",
      "Month_Nov                0.2561      0.082      3.110      0.002       0.095       0.418\n",
      "Month_Oct                0.1544      0.078      1.987      0.047       0.002       0.307\n",
      "Month_Sep                0.0647      0.082      0.791      0.429      -0.096       0.225\n",
      "emotion_disgust          0.1265      0.071      1.778      0.075      -0.013       0.266\n",
      "emotion_fear            -0.0215      0.061     -0.355      0.723      -0.141       0.097\n",
      "emotion_joy              0.0542      0.094      0.579      0.563      -0.129       0.238\n",
      "emotion_neutral          0.0229      0.058      0.393      0.694      -0.091       0.137\n",
      "emotion_sadness         -0.0242      0.071     -0.339      0.735      -0.164       0.116\n",
      "emotion_surprise        -0.2958      0.109     -2.723      0.007      -0.509      -0.083\n",
      "==============================================================================\n",
      "Omnibus:                       37.108   Durbin-Watson:                   1.942\n",
      "Prob(Omnibus):                  0.000   Jarque-Bera (JB):               38.470\n",
      "Skew:                           0.279   Prob(JB):                     4.43e-09\n",
      "Kurtosis:                       3.179   Cond. No.                     8.14e+05\n",
      "==============================================================================\n",
      "\n",
      "Notes:\n",
      "[1] Standard Errors assume that the covariance matrix of the errors is correctly specified.\n",
      "[2] The condition number is large, 8.14e+05. This might indicate that there are\n",
      "strong multicollinearity or other numerical problems.\n"
     ]
    }
   ],
   "source": [
    "# Defining the target column as well as which columns to drop\n",
    "target_column = \"Foreign_Percentage\"\n",
    "drop_columns = [\"Foreign_Percentage\", \"Domestic_Percentage\"]\n",
    "# Path to save CSV file containing the feature statistics\n",
    "output_csv_path = \"../src/data/Machine_learning_data/feature_stats_Foreign.csv\"\n",
    "\n",
    "# Train the model\n",
    "ols_model = train_ols_model(df_ols, target_column, drop_columns)\n",
    "\n",
    "# Extract feature statistics and save to CSV\n",
    "feature_stats_Foreign = extract_feature_statistics(ols_model, output_csv_path)\n",
    "\n",
    "# Displaying the model summary\n",
    "print(ols_model.summary())"
   ]
  },
  {
   "cell_type": "markdown",
   "metadata": {},
   "source": [
    "### \"2nd\" model: Domestic Percentage prediction "
   ]
  },
  {
   "cell_type": "code",
   "execution_count": 338,
   "metadata": {},
   "outputs": [
    {
     "name": "stdout",
     "output_type": "stream",
     "text": [
      "                             OLS Regression Results                            \n",
      "===============================================================================\n",
      "Dep. Variable:     Domestic_Percentage   R-squared:                       0.270\n",
      "Model:                             OLS   Adj. R-squared:                  0.256\n",
      "Method:                  Least Squares   F-statistic:                     19.15\n",
      "Date:                 Fri, 20 Dec 2024   Prob (F-statistic):          5.21e-143\n",
      "Time:                         14:19:01   Log-Likelihood:                -3391.9\n",
      "No. Observations:                 2689   AIC:                             6888.\n",
      "Df Residuals:                     2637   BIC:                             7194.\n",
      "Df Model:                           51                                         \n",
      "Covariance Type:             nonrobust                                         \n",
      "========================================================================================\n",
      "                           coef    std err          t      P>|t|      [0.025      0.975]\n",
      "----------------------------------------------------------------------------------------\n",
      "const                   61.6763      6.737      9.155      0.000      48.466      74.886\n",
      "Budget(USD)_Inflated    -0.2704      0.026    -10.476      0.000      -0.321      -0.220\n",
      "Runtime(mins)           -0.0341      0.024     -1.440      0.150      -0.080       0.012\n",
      "Audience_Score           0.1466      0.025      5.943      0.000       0.098       0.195\n",
      "Critics_Score           -0.0917      0.024     -3.771      0.000      -0.139      -0.044\n",
      "Year                    -0.0306      0.003     -9.124      0.000      -0.037      -0.024\n",
      "emotion_score           -0.0423      0.018     -2.387      0.017      -0.077      -0.008\n",
      "drama                    0.0495      0.042      1.170      0.242      -0.033       0.133\n",
      "comedy                   0.2643      0.044      5.988      0.000       0.178       0.351\n",
      "thriller                -0.1631      0.049     -3.338      0.001      -0.259      -0.067\n",
      "action                  -0.0717      0.052     -1.375      0.169      -0.174       0.031\n",
      "adventure               -0.1452      0.053     -2.749      0.006      -0.249      -0.042\n",
      "romance film            -0.1533      0.047     -3.232      0.001      -0.246      -0.060\n",
      "horror                  -0.0126      0.063     -0.201      0.841      -0.136       0.111\n",
      "fantasy                 -0.0704      0.060     -1.183      0.237      -0.187       0.046\n",
      "mystery                 -0.1240      0.061     -2.022      0.043      -0.244      -0.004\n",
      "crime fiction            0.0334      0.052      0.642      0.521      -0.069       0.135\n",
      "indie                   -0.0531      0.074     -0.721      0.471      -0.197       0.091\n",
      "biography                0.0574      0.073      0.782      0.434      -0.086       0.201\n",
      "family film              0.0732      0.081      0.903      0.367      -0.086       0.232\n",
      "sci-fi                  -0.0130      0.059     -0.220      0.826      -0.129       0.103\n",
      "period piece             0.0298      0.083      0.357      0.721      -0.134       0.193\n",
      "animation               -0.5021      0.101     -4.965      0.000      -0.700      -0.304\n",
      "teen                     0.0687      0.090      0.765      0.445      -0.107       0.245\n",
      "film adaptation         -0.0955      0.088     -1.086      0.278      -0.268       0.077\n",
      "musical                 -0.0109      0.077     -0.141      0.888      -0.162       0.140\n",
      "history                  0.0802      0.101      0.792      0.428      -0.118       0.279\n",
      "coming of age            0.1480      0.106      1.391      0.164      -0.061       0.357\n",
      "sports                   0.4961      0.089      5.575      0.000       0.322       0.671\n",
      "black comedy            -0.1764      0.102     -1.732      0.083      -0.376       0.023\n",
      "war film                -0.1824      0.119     -1.528      0.127      -0.417       0.052\n",
      "Worldwide_profit        -0.0017      0.001     -1.473      0.141      -0.004       0.001\n",
      "Rating_pg                0.1276      0.166      0.768      0.443      -0.198       0.454\n",
      "Rating_pg-13            -0.0233      0.168     -0.139      0.890      -0.353       0.306\n",
      "Rating_r                -0.1875      0.169     -1.108      0.268      -0.519       0.144\n",
      "Month_Aug                0.1302      0.081      1.608      0.108      -0.029       0.289\n",
      "Month_Dec               -0.3459      0.083     -4.169      0.000      -0.509      -0.183\n",
      "Month_Feb                0.0508      0.087      0.586      0.558      -0.119       0.221\n",
      "Month_Jan               -0.0529      0.083     -0.635      0.526      -0.216       0.110\n",
      "Month_Jul               -0.1022      0.086     -1.190      0.234      -0.271       0.066\n",
      "Month_Jun               -0.0205      0.085     -0.240      0.810      -0.188       0.147\n",
      "Month_Mar                0.1412      0.083      1.709      0.088      -0.021       0.303\n",
      "Month_May               -0.0409      0.088     -0.463      0.644      -0.214       0.132\n",
      "Month_Nov               -0.2561      0.082     -3.110      0.002      -0.418      -0.095\n",
      "Month_Oct               -0.1544      0.078     -1.987      0.047      -0.307      -0.002\n",
      "Month_Sep               -0.0647      0.082     -0.791      0.429      -0.225       0.096\n",
      "emotion_disgust         -0.1265      0.071     -1.778      0.075      -0.266       0.013\n",
      "emotion_fear             0.0215      0.061      0.355      0.723      -0.097       0.141\n",
      "emotion_joy             -0.0542      0.094     -0.579      0.563      -0.238       0.129\n",
      "emotion_neutral         -0.0229      0.058     -0.393      0.694      -0.137       0.091\n",
      "emotion_sadness          0.0242      0.071      0.339      0.735      -0.116       0.164\n",
      "emotion_surprise         0.2958      0.109      2.723      0.007       0.083       0.509\n",
      "==============================================================================\n",
      "Omnibus:                       37.108   Durbin-Watson:                   1.942\n",
      "Prob(Omnibus):                  0.000   Jarque-Bera (JB):               38.470\n",
      "Skew:                          -0.279   Prob(JB):                     4.43e-09\n",
      "Kurtosis:                       3.179   Cond. No.                     8.14e+05\n",
      "==============================================================================\n",
      "\n",
      "Notes:\n",
      "[1] Standard Errors assume that the covariance matrix of the errors is correctly specified.\n",
      "[2] The condition number is large, 8.14e+05. This might indicate that there are\n",
      "strong multicollinearity or other numerical problems.\n"
     ]
    }
   ],
   "source": [
    "# Defining the target column as well as which columns to drop\n",
    "target_column = \"Domestic_Percentage\"\n",
    "drop_columns = [\"Foreign_Percentage\", \"Domestic_Percentage\"]\n",
    "# Path to save CSV file containing the feature statistics\n",
    "output_csv_path = \"../src/data/Machine_learning_data/feature_stats_Domestic.csv\"\n",
    "\n",
    "# Train the model\n",
    "ols_model = train_ols_model(df_ols, target_column, drop_columns)\n",
    "\n",
    "# Extract feature statistics and save to CSV\n",
    "feature_stats_domestic = extract_feature_statistics(ols_model, output_csv_path)\n",
    "\n",
    "# Displaying the model summary\n",
    "print(ols_model.summary())"
   ]
  },
  {
   "cell_type": "markdown",
   "metadata": {},
   "source": [
    "Only difference between the two models is the sign of the coeffecients. Subsquent Analysis will have only the foreign_percentage as a target column"
   ]
  },
  {
   "cell_type": "markdown",
   "metadata": {},
   "source": [
    "### Before 2010, foreign prediction"
   ]
  },
  {
   "cell_type": "code",
   "execution_count": 339,
   "metadata": {},
   "outputs": [
    {
     "name": "stdout",
     "output_type": "stream",
     "text": [
      "                            OLS Regression Results                            \n",
      "==============================================================================\n",
      "Dep. Variable:     Foreign_Percentage   R-squared:                       0.287\n",
      "Model:                            OLS   Adj. R-squared:                  0.256\n",
      "Method:                 Least Squares   F-statistic:                     9.310\n",
      "Date:                Fri, 20 Dec 2024   Prob (F-statistic):           5.43e-57\n",
      "Time:                        14:19:01   Log-Likelihood:                -1459.9\n",
      "No. Observations:                1232   AIC:                             3024.\n",
      "Df Residuals:                    1180   BIC:                             3290.\n",
      "Df Model:                          51                                         \n",
      "Covariance Type:            nonrobust                                         \n",
      "========================================================================================\n",
      "                           coef    std err          t      P>|t|      [0.025      0.975]\n",
      "----------------------------------------------------------------------------------------\n",
      "const                 -106.8019     17.100     -6.246      0.000    -140.352     -73.252\n",
      "Budget(USD)_Inflated     0.2325      0.038      6.149      0.000       0.158       0.307\n",
      "Runtime(mins)            0.0014      0.033      0.044      0.965      -0.063       0.065\n",
      "Audience_Score          -0.0742      0.034     -2.171      0.030      -0.141      -0.007\n",
      "Critics_Score            0.1324      0.034      3.890      0.000       0.066       0.199\n",
      "Year                     0.0532      0.009      6.231      0.000       0.036       0.070\n",
      "emotion_score            0.0004      0.025      0.016      0.988      -0.048       0.049\n",
      "drama                   -0.0613      0.059     -1.034      0.301      -0.177       0.055\n",
      "comedy                  -0.2376      0.063     -3.776      0.000      -0.361      -0.114\n",
      "thriller                 0.1236      0.072      1.726      0.085      -0.017       0.264\n",
      "action                  -0.0076      0.079     -0.095      0.924      -0.163       0.148\n",
      "adventure                0.0804      0.076      1.051      0.293      -0.070       0.230\n",
      "romance film             0.1877      0.062      3.018      0.003       0.066       0.310\n",
      "horror                   0.0556      0.093      0.599      0.550      -0.127       0.238\n",
      "fantasy                  0.1691      0.085      2.001      0.046       0.003       0.335\n",
      "mystery                  0.2067      0.091      2.259      0.024       0.027       0.386\n",
      "crime fiction            0.0424      0.070      0.602      0.547      -0.096       0.181\n",
      "indie                   -0.1011      0.081     -1.248      0.212      -0.260       0.058\n",
      "biography                0.0382      0.108      0.353      0.724      -0.174       0.251\n",
      "family film             -0.0755      0.097     -0.779      0.436      -0.266       0.115\n",
      "sci-fi                   0.0767      0.089      0.861      0.389      -0.098       0.252\n",
      "period piece            -0.0231      0.088     -0.261      0.794      -0.197       0.150\n",
      "animation                0.3966      0.143      2.772      0.006       0.116       0.677\n",
      "teen                    -0.0697      0.091     -0.768      0.443      -0.248       0.108\n",
      "film adaptation          0.0377      0.092      0.412      0.680      -0.142       0.217\n",
      "musical                  0.0580      0.106      0.547      0.584      -0.150       0.266\n",
      "history                 -0.1325      0.153     -0.867      0.386      -0.433       0.168\n",
      "coming of age           -0.1564      0.106     -1.470      0.142      -0.365       0.052\n",
      "sports                  -0.4809      0.105     -4.592      0.000      -0.686      -0.275\n",
      "black comedy             0.0448      0.114      0.393      0.695      -0.179       0.269\n",
      "war film                 0.2782      0.127      2.197      0.028       0.030       0.527\n",
      "Worldwide_profit         0.0017      0.001      1.220      0.223      -0.001       0.004\n",
      "Rating_pg               -0.1981      0.185     -1.068      0.286      -0.562       0.166\n",
      "Rating_pg-13            -0.0562      0.187     -0.301      0.764      -0.423       0.311\n",
      "Rating_r                 0.1781      0.189      0.942      0.347      -0.193       0.549\n",
      "Month_Aug               -0.2125      0.115     -1.842      0.066      -0.439       0.014\n",
      "Month_Dec                0.3236      0.114      2.831      0.005       0.099       0.548\n",
      "Month_Feb               -0.0626      0.118     -0.531      0.596      -0.294       0.169\n",
      "Month_Jan                0.0077      0.115      0.067      0.947      -0.218       0.233\n",
      "Month_Jul                0.0369      0.122      0.302      0.763      -0.203       0.276\n",
      "Month_Jun                0.0930      0.123      0.754      0.451      -0.149       0.335\n",
      "Month_Mar               -0.1022      0.118     -0.870      0.384      -0.333       0.128\n",
      "Month_May                0.0067      0.127      0.052      0.958      -0.243       0.257\n",
      "Month_Nov                0.1845      0.116      1.584      0.113      -0.044       0.413\n",
      "Month_Oct                0.0385      0.108      0.357      0.721      -0.173       0.250\n",
      "Month_Sep               -0.0512      0.113     -0.452      0.651      -0.273       0.171\n",
      "emotion_disgust          0.0166      0.096      0.173      0.863      -0.172       0.205\n",
      "emotion_fear            -0.0233      0.089     -0.263      0.793      -0.197       0.151\n",
      "emotion_joy              0.0591      0.135      0.438      0.662      -0.206       0.324\n",
      "emotion_neutral         -0.0166      0.083     -0.200      0.841      -0.179       0.146\n",
      "emotion_sadness         -0.1064      0.100     -1.067      0.286      -0.302       0.089\n",
      "emotion_surprise        -0.1083      0.154     -0.704      0.482      -0.410       0.194\n",
      "==============================================================================\n",
      "Omnibus:                       60.784   Durbin-Watson:                   1.965\n",
      "Prob(Omnibus):                  0.000   Jarque-Bera (JB):               74.105\n",
      "Skew:                           0.500   Prob(JB):                     8.10e-17\n",
      "Kurtosis:                       3.667   Cond. No.                     1.49e+06\n",
      "==============================================================================\n",
      "\n",
      "Notes:\n",
      "[1] Standard Errors assume that the covariance matrix of the errors is correctly specified.\n",
      "[2] The condition number is large, 1.49e+06. This might indicate that there are\n",
      "strong multicollinearity or other numerical problems.\n"
     ]
    }
   ],
   "source": [
    "# Defining the target column as well as which columns to drop\n",
    "target_column = \"Foreign_Percentage\"\n",
    "drop_columns = [\"Foreign_Percentage\", \"Domestic_Percentage\"]\n",
    "# Path to save CSV file containing the feature statistics\n",
    "output_csv_path = \"../src/data/Machine_learning_data/feature_stats_pre_2010.csv\"\n",
    "\n",
    "# Train the model\n",
    "ols_model = train_ols_model(df_before_2010, target_column, drop_columns)\n",
    "\n",
    "# Extract feature statistics and save to CSV\n",
    "feature_stats_pre_2010 = extract_feature_statistics(ols_model, output_csv_path)\n",
    "\n",
    "# Displaying the model summary\n",
    "print(ols_model.summary())"
   ]
  },
  {
   "cell_type": "markdown",
   "metadata": {},
   "source": [
    "### Including and after 2010, foreign prediction"
   ]
  },
  {
   "cell_type": "code",
   "execution_count": 340,
   "metadata": {},
   "outputs": [
    {
     "name": "stdout",
     "output_type": "stream",
     "text": [
      "                            OLS Regression Results                            \n",
      "==============================================================================\n",
      "Dep. Variable:     Foreign_Percentage   R-squared:                       0.272\n",
      "Model:                            OLS   Adj. R-squared:                  0.246\n",
      "Method:                 Least Squares   F-statistic:                     10.30\n",
      "Date:                Fri, 20 Dec 2024   Prob (F-statistic):           5.26e-66\n",
      "Time:                        14:19:01   Log-Likelihood:                -1866.8\n",
      "No. Observations:                1457   AIC:                             3838.\n",
      "Df Residuals:                    1405   BIC:                             4112.\n",
      "Df Model:                          51                                         \n",
      "Covariance Type:            nonrobust                                         \n",
      "========================================================================================\n",
      "                           coef    std err          t      P>|t|      [0.025      0.975]\n",
      "----------------------------------------------------------------------------------------\n",
      "const                    7.6724     18.653      0.411      0.681     -28.918      44.263\n",
      "Budget(USD)_Inflated     0.2685      0.036      7.446      0.000       0.198       0.339\n",
      "Runtime(mins)            0.0880      0.034      2.582      0.010       0.021       0.155\n",
      "Audience_Score          -0.2197      0.037     -5.977      0.000      -0.292      -0.148\n",
      "Critics_Score            0.0687      0.035      1.957      0.051      -0.000       0.138\n",
      "Year                    -0.0040      0.009     -0.432      0.666      -0.022       0.014\n",
      "emotion_score            0.0683      0.025      2.737      0.006       0.019       0.117\n",
      "drama                    0.0038      0.061      0.063      0.950      -0.115       0.123\n",
      "comedy                  -0.2446      0.062     -3.930      0.000      -0.367      -0.123\n",
      "thriller                 0.1987      0.067      2.949      0.003       0.067       0.331\n",
      "action                   0.1663      0.071      2.357      0.019       0.028       0.305\n",
      "adventure                0.3036      0.076      4.006      0.000       0.155       0.452\n",
      "romance film             0.0813      0.071      1.137      0.256      -0.059       0.221\n",
      "horror                   0.0776      0.087      0.890      0.374      -0.094       0.249\n",
      "fantasy                 -0.0045      0.083     -0.055      0.956      -0.168       0.159\n",
      "mystery                  0.0319      0.084      0.380      0.704      -0.133       0.197\n",
      "crime fiction           -0.0755      0.077     -0.985      0.325      -0.226       0.075\n",
      "indie                    0.1919      0.185      1.038      0.299      -0.171       0.555\n",
      "biography               -0.0804      0.101     -0.800      0.424      -0.278       0.117\n",
      "family film             -0.0398      0.143     -0.279      0.781      -0.320       0.240\n",
      "sci-fi                  -0.0414      0.079     -0.524      0.600      -0.196       0.113\n",
      "period piece            -0.2578      0.225     -1.146      0.252      -0.699       0.184\n",
      "animation                0.5511      0.149      3.710      0.000       0.260       0.842\n",
      "teen                    -0.3106      0.330     -0.940      0.347      -0.959       0.338\n",
      "film adaptation          0.1781      0.241      0.739      0.460      -0.294       0.651\n",
      "musical                 -0.0152      0.112     -0.136      0.892      -0.234       0.204\n",
      "history                 -0.0666      0.134     -0.495      0.620      -0.330       0.197\n",
      "coming of age           -0.2217      0.418     -0.531      0.596      -1.041       0.598\n",
      "sports                  -0.4759      0.157     -3.026      0.003      -0.784      -0.167\n",
      "black comedy             0.4346      0.217      2.006      0.045       0.010       0.860\n",
      "war film                -0.1426      0.358     -0.398      0.690      -0.845       0.559\n",
      "Worldwide_profit         0.0017      0.002      0.894      0.371      -0.002       0.005\n",
      "Rating_pg                0.0616      0.351      0.175      0.861      -0.628       0.751\n",
      "Rating_pg-13             0.2474      0.360      0.688      0.492      -0.458       0.953\n",
      "Rating_r                 0.3515      0.361      0.974      0.330      -0.357       1.060\n",
      "Month_Aug               -0.0155      0.112     -0.138      0.890      -0.235       0.204\n",
      "Month_Dec                0.3767      0.118      3.180      0.002       0.144       0.609\n",
      "Month_Feb               -0.0402      0.125     -0.322      0.747      -0.285       0.205\n",
      "Month_Jan                0.0693      0.119      0.583      0.560      -0.164       0.303\n",
      "Month_Jul                0.1963      0.120      1.639      0.102      -0.039       0.431\n",
      "Month_Jun                0.0126      0.118      0.107      0.915      -0.218       0.243\n",
      "Month_Mar               -0.1563      0.114     -1.370      0.171      -0.380       0.067\n",
      "Month_May                0.0969      0.121      0.800      0.424      -0.141       0.334\n",
      "Month_Nov                0.3464      0.115      3.014      0.003       0.121       0.572\n",
      "Month_Oct                0.2709      0.109      2.476      0.013       0.056       0.486\n",
      "Month_Sep                0.1512      0.115      1.312      0.190      -0.075       0.377\n",
      "emotion_disgust          0.2246      0.105      2.133      0.033       0.018       0.431\n",
      "emotion_fear            -0.0051      0.082     -0.061      0.951      -0.166       0.156\n",
      "emotion_joy              0.1889      0.130      1.456      0.146      -0.066       0.443\n",
      "emotion_neutral          0.0709      0.081      0.878      0.380      -0.088       0.229\n",
      "emotion_sadness          0.0519      0.101      0.514      0.607      -0.146       0.250\n",
      "emotion_surprise        -0.3648      0.151     -2.415      0.016      -0.661      -0.068\n",
      "==============================================================================\n",
      "Omnibus:                        2.230   Durbin-Watson:                   1.925\n",
      "Prob(Omnibus):                  0.328   Jarque-Bera (JB):                2.269\n",
      "Skew:                           0.094   Prob(JB):                        0.322\n",
      "Kurtosis:                       2.956   Cond. No.                     1.62e+06\n",
      "==============================================================================\n",
      "\n",
      "Notes:\n",
      "[1] Standard Errors assume that the covariance matrix of the errors is correctly specified.\n",
      "[2] The condition number is large, 1.62e+06. This might indicate that there are\n",
      "strong multicollinearity or other numerical problems.\n"
     ]
    }
   ],
   "source": [
    "# Defining the target column as well as which columns to drop\n",
    "target_column = \"Foreign_Percentage\"\n",
    "drop_columns = [\"Foreign_Percentage\", \"Domestic_Percentage\"]\n",
    "# Path to save CSV file containing the feature statistics\n",
    "output_csv_path = \"../src/data/Machine_learning_data/feature_stats_post_2010.csv\"\n",
    "\n",
    "# Train the model\n",
    "ols_model = train_ols_model(df_2010_and_after, target_column, drop_columns)\n",
    "\n",
    "# Extract feature statistics and save to CSV\n",
    "feature_stats_post_2010 = extract_feature_statistics(ols_model, output_csv_path)\n",
    "\n",
    "# Displaying the model summary\n",
    "print(ols_model.summary())"
   ]
  },
  {
   "cell_type": "markdown",
   "metadata": {},
   "source": [
    "### Comparing the statistically significant coefficients"
   ]
  },
  {
   "cell_type": "code",
   "execution_count": 341,
   "metadata": {},
   "outputs": [
    {
     "data": {
      "text/html": [
       "<div>\n",
       "<style scoped>\n",
       "    .dataframe tbody tr th:only-of-type {\n",
       "        vertical-align: middle;\n",
       "    }\n",
       "\n",
       "    .dataframe tbody tr th {\n",
       "        vertical-align: top;\n",
       "    }\n",
       "\n",
       "    .dataframe thead th {\n",
       "        text-align: right;\n",
       "    }\n",
       "</style>\n",
       "<table border=\"1\" class=\"dataframe\">\n",
       "  <thead>\n",
       "    <tr style=\"text-align: right;\">\n",
       "      <th></th>\n",
       "      <th>Feature</th>\n",
       "      <th>Coefficient</th>\n",
       "      <th>Std_Error</th>\n",
       "      <th>t_value</th>\n",
       "      <th>p_value</th>\n",
       "    </tr>\n",
       "  </thead>\n",
       "  <tbody>\n",
       "    <tr>\n",
       "      <th>0</th>\n",
       "      <td>const</td>\n",
       "      <td>-106.801877</td>\n",
       "      <td>17.099916</td>\n",
       "      <td>-6.245754</td>\n",
       "      <td>5.875668e-10</td>\n",
       "    </tr>\n",
       "    <tr>\n",
       "      <th>1</th>\n",
       "      <td>Budget(USD)_Inflated</td>\n",
       "      <td>0.232545</td>\n",
       "      <td>0.037820</td>\n",
       "      <td>6.148716</td>\n",
       "      <td>1.067251e-09</td>\n",
       "    </tr>\n",
       "    <tr>\n",
       "      <th>2</th>\n",
       "      <td>Runtime(mins)</td>\n",
       "      <td>0.001423</td>\n",
       "      <td>0.032650</td>\n",
       "      <td>0.043586</td>\n",
       "      <td>9.652418e-01</td>\n",
       "    </tr>\n",
       "    <tr>\n",
       "      <th>3</th>\n",
       "      <td>Audience_Score</td>\n",
       "      <td>-0.074239</td>\n",
       "      <td>0.034194</td>\n",
       "      <td>-2.171104</td>\n",
       "      <td>3.012207e-02</td>\n",
       "    </tr>\n",
       "    <tr>\n",
       "      <th>4</th>\n",
       "      <td>Critics_Score</td>\n",
       "      <td>0.132448</td>\n",
       "      <td>0.034046</td>\n",
       "      <td>3.890313</td>\n",
       "      <td>1.057072e-04</td>\n",
       "    </tr>\n",
       "  </tbody>\n",
       "</table>\n",
       "</div>"
      ],
      "text/plain": [
       "                Feature  Coefficient  Std_Error   t_value       p_value\n",
       "0                 const  -106.801877  17.099916 -6.245754  5.875668e-10\n",
       "1  Budget(USD)_Inflated     0.232545   0.037820  6.148716  1.067251e-09\n",
       "2         Runtime(mins)     0.001423   0.032650  0.043586  9.652418e-01\n",
       "3        Audience_Score    -0.074239   0.034194 -2.171104  3.012207e-02\n",
       "4         Critics_Score     0.132448   0.034046  3.890313  1.057072e-04"
      ]
     },
     "execution_count": 341,
     "metadata": {},
     "output_type": "execute_result"
    }
   ],
   "source": [
    "feature_stats_pre_2010.head(5)"
   ]
  },
  {
   "cell_type": "code",
   "execution_count": 342,
   "metadata": {},
   "outputs": [
    {
     "data": {
      "text/html": [
       "<div>\n",
       "<style scoped>\n",
       "    .dataframe tbody tr th:only-of-type {\n",
       "        vertical-align: middle;\n",
       "    }\n",
       "\n",
       "    .dataframe tbody tr th {\n",
       "        vertical-align: top;\n",
       "    }\n",
       "\n",
       "    .dataframe thead th {\n",
       "        text-align: right;\n",
       "    }\n",
       "</style>\n",
       "<table border=\"1\" class=\"dataframe\">\n",
       "  <thead>\n",
       "    <tr style=\"text-align: right;\">\n",
       "      <th></th>\n",
       "      <th>Feature</th>\n",
       "      <th>Coefficient</th>\n",
       "      <th>Std_Error</th>\n",
       "      <th>t_value</th>\n",
       "      <th>p_value</th>\n",
       "    </tr>\n",
       "  </thead>\n",
       "  <tbody>\n",
       "    <tr>\n",
       "      <th>0</th>\n",
       "      <td>const</td>\n",
       "      <td>7.672370</td>\n",
       "      <td>18.652919</td>\n",
       "      <td>0.411323</td>\n",
       "      <td>6.808986e-01</td>\n",
       "    </tr>\n",
       "    <tr>\n",
       "      <th>1</th>\n",
       "      <td>Budget(USD)_Inflated</td>\n",
       "      <td>0.268493</td>\n",
       "      <td>0.036059</td>\n",
       "      <td>7.445842</td>\n",
       "      <td>1.673180e-13</td>\n",
       "    </tr>\n",
       "    <tr>\n",
       "      <th>2</th>\n",
       "      <td>Runtime(mins)</td>\n",
       "      <td>0.087977</td>\n",
       "      <td>0.034072</td>\n",
       "      <td>2.582098</td>\n",
       "      <td>9.920614e-03</td>\n",
       "    </tr>\n",
       "    <tr>\n",
       "      <th>3</th>\n",
       "      <td>Audience_Score</td>\n",
       "      <td>-0.219732</td>\n",
       "      <td>0.036764</td>\n",
       "      <td>-5.976786</td>\n",
       "      <td>2.880698e-09</td>\n",
       "    </tr>\n",
       "    <tr>\n",
       "      <th>4</th>\n",
       "      <td>Critics_Score</td>\n",
       "      <td>0.068687</td>\n",
       "      <td>0.035100</td>\n",
       "      <td>1.956906</td>\n",
       "      <td>5.055637e-02</td>\n",
       "    </tr>\n",
       "  </tbody>\n",
       "</table>\n",
       "</div>"
      ],
      "text/plain": [
       "                Feature  Coefficient  Std_Error   t_value       p_value\n",
       "0                 const     7.672370  18.652919  0.411323  6.808986e-01\n",
       "1  Budget(USD)_Inflated     0.268493   0.036059  7.445842  1.673180e-13\n",
       "2         Runtime(mins)     0.087977   0.034072  2.582098  9.920614e-03\n",
       "3        Audience_Score    -0.219732   0.036764 -5.976786  2.880698e-09\n",
       "4         Critics_Score     0.068687   0.035100  1.956906  5.055637e-02"
      ]
     },
     "execution_count": 342,
     "metadata": {},
     "output_type": "execute_result"
    }
   ],
   "source": [
    "feature_stats_post_2010.head(5)"
   ]
  },
  {
   "cell_type": "markdown",
   "metadata": {},
   "source": [
    "Defining funciton that removes all the features with a P-value > 0.05"
   ]
  },
  {
   "cell_type": "code",
   "execution_count": 343,
   "metadata": {},
   "outputs": [],
   "source": [
    "def filter_significant_features(feature_stats, p_value_threshold=0.05):\n",
    "\n",
    "    # Filter the DataFrame based on the p-value threshold\n",
    "    significant_features = feature_stats[feature_stats[\"p_value\"] <= p_value_threshold]\n",
    "    \n",
    "    return significant_features"
   ]
  },
  {
   "cell_type": "code",
   "execution_count": 344,
   "metadata": {},
   "outputs": [],
   "source": [
    "feature_stats_pre_2010 = filter_significant_features(feature_stats_pre_2010)\n",
    "feature_stats_post_2010 = filter_significant_features(feature_stats_post_2010)"
   ]
  },
  {
   "cell_type": "code",
   "execution_count": 348,
   "metadata": {},
   "outputs": [
    {
     "data": {
      "text/html": [
       "<div>\n",
       "<style scoped>\n",
       "    .dataframe tbody tr th:only-of-type {\n",
       "        vertical-align: middle;\n",
       "    }\n",
       "\n",
       "    .dataframe tbody tr th {\n",
       "        vertical-align: top;\n",
       "    }\n",
       "\n",
       "    .dataframe thead th {\n",
       "        text-align: right;\n",
       "    }\n",
       "</style>\n",
       "<table border=\"1\" class=\"dataframe\">\n",
       "  <thead>\n",
       "    <tr style=\"text-align: right;\">\n",
       "      <th></th>\n",
       "      <th>Feature</th>\n",
       "      <th>Coefficient</th>\n",
       "      <th>Std_Error</th>\n",
       "      <th>t_value</th>\n",
       "      <th>p_value</th>\n",
       "    </tr>\n",
       "  </thead>\n",
       "  <tbody>\n",
       "    <tr>\n",
       "      <th>0</th>\n",
       "      <td>const</td>\n",
       "      <td>-106.801877</td>\n",
       "      <td>17.099916</td>\n",
       "      <td>-6.245754</td>\n",
       "      <td>5.875668e-10</td>\n",
       "    </tr>\n",
       "    <tr>\n",
       "      <th>1</th>\n",
       "      <td>Budget(USD)_Inflated</td>\n",
       "      <td>0.232545</td>\n",
       "      <td>0.037820</td>\n",
       "      <td>6.148716</td>\n",
       "      <td>1.067251e-09</td>\n",
       "    </tr>\n",
       "    <tr>\n",
       "      <th>3</th>\n",
       "      <td>Audience_Score</td>\n",
       "      <td>-0.074239</td>\n",
       "      <td>0.034194</td>\n",
       "      <td>-2.171104</td>\n",
       "      <td>3.012207e-02</td>\n",
       "    </tr>\n",
       "    <tr>\n",
       "      <th>4</th>\n",
       "      <td>Critics_Score</td>\n",
       "      <td>0.132448</td>\n",
       "      <td>0.034046</td>\n",
       "      <td>3.890313</td>\n",
       "      <td>1.057072e-04</td>\n",
       "    </tr>\n",
       "    <tr>\n",
       "      <th>5</th>\n",
       "      <td>Year</td>\n",
       "      <td>0.053173</td>\n",
       "      <td>0.008533</td>\n",
       "      <td>6.231243</td>\n",
       "      <td>6.427620e-10</td>\n",
       "    </tr>\n",
       "    <tr>\n",
       "      <th>8</th>\n",
       "      <td>comedy</td>\n",
       "      <td>-0.237642</td>\n",
       "      <td>0.062929</td>\n",
       "      <td>-3.776356</td>\n",
       "      <td>1.670675e-04</td>\n",
       "    </tr>\n",
       "    <tr>\n",
       "      <th>12</th>\n",
       "      <td>romance film</td>\n",
       "      <td>0.187719</td>\n",
       "      <td>0.062190</td>\n",
       "      <td>3.018484</td>\n",
       "      <td>2.594950e-03</td>\n",
       "    </tr>\n",
       "    <tr>\n",
       "      <th>14</th>\n",
       "      <td>fantasy</td>\n",
       "      <td>0.169102</td>\n",
       "      <td>0.084518</td>\n",
       "      <td>2.000793</td>\n",
       "      <td>4.564348e-02</td>\n",
       "    </tr>\n",
       "    <tr>\n",
       "      <th>15</th>\n",
       "      <td>mystery</td>\n",
       "      <td>0.206684</td>\n",
       "      <td>0.091475</td>\n",
       "      <td>2.259465</td>\n",
       "      <td>2.403630e-02</td>\n",
       "    </tr>\n",
       "    <tr>\n",
       "      <th>22</th>\n",
       "      <td>animation</td>\n",
       "      <td>0.396553</td>\n",
       "      <td>0.143052</td>\n",
       "      <td>2.772099</td>\n",
       "      <td>5.657204e-03</td>\n",
       "    </tr>\n",
       "    <tr>\n",
       "      <th>28</th>\n",
       "      <td>sports</td>\n",
       "      <td>-0.480947</td>\n",
       "      <td>0.104727</td>\n",
       "      <td>-4.592394</td>\n",
       "      <td>4.851631e-06</td>\n",
       "    </tr>\n",
       "    <tr>\n",
       "      <th>30</th>\n",
       "      <td>war film</td>\n",
       "      <td>0.278199</td>\n",
       "      <td>0.126643</td>\n",
       "      <td>2.196713</td>\n",
       "      <td>2.823487e-02</td>\n",
       "    </tr>\n",
       "    <tr>\n",
       "      <th>36</th>\n",
       "      <td>Month_Dec</td>\n",
       "      <td>0.323617</td>\n",
       "      <td>0.114325</td>\n",
       "      <td>2.830682</td>\n",
       "      <td>4.723702e-03</td>\n",
       "    </tr>\n",
       "  </tbody>\n",
       "</table>\n",
       "</div>"
      ],
      "text/plain": [
       "                 Feature  Coefficient  Std_Error   t_value       p_value\n",
       "0                  const  -106.801877  17.099916 -6.245754  5.875668e-10\n",
       "1   Budget(USD)_Inflated     0.232545   0.037820  6.148716  1.067251e-09\n",
       "3         Audience_Score    -0.074239   0.034194 -2.171104  3.012207e-02\n",
       "4          Critics_Score     0.132448   0.034046  3.890313  1.057072e-04\n",
       "5                   Year     0.053173   0.008533  6.231243  6.427620e-10\n",
       "8                 comedy    -0.237642   0.062929 -3.776356  1.670675e-04\n",
       "12          romance film     0.187719   0.062190  3.018484  2.594950e-03\n",
       "14               fantasy     0.169102   0.084518  2.000793  4.564348e-02\n",
       "15               mystery     0.206684   0.091475  2.259465  2.403630e-02\n",
       "22             animation     0.396553   0.143052  2.772099  5.657204e-03\n",
       "28                sports    -0.480947   0.104727 -4.592394  4.851631e-06\n",
       "30              war film     0.278199   0.126643  2.196713  2.823487e-02\n",
       "36             Month_Dec     0.323617   0.114325  2.830682  4.723702e-03"
      ]
     },
     "execution_count": 348,
     "metadata": {},
     "output_type": "execute_result"
    }
   ],
   "source": [
    "feature_stats_pre_2010"
   ]
  },
  {
   "cell_type": "code",
   "execution_count": 349,
   "metadata": {},
   "outputs": [
    {
     "data": {
      "text/html": [
       "<div>\n",
       "<style scoped>\n",
       "    .dataframe tbody tr th:only-of-type {\n",
       "        vertical-align: middle;\n",
       "    }\n",
       "\n",
       "    .dataframe tbody tr th {\n",
       "        vertical-align: top;\n",
       "    }\n",
       "\n",
       "    .dataframe thead th {\n",
       "        text-align: right;\n",
       "    }\n",
       "</style>\n",
       "<table border=\"1\" class=\"dataframe\">\n",
       "  <thead>\n",
       "    <tr style=\"text-align: right;\">\n",
       "      <th></th>\n",
       "      <th>Feature</th>\n",
       "      <th>Coefficient</th>\n",
       "      <th>Std_Error</th>\n",
       "      <th>t_value</th>\n",
       "      <th>p_value</th>\n",
       "    </tr>\n",
       "  </thead>\n",
       "  <tbody>\n",
       "    <tr>\n",
       "      <th>1</th>\n",
       "      <td>Budget(USD)_Inflated</td>\n",
       "      <td>0.268493</td>\n",
       "      <td>0.036059</td>\n",
       "      <td>7.445842</td>\n",
       "      <td>1.673180e-13</td>\n",
       "    </tr>\n",
       "    <tr>\n",
       "      <th>2</th>\n",
       "      <td>Runtime(mins)</td>\n",
       "      <td>0.087977</td>\n",
       "      <td>0.034072</td>\n",
       "      <td>2.582098</td>\n",
       "      <td>9.920614e-03</td>\n",
       "    </tr>\n",
       "    <tr>\n",
       "      <th>3</th>\n",
       "      <td>Audience_Score</td>\n",
       "      <td>-0.219732</td>\n",
       "      <td>0.036764</td>\n",
       "      <td>-5.976786</td>\n",
       "      <td>2.880698e-09</td>\n",
       "    </tr>\n",
       "    <tr>\n",
       "      <th>6</th>\n",
       "      <td>emotion_score</td>\n",
       "      <td>0.068308</td>\n",
       "      <td>0.024961</td>\n",
       "      <td>2.736614</td>\n",
       "      <td>6.285724e-03</td>\n",
       "    </tr>\n",
       "    <tr>\n",
       "      <th>8</th>\n",
       "      <td>comedy</td>\n",
       "      <td>-0.244581</td>\n",
       "      <td>0.062232</td>\n",
       "      <td>-3.930182</td>\n",
       "      <td>8.901036e-05</td>\n",
       "    </tr>\n",
       "    <tr>\n",
       "      <th>9</th>\n",
       "      <td>thriller</td>\n",
       "      <td>0.198654</td>\n",
       "      <td>0.067359</td>\n",
       "      <td>2.949164</td>\n",
       "      <td>3.239043e-03</td>\n",
       "    </tr>\n",
       "    <tr>\n",
       "      <th>10</th>\n",
       "      <td>action</td>\n",
       "      <td>0.166320</td>\n",
       "      <td>0.070550</td>\n",
       "      <td>2.357472</td>\n",
       "      <td>1.853635e-02</td>\n",
       "    </tr>\n",
       "    <tr>\n",
       "      <th>11</th>\n",
       "      <td>adventure</td>\n",
       "      <td>0.303609</td>\n",
       "      <td>0.075784</td>\n",
       "      <td>4.006251</td>\n",
       "      <td>6.492127e-05</td>\n",
       "    </tr>\n",
       "    <tr>\n",
       "      <th>22</th>\n",
       "      <td>animation</td>\n",
       "      <td>0.551085</td>\n",
       "      <td>0.148554</td>\n",
       "      <td>3.709662</td>\n",
       "      <td>2.156265e-04</td>\n",
       "    </tr>\n",
       "    <tr>\n",
       "      <th>28</th>\n",
       "      <td>sports</td>\n",
       "      <td>-0.475866</td>\n",
       "      <td>0.157239</td>\n",
       "      <td>-3.026393</td>\n",
       "      <td>2.519905e-03</td>\n",
       "    </tr>\n",
       "    <tr>\n",
       "      <th>29</th>\n",
       "      <td>black comedy</td>\n",
       "      <td>0.434644</td>\n",
       "      <td>0.216663</td>\n",
       "      <td>2.006084</td>\n",
       "      <td>4.503865e-02</td>\n",
       "    </tr>\n",
       "    <tr>\n",
       "      <th>36</th>\n",
       "      <td>Month_Dec</td>\n",
       "      <td>0.376743</td>\n",
       "      <td>0.118459</td>\n",
       "      <td>3.180377</td>\n",
       "      <td>1.502962e-03</td>\n",
       "    </tr>\n",
       "    <tr>\n",
       "      <th>43</th>\n",
       "      <td>Month_Nov</td>\n",
       "      <td>0.346442</td>\n",
       "      <td>0.114962</td>\n",
       "      <td>3.013535</td>\n",
       "      <td>2.628454e-03</td>\n",
       "    </tr>\n",
       "    <tr>\n",
       "      <th>44</th>\n",
       "      <td>Month_Oct</td>\n",
       "      <td>0.270927</td>\n",
       "      <td>0.109409</td>\n",
       "      <td>2.476275</td>\n",
       "      <td>1.339319e-02</td>\n",
       "    </tr>\n",
       "    <tr>\n",
       "      <th>46</th>\n",
       "      <td>emotion_disgust</td>\n",
       "      <td>0.224644</td>\n",
       "      <td>0.105301</td>\n",
       "      <td>2.133348</td>\n",
       "      <td>3.306906e-02</td>\n",
       "    </tr>\n",
       "    <tr>\n",
       "      <th>51</th>\n",
       "      <td>emotion_surprise</td>\n",
       "      <td>-0.364754</td>\n",
       "      <td>0.151050</td>\n",
       "      <td>-2.414790</td>\n",
       "      <td>1.587132e-02</td>\n",
       "    </tr>\n",
       "  </tbody>\n",
       "</table>\n",
       "</div>"
      ],
      "text/plain": [
       "                 Feature  Coefficient  Std_Error   t_value       p_value\n",
       "1   Budget(USD)_Inflated     0.268493   0.036059  7.445842  1.673180e-13\n",
       "2          Runtime(mins)     0.087977   0.034072  2.582098  9.920614e-03\n",
       "3         Audience_Score    -0.219732   0.036764 -5.976786  2.880698e-09\n",
       "6          emotion_score     0.068308   0.024961  2.736614  6.285724e-03\n",
       "8                 comedy    -0.244581   0.062232 -3.930182  8.901036e-05\n",
       "9               thriller     0.198654   0.067359  2.949164  3.239043e-03\n",
       "10                action     0.166320   0.070550  2.357472  1.853635e-02\n",
       "11             adventure     0.303609   0.075784  4.006251  6.492127e-05\n",
       "22             animation     0.551085   0.148554  3.709662  2.156265e-04\n",
       "28                sports    -0.475866   0.157239 -3.026393  2.519905e-03\n",
       "29          black comedy     0.434644   0.216663  2.006084  4.503865e-02\n",
       "36             Month_Dec     0.376743   0.118459  3.180377  1.502962e-03\n",
       "43             Month_Nov     0.346442   0.114962  3.013535  2.628454e-03\n",
       "44             Month_Oct     0.270927   0.109409  2.476275  1.339319e-02\n",
       "46       emotion_disgust     0.224644   0.105301  2.133348  3.306906e-02\n",
       "51      emotion_surprise    -0.364754   0.151050 -2.414790  1.587132e-02"
      ]
     },
     "execution_count": 349,
     "metadata": {},
     "output_type": "execute_result"
    }
   ],
   "source": [
    "feature_stats_post_2010"
   ]
  },
  {
   "cell_type": "markdown",
   "metadata": {},
   "source": [
    "Plotting the coeffecients for the statistically significant features"
   ]
  },
  {
   "cell_type": "code",
   "execution_count": 351,
   "metadata": {},
   "outputs": [
    {
     "data": {
      "application/vnd.plotly.v1+json": {
       "config": {
        "plotlyServerURL": "https://plot.ly"
       },
       "data": [
        {
         "alignmentgroup": "True",
         "customdata": [
          [
           0.0360594689581624,
           7.445841681059145,
           1.6731798490070298e-13
          ],
          [
           0.03407183632590502,
           2.582098220809795,
           0.00992061362865706
          ],
          [
           0.036764162831114375,
           -5.9767859947061295,
           2.8806980035474376e-9
          ],
          [
           0.02496067159581762,
           2.736614082387892,
           0.006285723587743392
          ],
          [
           0.06223153506548373,
           -3.930182136304673,
           0.00008901035956363362
          ],
          [
           0.06735943677650333,
           2.949163958475073,
           0.0032390432053554475
          ],
          [
           0.07055029660717,
           2.3574716083434253,
           0.01853634943331654
          ],
          [
           0.07578390497003216,
           4.006251232931392,
           0.00006492126745709157
          ],
          [
           0.14855389151719745,
           3.709661993893581,
           0.00021562647658715525
          ],
          [
           0.1572387982973947,
           -3.026393064458547,
           0.0025199051873247
          ],
          [
           0.21666280358242293,
           2.0060842267641226,
           0.0450386457635076
          ],
          [
           0.11845867380710254,
           3.1803772293106616,
           0.0015029623157902451
          ],
          [
           0.11496194534735858,
           3.013535306700841,
           0.002628453818133766
          ],
          [
           0.10940893359193851,
           2.4762748866344504,
           0.013393186277914903
          ],
          [
           0.10530117934181735,
           2.133347626929071,
           0.0330690562527631
          ],
          [
           0.15105011773217045,
           -2.414790314921913,
           0.015871316174190395
          ]
         ],
         "hovertemplate": "Feature Names=%{x}<br>Coefficient Value=%{marker.color}<br>Std_Error=%{customdata[0]}<br>t_value=%{customdata[1]}<br>p_value=%{customdata[2]}<extra></extra>",
         "legendgroup": "",
         "marker": {
          "color": [
           0.26849309696554396,
           0.08797682795684189,
           -0.21973153351610003,
           0.06830772539497396,
           -0.24458126742918201,
           0.19865402320444397,
           0.16632032121161075,
           0.3036093627225468,
           0.5510847254063374,
           -0.47586640863103175,
           0.43464383279319185,
           0.3767432687904482,
           0.34644188123127756,
           0.27092659462717367,
           0.22464402106169856,
           -0.3647543613674599
          ],
          "coloraxis": "coloraxis",
          "pattern": {
           "shape": ""
          }
         },
         "name": "",
         "offsetgroup": "",
         "orientation": "v",
         "showlegend": false,
         "textposition": "auto",
         "type": "bar",
         "x": [
          "Budget(USD)_Inflated",
          "Runtime(mins)",
          "Audience_Score",
          "emotion_score",
          "comedy",
          "thriller",
          "action",
          "adventure",
          "animation",
          "sports",
          "black comedy",
          "Month_Dec",
          "Month_Nov",
          "Month_Oct",
          "emotion_disgust",
          "emotion_surprise"
         ],
         "xaxis": "x",
         "y": [
          0.26849309696554396,
          0.08797682795684189,
          -0.21973153351610003,
          0.06830772539497396,
          -0.24458126742918201,
          0.19865402320444397,
          0.16632032121161075,
          0.3036093627225468,
          0.5510847254063374,
          -0.47586640863103175,
          0.43464383279319185,
          0.3767432687904482,
          0.34644188123127756,
          0.27092659462717367,
          0.22464402106169856,
          -0.3647543613674599
         ],
         "yaxis": "y"
        }
       ],
       "layout": {
        "barmode": "relative",
        "coloraxis": {
         "colorbar": {
          "title": {
           "text": "Coefficient Value"
          }
         },
         "colorscale": [
          [
           0,
           "#0d0887"
          ],
          [
           0.1111111111111111,
           "#46039f"
          ],
          [
           0.2222222222222222,
           "#7201a8"
          ],
          [
           0.3333333333333333,
           "#9c179e"
          ],
          [
           0.4444444444444444,
           "#bd3786"
          ],
          [
           0.5555555555555556,
           "#d8576b"
          ],
          [
           0.6666666666666666,
           "#ed7953"
          ],
          [
           0.7777777777777778,
           "#fb9f3a"
          ],
          [
           0.8888888888888888,
           "#fdca26"
          ],
          [
           1,
           "#f0f921"
          ]
         ]
        },
        "height": 400,
        "legend": {
         "tracegroupgap": 0
        },
        "margin": {
         "t": 60
        },
        "template": {
         "data": {
          "bar": [
           {
            "error_x": {
             "color": "#2a3f5f"
            },
            "error_y": {
             "color": "#2a3f5f"
            },
            "marker": {
             "line": {
              "color": "#E5ECF6",
              "width": 0.5
             },
             "pattern": {
              "fillmode": "overlay",
              "size": 10,
              "solidity": 0.2
             }
            },
            "type": "bar"
           }
          ],
          "barpolar": [
           {
            "marker": {
             "line": {
              "color": "#E5ECF6",
              "width": 0.5
             },
             "pattern": {
              "fillmode": "overlay",
              "size": 10,
              "solidity": 0.2
             }
            },
            "type": "barpolar"
           }
          ],
          "carpet": [
           {
            "aaxis": {
             "endlinecolor": "#2a3f5f",
             "gridcolor": "white",
             "linecolor": "white",
             "minorgridcolor": "white",
             "startlinecolor": "#2a3f5f"
            },
            "baxis": {
             "endlinecolor": "#2a3f5f",
             "gridcolor": "white",
             "linecolor": "white",
             "minorgridcolor": "white",
             "startlinecolor": "#2a3f5f"
            },
            "type": "carpet"
           }
          ],
          "choropleth": [
           {
            "colorbar": {
             "outlinewidth": 0,
             "ticks": ""
            },
            "type": "choropleth"
           }
          ],
          "contour": [
           {
            "colorbar": {
             "outlinewidth": 0,
             "ticks": ""
            },
            "colorscale": [
             [
              0,
              "#0d0887"
             ],
             [
              0.1111111111111111,
              "#46039f"
             ],
             [
              0.2222222222222222,
              "#7201a8"
             ],
             [
              0.3333333333333333,
              "#9c179e"
             ],
             [
              0.4444444444444444,
              "#bd3786"
             ],
             [
              0.5555555555555556,
              "#d8576b"
             ],
             [
              0.6666666666666666,
              "#ed7953"
             ],
             [
              0.7777777777777778,
              "#fb9f3a"
             ],
             [
              0.8888888888888888,
              "#fdca26"
             ],
             [
              1,
              "#f0f921"
             ]
            ],
            "type": "contour"
           }
          ],
          "contourcarpet": [
           {
            "colorbar": {
             "outlinewidth": 0,
             "ticks": ""
            },
            "type": "contourcarpet"
           }
          ],
          "heatmap": [
           {
            "colorbar": {
             "outlinewidth": 0,
             "ticks": ""
            },
            "colorscale": [
             [
              0,
              "#0d0887"
             ],
             [
              0.1111111111111111,
              "#46039f"
             ],
             [
              0.2222222222222222,
              "#7201a8"
             ],
             [
              0.3333333333333333,
              "#9c179e"
             ],
             [
              0.4444444444444444,
              "#bd3786"
             ],
             [
              0.5555555555555556,
              "#d8576b"
             ],
             [
              0.6666666666666666,
              "#ed7953"
             ],
             [
              0.7777777777777778,
              "#fb9f3a"
             ],
             [
              0.8888888888888888,
              "#fdca26"
             ],
             [
              1,
              "#f0f921"
             ]
            ],
            "type": "heatmap"
           }
          ],
          "heatmapgl": [
           {
            "colorbar": {
             "outlinewidth": 0,
             "ticks": ""
            },
            "colorscale": [
             [
              0,
              "#0d0887"
             ],
             [
              0.1111111111111111,
              "#46039f"
             ],
             [
              0.2222222222222222,
              "#7201a8"
             ],
             [
              0.3333333333333333,
              "#9c179e"
             ],
             [
              0.4444444444444444,
              "#bd3786"
             ],
             [
              0.5555555555555556,
              "#d8576b"
             ],
             [
              0.6666666666666666,
              "#ed7953"
             ],
             [
              0.7777777777777778,
              "#fb9f3a"
             ],
             [
              0.8888888888888888,
              "#fdca26"
             ],
             [
              1,
              "#f0f921"
             ]
            ],
            "type": "heatmapgl"
           }
          ],
          "histogram": [
           {
            "marker": {
             "pattern": {
              "fillmode": "overlay",
              "size": 10,
              "solidity": 0.2
             }
            },
            "type": "histogram"
           }
          ],
          "histogram2d": [
           {
            "colorbar": {
             "outlinewidth": 0,
             "ticks": ""
            },
            "colorscale": [
             [
              0,
              "#0d0887"
             ],
             [
              0.1111111111111111,
              "#46039f"
             ],
             [
              0.2222222222222222,
              "#7201a8"
             ],
             [
              0.3333333333333333,
              "#9c179e"
             ],
             [
              0.4444444444444444,
              "#bd3786"
             ],
             [
              0.5555555555555556,
              "#d8576b"
             ],
             [
              0.6666666666666666,
              "#ed7953"
             ],
             [
              0.7777777777777778,
              "#fb9f3a"
             ],
             [
              0.8888888888888888,
              "#fdca26"
             ],
             [
              1,
              "#f0f921"
             ]
            ],
            "type": "histogram2d"
           }
          ],
          "histogram2dcontour": [
           {
            "colorbar": {
             "outlinewidth": 0,
             "ticks": ""
            },
            "colorscale": [
             [
              0,
              "#0d0887"
             ],
             [
              0.1111111111111111,
              "#46039f"
             ],
             [
              0.2222222222222222,
              "#7201a8"
             ],
             [
              0.3333333333333333,
              "#9c179e"
             ],
             [
              0.4444444444444444,
              "#bd3786"
             ],
             [
              0.5555555555555556,
              "#d8576b"
             ],
             [
              0.6666666666666666,
              "#ed7953"
             ],
             [
              0.7777777777777778,
              "#fb9f3a"
             ],
             [
              0.8888888888888888,
              "#fdca26"
             ],
             [
              1,
              "#f0f921"
             ]
            ],
            "type": "histogram2dcontour"
           }
          ],
          "mesh3d": [
           {
            "colorbar": {
             "outlinewidth": 0,
             "ticks": ""
            },
            "type": "mesh3d"
           }
          ],
          "parcoords": [
           {
            "line": {
             "colorbar": {
              "outlinewidth": 0,
              "ticks": ""
             }
            },
            "type": "parcoords"
           }
          ],
          "pie": [
           {
            "automargin": true,
            "type": "pie"
           }
          ],
          "scatter": [
           {
            "fillpattern": {
             "fillmode": "overlay",
             "size": 10,
             "solidity": 0.2
            },
            "type": "scatter"
           }
          ],
          "scatter3d": [
           {
            "line": {
             "colorbar": {
              "outlinewidth": 0,
              "ticks": ""
             }
            },
            "marker": {
             "colorbar": {
              "outlinewidth": 0,
              "ticks": ""
             }
            },
            "type": "scatter3d"
           }
          ],
          "scattercarpet": [
           {
            "marker": {
             "colorbar": {
              "outlinewidth": 0,
              "ticks": ""
             }
            },
            "type": "scattercarpet"
           }
          ],
          "scattergeo": [
           {
            "marker": {
             "colorbar": {
              "outlinewidth": 0,
              "ticks": ""
             }
            },
            "type": "scattergeo"
           }
          ],
          "scattergl": [
           {
            "marker": {
             "colorbar": {
              "outlinewidth": 0,
              "ticks": ""
             }
            },
            "type": "scattergl"
           }
          ],
          "scattermapbox": [
           {
            "marker": {
             "colorbar": {
              "outlinewidth": 0,
              "ticks": ""
             }
            },
            "type": "scattermapbox"
           }
          ],
          "scatterpolar": [
           {
            "marker": {
             "colorbar": {
              "outlinewidth": 0,
              "ticks": ""
             }
            },
            "type": "scatterpolar"
           }
          ],
          "scatterpolargl": [
           {
            "marker": {
             "colorbar": {
              "outlinewidth": 0,
              "ticks": ""
             }
            },
            "type": "scatterpolargl"
           }
          ],
          "scatterternary": [
           {
            "marker": {
             "colorbar": {
              "outlinewidth": 0,
              "ticks": ""
             }
            },
            "type": "scatterternary"
           }
          ],
          "surface": [
           {
            "colorbar": {
             "outlinewidth": 0,
             "ticks": ""
            },
            "colorscale": [
             [
              0,
              "#0d0887"
             ],
             [
              0.1111111111111111,
              "#46039f"
             ],
             [
              0.2222222222222222,
              "#7201a8"
             ],
             [
              0.3333333333333333,
              "#9c179e"
             ],
             [
              0.4444444444444444,
              "#bd3786"
             ],
             [
              0.5555555555555556,
              "#d8576b"
             ],
             [
              0.6666666666666666,
              "#ed7953"
             ],
             [
              0.7777777777777778,
              "#fb9f3a"
             ],
             [
              0.8888888888888888,
              "#fdca26"
             ],
             [
              1,
              "#f0f921"
             ]
            ],
            "type": "surface"
           }
          ],
          "table": [
           {
            "cells": {
             "fill": {
              "color": "#EBF0F8"
             },
             "line": {
              "color": "white"
             }
            },
            "header": {
             "fill": {
              "color": "#C8D4E3"
             },
             "line": {
              "color": "white"
             }
            },
            "type": "table"
           }
          ]
         },
         "layout": {
          "annotationdefaults": {
           "arrowcolor": "#2a3f5f",
           "arrowhead": 0,
           "arrowwidth": 1
          },
          "autotypenumbers": "strict",
          "coloraxis": {
           "colorbar": {
            "outlinewidth": 0,
            "ticks": ""
           }
          },
          "colorscale": {
           "diverging": [
            [
             0,
             "#8e0152"
            ],
            [
             0.1,
             "#c51b7d"
            ],
            [
             0.2,
             "#de77ae"
            ],
            [
             0.3,
             "#f1b6da"
            ],
            [
             0.4,
             "#fde0ef"
            ],
            [
             0.5,
             "#f7f7f7"
            ],
            [
             0.6,
             "#e6f5d0"
            ],
            [
             0.7,
             "#b8e186"
            ],
            [
             0.8,
             "#7fbc41"
            ],
            [
             0.9,
             "#4d9221"
            ],
            [
             1,
             "#276419"
            ]
           ],
           "sequential": [
            [
             0,
             "#0d0887"
            ],
            [
             0.1111111111111111,
             "#46039f"
            ],
            [
             0.2222222222222222,
             "#7201a8"
            ],
            [
             0.3333333333333333,
             "#9c179e"
            ],
            [
             0.4444444444444444,
             "#bd3786"
            ],
            [
             0.5555555555555556,
             "#d8576b"
            ],
            [
             0.6666666666666666,
             "#ed7953"
            ],
            [
             0.7777777777777778,
             "#fb9f3a"
            ],
            [
             0.8888888888888888,
             "#fdca26"
            ],
            [
             1,
             "#f0f921"
            ]
           ],
           "sequentialminus": [
            [
             0,
             "#0d0887"
            ],
            [
             0.1111111111111111,
             "#46039f"
            ],
            [
             0.2222222222222222,
             "#7201a8"
            ],
            [
             0.3333333333333333,
             "#9c179e"
            ],
            [
             0.4444444444444444,
             "#bd3786"
            ],
            [
             0.5555555555555556,
             "#d8576b"
            ],
            [
             0.6666666666666666,
             "#ed7953"
            ],
            [
             0.7777777777777778,
             "#fb9f3a"
            ],
            [
             0.8888888888888888,
             "#fdca26"
            ],
            [
             1,
             "#f0f921"
            ]
           ]
          },
          "colorway": [
           "#636efa",
           "#EF553B",
           "#00cc96",
           "#ab63fa",
           "#FFA15A",
           "#19d3f3",
           "#FF6692",
           "#B6E880",
           "#FF97FF",
           "#FECB52"
          ],
          "font": {
           "color": "#2a3f5f"
          },
          "geo": {
           "bgcolor": "white",
           "lakecolor": "white",
           "landcolor": "#E5ECF6",
           "showlakes": true,
           "showland": true,
           "subunitcolor": "white"
          },
          "hoverlabel": {
           "align": "left"
          },
          "hovermode": "closest",
          "mapbox": {
           "style": "light"
          },
          "paper_bgcolor": "white",
          "plot_bgcolor": "#E5ECF6",
          "polar": {
           "angularaxis": {
            "gridcolor": "white",
            "linecolor": "white",
            "ticks": ""
           },
           "bgcolor": "#E5ECF6",
           "radialaxis": {
            "gridcolor": "white",
            "linecolor": "white",
            "ticks": ""
           }
          },
          "scene": {
           "xaxis": {
            "backgroundcolor": "#E5ECF6",
            "gridcolor": "white",
            "gridwidth": 2,
            "linecolor": "white",
            "showbackground": true,
            "ticks": "",
            "zerolinecolor": "white"
           },
           "yaxis": {
            "backgroundcolor": "#E5ECF6",
            "gridcolor": "white",
            "gridwidth": 2,
            "linecolor": "white",
            "showbackground": true,
            "ticks": "",
            "zerolinecolor": "white"
           },
           "zaxis": {
            "backgroundcolor": "#E5ECF6",
            "gridcolor": "white",
            "gridwidth": 2,
            "linecolor": "white",
            "showbackground": true,
            "ticks": "",
            "zerolinecolor": "white"
           }
          },
          "shapedefaults": {
           "line": {
            "color": "#2a3f5f"
           }
          },
          "ternary": {
           "aaxis": {
            "gridcolor": "white",
            "linecolor": "white",
            "ticks": ""
           },
           "baxis": {
            "gridcolor": "white",
            "linecolor": "white",
            "ticks": ""
           },
           "bgcolor": "#E5ECF6",
           "caxis": {
            "gridcolor": "white",
            "linecolor": "white",
            "ticks": ""
           }
          },
          "title": {
           "x": 0.05
          },
          "xaxis": {
           "automargin": true,
           "gridcolor": "white",
           "linecolor": "white",
           "ticks": "",
           "title": {
            "standoff": 15
           },
           "zerolinecolor": "white",
           "zerolinewidth": 2
          },
          "yaxis": {
           "automargin": true,
           "gridcolor": "white",
           "linecolor": "white",
           "ticks": "",
           "title": {
            "standoff": 15
           },
           "zerolinecolor": "white",
           "zerolinewidth": 2
          }
         }
        },
        "xaxis": {
         "anchor": "y",
         "domain": [
          0,
          1
         ],
         "title": {
          "text": "Feature Names"
         }
        },
        "yaxis": {
         "anchor": "x",
         "domain": [
          0,
          1
         ],
         "title": {
          "text": "Coefficient Value"
         }
        }
       }
      }
     },
     "metadata": {},
     "output_type": "display_data"
    }
   ],
   "source": [
    "import plotly.express as px\n",
    "\n",
    "df = feature_stats_post_2010\n",
    "fig = px.bar(\n",
    "    df, \n",
    "    x='Feature', \n",
    "    y='Coefficient',\n",
    "    hover_data=['Std_Error', 't_value', 'p_value'], \n",
    "    color='Coefficient',\n",
    "    labels={'Feature': 'Feature Names', 'Coefficient': 'Coefficient Value'},  # Correctly map labels\n",
    "    height=400\n",
    ")\n",
    "fig.show()"
   ]
  },
  {
   "cell_type": "code",
   "execution_count": 350,
   "metadata": {},
   "outputs": [
    {
     "data": {
      "application/vnd.plotly.v1+json": {
       "config": {
        "plotlyServerURL": "https://plot.ly"
       },
       "data": [
        {
         "alignmentgroup": "True",
         "customdata": [
          [
           17.099916351464817,
           -6.245754340130959,
           5.875668464888118e-10
          ],
          [
           0.10472675876045512,
           -4.592394012313167,
           0.000004851630862320479
          ],
          [
           0.14305153959469796,
           2.7720989757745556,
           0.005657203866144924
          ],
          [
           0.11432474615999597,
           2.8306817217548383,
           0.004723701632825147
          ],
          [
           0.1266434518334239,
           2.1967130584200087,
           0.02823487320326894
          ],
          [
           0.06292894336860673,
           -3.77635585405177,
           0.00016706748658972198
          ],
          [
           0.037820167644926836,
           6.148716227769904,
           1.067250738289527e-9
          ],
          [
           0.09147463016163583,
           2.2594646440395523,
           0.024036298790156303
          ],
          [
           0.06218982508829337,
           3.018484310911959,
           0.0025949496154279725
          ],
          [
           0.08451757650892686,
           2.000792651460803,
           0.0456434800741852
          ],
          [
           0.03404555497187429,
           3.8903128265193474,
           0.00010570720469169538
          ],
          [
           0.03419403962662806,
           -2.171104353385784,
           0.03012207004426567
          ],
          [
           0.00853324648073217,
           6.231242892133981,
           6.427620449481018e-10
          ]
         ],
         "hovertemplate": "Feature Names=%{x}<br>Coefficient Value=%{marker.color}<br>Std_Error=%{customdata[0]}<br>t_value=%{customdata[1]}<br>p_value=%{customdata[2]}<extra></extra>",
         "legendgroup": "",
         "marker": {
          "color": [
           -106.80187676803773,
           -0.48094653986047964,
           0.3965530263934355,
           0.32361696929936223,
           0.2781993244058677,
           -0.23764208367933032,
           0.2325454785353399,
           0.2066836926768102,
           0.18771901132737245,
           0.16910214599833706,
           0.13244785919305208,
           -0.07423882829321818,
           0.05317273147988964
          ],
          "coloraxis": "coloraxis",
          "pattern": {
           "shape": ""
          }
         },
         "name": "",
         "offsetgroup": "",
         "orientation": "v",
         "showlegend": false,
         "textposition": "auto",
         "type": "bar",
         "x": [
          "const",
          "sports",
          "animation",
          "Month_Dec",
          "war film",
          "comedy",
          "Budget(USD)_Inflated",
          "mystery",
          "romance film",
          "fantasy",
          "Critics_Score",
          "Audience_Score",
          "Year"
         ],
         "xaxis": "x",
         "y": [
          -106.80187676803773,
          -0.48094653986047964,
          0.3965530263934355,
          0.32361696929936223,
          0.2781993244058677,
          -0.23764208367933032,
          0.2325454785353399,
          0.2066836926768102,
          0.18771901132737245,
          0.16910214599833706,
          0.13244785919305208,
          -0.07423882829321818,
          0.05317273147988964
         ],
         "yaxis": "y"
        }
       ],
       "layout": {
        "barmode": "relative",
        "coloraxis": {
         "colorbar": {
          "title": {
           "text": "Coefficient Value"
          }
         },
         "colorscale": [
          [
           0,
           "#0d0887"
          ],
          [
           0.1111111111111111,
           "#46039f"
          ],
          [
           0.2222222222222222,
           "#7201a8"
          ],
          [
           0.3333333333333333,
           "#9c179e"
          ],
          [
           0.4444444444444444,
           "#bd3786"
          ],
          [
           0.5555555555555556,
           "#d8576b"
          ],
          [
           0.6666666666666666,
           "#ed7953"
          ],
          [
           0.7777777777777778,
           "#fb9f3a"
          ],
          [
           0.8888888888888888,
           "#fdca26"
          ],
          [
           1,
           "#f0f921"
          ]
         ]
        },
        "height": 400,
        "legend": {
         "tracegroupgap": 0
        },
        "margin": {
         "t": 60
        },
        "template": {
         "data": {
          "bar": [
           {
            "error_x": {
             "color": "#2a3f5f"
            },
            "error_y": {
             "color": "#2a3f5f"
            },
            "marker": {
             "line": {
              "color": "#E5ECF6",
              "width": 0.5
             },
             "pattern": {
              "fillmode": "overlay",
              "size": 10,
              "solidity": 0.2
             }
            },
            "type": "bar"
           }
          ],
          "barpolar": [
           {
            "marker": {
             "line": {
              "color": "#E5ECF6",
              "width": 0.5
             },
             "pattern": {
              "fillmode": "overlay",
              "size": 10,
              "solidity": 0.2
             }
            },
            "type": "barpolar"
           }
          ],
          "carpet": [
           {
            "aaxis": {
             "endlinecolor": "#2a3f5f",
             "gridcolor": "white",
             "linecolor": "white",
             "minorgridcolor": "white",
             "startlinecolor": "#2a3f5f"
            },
            "baxis": {
             "endlinecolor": "#2a3f5f",
             "gridcolor": "white",
             "linecolor": "white",
             "minorgridcolor": "white",
             "startlinecolor": "#2a3f5f"
            },
            "type": "carpet"
           }
          ],
          "choropleth": [
           {
            "colorbar": {
             "outlinewidth": 0,
             "ticks": ""
            },
            "type": "choropleth"
           }
          ],
          "contour": [
           {
            "colorbar": {
             "outlinewidth": 0,
             "ticks": ""
            },
            "colorscale": [
             [
              0,
              "#0d0887"
             ],
             [
              0.1111111111111111,
              "#46039f"
             ],
             [
              0.2222222222222222,
              "#7201a8"
             ],
             [
              0.3333333333333333,
              "#9c179e"
             ],
             [
              0.4444444444444444,
              "#bd3786"
             ],
             [
              0.5555555555555556,
              "#d8576b"
             ],
             [
              0.6666666666666666,
              "#ed7953"
             ],
             [
              0.7777777777777778,
              "#fb9f3a"
             ],
             [
              0.8888888888888888,
              "#fdca26"
             ],
             [
              1,
              "#f0f921"
             ]
            ],
            "type": "contour"
           }
          ],
          "contourcarpet": [
           {
            "colorbar": {
             "outlinewidth": 0,
             "ticks": ""
            },
            "type": "contourcarpet"
           }
          ],
          "heatmap": [
           {
            "colorbar": {
             "outlinewidth": 0,
             "ticks": ""
            },
            "colorscale": [
             [
              0,
              "#0d0887"
             ],
             [
              0.1111111111111111,
              "#46039f"
             ],
             [
              0.2222222222222222,
              "#7201a8"
             ],
             [
              0.3333333333333333,
              "#9c179e"
             ],
             [
              0.4444444444444444,
              "#bd3786"
             ],
             [
              0.5555555555555556,
              "#d8576b"
             ],
             [
              0.6666666666666666,
              "#ed7953"
             ],
             [
              0.7777777777777778,
              "#fb9f3a"
             ],
             [
              0.8888888888888888,
              "#fdca26"
             ],
             [
              1,
              "#f0f921"
             ]
            ],
            "type": "heatmap"
           }
          ],
          "heatmapgl": [
           {
            "colorbar": {
             "outlinewidth": 0,
             "ticks": ""
            },
            "colorscale": [
             [
              0,
              "#0d0887"
             ],
             [
              0.1111111111111111,
              "#46039f"
             ],
             [
              0.2222222222222222,
              "#7201a8"
             ],
             [
              0.3333333333333333,
              "#9c179e"
             ],
             [
              0.4444444444444444,
              "#bd3786"
             ],
             [
              0.5555555555555556,
              "#d8576b"
             ],
             [
              0.6666666666666666,
              "#ed7953"
             ],
             [
              0.7777777777777778,
              "#fb9f3a"
             ],
             [
              0.8888888888888888,
              "#fdca26"
             ],
             [
              1,
              "#f0f921"
             ]
            ],
            "type": "heatmapgl"
           }
          ],
          "histogram": [
           {
            "marker": {
             "pattern": {
              "fillmode": "overlay",
              "size": 10,
              "solidity": 0.2
             }
            },
            "type": "histogram"
           }
          ],
          "histogram2d": [
           {
            "colorbar": {
             "outlinewidth": 0,
             "ticks": ""
            },
            "colorscale": [
             [
              0,
              "#0d0887"
             ],
             [
              0.1111111111111111,
              "#46039f"
             ],
             [
              0.2222222222222222,
              "#7201a8"
             ],
             [
              0.3333333333333333,
              "#9c179e"
             ],
             [
              0.4444444444444444,
              "#bd3786"
             ],
             [
              0.5555555555555556,
              "#d8576b"
             ],
             [
              0.6666666666666666,
              "#ed7953"
             ],
             [
              0.7777777777777778,
              "#fb9f3a"
             ],
             [
              0.8888888888888888,
              "#fdca26"
             ],
             [
              1,
              "#f0f921"
             ]
            ],
            "type": "histogram2d"
           }
          ],
          "histogram2dcontour": [
           {
            "colorbar": {
             "outlinewidth": 0,
             "ticks": ""
            },
            "colorscale": [
             [
              0,
              "#0d0887"
             ],
             [
              0.1111111111111111,
              "#46039f"
             ],
             [
              0.2222222222222222,
              "#7201a8"
             ],
             [
              0.3333333333333333,
              "#9c179e"
             ],
             [
              0.4444444444444444,
              "#bd3786"
             ],
             [
              0.5555555555555556,
              "#d8576b"
             ],
             [
              0.6666666666666666,
              "#ed7953"
             ],
             [
              0.7777777777777778,
              "#fb9f3a"
             ],
             [
              0.8888888888888888,
              "#fdca26"
             ],
             [
              1,
              "#f0f921"
             ]
            ],
            "type": "histogram2dcontour"
           }
          ],
          "mesh3d": [
           {
            "colorbar": {
             "outlinewidth": 0,
             "ticks": ""
            },
            "type": "mesh3d"
           }
          ],
          "parcoords": [
           {
            "line": {
             "colorbar": {
              "outlinewidth": 0,
              "ticks": ""
             }
            },
            "type": "parcoords"
           }
          ],
          "pie": [
           {
            "automargin": true,
            "type": "pie"
           }
          ],
          "scatter": [
           {
            "fillpattern": {
             "fillmode": "overlay",
             "size": 10,
             "solidity": 0.2
            },
            "type": "scatter"
           }
          ],
          "scatter3d": [
           {
            "line": {
             "colorbar": {
              "outlinewidth": 0,
              "ticks": ""
             }
            },
            "marker": {
             "colorbar": {
              "outlinewidth": 0,
              "ticks": ""
             }
            },
            "type": "scatter3d"
           }
          ],
          "scattercarpet": [
           {
            "marker": {
             "colorbar": {
              "outlinewidth": 0,
              "ticks": ""
             }
            },
            "type": "scattercarpet"
           }
          ],
          "scattergeo": [
           {
            "marker": {
             "colorbar": {
              "outlinewidth": 0,
              "ticks": ""
             }
            },
            "type": "scattergeo"
           }
          ],
          "scattergl": [
           {
            "marker": {
             "colorbar": {
              "outlinewidth": 0,
              "ticks": ""
             }
            },
            "type": "scattergl"
           }
          ],
          "scattermapbox": [
           {
            "marker": {
             "colorbar": {
              "outlinewidth": 0,
              "ticks": ""
             }
            },
            "type": "scattermapbox"
           }
          ],
          "scatterpolar": [
           {
            "marker": {
             "colorbar": {
              "outlinewidth": 0,
              "ticks": ""
             }
            },
            "type": "scatterpolar"
           }
          ],
          "scatterpolargl": [
           {
            "marker": {
             "colorbar": {
              "outlinewidth": 0,
              "ticks": ""
             }
            },
            "type": "scatterpolargl"
           }
          ],
          "scatterternary": [
           {
            "marker": {
             "colorbar": {
              "outlinewidth": 0,
              "ticks": ""
             }
            },
            "type": "scatterternary"
           }
          ],
          "surface": [
           {
            "colorbar": {
             "outlinewidth": 0,
             "ticks": ""
            },
            "colorscale": [
             [
              0,
              "#0d0887"
             ],
             [
              0.1111111111111111,
              "#46039f"
             ],
             [
              0.2222222222222222,
              "#7201a8"
             ],
             [
              0.3333333333333333,
              "#9c179e"
             ],
             [
              0.4444444444444444,
              "#bd3786"
             ],
             [
              0.5555555555555556,
              "#d8576b"
             ],
             [
              0.6666666666666666,
              "#ed7953"
             ],
             [
              0.7777777777777778,
              "#fb9f3a"
             ],
             [
              0.8888888888888888,
              "#fdca26"
             ],
             [
              1,
              "#f0f921"
             ]
            ],
            "type": "surface"
           }
          ],
          "table": [
           {
            "cells": {
             "fill": {
              "color": "#EBF0F8"
             },
             "line": {
              "color": "white"
             }
            },
            "header": {
             "fill": {
              "color": "#C8D4E3"
             },
             "line": {
              "color": "white"
             }
            },
            "type": "table"
           }
          ]
         },
         "layout": {
          "annotationdefaults": {
           "arrowcolor": "#2a3f5f",
           "arrowhead": 0,
           "arrowwidth": 1
          },
          "autotypenumbers": "strict",
          "coloraxis": {
           "colorbar": {
            "outlinewidth": 0,
            "ticks": ""
           }
          },
          "colorscale": {
           "diverging": [
            [
             0,
             "#8e0152"
            ],
            [
             0.1,
             "#c51b7d"
            ],
            [
             0.2,
             "#de77ae"
            ],
            [
             0.3,
             "#f1b6da"
            ],
            [
             0.4,
             "#fde0ef"
            ],
            [
             0.5,
             "#f7f7f7"
            ],
            [
             0.6,
             "#e6f5d0"
            ],
            [
             0.7,
             "#b8e186"
            ],
            [
             0.8,
             "#7fbc41"
            ],
            [
             0.9,
             "#4d9221"
            ],
            [
             1,
             "#276419"
            ]
           ],
           "sequential": [
            [
             0,
             "#0d0887"
            ],
            [
             0.1111111111111111,
             "#46039f"
            ],
            [
             0.2222222222222222,
             "#7201a8"
            ],
            [
             0.3333333333333333,
             "#9c179e"
            ],
            [
             0.4444444444444444,
             "#bd3786"
            ],
            [
             0.5555555555555556,
             "#d8576b"
            ],
            [
             0.6666666666666666,
             "#ed7953"
            ],
            [
             0.7777777777777778,
             "#fb9f3a"
            ],
            [
             0.8888888888888888,
             "#fdca26"
            ],
            [
             1,
             "#f0f921"
            ]
           ],
           "sequentialminus": [
            [
             0,
             "#0d0887"
            ],
            [
             0.1111111111111111,
             "#46039f"
            ],
            [
             0.2222222222222222,
             "#7201a8"
            ],
            [
             0.3333333333333333,
             "#9c179e"
            ],
            [
             0.4444444444444444,
             "#bd3786"
            ],
            [
             0.5555555555555556,
             "#d8576b"
            ],
            [
             0.6666666666666666,
             "#ed7953"
            ],
            [
             0.7777777777777778,
             "#fb9f3a"
            ],
            [
             0.8888888888888888,
             "#fdca26"
            ],
            [
             1,
             "#f0f921"
            ]
           ]
          },
          "colorway": [
           "#636efa",
           "#EF553B",
           "#00cc96",
           "#ab63fa",
           "#FFA15A",
           "#19d3f3",
           "#FF6692",
           "#B6E880",
           "#FF97FF",
           "#FECB52"
          ],
          "font": {
           "color": "#2a3f5f"
          },
          "geo": {
           "bgcolor": "white",
           "lakecolor": "white",
           "landcolor": "#E5ECF6",
           "showlakes": true,
           "showland": true,
           "subunitcolor": "white"
          },
          "hoverlabel": {
           "align": "left"
          },
          "hovermode": "closest",
          "mapbox": {
           "style": "light"
          },
          "paper_bgcolor": "white",
          "plot_bgcolor": "#E5ECF6",
          "polar": {
           "angularaxis": {
            "gridcolor": "white",
            "linecolor": "white",
            "ticks": ""
           },
           "bgcolor": "#E5ECF6",
           "radialaxis": {
            "gridcolor": "white",
            "linecolor": "white",
            "ticks": ""
           }
          },
          "scene": {
           "xaxis": {
            "backgroundcolor": "#E5ECF6",
            "gridcolor": "white",
            "gridwidth": 2,
            "linecolor": "white",
            "showbackground": true,
            "ticks": "",
            "zerolinecolor": "white"
           },
           "yaxis": {
            "backgroundcolor": "#E5ECF6",
            "gridcolor": "white",
            "gridwidth": 2,
            "linecolor": "white",
            "showbackground": true,
            "ticks": "",
            "zerolinecolor": "white"
           },
           "zaxis": {
            "backgroundcolor": "#E5ECF6",
            "gridcolor": "white",
            "gridwidth": 2,
            "linecolor": "white",
            "showbackground": true,
            "ticks": "",
            "zerolinecolor": "white"
           }
          },
          "shapedefaults": {
           "line": {
            "color": "#2a3f5f"
           }
          },
          "ternary": {
           "aaxis": {
            "gridcolor": "white",
            "linecolor": "white",
            "ticks": ""
           },
           "baxis": {
            "gridcolor": "white",
            "linecolor": "white",
            "ticks": ""
           },
           "bgcolor": "#E5ECF6",
           "caxis": {
            "gridcolor": "white",
            "linecolor": "white",
            "ticks": ""
           }
          },
          "title": {
           "x": 0.05
          },
          "xaxis": {
           "automargin": true,
           "gridcolor": "white",
           "linecolor": "white",
           "ticks": "",
           "title": {
            "standoff": 15
           },
           "zerolinecolor": "white",
           "zerolinewidth": 2
          },
          "yaxis": {
           "automargin": true,
           "gridcolor": "white",
           "linecolor": "white",
           "ticks": "",
           "title": {
            "standoff": 15
           },
           "zerolinecolor": "white",
           "zerolinewidth": 2
          }
         }
        },
        "xaxis": {
         "anchor": "y",
         "domain": [
          0,
          1
         ],
         "title": {
          "text": "Feature Names"
         }
        },
        "yaxis": {
         "anchor": "x",
         "domain": [
          0,
          1
         ],
         "title": {
          "text": "Coefficient Value"
         }
        }
       }
      }
     },
     "metadata": {},
     "output_type": "display_data"
    }
   ],
   "source": [
    "import plotly.express as px\n",
    "\n",
    "# Your dataset\n",
    "df = feature_stats_pre_2010\n",
    "\n",
    "# Sorting features by absolute coefficient value for better visualization (optional)\n",
    "df_sorted = df.sort_values(by=\"Coefficient\", key=abs, ascending=False)\n",
    "\n",
    "# Creating the bar plot\n",
    "fig = px.bar(\n",
    "    df_sorted, \n",
    "    x='Feature', \n",
    "    y='Coefficient', \n",
    "    hover_data=['Std_Error', 't_value', 'p_value'], \n",
    "    color='Coefficient',\n",
    "    labels={'Feature': 'Feature Names', 'Coefficient': 'Coefficient Value'},  # Map column names for display\n",
    "    height=400\n",
    ")\n",
    "\n",
    "# Display the plot\n",
    "fig.show()"
   ]
  },
  {
   "cell_type": "code",
   "execution_count": null,
   "metadata": {},
   "outputs": [],
   "source": []
  }
 ],
 "metadata": {
  "kernelspec": {
   "display_name": "ada",
   "language": "python",
   "name": "python3"
  },
  "language_info": {
   "codemirror_mode": {
    "name": "ipython",
    "version": 3
   },
   "file_extension": ".py",
   "mimetype": "text/x-python",
   "name": "python",
   "nbconvert_exporter": "python",
   "pygments_lexer": "ipython3",
   "version": "3.11.9"
  }
 },
 "nbformat": 4,
 "nbformat_minor": 2
}
