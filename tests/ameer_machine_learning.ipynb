{
 "cells": [
  {
   "cell_type": "code",
   "execution_count": 405,
   "metadata": {},
   "outputs": [],
   "source": [
    "import pandas as pd\n",
    "import numpy as np\n",
    "import matplotlib.pyplot as plt\n",
    "import statsmodels.api as sm\n",
    "import random\n",
    "from sklearn.preprocessing import StandardScaler\n",
    "import plotly.express as px\n"
   ]
  },
  {
   "cell_type": "code",
   "execution_count": 406,
   "metadata": {},
   "outputs": [
    {
     "data": {
      "text/html": [
       "<div>\n",
       "<style scoped>\n",
       "    .dataframe tbody tr th:only-of-type {\n",
       "        vertical-align: middle;\n",
       "    }\n",
       "\n",
       "    .dataframe tbody tr th {\n",
       "        vertical-align: top;\n",
       "    }\n",
       "\n",
       "    .dataframe thead th {\n",
       "        text-align: right;\n",
       "    }\n",
       "</style>\n",
       "<table border=\"1\" class=\"dataframe\">\n",
       "  <thead>\n",
       "    <tr style=\"text-align: right;\">\n",
       "      <th></th>\n",
       "      <th>Name</th>\n",
       "      <th>Budget(USD)_Inflated</th>\n",
       "      <th>Domestic(USD)_Inflated</th>\n",
       "      <th>Domestic_Percentage</th>\n",
       "      <th>Foreign(USD)_Inflated</th>\n",
       "      <th>Foreign_Percentage</th>\n",
       "      <th>Worldwide(USD)_Inflated</th>\n",
       "      <th>Runtime(mins)</th>\n",
       "      <th>Rating</th>\n",
       "      <th>Audience_Score</th>\n",
       "      <th>...</th>\n",
       "      <th>period piece</th>\n",
       "      <th>animation</th>\n",
       "      <th>teen</th>\n",
       "      <th>film adaptation</th>\n",
       "      <th>musical</th>\n",
       "      <th>history</th>\n",
       "      <th>coming of age</th>\n",
       "      <th>sports</th>\n",
       "      <th>war film</th>\n",
       "      <th>Worldwide_profit</th>\n",
       "    </tr>\n",
       "  </thead>\n",
       "  <tbody>\n",
       "    <tr>\n",
       "      <th>0</th>\n",
       "      <td>10 cloverfield lane</td>\n",
       "      <td>6.076746e+06</td>\n",
       "      <td>8.760602e+07</td>\n",
       "      <td>0.654010</td>\n",
       "      <td>4.634613e+07</td>\n",
       "      <td>0.345990</td>\n",
       "      <td>1.339521e+08</td>\n",
       "      <td>103</td>\n",
       "      <td>pg-13</td>\n",
       "      <td>0.79</td>\n",
       "      <td>...</td>\n",
       "      <td>0</td>\n",
       "      <td>0</td>\n",
       "      <td>0</td>\n",
       "      <td>0</td>\n",
       "      <td>0</td>\n",
       "      <td>0</td>\n",
       "      <td>0</td>\n",
       "      <td>0</td>\n",
       "      <td>0</td>\n",
       "      <td>22.043400</td>\n",
       "    </tr>\n",
       "    <tr>\n",
       "      <th>1</th>\n",
       "      <td>10,000 bc</td>\n",
       "      <td>1.441563e+08</td>\n",
       "      <td>1.301309e+08</td>\n",
       "      <td>0.351333</td>\n",
       "      <td>2.402606e+08</td>\n",
       "      <td>0.648667</td>\n",
       "      <td>3.703914e+08</td>\n",
       "      <td>109</td>\n",
       "      <td>pg-13</td>\n",
       "      <td>0.37</td>\n",
       "      <td>...</td>\n",
       "      <td>0</td>\n",
       "      <td>0</td>\n",
       "      <td>0</td>\n",
       "      <td>0</td>\n",
       "      <td>0</td>\n",
       "      <td>0</td>\n",
       "      <td>0</td>\n",
       "      <td>0</td>\n",
       "      <td>0</td>\n",
       "      <td>2.569373</td>\n",
       "    </tr>\n",
       "    <tr>\n",
       "      <th>2</th>\n",
       "      <td>12 rounds</td>\n",
       "      <td>2.726275e+07</td>\n",
       "      <td>1.667757e+07</td>\n",
       "      <td>0.708013</td>\n",
       "      <td>6.877890e+06</td>\n",
       "      <td>0.291987</td>\n",
       "      <td>2.355546e+07</td>\n",
       "      <td>108</td>\n",
       "      <td>pg-13</td>\n",
       "      <td>0.45</td>\n",
       "      <td>...</td>\n",
       "      <td>0</td>\n",
       "      <td>0</td>\n",
       "      <td>0</td>\n",
       "      <td>0</td>\n",
       "      <td>0</td>\n",
       "      <td>0</td>\n",
       "      <td>0</td>\n",
       "      <td>0</td>\n",
       "      <td>0</td>\n",
       "      <td>0.864016</td>\n",
       "    </tr>\n",
       "    <tr>\n",
       "      <th>3</th>\n",
       "      <td>12 strong</td>\n",
       "      <td>3.979050e+07</td>\n",
       "      <td>5.209113e+07</td>\n",
       "      <td>0.644274</td>\n",
       "      <td>2.876133e+07</td>\n",
       "      <td>0.355726</td>\n",
       "      <td>8.085246e+07</td>\n",
       "      <td>130</td>\n",
       "      <td>r</td>\n",
       "      <td>0.62</td>\n",
       "      <td>...</td>\n",
       "      <td>0</td>\n",
       "      <td>0</td>\n",
       "      <td>0</td>\n",
       "      <td>0</td>\n",
       "      <td>0</td>\n",
       "      <td>1</td>\n",
       "      <td>0</td>\n",
       "      <td>0</td>\n",
       "      <td>0</td>\n",
       "      <td>2.031954</td>\n",
       "    </tr>\n",
       "    <tr>\n",
       "      <th>4</th>\n",
       "      <td>12 years a slave</td>\n",
       "      <td>2.539260e+07</td>\n",
       "      <td>7.195247e+07</td>\n",
       "      <td>0.301875</td>\n",
       "      <td>1.663993e+08</td>\n",
       "      <td>0.698125</td>\n",
       "      <td>2.383517e+08</td>\n",
       "      <td>134</td>\n",
       "      <td>r</td>\n",
       "      <td>0.90</td>\n",
       "      <td>...</td>\n",
       "      <td>0</td>\n",
       "      <td>0</td>\n",
       "      <td>0</td>\n",
       "      <td>0</td>\n",
       "      <td>0</td>\n",
       "      <td>1</td>\n",
       "      <td>0</td>\n",
       "      <td>0</td>\n",
       "      <td>0</td>\n",
       "      <td>9.386660</td>\n",
       "    </tr>\n",
       "    <tr>\n",
       "      <th>...</th>\n",
       "      <td>...</td>\n",
       "      <td>...</td>\n",
       "      <td>...</td>\n",
       "      <td>...</td>\n",
       "      <td>...</td>\n",
       "      <td>...</td>\n",
       "      <td>...</td>\n",
       "      <td>...</td>\n",
       "      <td>...</td>\n",
       "      <td>...</td>\n",
       "      <td>...</td>\n",
       "      <td>...</td>\n",
       "      <td>...</td>\n",
       "      <td>...</td>\n",
       "      <td>...</td>\n",
       "      <td>...</td>\n",
       "      <td>...</td>\n",
       "      <td>...</td>\n",
       "      <td>...</td>\n",
       "      <td>...</td>\n",
       "      <td>...</td>\n",
       "    </tr>\n",
       "    <tr>\n",
       "      <th>2684</th>\n",
       "      <td>zoolander</td>\n",
       "      <td>4.851315e+07</td>\n",
       "      <td>7.826600e+07</td>\n",
       "      <td>0.743197</td>\n",
       "      <td>2.704388e+07</td>\n",
       "      <td>0.256803</td>\n",
       "      <td>1.053099e+08</td>\n",
       "      <td>90</td>\n",
       "      <td>pg-13</td>\n",
       "      <td>0.80</td>\n",
       "      <td>...</td>\n",
       "      <td>0</td>\n",
       "      <td>0</td>\n",
       "      <td>0</td>\n",
       "      <td>0</td>\n",
       "      <td>0</td>\n",
       "      <td>0</td>\n",
       "      <td>0</td>\n",
       "      <td>0</td>\n",
       "      <td>0</td>\n",
       "      <td>2.170749</td>\n",
       "    </tr>\n",
       "    <tr>\n",
       "      <th>2685</th>\n",
       "      <td>zoolander 2</td>\n",
       "      <td>6.076746e+07</td>\n",
       "      <td>3.506124e+07</td>\n",
       "      <td>0.508592</td>\n",
       "      <td>3.387664e+07</td>\n",
       "      <td>0.491408</td>\n",
       "      <td>6.893788e+07</td>\n",
       "      <td>101</td>\n",
       "      <td>pg-13</td>\n",
       "      <td>0.20</td>\n",
       "      <td>...</td>\n",
       "      <td>0</td>\n",
       "      <td>0</td>\n",
       "      <td>0</td>\n",
       "      <td>0</td>\n",
       "      <td>0</td>\n",
       "      <td>0</td>\n",
       "      <td>0</td>\n",
       "      <td>0</td>\n",
       "      <td>0</td>\n",
       "      <td>1.134454</td>\n",
       "    </tr>\n",
       "    <tr>\n",
       "      <th>2686</th>\n",
       "      <td>zoom</td>\n",
       "      <td>5.014200e+07</td>\n",
       "      <td>1.717625e+07</td>\n",
       "      <td>0.958658</td>\n",
       "      <td>7.407176e+05</td>\n",
       "      <td>0.041342</td>\n",
       "      <td>1.791697e+07</td>\n",
       "      <td>93</td>\n",
       "      <td>pg</td>\n",
       "      <td>0.34</td>\n",
       "      <td>...</td>\n",
       "      <td>0</td>\n",
       "      <td>0</td>\n",
       "      <td>0</td>\n",
       "      <td>0</td>\n",
       "      <td>0</td>\n",
       "      <td>0</td>\n",
       "      <td>0</td>\n",
       "      <td>0</td>\n",
       "      <td>0</td>\n",
       "      <td>0.357325</td>\n",
       "    </tr>\n",
       "    <tr>\n",
       "      <th>2687</th>\n",
       "      <td>zootopia</td>\n",
       "      <td>1.823024e+08</td>\n",
       "      <td>4.147601e+08</td>\n",
       "      <td>0.333340</td>\n",
       "      <td>8.294952e+08</td>\n",
       "      <td>0.666660</td>\n",
       "      <td>1.244255e+09</td>\n",
       "      <td>108</td>\n",
       "      <td>pg</td>\n",
       "      <td>0.92</td>\n",
       "      <td>...</td>\n",
       "      <td>0</td>\n",
       "      <td>1</td>\n",
       "      <td>0</td>\n",
       "      <td>0</td>\n",
       "      <td>0</td>\n",
       "      <td>0</td>\n",
       "      <td>0</td>\n",
       "      <td>0</td>\n",
       "      <td>0</td>\n",
       "      <td>6.825228</td>\n",
       "    </tr>\n",
       "    <tr>\n",
       "      <th>2688</th>\n",
       "      <td>aeon flux</td>\n",
       "      <td>9.055065e+07</td>\n",
       "      <td>3.778932e+07</td>\n",
       "      <td>0.485250</td>\n",
       "      <td>4.008668e+07</td>\n",
       "      <td>0.514750</td>\n",
       "      <td>7.787601e+07</td>\n",
       "      <td>93</td>\n",
       "      <td>pg-13</td>\n",
       "      <td>0.39</td>\n",
       "      <td>...</td>\n",
       "      <td>0</td>\n",
       "      <td>0</td>\n",
       "      <td>0</td>\n",
       "      <td>0</td>\n",
       "      <td>0</td>\n",
       "      <td>0</td>\n",
       "      <td>0</td>\n",
       "      <td>0</td>\n",
       "      <td>0</td>\n",
       "      <td>0.860027</td>\n",
       "    </tr>\n",
       "  </tbody>\n",
       "</table>\n",
       "<p>2689 rows × 42 columns</p>\n",
       "</div>"
      ],
      "text/plain": [
       "                     Name  Budget(USD)_Inflated  Domestic(USD)_Inflated  \\\n",
       "0     10 cloverfield lane          6.076746e+06            8.760602e+07   \n",
       "1               10,000 bc          1.441563e+08            1.301309e+08   \n",
       "2               12 rounds          2.726275e+07            1.667757e+07   \n",
       "3               12 strong          3.979050e+07            5.209113e+07   \n",
       "4        12 years a slave          2.539260e+07            7.195247e+07   \n",
       "...                   ...                   ...                     ...   \n",
       "2684            zoolander          4.851315e+07            7.826600e+07   \n",
       "2685          zoolander 2          6.076746e+07            3.506124e+07   \n",
       "2686                 zoom          5.014200e+07            1.717625e+07   \n",
       "2687             zootopia          1.823024e+08            4.147601e+08   \n",
       "2688            aeon flux          9.055065e+07            3.778932e+07   \n",
       "\n",
       "      Domestic_Percentage  Foreign(USD)_Inflated  Foreign_Percentage  \\\n",
       "0                0.654010           4.634613e+07            0.345990   \n",
       "1                0.351333           2.402606e+08            0.648667   \n",
       "2                0.708013           6.877890e+06            0.291987   \n",
       "3                0.644274           2.876133e+07            0.355726   \n",
       "4                0.301875           1.663993e+08            0.698125   \n",
       "...                   ...                    ...                 ...   \n",
       "2684             0.743197           2.704388e+07            0.256803   \n",
       "2685             0.508592           3.387664e+07            0.491408   \n",
       "2686             0.958658           7.407176e+05            0.041342   \n",
       "2687             0.333340           8.294952e+08            0.666660   \n",
       "2688             0.485250           4.008668e+07            0.514750   \n",
       "\n",
       "      Worldwide(USD)_Inflated  Runtime(mins) Rating  Audience_Score  ...  \\\n",
       "0                1.339521e+08            103  pg-13            0.79  ...   \n",
       "1                3.703914e+08            109  pg-13            0.37  ...   \n",
       "2                2.355546e+07            108  pg-13            0.45  ...   \n",
       "3                8.085246e+07            130      r            0.62  ...   \n",
       "4                2.383517e+08            134      r            0.90  ...   \n",
       "...                       ...            ...    ...             ...  ...   \n",
       "2684             1.053099e+08             90  pg-13            0.80  ...   \n",
       "2685             6.893788e+07            101  pg-13            0.20  ...   \n",
       "2686             1.791697e+07             93     pg            0.34  ...   \n",
       "2687             1.244255e+09            108     pg            0.92  ...   \n",
       "2688             7.787601e+07             93  pg-13            0.39  ...   \n",
       "\n",
       "      period piece animation teen  film adaptation  musical  history  \\\n",
       "0                0         0    0                0        0        0   \n",
       "1                0         0    0                0        0        0   \n",
       "2                0         0    0                0        0        0   \n",
       "3                0         0    0                0        0        1   \n",
       "4                0         0    0                0        0        1   \n",
       "...            ...       ...  ...              ...      ...      ...   \n",
       "2684             0         0    0                0        0        0   \n",
       "2685             0         0    0                0        0        0   \n",
       "2686             0         0    0                0        0        0   \n",
       "2687             0         1    0                0        0        0   \n",
       "2688             0         0    0                0        0        0   \n",
       "\n",
       "     coming of age  sports  war film  Worldwide_profit  \n",
       "0                0       0         0         22.043400  \n",
       "1                0       0         0          2.569373  \n",
       "2                0       0         0          0.864016  \n",
       "3                0       0         0          2.031954  \n",
       "4                0       0         0          9.386660  \n",
       "...            ...     ...       ...               ...  \n",
       "2684             0       0         0          2.170749  \n",
       "2685             0       0         0          1.134454  \n",
       "2686             0       0         0          0.357325  \n",
       "2687             0       0         0          6.825228  \n",
       "2688             0       0         0          0.860027  \n",
       "\n",
       "[2689 rows x 42 columns]"
      ]
     },
     "execution_count": 406,
     "metadata": {},
     "output_type": "execute_result"
    }
   ],
   "source": [
    "final_df = pd.read_csv('../data/final_V2.csv')\n",
    "final_df "
   ]
  },
  {
   "cell_type": "code",
   "execution_count": 407,
   "metadata": {},
   "outputs": [
    {
     "data": {
      "text/plain": [
       "Index(['Name', 'Budget(USD)_Inflated', 'Domestic(USD)_Inflated',\n",
       "       'Domestic_Percentage', 'Foreign(USD)_Inflated', 'Foreign_Percentage',\n",
       "       'Worldwide(USD)_Inflated', 'Runtime(mins)', 'Rating', 'Audience_Score',\n",
       "       'Critics_Score', 'plot_summary', 'Month', 'Day', 'Year',\n",
       "       'Foreign_higher', 'emotion', 'emotion_score', 'drama', 'comedy',\n",
       "       'thriller', 'action', 'adventure', 'romance film', 'horror', 'fantasy',\n",
       "       'mystery', 'crime', 'indie', 'biography', 'family', 'sci-fi',\n",
       "       'period piece', 'animation', 'teen', 'film adaptation', 'musical',\n",
       "       'history', 'coming of age', 'sports', 'war film', 'Worldwide_profit'],\n",
       "      dtype='object')"
      ]
     },
     "execution_count": 407,
     "metadata": {},
     "output_type": "execute_result"
    }
   ],
   "source": [
    "final_df.columns"
   ]
  },
  {
   "cell_type": "markdown",
   "metadata": {},
   "source": [
    "## Pre-processing for OLS "
   ]
  },
  {
   "cell_type": "code",
   "execution_count": 408,
   "metadata": {},
   "outputs": [],
   "source": [
    "# Dropping columns deemed irrelevant for the model\n",
    "df_ols = final_df.drop(columns=[ \"Day\",\"Name\", \"plot_summary\", \"Worldwide(USD)_Inflated\", \"Domestic(USD)_Inflated\", \"Foreign(USD)_Inflated\", \"Worldwide(USD)_Inflated\", \"Foreign_higher\"])"
   ]
  },
  {
   "cell_type": "code",
   "execution_count": 409,
   "metadata": {},
   "outputs": [
    {
     "data": {
      "text/html": [
       "<div>\n",
       "<style scoped>\n",
       "    .dataframe tbody tr th:only-of-type {\n",
       "        vertical-align: middle;\n",
       "    }\n",
       "\n",
       "    .dataframe tbody tr th {\n",
       "        vertical-align: top;\n",
       "    }\n",
       "\n",
       "    .dataframe thead th {\n",
       "        text-align: right;\n",
       "    }\n",
       "</style>\n",
       "<table border=\"1\" class=\"dataframe\">\n",
       "  <thead>\n",
       "    <tr style=\"text-align: right;\">\n",
       "      <th></th>\n",
       "      <th>Budget(USD)_Inflated</th>\n",
       "      <th>Domestic_Percentage</th>\n",
       "      <th>Foreign_Percentage</th>\n",
       "      <th>Runtime(mins)</th>\n",
       "      <th>Rating</th>\n",
       "      <th>Audience_Score</th>\n",
       "      <th>Critics_Score</th>\n",
       "      <th>Month</th>\n",
       "      <th>Year</th>\n",
       "      <th>emotion</th>\n",
       "      <th>...</th>\n",
       "      <th>period piece</th>\n",
       "      <th>animation</th>\n",
       "      <th>teen</th>\n",
       "      <th>film adaptation</th>\n",
       "      <th>musical</th>\n",
       "      <th>history</th>\n",
       "      <th>coming of age</th>\n",
       "      <th>sports</th>\n",
       "      <th>war film</th>\n",
       "      <th>Worldwide_profit</th>\n",
       "    </tr>\n",
       "  </thead>\n",
       "  <tbody>\n",
       "    <tr>\n",
       "      <th>0</th>\n",
       "      <td>6.076746e+06</td>\n",
       "      <td>0.654010</td>\n",
       "      <td>0.345990</td>\n",
       "      <td>103</td>\n",
       "      <td>pg-13</td>\n",
       "      <td>0.79</td>\n",
       "      <td>0.91</td>\n",
       "      <td>Mar</td>\n",
       "      <td>2016</td>\n",
       "      <td>fear</td>\n",
       "      <td>...</td>\n",
       "      <td>0</td>\n",
       "      <td>0</td>\n",
       "      <td>0</td>\n",
       "      <td>0</td>\n",
       "      <td>0</td>\n",
       "      <td>0</td>\n",
       "      <td>0</td>\n",
       "      <td>0</td>\n",
       "      <td>0</td>\n",
       "      <td>22.043400</td>\n",
       "    </tr>\n",
       "    <tr>\n",
       "      <th>1</th>\n",
       "      <td>1.441563e+08</td>\n",
       "      <td>0.351333</td>\n",
       "      <td>0.648667</td>\n",
       "      <td>109</td>\n",
       "      <td>pg-13</td>\n",
       "      <td>0.37</td>\n",
       "      <td>0.10</td>\n",
       "      <td>Mar</td>\n",
       "      <td>2008</td>\n",
       "      <td>fear</td>\n",
       "      <td>...</td>\n",
       "      <td>0</td>\n",
       "      <td>0</td>\n",
       "      <td>0</td>\n",
       "      <td>0</td>\n",
       "      <td>0</td>\n",
       "      <td>0</td>\n",
       "      <td>0</td>\n",
       "      <td>0</td>\n",
       "      <td>0</td>\n",
       "      <td>2.569373</td>\n",
       "    </tr>\n",
       "    <tr>\n",
       "      <th>2</th>\n",
       "      <td>2.726275e+07</td>\n",
       "      <td>0.708013</td>\n",
       "      <td>0.291987</td>\n",
       "      <td>108</td>\n",
       "      <td>pg-13</td>\n",
       "      <td>0.45</td>\n",
       "      <td>0.31</td>\n",
       "      <td>Mar</td>\n",
       "      <td>2009</td>\n",
       "      <td>anger</td>\n",
       "      <td>...</td>\n",
       "      <td>0</td>\n",
       "      <td>0</td>\n",
       "      <td>0</td>\n",
       "      <td>0</td>\n",
       "      <td>0</td>\n",
       "      <td>0</td>\n",
       "      <td>0</td>\n",
       "      <td>0</td>\n",
       "      <td>0</td>\n",
       "      <td>0.864016</td>\n",
       "    </tr>\n",
       "    <tr>\n",
       "      <th>3</th>\n",
       "      <td>3.979050e+07</td>\n",
       "      <td>0.644274</td>\n",
       "      <td>0.355726</td>\n",
       "      <td>130</td>\n",
       "      <td>r</td>\n",
       "      <td>0.62</td>\n",
       "      <td>0.50</td>\n",
       "      <td>Jan</td>\n",
       "      <td>2018</td>\n",
       "      <td>fear</td>\n",
       "      <td>...</td>\n",
       "      <td>0</td>\n",
       "      <td>0</td>\n",
       "      <td>0</td>\n",
       "      <td>0</td>\n",
       "      <td>0</td>\n",
       "      <td>1</td>\n",
       "      <td>0</td>\n",
       "      <td>0</td>\n",
       "      <td>0</td>\n",
       "      <td>2.031954</td>\n",
       "    </tr>\n",
       "    <tr>\n",
       "      <th>4</th>\n",
       "      <td>2.539260e+07</td>\n",
       "      <td>0.301875</td>\n",
       "      <td>0.698125</td>\n",
       "      <td>134</td>\n",
       "      <td>r</td>\n",
       "      <td>0.90</td>\n",
       "      <td>0.95</td>\n",
       "      <td>Oct</td>\n",
       "      <td>2013</td>\n",
       "      <td>sadness</td>\n",
       "      <td>...</td>\n",
       "      <td>0</td>\n",
       "      <td>0</td>\n",
       "      <td>0</td>\n",
       "      <td>0</td>\n",
       "      <td>0</td>\n",
       "      <td>1</td>\n",
       "      <td>0</td>\n",
       "      <td>0</td>\n",
       "      <td>0</td>\n",
       "      <td>9.386660</td>\n",
       "    </tr>\n",
       "    <tr>\n",
       "      <th>...</th>\n",
       "      <td>...</td>\n",
       "      <td>...</td>\n",
       "      <td>...</td>\n",
       "      <td>...</td>\n",
       "      <td>...</td>\n",
       "      <td>...</td>\n",
       "      <td>...</td>\n",
       "      <td>...</td>\n",
       "      <td>...</td>\n",
       "      <td>...</td>\n",
       "      <td>...</td>\n",
       "      <td>...</td>\n",
       "      <td>...</td>\n",
       "      <td>...</td>\n",
       "      <td>...</td>\n",
       "      <td>...</td>\n",
       "      <td>...</td>\n",
       "      <td>...</td>\n",
       "      <td>...</td>\n",
       "      <td>...</td>\n",
       "      <td>...</td>\n",
       "    </tr>\n",
       "    <tr>\n",
       "      <th>2684</th>\n",
       "      <td>4.851315e+07</td>\n",
       "      <td>0.743197</td>\n",
       "      <td>0.256803</td>\n",
       "      <td>90</td>\n",
       "      <td>pg-13</td>\n",
       "      <td>0.80</td>\n",
       "      <td>0.64</td>\n",
       "      <td>Sep</td>\n",
       "      <td>2001</td>\n",
       "      <td>anger</td>\n",
       "      <td>...</td>\n",
       "      <td>0</td>\n",
       "      <td>0</td>\n",
       "      <td>0</td>\n",
       "      <td>0</td>\n",
       "      <td>0</td>\n",
       "      <td>0</td>\n",
       "      <td>0</td>\n",
       "      <td>0</td>\n",
       "      <td>0</td>\n",
       "      <td>2.170749</td>\n",
       "    </tr>\n",
       "    <tr>\n",
       "      <th>2685</th>\n",
       "      <td>6.076746e+07</td>\n",
       "      <td>0.508592</td>\n",
       "      <td>0.491408</td>\n",
       "      <td>101</td>\n",
       "      <td>pg-13</td>\n",
       "      <td>0.20</td>\n",
       "      <td>0.22</td>\n",
       "      <td>Feb</td>\n",
       "      <td>2016</td>\n",
       "      <td>surprise</td>\n",
       "      <td>...</td>\n",
       "      <td>0</td>\n",
       "      <td>0</td>\n",
       "      <td>0</td>\n",
       "      <td>0</td>\n",
       "      <td>0</td>\n",
       "      <td>0</td>\n",
       "      <td>0</td>\n",
       "      <td>0</td>\n",
       "      <td>0</td>\n",
       "      <td>1.134454</td>\n",
       "    </tr>\n",
       "    <tr>\n",
       "      <th>2686</th>\n",
       "      <td>5.014200e+07</td>\n",
       "      <td>0.958658</td>\n",
       "      <td>0.041342</td>\n",
       "      <td>93</td>\n",
       "      <td>pg</td>\n",
       "      <td>0.34</td>\n",
       "      <td>0.05</td>\n",
       "      <td>Aug</td>\n",
       "      <td>2006</td>\n",
       "      <td>neutral</td>\n",
       "      <td>...</td>\n",
       "      <td>0</td>\n",
       "      <td>0</td>\n",
       "      <td>0</td>\n",
       "      <td>0</td>\n",
       "      <td>0</td>\n",
       "      <td>0</td>\n",
       "      <td>0</td>\n",
       "      <td>0</td>\n",
       "      <td>0</td>\n",
       "      <td>0.357325</td>\n",
       "    </tr>\n",
       "    <tr>\n",
       "      <th>2687</th>\n",
       "      <td>1.823024e+08</td>\n",
       "      <td>0.333340</td>\n",
       "      <td>0.666660</td>\n",
       "      <td>108</td>\n",
       "      <td>pg</td>\n",
       "      <td>0.92</td>\n",
       "      <td>0.98</td>\n",
       "      <td>Mar</td>\n",
       "      <td>2016</td>\n",
       "      <td>neutral</td>\n",
       "      <td>...</td>\n",
       "      <td>0</td>\n",
       "      <td>1</td>\n",
       "      <td>0</td>\n",
       "      <td>0</td>\n",
       "      <td>0</td>\n",
       "      <td>0</td>\n",
       "      <td>0</td>\n",
       "      <td>0</td>\n",
       "      <td>0</td>\n",
       "      <td>6.825228</td>\n",
       "    </tr>\n",
       "    <tr>\n",
       "      <th>2688</th>\n",
       "      <td>9.055065e+07</td>\n",
       "      <td>0.485250</td>\n",
       "      <td>0.514750</td>\n",
       "      <td>93</td>\n",
       "      <td>pg-13</td>\n",
       "      <td>0.39</td>\n",
       "      <td>0.10</td>\n",
       "      <td>Dec</td>\n",
       "      <td>2005</td>\n",
       "      <td>neutral</td>\n",
       "      <td>...</td>\n",
       "      <td>0</td>\n",
       "      <td>0</td>\n",
       "      <td>0</td>\n",
       "      <td>0</td>\n",
       "      <td>0</td>\n",
       "      <td>0</td>\n",
       "      <td>0</td>\n",
       "      <td>0</td>\n",
       "      <td>0</td>\n",
       "      <td>0.860027</td>\n",
       "    </tr>\n",
       "  </tbody>\n",
       "</table>\n",
       "<p>2689 rows × 35 columns</p>\n",
       "</div>"
      ],
      "text/plain": [
       "      Budget(USD)_Inflated  Domestic_Percentage  Foreign_Percentage  \\\n",
       "0             6.076746e+06             0.654010            0.345990   \n",
       "1             1.441563e+08             0.351333            0.648667   \n",
       "2             2.726275e+07             0.708013            0.291987   \n",
       "3             3.979050e+07             0.644274            0.355726   \n",
       "4             2.539260e+07             0.301875            0.698125   \n",
       "...                    ...                  ...                 ...   \n",
       "2684          4.851315e+07             0.743197            0.256803   \n",
       "2685          6.076746e+07             0.508592            0.491408   \n",
       "2686          5.014200e+07             0.958658            0.041342   \n",
       "2687          1.823024e+08             0.333340            0.666660   \n",
       "2688          9.055065e+07             0.485250            0.514750   \n",
       "\n",
       "      Runtime(mins) Rating  Audience_Score  Critics_Score Month  Year  \\\n",
       "0               103  pg-13            0.79           0.91   Mar  2016   \n",
       "1               109  pg-13            0.37           0.10   Mar  2008   \n",
       "2               108  pg-13            0.45           0.31   Mar  2009   \n",
       "3               130      r            0.62           0.50   Jan  2018   \n",
       "4               134      r            0.90           0.95   Oct  2013   \n",
       "...             ...    ...             ...            ...   ...   ...   \n",
       "2684             90  pg-13            0.80           0.64   Sep  2001   \n",
       "2685            101  pg-13            0.20           0.22   Feb  2016   \n",
       "2686             93     pg            0.34           0.05   Aug  2006   \n",
       "2687            108     pg            0.92           0.98   Mar  2016   \n",
       "2688             93  pg-13            0.39           0.10   Dec  2005   \n",
       "\n",
       "       emotion  ...  period piece  animation  teen  film adaptation  musical  \\\n",
       "0         fear  ...             0          0     0                0        0   \n",
       "1         fear  ...             0          0     0                0        0   \n",
       "2        anger  ...             0          0     0                0        0   \n",
       "3         fear  ...             0          0     0                0        0   \n",
       "4      sadness  ...             0          0     0                0        0   \n",
       "...        ...  ...           ...        ...   ...              ...      ...   \n",
       "2684     anger  ...             0          0     0                0        0   \n",
       "2685  surprise  ...             0          0     0                0        0   \n",
       "2686   neutral  ...             0          0     0                0        0   \n",
       "2687   neutral  ...             0          1     0                0        0   \n",
       "2688   neutral  ...             0          0     0                0        0   \n",
       "\n",
       "      history  coming of age  sports  war film  Worldwide_profit  \n",
       "0           0              0       0         0         22.043400  \n",
       "1           0              0       0         0          2.569373  \n",
       "2           0              0       0         0          0.864016  \n",
       "3           1              0       0         0          2.031954  \n",
       "4           1              0       0         0          9.386660  \n",
       "...       ...            ...     ...       ...               ...  \n",
       "2684        0              0       0         0          2.170749  \n",
       "2685        0              0       0         0          1.134454  \n",
       "2686        0              0       0         0          0.357325  \n",
       "2687        0              0       0         0          6.825228  \n",
       "2688        0              0       0         0          0.860027  \n",
       "\n",
       "[2689 rows x 35 columns]"
      ]
     },
     "execution_count": 409,
     "metadata": {},
     "output_type": "execute_result"
    }
   ],
   "source": [
    "df_ols"
   ]
  },
  {
   "cell_type": "code",
   "execution_count": 410,
   "metadata": {},
   "outputs": [
    {
     "data": {
      "text/html": [
       "<div>\n",
       "<style scoped>\n",
       "    .dataframe tbody tr th:only-of-type {\n",
       "        vertical-align: middle;\n",
       "    }\n",
       "\n",
       "    .dataframe tbody tr th {\n",
       "        vertical-align: top;\n",
       "    }\n",
       "\n",
       "    .dataframe thead th {\n",
       "        text-align: right;\n",
       "    }\n",
       "</style>\n",
       "<table border=\"1\" class=\"dataframe\">\n",
       "  <thead>\n",
       "    <tr style=\"text-align: right;\">\n",
       "      <th></th>\n",
       "      <th>Budget(USD)_Inflated</th>\n",
       "      <th>Domestic_Percentage</th>\n",
       "      <th>Foreign_Percentage</th>\n",
       "      <th>Runtime(mins)</th>\n",
       "      <th>Rating</th>\n",
       "      <th>Audience_Score</th>\n",
       "      <th>Critics_Score</th>\n",
       "      <th>Month</th>\n",
       "      <th>Year</th>\n",
       "      <th>emotion</th>\n",
       "      <th>...</th>\n",
       "      <th>period piece</th>\n",
       "      <th>animation</th>\n",
       "      <th>teen</th>\n",
       "      <th>film adaptation</th>\n",
       "      <th>musical</th>\n",
       "      <th>history</th>\n",
       "      <th>coming of age</th>\n",
       "      <th>sports</th>\n",
       "      <th>war film</th>\n",
       "      <th>Worldwide_profit</th>\n",
       "    </tr>\n",
       "  </thead>\n",
       "  <tbody>\n",
       "    <tr>\n",
       "      <th>0</th>\n",
       "      <td>-0.820351</td>\n",
       "      <td>0.391747</td>\n",
       "      <td>-0.391747</td>\n",
       "      <td>-0.291947</td>\n",
       "      <td>pg-13</td>\n",
       "      <td>1.012762</td>\n",
       "      <td>1.412014</td>\n",
       "      <td>Mar</td>\n",
       "      <td>2016</td>\n",
       "      <td>fear</td>\n",
       "      <td>...</td>\n",
       "      <td>0</td>\n",
       "      <td>0</td>\n",
       "      <td>0</td>\n",
       "      <td>0</td>\n",
       "      <td>0</td>\n",
       "      <td>0</td>\n",
       "      <td>0</td>\n",
       "      <td>0</td>\n",
       "      <td>0</td>\n",
       "      <td>22.043400</td>\n",
       "    </tr>\n",
       "    <tr>\n",
       "      <th>1</th>\n",
       "      <td>1.305928</td>\n",
       "      <td>-0.877514</td>\n",
       "      <td>0.877514</td>\n",
       "      <td>0.052120</td>\n",
       "      <td>pg-13</td>\n",
       "      <td>-1.230673</td>\n",
       "      <td>-1.539543</td>\n",
       "      <td>Mar</td>\n",
       "      <td>2008</td>\n",
       "      <td>fear</td>\n",
       "      <td>...</td>\n",
       "      <td>0</td>\n",
       "      <td>0</td>\n",
       "      <td>0</td>\n",
       "      <td>0</td>\n",
       "      <td>0</td>\n",
       "      <td>0</td>\n",
       "      <td>0</td>\n",
       "      <td>0</td>\n",
       "      <td>0</td>\n",
       "      <td>2.569373</td>\n",
       "    </tr>\n",
       "    <tr>\n",
       "      <th>2</th>\n",
       "      <td>-0.494109</td>\n",
       "      <td>0.618207</td>\n",
       "      <td>-0.618207</td>\n",
       "      <td>-0.005225</td>\n",
       "      <td>pg-13</td>\n",
       "      <td>-0.803352</td>\n",
       "      <td>-0.774325</td>\n",
       "      <td>Mar</td>\n",
       "      <td>2009</td>\n",
       "      <td>anger</td>\n",
       "      <td>...</td>\n",
       "      <td>0</td>\n",
       "      <td>0</td>\n",
       "      <td>0</td>\n",
       "      <td>0</td>\n",
       "      <td>0</td>\n",
       "      <td>0</td>\n",
       "      <td>0</td>\n",
       "      <td>0</td>\n",
       "      <td>0</td>\n",
       "      <td>0.864016</td>\n",
       "    </tr>\n",
       "    <tr>\n",
       "      <th>3</th>\n",
       "      <td>-0.301195</td>\n",
       "      <td>0.350920</td>\n",
       "      <td>-0.350920</td>\n",
       "      <td>1.256351</td>\n",
       "      <td>r</td>\n",
       "      <td>0.104705</td>\n",
       "      <td>-0.081984</td>\n",
       "      <td>Jan</td>\n",
       "      <td>2018</td>\n",
       "      <td>fear</td>\n",
       "      <td>...</td>\n",
       "      <td>0</td>\n",
       "      <td>0</td>\n",
       "      <td>0</td>\n",
       "      <td>0</td>\n",
       "      <td>0</td>\n",
       "      <td>1</td>\n",
       "      <td>0</td>\n",
       "      <td>0</td>\n",
       "      <td>0</td>\n",
       "      <td>2.031954</td>\n",
       "    </tr>\n",
       "    <tr>\n",
       "      <th>4</th>\n",
       "      <td>-0.522908</td>\n",
       "      <td>-1.084916</td>\n",
       "      <td>1.084916</td>\n",
       "      <td>1.485729</td>\n",
       "      <td>r</td>\n",
       "      <td>1.600328</td>\n",
       "      <td>1.557770</td>\n",
       "      <td>Oct</td>\n",
       "      <td>2013</td>\n",
       "      <td>sadness</td>\n",
       "      <td>...</td>\n",
       "      <td>0</td>\n",
       "      <td>0</td>\n",
       "      <td>0</td>\n",
       "      <td>0</td>\n",
       "      <td>0</td>\n",
       "      <td>1</td>\n",
       "      <td>0</td>\n",
       "      <td>0</td>\n",
       "      <td>0</td>\n",
       "      <td>9.386660</td>\n",
       "    </tr>\n",
       "    <tr>\n",
       "      <th>...</th>\n",
       "      <td>...</td>\n",
       "      <td>...</td>\n",
       "      <td>...</td>\n",
       "      <td>...</td>\n",
       "      <td>...</td>\n",
       "      <td>...</td>\n",
       "      <td>...</td>\n",
       "      <td>...</td>\n",
       "      <td>...</td>\n",
       "      <td>...</td>\n",
       "      <td>...</td>\n",
       "      <td>...</td>\n",
       "      <td>...</td>\n",
       "      <td>...</td>\n",
       "      <td>...</td>\n",
       "      <td>...</td>\n",
       "      <td>...</td>\n",
       "      <td>...</td>\n",
       "      <td>...</td>\n",
       "      <td>...</td>\n",
       "      <td>...</td>\n",
       "    </tr>\n",
       "    <tr>\n",
       "      <th>2684</th>\n",
       "      <td>-0.166876</td>\n",
       "      <td>0.765751</td>\n",
       "      <td>-0.765751</td>\n",
       "      <td>-1.037423</td>\n",
       "      <td>pg-13</td>\n",
       "      <td>1.066177</td>\n",
       "      <td>0.428161</td>\n",
       "      <td>Sep</td>\n",
       "      <td>2001</td>\n",
       "      <td>anger</td>\n",
       "      <td>...</td>\n",
       "      <td>0</td>\n",
       "      <td>0</td>\n",
       "      <td>0</td>\n",
       "      <td>0</td>\n",
       "      <td>0</td>\n",
       "      <td>0</td>\n",
       "      <td>0</td>\n",
       "      <td>0</td>\n",
       "      <td>0</td>\n",
       "      <td>2.170749</td>\n",
       "    </tr>\n",
       "    <tr>\n",
       "      <th>2685</th>\n",
       "      <td>0.021828</td>\n",
       "      <td>-0.218058</td>\n",
       "      <td>0.218058</td>\n",
       "      <td>-0.406635</td>\n",
       "      <td>pg-13</td>\n",
       "      <td>-2.138730</td>\n",
       "      <td>-1.102276</td>\n",
       "      <td>Feb</td>\n",
       "      <td>2016</td>\n",
       "      <td>surprise</td>\n",
       "      <td>...</td>\n",
       "      <td>0</td>\n",
       "      <td>0</td>\n",
       "      <td>0</td>\n",
       "      <td>0</td>\n",
       "      <td>0</td>\n",
       "      <td>0</td>\n",
       "      <td>0</td>\n",
       "      <td>0</td>\n",
       "      <td>0</td>\n",
       "      <td>1.134454</td>\n",
       "    </tr>\n",
       "    <tr>\n",
       "      <th>2686</th>\n",
       "      <td>-0.141793</td>\n",
       "      <td>1.669279</td>\n",
       "      <td>-1.669279</td>\n",
       "      <td>-0.865390</td>\n",
       "      <td>pg</td>\n",
       "      <td>-1.390919</td>\n",
       "      <td>-1.721738</td>\n",
       "      <td>Aug</td>\n",
       "      <td>2006</td>\n",
       "      <td>neutral</td>\n",
       "      <td>...</td>\n",
       "      <td>0</td>\n",
       "      <td>0</td>\n",
       "      <td>0</td>\n",
       "      <td>0</td>\n",
       "      <td>0</td>\n",
       "      <td>0</td>\n",
       "      <td>0</td>\n",
       "      <td>0</td>\n",
       "      <td>0</td>\n",
       "      <td>0.357325</td>\n",
       "    </tr>\n",
       "    <tr>\n",
       "      <th>2687</th>\n",
       "      <td>1.893336</td>\n",
       "      <td>-0.952969</td>\n",
       "      <td>0.952969</td>\n",
       "      <td>-0.005225</td>\n",
       "      <td>pg</td>\n",
       "      <td>1.707158</td>\n",
       "      <td>1.667086</td>\n",
       "      <td>Mar</td>\n",
       "      <td>2016</td>\n",
       "      <td>neutral</td>\n",
       "      <td>...</td>\n",
       "      <td>0</td>\n",
       "      <td>1</td>\n",
       "      <td>0</td>\n",
       "      <td>0</td>\n",
       "      <td>0</td>\n",
       "      <td>0</td>\n",
       "      <td>0</td>\n",
       "      <td>0</td>\n",
       "      <td>0</td>\n",
       "      <td>6.825228</td>\n",
       "    </tr>\n",
       "    <tr>\n",
       "      <th>2688</th>\n",
       "      <td>0.480457</td>\n",
       "      <td>-0.315941</td>\n",
       "      <td>0.315941</td>\n",
       "      <td>-0.865390</td>\n",
       "      <td>pg-13</td>\n",
       "      <td>-1.123843</td>\n",
       "      <td>-1.539543</td>\n",
       "      <td>Dec</td>\n",
       "      <td>2005</td>\n",
       "      <td>neutral</td>\n",
       "      <td>...</td>\n",
       "      <td>0</td>\n",
       "      <td>0</td>\n",
       "      <td>0</td>\n",
       "      <td>0</td>\n",
       "      <td>0</td>\n",
       "      <td>0</td>\n",
       "      <td>0</td>\n",
       "      <td>0</td>\n",
       "      <td>0</td>\n",
       "      <td>0.860027</td>\n",
       "    </tr>\n",
       "  </tbody>\n",
       "</table>\n",
       "<p>2689 rows × 35 columns</p>\n",
       "</div>"
      ],
      "text/plain": [
       "      Budget(USD)_Inflated  Domestic_Percentage  Foreign_Percentage  \\\n",
       "0                -0.820351             0.391747           -0.391747   \n",
       "1                 1.305928            -0.877514            0.877514   \n",
       "2                -0.494109             0.618207           -0.618207   \n",
       "3                -0.301195             0.350920           -0.350920   \n",
       "4                -0.522908            -1.084916            1.084916   \n",
       "...                    ...                  ...                 ...   \n",
       "2684             -0.166876             0.765751           -0.765751   \n",
       "2685              0.021828            -0.218058            0.218058   \n",
       "2686             -0.141793             1.669279           -1.669279   \n",
       "2687              1.893336            -0.952969            0.952969   \n",
       "2688              0.480457            -0.315941            0.315941   \n",
       "\n",
       "      Runtime(mins) Rating  Audience_Score  Critics_Score Month  Year  \\\n",
       "0         -0.291947  pg-13        1.012762       1.412014   Mar  2016   \n",
       "1          0.052120  pg-13       -1.230673      -1.539543   Mar  2008   \n",
       "2         -0.005225  pg-13       -0.803352      -0.774325   Mar  2009   \n",
       "3          1.256351      r        0.104705      -0.081984   Jan  2018   \n",
       "4          1.485729      r        1.600328       1.557770   Oct  2013   \n",
       "...             ...    ...             ...            ...   ...   ...   \n",
       "2684      -1.037423  pg-13        1.066177       0.428161   Sep  2001   \n",
       "2685      -0.406635  pg-13       -2.138730      -1.102276   Feb  2016   \n",
       "2686      -0.865390     pg       -1.390919      -1.721738   Aug  2006   \n",
       "2687      -0.005225     pg        1.707158       1.667086   Mar  2016   \n",
       "2688      -0.865390  pg-13       -1.123843      -1.539543   Dec  2005   \n",
       "\n",
       "       emotion  ...  period piece  animation  teen  film adaptation  musical  \\\n",
       "0         fear  ...             0          0     0                0        0   \n",
       "1         fear  ...             0          0     0                0        0   \n",
       "2        anger  ...             0          0     0                0        0   \n",
       "3         fear  ...             0          0     0                0        0   \n",
       "4      sadness  ...             0          0     0                0        0   \n",
       "...        ...  ...           ...        ...   ...              ...      ...   \n",
       "2684     anger  ...             0          0     0                0        0   \n",
       "2685  surprise  ...             0          0     0                0        0   \n",
       "2686   neutral  ...             0          0     0                0        0   \n",
       "2687   neutral  ...             0          1     0                0        0   \n",
       "2688   neutral  ...             0          0     0                0        0   \n",
       "\n",
       "      history  coming of age  sports  war film  Worldwide_profit  \n",
       "0           0              0       0         0         22.043400  \n",
       "1           0              0       0         0          2.569373  \n",
       "2           0              0       0         0          0.864016  \n",
       "3           1              0       0         0          2.031954  \n",
       "4           1              0       0         0          9.386660  \n",
       "...       ...            ...     ...       ...               ...  \n",
       "2684        0              0       0         0          2.170749  \n",
       "2685        0              0       0         0          1.134454  \n",
       "2686        0              0       0         0          0.357325  \n",
       "2687        0              0       0         0          6.825228  \n",
       "2688        0              0       0         0          0.860027  \n",
       "\n",
       "[2689 rows x 35 columns]"
      ]
     },
     "execution_count": 410,
     "metadata": {},
     "output_type": "execute_result"
    }
   ],
   "source": [
    "# Standardizing \n",
    "\n",
    "columns_to_scale = ['Budget(USD)_Inflated', 'Domestic_Percentage', 'Foreign_Percentage', 'Runtime(mins)', 'Audience_Score', 'Critics_Score', 'emotion_score']\n",
    "scaler = StandardScaler()\n",
    "scaled_data = scaler.fit_transform(df_ols[columns_to_scale])\n",
    "df_ols[columns_to_scale] = scaled_data\n",
    "\n",
    "df_ols"
   ]
  },
  {
   "cell_type": "code",
   "execution_count": 411,
   "metadata": {},
   "outputs": [],
   "source": [
    "# one-hot encoding rating column, dropping the first column in order to avoid introducing multicollinearity\n",
    "df_ols = pd.get_dummies(df_ols, columns=['Rating'], drop_first=True)\n",
    "df_ols = df_ols.drop(columns=\"Rating_nc-17\") # Only 5 nc-17 movies, not considered for analysis\n",
    "# one-hot encoding month column, dropping first column for same reason\n",
    "df_ols = pd.get_dummies(df_ols, columns=['Month'], drop_first=True)\n",
    "# same thing for the emotion column\n",
    "df_ols = pd.get_dummies(df_ols, columns=['emotion'], drop_first=True)\n"
   ]
  },
  {
   "cell_type": "code",
   "execution_count": 412,
   "metadata": {},
   "outputs": [
    {
     "data": {
      "text/html": [
       "<div>\n",
       "<style scoped>\n",
       "    .dataframe tbody tr th:only-of-type {\n",
       "        vertical-align: middle;\n",
       "    }\n",
       "\n",
       "    .dataframe tbody tr th {\n",
       "        vertical-align: top;\n",
       "    }\n",
       "\n",
       "    .dataframe thead th {\n",
       "        text-align: right;\n",
       "    }\n",
       "</style>\n",
       "<table border=\"1\" class=\"dataframe\">\n",
       "  <thead>\n",
       "    <tr style=\"text-align: right;\">\n",
       "      <th></th>\n",
       "      <th>Budget(USD)_Inflated</th>\n",
       "      <th>Domestic_Percentage</th>\n",
       "      <th>Foreign_Percentage</th>\n",
       "      <th>Runtime(mins)</th>\n",
       "      <th>Audience_Score</th>\n",
       "      <th>Critics_Score</th>\n",
       "      <th>Year</th>\n",
       "      <th>emotion_score</th>\n",
       "      <th>drama</th>\n",
       "      <th>comedy</th>\n",
       "      <th>...</th>\n",
       "      <th>Month_May</th>\n",
       "      <th>Month_Nov</th>\n",
       "      <th>Month_Oct</th>\n",
       "      <th>Month_Sep</th>\n",
       "      <th>emotion_disgust</th>\n",
       "      <th>emotion_fear</th>\n",
       "      <th>emotion_joy</th>\n",
       "      <th>emotion_neutral</th>\n",
       "      <th>emotion_sadness</th>\n",
       "      <th>emotion_surprise</th>\n",
       "    </tr>\n",
       "  </thead>\n",
       "  <tbody>\n",
       "    <tr>\n",
       "      <th>0</th>\n",
       "      <td>-0.820351</td>\n",
       "      <td>0.391747</td>\n",
       "      <td>-0.391747</td>\n",
       "      <td>-0.291947</td>\n",
       "      <td>1.012762</td>\n",
       "      <td>1.412014</td>\n",
       "      <td>2016</td>\n",
       "      <td>0.050657</td>\n",
       "      <td>1</td>\n",
       "      <td>0</td>\n",
       "      <td>...</td>\n",
       "      <td>False</td>\n",
       "      <td>False</td>\n",
       "      <td>False</td>\n",
       "      <td>False</td>\n",
       "      <td>False</td>\n",
       "      <td>True</td>\n",
       "      <td>False</td>\n",
       "      <td>False</td>\n",
       "      <td>False</td>\n",
       "      <td>False</td>\n",
       "    </tr>\n",
       "    <tr>\n",
       "      <th>1</th>\n",
       "      <td>1.305928</td>\n",
       "      <td>-0.877514</td>\n",
       "      <td>0.877514</td>\n",
       "      <td>0.052120</td>\n",
       "      <td>-1.230673</td>\n",
       "      <td>-1.539543</td>\n",
       "      <td>2008</td>\n",
       "      <td>0.504088</td>\n",
       "      <td>1</td>\n",
       "      <td>0</td>\n",
       "      <td>...</td>\n",
       "      <td>False</td>\n",
       "      <td>False</td>\n",
       "      <td>False</td>\n",
       "      <td>False</td>\n",
       "      <td>False</td>\n",
       "      <td>True</td>\n",
       "      <td>False</td>\n",
       "      <td>False</td>\n",
       "      <td>False</td>\n",
       "      <td>False</td>\n",
       "    </tr>\n",
       "    <tr>\n",
       "      <th>2</th>\n",
       "      <td>-0.494109</td>\n",
       "      <td>0.618207</td>\n",
       "      <td>-0.618207</td>\n",
       "      <td>-0.005225</td>\n",
       "      <td>-0.803352</td>\n",
       "      <td>-0.774325</td>\n",
       "      <td>2009</td>\n",
       "      <td>0.056938</td>\n",
       "      <td>0</td>\n",
       "      <td>0</td>\n",
       "      <td>...</td>\n",
       "      <td>False</td>\n",
       "      <td>False</td>\n",
       "      <td>False</td>\n",
       "      <td>False</td>\n",
       "      <td>False</td>\n",
       "      <td>False</td>\n",
       "      <td>False</td>\n",
       "      <td>False</td>\n",
       "      <td>False</td>\n",
       "      <td>False</td>\n",
       "    </tr>\n",
       "    <tr>\n",
       "      <th>3</th>\n",
       "      <td>-0.301195</td>\n",
       "      <td>0.350920</td>\n",
       "      <td>-0.350920</td>\n",
       "      <td>1.256351</td>\n",
       "      <td>0.104705</td>\n",
       "      <td>-0.081984</td>\n",
       "      <td>2018</td>\n",
       "      <td>1.226752</td>\n",
       "      <td>1</td>\n",
       "      <td>0</td>\n",
       "      <td>...</td>\n",
       "      <td>False</td>\n",
       "      <td>False</td>\n",
       "      <td>False</td>\n",
       "      <td>False</td>\n",
       "      <td>False</td>\n",
       "      <td>True</td>\n",
       "      <td>False</td>\n",
       "      <td>False</td>\n",
       "      <td>False</td>\n",
       "      <td>False</td>\n",
       "    </tr>\n",
       "    <tr>\n",
       "      <th>4</th>\n",
       "      <td>-0.522908</td>\n",
       "      <td>-1.084916</td>\n",
       "      <td>1.084916</td>\n",
       "      <td>1.485729</td>\n",
       "      <td>1.600328</td>\n",
       "      <td>1.557770</td>\n",
       "      <td>2013</td>\n",
       "      <td>0.964755</td>\n",
       "      <td>1</td>\n",
       "      <td>0</td>\n",
       "      <td>...</td>\n",
       "      <td>False</td>\n",
       "      <td>False</td>\n",
       "      <td>True</td>\n",
       "      <td>False</td>\n",
       "      <td>False</td>\n",
       "      <td>False</td>\n",
       "      <td>False</td>\n",
       "      <td>False</td>\n",
       "      <td>True</td>\n",
       "      <td>False</td>\n",
       "    </tr>\n",
       "    <tr>\n",
       "      <th>...</th>\n",
       "      <td>...</td>\n",
       "      <td>...</td>\n",
       "      <td>...</td>\n",
       "      <td>...</td>\n",
       "      <td>...</td>\n",
       "      <td>...</td>\n",
       "      <td>...</td>\n",
       "      <td>...</td>\n",
       "      <td>...</td>\n",
       "      <td>...</td>\n",
       "      <td>...</td>\n",
       "      <td>...</td>\n",
       "      <td>...</td>\n",
       "      <td>...</td>\n",
       "      <td>...</td>\n",
       "      <td>...</td>\n",
       "      <td>...</td>\n",
       "      <td>...</td>\n",
       "      <td>...</td>\n",
       "      <td>...</td>\n",
       "      <td>...</td>\n",
       "    </tr>\n",
       "    <tr>\n",
       "      <th>2684</th>\n",
       "      <td>-0.166876</td>\n",
       "      <td>0.765751</td>\n",
       "      <td>-0.765751</td>\n",
       "      <td>-1.037423</td>\n",
       "      <td>1.066177</td>\n",
       "      <td>0.428161</td>\n",
       "      <td>2001</td>\n",
       "      <td>-0.726523</td>\n",
       "      <td>0</td>\n",
       "      <td>1</td>\n",
       "      <td>...</td>\n",
       "      <td>False</td>\n",
       "      <td>False</td>\n",
       "      <td>False</td>\n",
       "      <td>True</td>\n",
       "      <td>False</td>\n",
       "      <td>False</td>\n",
       "      <td>False</td>\n",
       "      <td>False</td>\n",
       "      <td>False</td>\n",
       "      <td>False</td>\n",
       "    </tr>\n",
       "    <tr>\n",
       "      <th>2685</th>\n",
       "      <td>0.021828</td>\n",
       "      <td>-0.218058</td>\n",
       "      <td>0.218058</td>\n",
       "      <td>-0.406635</td>\n",
       "      <td>-2.138730</td>\n",
       "      <td>-1.102276</td>\n",
       "      <td>2016</td>\n",
       "      <td>1.495326</td>\n",
       "      <td>0</td>\n",
       "      <td>1</td>\n",
       "      <td>...</td>\n",
       "      <td>False</td>\n",
       "      <td>False</td>\n",
       "      <td>False</td>\n",
       "      <td>False</td>\n",
       "      <td>False</td>\n",
       "      <td>False</td>\n",
       "      <td>False</td>\n",
       "      <td>False</td>\n",
       "      <td>False</td>\n",
       "      <td>True</td>\n",
       "    </tr>\n",
       "    <tr>\n",
       "      <th>2686</th>\n",
       "      <td>-0.141793</td>\n",
       "      <td>1.669279</td>\n",
       "      <td>-1.669279</td>\n",
       "      <td>-0.865390</td>\n",
       "      <td>-1.390919</td>\n",
       "      <td>-1.721738</td>\n",
       "      <td>2006</td>\n",
       "      <td>0.055972</td>\n",
       "      <td>0</td>\n",
       "      <td>0</td>\n",
       "      <td>...</td>\n",
       "      <td>False</td>\n",
       "      <td>False</td>\n",
       "      <td>False</td>\n",
       "      <td>False</td>\n",
       "      <td>False</td>\n",
       "      <td>False</td>\n",
       "      <td>False</td>\n",
       "      <td>True</td>\n",
       "      <td>False</td>\n",
       "      <td>False</td>\n",
       "    </tr>\n",
       "    <tr>\n",
       "      <th>2687</th>\n",
       "      <td>1.893336</td>\n",
       "      <td>-0.952969</td>\n",
       "      <td>0.952969</td>\n",
       "      <td>-0.005225</td>\n",
       "      <td>1.707158</td>\n",
       "      <td>1.667086</td>\n",
       "      <td>2016</td>\n",
       "      <td>0.256964</td>\n",
       "      <td>0</td>\n",
       "      <td>1</td>\n",
       "      <td>...</td>\n",
       "      <td>False</td>\n",
       "      <td>False</td>\n",
       "      <td>False</td>\n",
       "      <td>False</td>\n",
       "      <td>False</td>\n",
       "      <td>False</td>\n",
       "      <td>False</td>\n",
       "      <td>True</td>\n",
       "      <td>False</td>\n",
       "      <td>False</td>\n",
       "    </tr>\n",
       "    <tr>\n",
       "      <th>2688</th>\n",
       "      <td>0.480457</td>\n",
       "      <td>-0.315941</td>\n",
       "      <td>0.315941</td>\n",
       "      <td>-0.865390</td>\n",
       "      <td>-1.123843</td>\n",
       "      <td>-1.539543</td>\n",
       "      <td>2005</td>\n",
       "      <td>-1.040607</td>\n",
       "      <td>0</td>\n",
       "      <td>0</td>\n",
       "      <td>...</td>\n",
       "      <td>False</td>\n",
       "      <td>False</td>\n",
       "      <td>False</td>\n",
       "      <td>False</td>\n",
       "      <td>False</td>\n",
       "      <td>False</td>\n",
       "      <td>False</td>\n",
       "      <td>True</td>\n",
       "      <td>False</td>\n",
       "      <td>False</td>\n",
       "    </tr>\n",
       "  </tbody>\n",
       "</table>\n",
       "<p>2689 rows × 52 columns</p>\n",
       "</div>"
      ],
      "text/plain": [
       "      Budget(USD)_Inflated  Domestic_Percentage  Foreign_Percentage  \\\n",
       "0                -0.820351             0.391747           -0.391747   \n",
       "1                 1.305928            -0.877514            0.877514   \n",
       "2                -0.494109             0.618207           -0.618207   \n",
       "3                -0.301195             0.350920           -0.350920   \n",
       "4                -0.522908            -1.084916            1.084916   \n",
       "...                    ...                  ...                 ...   \n",
       "2684             -0.166876             0.765751           -0.765751   \n",
       "2685              0.021828            -0.218058            0.218058   \n",
       "2686             -0.141793             1.669279           -1.669279   \n",
       "2687              1.893336            -0.952969            0.952969   \n",
       "2688              0.480457            -0.315941            0.315941   \n",
       "\n",
       "      Runtime(mins)  Audience_Score  Critics_Score  Year  emotion_score  \\\n",
       "0         -0.291947        1.012762       1.412014  2016       0.050657   \n",
       "1          0.052120       -1.230673      -1.539543  2008       0.504088   \n",
       "2         -0.005225       -0.803352      -0.774325  2009       0.056938   \n",
       "3          1.256351        0.104705      -0.081984  2018       1.226752   \n",
       "4          1.485729        1.600328       1.557770  2013       0.964755   \n",
       "...             ...             ...            ...   ...            ...   \n",
       "2684      -1.037423        1.066177       0.428161  2001      -0.726523   \n",
       "2685      -0.406635       -2.138730      -1.102276  2016       1.495326   \n",
       "2686      -0.865390       -1.390919      -1.721738  2006       0.055972   \n",
       "2687      -0.005225        1.707158       1.667086  2016       0.256964   \n",
       "2688      -0.865390       -1.123843      -1.539543  2005      -1.040607   \n",
       "\n",
       "      drama  comedy  ...  Month_May  Month_Nov  Month_Oct  Month_Sep  \\\n",
       "0         1       0  ...      False      False      False      False   \n",
       "1         1       0  ...      False      False      False      False   \n",
       "2         0       0  ...      False      False      False      False   \n",
       "3         1       0  ...      False      False      False      False   \n",
       "4         1       0  ...      False      False       True      False   \n",
       "...     ...     ...  ...        ...        ...        ...        ...   \n",
       "2684      0       1  ...      False      False      False       True   \n",
       "2685      0       1  ...      False      False      False      False   \n",
       "2686      0       0  ...      False      False      False      False   \n",
       "2687      0       1  ...      False      False      False      False   \n",
       "2688      0       0  ...      False      False      False      False   \n",
       "\n",
       "      emotion_disgust  emotion_fear  emotion_joy  emotion_neutral  \\\n",
       "0               False          True        False            False   \n",
       "1               False          True        False            False   \n",
       "2               False         False        False            False   \n",
       "3               False          True        False            False   \n",
       "4               False         False        False            False   \n",
       "...               ...           ...          ...              ...   \n",
       "2684            False         False        False            False   \n",
       "2685            False         False        False            False   \n",
       "2686            False         False        False             True   \n",
       "2687            False         False        False             True   \n",
       "2688            False         False        False             True   \n",
       "\n",
       "      emotion_sadness  emotion_surprise  \n",
       "0               False             False  \n",
       "1               False             False  \n",
       "2               False             False  \n",
       "3               False             False  \n",
       "4                True             False  \n",
       "...               ...               ...  \n",
       "2684            False             False  \n",
       "2685            False              True  \n",
       "2686            False             False  \n",
       "2687            False             False  \n",
       "2688            False             False  \n",
       "\n",
       "[2689 rows x 52 columns]"
      ]
     },
     "execution_count": 412,
     "metadata": {},
     "output_type": "execute_result"
    }
   ],
   "source": [
    "df_ols"
   ]
  },
  {
   "cell_type": "markdown",
   "metadata": {},
   "source": [
    "## Defining features and labels for the 4 different models:\n",
    "Labels: Foreign/domestic percentage for prediction\n",
    "Predictors: before and after 2010"
   ]
  },
  {
   "cell_type": "code",
   "execution_count": 413,
   "metadata": {},
   "outputs": [],
   "source": [
    "# Removing Year column, not used as a feature\n",
    "\n",
    "# Movies before 2010\n",
    "df_before_2010 = df_ols[df_ols['Year'] < 2010].drop(columns= \"Year\")\n",
    "\n",
    "# Movies including and after 2010\n",
    "df_2010_and_after = df_ols[df_ols['Year'] >= 2010].drop(columns= \"Year\")\n",
    "\n",
    "df_ols = df_ols.drop(columns= \"Year\")\n"
   ]
  },
  {
   "cell_type": "markdown",
   "metadata": {},
   "source": [
    "Function to train OLS model"
   ]
  },
  {
   "cell_type": "code",
   "execution_count": 414,
   "metadata": {},
   "outputs": [],
   "source": [
    "def train_ols_model(dataframe, target_column, drop_columns):\n",
    "    \"\"\"\n",
    "    Trains an OLS regression model.\n",
    "\n",
    "    Parameters:\n",
    "        dataframe (pd.DataFrame): The input DataFrame containing features and the target variable.\n",
    "        target_column (str): The name of the column to be used as the target variable.\n",
    "        drop_columns (list): List of columns to drop from the DataFrame.\n",
    "\n",
    "    Returns:\n",
    "        ols_model (sm.OLS): The trained OLS model.\n",
    "    \"\"\"\n",
    "    # Defining features and labels\n",
    "    y = dataframe[target_column]\n",
    "    X = dataframe.drop(columns=drop_columns)\n",
    "\n",
    "    # Adding a constant column for the OLS model\n",
    "    X = sm.add_constant(X)\n",
    "\n",
    "    # Training the OLS model\n",
    "    feature_names = list(X.columns)\n",
    "    label_name = target_column\n",
    "\n",
    "    # Ensure predictors and target are numeric\n",
    "    X = pd.DataFrame(X, columns=feature_names, dtype=float)\n",
    "    y = pd.Series(y, name=label_name, dtype=float) # Including the label name\n",
    "\n",
    "    # Fit the OLS model\n",
    "    ols_model = sm.OLS(y, X).fit()\n",
    "    return ols_model"
   ]
  },
  {
   "cell_type": "markdown",
   "metadata": {},
   "source": [
    "Function to save the feature statistics for later use"
   ]
  },
  {
   "cell_type": "code",
   "execution_count": 415,
   "metadata": {},
   "outputs": [],
   "source": [
    "def extract_feature_statistics(ols_model, output_csv_path=None):\n",
    "    \"\"\"\n",
    "    Extracts feature statistics from an OLS regression model.\n",
    "\n",
    "    Parameters:\n",
    "        ols_model (sm.OLS): The trained OLS regression model.\n",
    "        output_csv_path (str, optional): Path to save the feature statistics as a CSV file. Defaults to None.\n",
    "\n",
    "    Returns:\n",
    "        feature_stats (pd.DataFrame): A DataFrame containing the feature statistics.\n",
    "    \"\"\"\n",
    "    # Extracting feature statistics\n",
    "    coefficients = ols_model.params  # Coefficients (coef)\n",
    "    standard_errors = ols_model.bse  # Standard errors (std err)\n",
    "    t_values = ols_model.tvalues     # t-values (t)\n",
    "    p_values = ols_model.pvalues     # p-values (P>|t|)\n",
    "\n",
    "    # Creating a DataFrame\n",
    "    feature_stats = pd.DataFrame({\n",
    "        \"Feature\": coefficients.index,\n",
    "        \"Coefficient\": coefficients.values,\n",
    "        \"Std_Error\": standard_errors.values,\n",
    "        \"t_value\": t_values.values,\n",
    "        \"p_value\": p_values.values\n",
    "    })\n",
    "\n",
    "    # Saving the DataFrame to a CSV file if the path is provided\n",
    "    if output_csv_path:\n",
    "        feature_stats.to_csv(output_csv_path, index=False)\n",
    "\n",
    "    return feature_stats"
   ]
  },
  {
   "cell_type": "markdown",
   "metadata": {},
   "source": [
    "### 1st model: Foreign Percentage prediction "
   ]
  },
  {
   "cell_type": "code",
   "execution_count": 416,
   "metadata": {},
   "outputs": [
    {
     "name": "stdout",
     "output_type": "stream",
     "text": [
      "                            OLS Regression Results                            \n",
      "==============================================================================\n",
      "Dep. Variable:     Foreign_Percentage   R-squared:                       0.247\n",
      "Model:                            OLS   Adj. R-squared:                  0.233\n",
      "Method:                 Least Squares   F-statistic:                     17.65\n",
      "Date:                Fri, 20 Dec 2024   Prob (F-statistic):          4.32e-127\n",
      "Time:                        15:26:38   Log-Likelihood:                -3434.4\n",
      "No. Observations:                2689   AIC:                             6969.\n",
      "Df Residuals:                    2639   BIC:                             7264.\n",
      "Df Model:                          49                                         \n",
      "Covariance Type:            nonrobust                                         \n",
      "========================================================================================\n",
      "                           coef    std err          t      P>|t|      [0.025      0.975]\n",
      "----------------------------------------------------------------------------------------\n",
      "const                   -0.2354      0.184     -1.282      0.200      -0.595       0.125\n",
      "Budget(USD)_Inflated     0.2375      0.026      9.150      0.000       0.187       0.288\n",
      "Runtime(mins)            0.0568      0.024      2.377      0.018       0.010       0.104\n",
      "Audience_Score          -0.1550      0.025     -6.196      0.000      -0.204      -0.106\n",
      "Critics_Score            0.1126      0.025      4.580      0.000       0.064       0.161\n",
      "emotion_score            0.0421      0.018      2.338      0.019       0.007       0.077\n",
      "drama                   -0.0414      0.043     -0.965      0.335      -0.126       0.043\n",
      "comedy                  -0.2710      0.043     -6.236      0.000      -0.356      -0.186\n",
      "thriller                 0.1261      0.049      2.552      0.011       0.029       0.223\n",
      "action                   0.0968      0.053      1.831      0.067      -0.007       0.201\n",
      "adventure                0.1131      0.053      2.114      0.035       0.008       0.218\n",
      "romance film             0.1052      0.048      2.200      0.028       0.011       0.199\n",
      "horror                   0.0147      0.064      0.230      0.818      -0.110       0.140\n",
      "fantasy                  0.1055      0.060      1.750      0.080      -0.013       0.224\n",
      "mystery                  0.1571      0.062      2.527      0.012       0.035       0.279\n",
      "crime                   -0.0712      0.053     -1.353      0.176      -0.174       0.032\n",
      "indie                   -0.0592      0.073     -0.814      0.416      -0.202       0.083\n",
      "biography               -0.0351      0.074     -0.471      0.638      -0.181       0.111\n",
      "family                  -0.1022      0.082     -1.244      0.214      -0.263       0.059\n",
      "sci-fi                   0.0395      0.060      0.659      0.510      -0.078       0.157\n",
      "period piece            -0.1307      0.084     -1.560      0.119      -0.295       0.034\n",
      "animation                0.5784      0.102      5.652      0.000       0.378       0.779\n",
      "teen                    -0.1856      0.090     -2.060      0.040      -0.362      -0.009\n",
      "film adaptation         -0.0012      0.089     -0.013      0.989      -0.175       0.173\n",
      "musical                  0.0085      0.078      0.108      0.914      -0.145       0.162\n",
      "history                 -0.0563      0.103     -0.548      0.584      -0.258       0.145\n",
      "coming of age           -0.2113      0.108     -1.961      0.050      -0.423   -4.08e-05\n",
      "sports                  -0.5675      0.090     -6.304      0.000      -0.744      -0.391\n",
      "war film                 0.0709      0.121      0.588      0.557      -0.166       0.307\n",
      "Worldwide_profit         0.0016      0.001      1.388      0.165      -0.001       0.004\n",
      "Rating_pg                0.0001      0.168      0.001      0.999      -0.330       0.330\n",
      "Rating_pg-13             0.1446      0.170      0.850      0.396      -0.189       0.478\n",
      "Rating_r                 0.3148      0.171      1.837      0.066      -0.021       0.651\n",
      "Month_Aug               -0.1228      0.082     -1.494      0.135      -0.284       0.038\n",
      "Month_Dec                0.3341      0.084      3.968      0.000       0.169       0.499\n",
      "Month_Feb               -0.0599      0.088     -0.682      0.496      -0.232       0.112\n",
      "Month_Jan                0.0565      0.085      0.669      0.504      -0.109       0.222\n",
      "Month_Jul                0.0964      0.087      1.106      0.269      -0.075       0.267\n",
      "Month_Jun                0.0367      0.087      0.423      0.672      -0.133       0.207\n",
      "Month_Mar               -0.1310      0.084     -1.562      0.118      -0.295       0.033\n",
      "Month_May                0.0665      0.090      0.742      0.458      -0.109       0.242\n",
      "Month_Nov                0.2507      0.084      2.999      0.003       0.087       0.415\n",
      "Month_Oct                0.1412      0.079      1.791      0.073      -0.013       0.296\n",
      "Month_Sep                0.0550      0.083      0.663      0.507      -0.108       0.218\n",
      "emotion_disgust          0.0847      0.072      1.176      0.240      -0.057       0.226\n",
      "emotion_fear            -0.0157      0.062     -0.255      0.799      -0.136       0.105\n",
      "emotion_joy              0.0294      0.095      0.309      0.757      -0.157       0.216\n",
      "emotion_neutral         -0.0026      0.059     -0.044      0.965      -0.118       0.113\n",
      "emotion_sadness         -0.0414      0.072     -0.572      0.567      -0.183       0.101\n",
      "emotion_surprise        -0.2965      0.110     -2.689      0.007      -0.513      -0.080\n",
      "==============================================================================\n",
      "Omnibus:                       43.439   Durbin-Watson:                   1.941\n",
      "Prob(Omnibus):                  0.000   Jarque-Bera (JB):               45.214\n",
      "Skew:                           0.317   Prob(JB):                     1.52e-10\n",
      "Kurtosis:                       3.045   Cond. No.                         310.\n",
      "==============================================================================\n",
      "\n",
      "Notes:\n",
      "[1] Standard Errors assume that the covariance matrix of the errors is correctly specified.\n"
     ]
    }
   ],
   "source": [
    "# Defining the target column as well as which columns to drop\n",
    "target_column = \"Foreign_Percentage\"\n",
    "drop_columns = [\"Foreign_Percentage\", \"Domestic_Percentage\"]\n",
    "# Path to save CSV file containing the feature statistics\n",
    "output_csv_path = \"../src/data/Machine_learning_data/feature_stats_Foreign.csv\"\n",
    "\n",
    "# Train the model\n",
    "ols_model = train_ols_model(df_ols, target_column, drop_columns)\n",
    "\n",
    "# Extract feature statistics and save to CSV\n",
    "feature_stats_Foreign = extract_feature_statistics(ols_model, output_csv_path)\n",
    "\n",
    "# Displaying the model summary\n",
    "print(ols_model.summary())"
   ]
  },
  {
   "cell_type": "markdown",
   "metadata": {},
   "source": [
    "### \"2nd\" model: Domestic Percentage prediction "
   ]
  },
  {
   "cell_type": "code",
   "execution_count": 417,
   "metadata": {},
   "outputs": [
    {
     "name": "stdout",
     "output_type": "stream",
     "text": [
      "                             OLS Regression Results                            \n",
      "===============================================================================\n",
      "Dep. Variable:     Domestic_Percentage   R-squared:                       0.247\n",
      "Model:                             OLS   Adj. R-squared:                  0.233\n",
      "Method:                  Least Squares   F-statistic:                     17.65\n",
      "Date:                 Fri, 20 Dec 2024   Prob (F-statistic):          4.32e-127\n",
      "Time:                         15:26:38   Log-Likelihood:                -3434.4\n",
      "No. Observations:                 2689   AIC:                             6969.\n",
      "Df Residuals:                     2639   BIC:                             7264.\n",
      "Df Model:                           49                                         \n",
      "Covariance Type:             nonrobust                                         \n",
      "========================================================================================\n",
      "                           coef    std err          t      P>|t|      [0.025      0.975]\n",
      "----------------------------------------------------------------------------------------\n",
      "const                    0.2354      0.184      1.282      0.200      -0.125       0.595\n",
      "Budget(USD)_Inflated    -0.2375      0.026     -9.150      0.000      -0.288      -0.187\n",
      "Runtime(mins)           -0.0568      0.024     -2.377      0.018      -0.104      -0.010\n",
      "Audience_Score           0.1550      0.025      6.196      0.000       0.106       0.204\n",
      "Critics_Score           -0.1126      0.025     -4.580      0.000      -0.161      -0.064\n",
      "emotion_score           -0.0421      0.018     -2.338      0.019      -0.077      -0.007\n",
      "drama                    0.0414      0.043      0.965      0.335      -0.043       0.126\n",
      "comedy                   0.2710      0.043      6.236      0.000       0.186       0.356\n",
      "thriller                -0.1261      0.049     -2.552      0.011      -0.223      -0.029\n",
      "action                  -0.0968      0.053     -1.831      0.067      -0.201       0.007\n",
      "adventure               -0.1131      0.053     -2.114      0.035      -0.218      -0.008\n",
      "romance film            -0.1052      0.048     -2.200      0.028      -0.199      -0.011\n",
      "horror                  -0.0147      0.064     -0.230      0.818      -0.140       0.110\n",
      "fantasy                 -0.1055      0.060     -1.750      0.080      -0.224       0.013\n",
      "mystery                 -0.1571      0.062     -2.527      0.012      -0.279      -0.035\n",
      "crime                    0.0712      0.053      1.353      0.176      -0.032       0.174\n",
      "indie                    0.0592      0.073      0.814      0.416      -0.083       0.202\n",
      "biography                0.0351      0.074      0.471      0.638      -0.111       0.181\n",
      "family                   0.1022      0.082      1.244      0.214      -0.059       0.263\n",
      "sci-fi                  -0.0395      0.060     -0.659      0.510      -0.157       0.078\n",
      "period piece             0.1307      0.084      1.560      0.119      -0.034       0.295\n",
      "animation               -0.5784      0.102     -5.652      0.000      -0.779      -0.378\n",
      "teen                     0.1856      0.090      2.060      0.040       0.009       0.362\n",
      "film adaptation          0.0012      0.089      0.013      0.989      -0.173       0.175\n",
      "musical                 -0.0085      0.078     -0.108      0.914      -0.162       0.145\n",
      "history                  0.0563      0.103      0.548      0.584      -0.145       0.258\n",
      "coming of age            0.2113      0.108      1.961      0.050    4.08e-05       0.423\n",
      "sports                   0.5675      0.090      6.304      0.000       0.391       0.744\n",
      "war film                -0.0709      0.121     -0.588      0.557      -0.307       0.166\n",
      "Worldwide_profit        -0.0016      0.001     -1.388      0.165      -0.004       0.001\n",
      "Rating_pg               -0.0001      0.168     -0.001      0.999      -0.330       0.330\n",
      "Rating_pg-13            -0.1446      0.170     -0.850      0.396      -0.478       0.189\n",
      "Rating_r                -0.3148      0.171     -1.837      0.066      -0.651       0.021\n",
      "Month_Aug                0.1228      0.082      1.494      0.135      -0.038       0.284\n",
      "Month_Dec               -0.3341      0.084     -3.968      0.000      -0.499      -0.169\n",
      "Month_Feb                0.0599      0.088      0.682      0.496      -0.112       0.232\n",
      "Month_Jan               -0.0565      0.085     -0.669      0.504      -0.222       0.109\n",
      "Month_Jul               -0.0964      0.087     -1.106      0.269      -0.267       0.075\n",
      "Month_Jun               -0.0367      0.087     -0.423      0.672      -0.207       0.133\n",
      "Month_Mar                0.1310      0.084      1.562      0.118      -0.033       0.295\n",
      "Month_May               -0.0665      0.090     -0.742      0.458      -0.242       0.109\n",
      "Month_Nov               -0.2507      0.084     -2.999      0.003      -0.415      -0.087\n",
      "Month_Oct               -0.1412      0.079     -1.791      0.073      -0.296       0.013\n",
      "Month_Sep               -0.0550      0.083     -0.663      0.507      -0.218       0.108\n",
      "emotion_disgust         -0.0847      0.072     -1.176      0.240      -0.226       0.057\n",
      "emotion_fear             0.0157      0.062      0.255      0.799      -0.105       0.136\n",
      "emotion_joy             -0.0294      0.095     -0.309      0.757      -0.216       0.157\n",
      "emotion_neutral          0.0026      0.059      0.044      0.965      -0.113       0.118\n",
      "emotion_sadness          0.0414      0.072      0.572      0.567      -0.101       0.183\n",
      "emotion_surprise         0.2965      0.110      2.689      0.007       0.080       0.513\n",
      "==============================================================================\n",
      "Omnibus:                       43.439   Durbin-Watson:                   1.941\n",
      "Prob(Omnibus):                  0.000   Jarque-Bera (JB):               45.214\n",
      "Skew:                          -0.317   Prob(JB):                     1.52e-10\n",
      "Kurtosis:                       3.045   Cond. No.                         310.\n",
      "==============================================================================\n",
      "\n",
      "Notes:\n",
      "[1] Standard Errors assume that the covariance matrix of the errors is correctly specified.\n"
     ]
    }
   ],
   "source": [
    "# Defining the target column as well as which columns to drop\n",
    "target_column = \"Domestic_Percentage\"\n",
    "drop_columns = [\"Foreign_Percentage\", \"Domestic_Percentage\"]\n",
    "# Path to save CSV file containing the feature statistics\n",
    "output_csv_path = \"../src/data/Machine_learning_data/feature_stats_Domestic.csv\"\n",
    "\n",
    "# Train the model\n",
    "ols_model = train_ols_model(df_ols, target_column, drop_columns)\n",
    "\n",
    "# Extract feature statistics and save to CSV\n",
    "feature_stats_domestic = extract_feature_statistics(ols_model, output_csv_path)\n",
    "\n",
    "# Displaying the model summary\n",
    "print(ols_model.summary())"
   ]
  },
  {
   "cell_type": "markdown",
   "metadata": {},
   "source": [
    "Only difference between the two models is the sign of the coeffecients. Subsquent Analysis will have only the foreign_percentage as a target column"
   ]
  },
  {
   "cell_type": "markdown",
   "metadata": {},
   "source": [
    "### Before 2010, foreign prediction"
   ]
  },
  {
   "cell_type": "code",
   "execution_count": 418,
   "metadata": {},
   "outputs": [
    {
     "name": "stdout",
     "output_type": "stream",
     "text": [
      "                            OLS Regression Results                            \n",
      "==============================================================================\n",
      "Dep. Variable:     Foreign_Percentage   R-squared:                       0.263\n",
      "Model:                            OLS   Adj. R-squared:                  0.233\n",
      "Method:                 Least Squares   F-statistic:                     8.619\n",
      "Date:                Fri, 20 Dec 2024   Prob (F-statistic):           1.81e-50\n",
      "Time:                        15:26:38   Log-Likelihood:                -1480.0\n",
      "No. Observations:                1232   AIC:                             3060.\n",
      "Df Residuals:                    1182   BIC:                             3316.\n",
      "Df Model:                          49                                         \n",
      "Covariance Type:            nonrobust                                         \n",
      "========================================================================================\n",
      "                           coef    std err          t      P>|t|      [0.025      0.975]\n",
      "----------------------------------------------------------------------------------------\n",
      "const                   -0.2585      0.215     -1.203      0.229      -0.680       0.163\n",
      "Budget(USD)_Inflated     0.2161      0.038      5.643      0.000       0.141       0.291\n",
      "Runtime(mins)            0.0091      0.033      0.276      0.782      -0.056       0.074\n",
      "Audience_Score          -0.0790      0.035     -2.274      0.023      -0.147      -0.011\n",
      "Critics_Score            0.1402      0.034      4.065      0.000       0.073       0.208\n",
      "emotion_score            0.0015      0.025      0.060      0.952      -0.048       0.051\n",
      "drama                   -0.0641      0.060     -1.067      0.286      -0.182       0.054\n",
      "comedy                  -0.2316      0.061     -3.826      0.000      -0.350      -0.113\n",
      "thriller                 0.1422      0.073      1.958      0.050      -0.000       0.285\n",
      "action                  -0.0181      0.081     -0.224      0.823      -0.176       0.140\n",
      "adventure                0.0857      0.078      1.104      0.270      -0.067       0.238\n",
      "romance film             0.1850      0.063      2.940      0.003       0.062       0.308\n",
      "horror                   0.0639      0.093      0.685      0.494      -0.119       0.247\n",
      "fantasy                  0.1927      0.086      2.248      0.025       0.024       0.361\n",
      "mystery                  0.1884      0.093      2.029      0.043       0.006       0.371\n",
      "crime                    0.0240      0.071      0.336      0.737      -0.116       0.164\n",
      "indie                   -0.0881      0.082     -1.075      0.282      -0.249       0.073\n",
      "biography                0.0325      0.110      0.296      0.767      -0.183       0.248\n",
      "family                  -0.0844      0.098     -0.864      0.388      -0.276       0.107\n",
      "sci-fi                   0.0806      0.091      0.891      0.373      -0.097       0.258\n",
      "period piece            -0.0514      0.090     -0.572      0.567      -0.227       0.125\n",
      "animation                0.4210      0.145      2.898      0.004       0.136       0.706\n",
      "teen                    -0.0950      0.092     -1.032      0.302      -0.276       0.086\n",
      "film adaptation          0.0698      0.093      0.752      0.452      -0.112       0.252\n",
      "musical                  0.0672      0.108      0.624      0.533      -0.144       0.278\n",
      "history                 -0.0928      0.155     -0.598      0.550      -0.397       0.212\n",
      "coming of age           -0.1789      0.108     -1.658      0.098      -0.391       0.033\n",
      "sports                  -0.4816      0.106     -4.527      0.000      -0.690      -0.273\n",
      "war film                 0.3091      0.129      2.405      0.016       0.057       0.561\n",
      "Worldwide_profit         0.0017      0.001      1.230      0.219      -0.001       0.004\n",
      "Rating_pg               -0.1364      0.188     -0.726      0.468      -0.505       0.232\n",
      "Rating_pg-13            -0.0073      0.190     -0.038      0.969      -0.380       0.365\n",
      "Rating_r                 0.2185      0.192      1.139      0.255      -0.158       0.595\n",
      "Month_Aug               -0.1931      0.117     -1.652      0.099      -0.422       0.036\n",
      "Month_Dec                0.3141      0.116      2.708      0.007       0.086       0.542\n",
      "Month_Feb               -0.0585      0.120     -0.490      0.624      -0.293       0.176\n",
      "Month_Jan                0.0330      0.117      0.283      0.777      -0.196       0.262\n",
      "Month_Jul                0.0290      0.124      0.234      0.815      -0.214       0.272\n",
      "Month_Jun                0.1092      0.125      0.873      0.383      -0.136       0.355\n",
      "Month_Mar               -0.1121      0.119     -0.940      0.347      -0.346       0.122\n",
      "Month_May                0.0209      0.129      0.161      0.872      -0.233       0.275\n",
      "Month_Nov                0.1845      0.118      1.560      0.119      -0.048       0.417\n",
      "Month_Oct                0.0473      0.109      0.433      0.665      -0.167       0.262\n",
      "Month_Sep               -0.0476      0.115     -0.414      0.679      -0.273       0.178\n",
      "emotion_disgust          0.0054      0.097      0.055      0.956      -0.186       0.196\n",
      "emotion_fear            -0.0267      0.090     -0.296      0.767      -0.203       0.150\n",
      "emotion_joy             -0.0285      0.136     -0.209      0.834      -0.296       0.239\n",
      "emotion_neutral         -0.0346      0.084     -0.412      0.680      -0.199       0.130\n",
      "emotion_sadness         -0.1081      0.101     -1.068      0.286      -0.307       0.090\n",
      "emotion_surprise        -0.1113      0.156     -0.713      0.476      -0.418       0.195\n",
      "==============================================================================\n",
      "Omnibus:                       56.298   Durbin-Watson:                   1.951\n",
      "Prob(Omnibus):                  0.000   Jarque-Bera (JB):               64.424\n",
      "Skew:                           0.508   Prob(JB):                     1.02e-14\n",
      "Kurtosis:                       3.471   Cond. No.                         281.\n",
      "==============================================================================\n",
      "\n",
      "Notes:\n",
      "[1] Standard Errors assume that the covariance matrix of the errors is correctly specified.\n"
     ]
    }
   ],
   "source": [
    "# Defining the target column as well as which columns to drop\n",
    "target_column = \"Foreign_Percentage\"\n",
    "drop_columns = [\"Foreign_Percentage\", \"Domestic_Percentage\"]\n",
    "# Path to save CSV file containing the feature statistics\n",
    "output_csv_path = \"../src/data/Machine_learning_data/feature_stats_pre_2010.csv\"\n",
    "\n",
    "# Train the model\n",
    "ols_model = train_ols_model(df_before_2010, target_column, drop_columns)\n",
    "\n",
    "# Extract feature statistics and save to CSV\n",
    "feature_stats_pre_2010 = extract_feature_statistics(ols_model, output_csv_path)\n",
    "\n",
    "# Displaying the model summary\n",
    "print(ols_model.summary())"
   ]
  },
  {
   "cell_type": "markdown",
   "metadata": {},
   "source": [
    "### Including and after 2010, foreign prediction"
   ]
  },
  {
   "cell_type": "code",
   "execution_count": 419,
   "metadata": {},
   "outputs": [
    {
     "name": "stdout",
     "output_type": "stream",
     "text": [
      "                            OLS Regression Results                            \n",
      "==============================================================================\n",
      "Dep. Variable:     Foreign_Percentage   R-squared:                       0.270\n",
      "Model:                            OLS   Adj. R-squared:                  0.245\n",
      "Method:                 Least Squares   F-statistic:                     10.62\n",
      "Date:                Fri, 20 Dec 2024   Prob (F-statistic):           3.44e-66\n",
      "Time:                        15:26:38   Log-Likelihood:                -1869.0\n",
      "No. Observations:                1457   AIC:                             3838.\n",
      "Df Residuals:                    1407   BIC:                             4102.\n",
      "Df Model:                          49                                         \n",
      "Covariance Type:            nonrobust                                         \n",
      "========================================================================================\n",
      "                           coef    std err          t      P>|t|      [0.025      0.975]\n",
      "----------------------------------------------------------------------------------------\n",
      "const                   -0.3810      0.372     -1.024      0.306      -1.111       0.349\n",
      "Budget(USD)_Inflated     0.2711      0.036      7.603      0.000       0.201       0.341\n",
      "Runtime(mins)            0.0844      0.034      2.489      0.013       0.018       0.151\n",
      "Audience_Score          -0.2220      0.036     -6.084      0.000      -0.294      -0.150\n",
      "Critics_Score            0.0691      0.035      1.970      0.049       0.000       0.138\n",
      "emotion_score            0.0699      0.025      2.799      0.005       0.021       0.119\n",
      "drama                    0.0078      0.061      0.128      0.898      -0.111       0.127\n",
      "comedy                  -0.2259      0.062     -3.667      0.000      -0.347      -0.105\n",
      "thriller                 0.1997      0.067      2.965      0.003       0.068       0.332\n",
      "action                   0.1664      0.071      2.358      0.018       0.028       0.305\n",
      "adventure                0.3043      0.076      4.015      0.000       0.156       0.453\n",
      "romance film             0.0774      0.071      1.087      0.277      -0.062       0.217\n",
      "horror                   0.0695      0.087      0.799      0.424      -0.101       0.240\n",
      "fantasy                 -0.0088      0.083     -0.106      0.916      -0.172       0.154\n",
      "mystery                  0.0402      0.084      0.480      0.631      -0.124       0.204\n",
      "crime                   -0.0837      0.077     -1.093      0.275      -0.234       0.067\n",
      "indie                    0.2703      0.181      1.496      0.135      -0.084       0.625\n",
      "biography               -0.0850      0.101     -0.846      0.398      -0.282       0.112\n",
      "family                  -0.0379      0.143     -0.266      0.790      -0.318       0.242\n",
      "sci-fi                  -0.0425      0.079     -0.539      0.590      -0.197       0.112\n",
      "period piece            -0.2399      0.224     -1.070      0.285      -0.680       0.200\n",
      "animation                0.5399      0.149      3.634      0.000       0.248       0.831\n",
      "teen                    -0.1451      0.321     -0.453      0.651      -0.774       0.484\n",
      "film adaptation          0.1832      0.239      0.766      0.444      -0.286       0.652\n",
      "musical                 -0.0185      0.112     -0.166      0.868      -0.238       0.201\n",
      "history                 -0.0696      0.134     -0.518      0.604      -0.333       0.194\n",
      "coming of age           -0.2339      0.418     -0.560      0.576      -1.054       0.586\n",
      "sports                  -0.4639      0.157     -2.950      0.003      -0.772      -0.155\n",
      "war film                -0.1376      0.358     -0.385      0.701      -0.839       0.564\n",
      "Worldwide_profit         0.0016      0.002      0.877      0.381      -0.002       0.005\n",
      "Rating_pg                0.0548      0.352      0.156      0.876      -0.635       0.745\n",
      "Rating_pg-13             0.2450      0.360      0.681      0.496      -0.460       0.950\n",
      "Rating_r                 0.3552      0.361      0.984      0.325      -0.353       1.063\n",
      "Month_Aug               -0.0215      0.112     -0.192      0.848      -0.241       0.198\n",
      "Month_Dec                0.3746      0.119      3.160      0.002       0.142       0.607\n",
      "Month_Feb               -0.0382      0.125     -0.306      0.760      -0.283       0.207\n",
      "Month_Jan                0.0632      0.119      0.531      0.595      -0.170       0.296\n",
      "Month_Jul                0.1943      0.120      1.620      0.105      -0.041       0.429\n",
      "Month_Jun                0.0011      0.118      0.009      0.993      -0.229       0.232\n",
      "Month_Mar               -0.1602      0.114     -1.405      0.160      -0.384       0.063\n",
      "Month_May                0.0887      0.121      0.733      0.464      -0.149       0.326\n",
      "Month_Nov                0.3477      0.115      3.022      0.003       0.122       0.573\n",
      "Month_Oct                0.2642      0.109      2.414      0.016       0.050       0.479\n",
      "Month_Sep                0.1543      0.115      1.339      0.181      -0.072       0.380\n",
      "emotion_disgust          0.2432      0.105      2.321      0.020       0.038       0.449\n",
      "emotion_fear            -0.0071      0.082     -0.086      0.931      -0.169       0.154\n",
      "emotion_joy              0.1797      0.130      1.386      0.166      -0.075       0.434\n",
      "emotion_neutral          0.0710      0.081      0.878      0.380      -0.088       0.230\n",
      "emotion_sadness          0.0546      0.101      0.541      0.589      -0.143       0.252\n",
      "emotion_surprise        -0.3764      0.151     -2.494      0.013      -0.672      -0.080\n",
      "==============================================================================\n",
      "Omnibus:                        2.883   Durbin-Watson:                   1.925\n",
      "Prob(Omnibus):                  0.237   Jarque-Bera (JB):                2.909\n",
      "Skew:                           0.108   Prob(JB):                        0.233\n",
      "Kurtosis:                       2.966   Cond. No.                         419.\n",
      "==============================================================================\n",
      "\n",
      "Notes:\n",
      "[1] Standard Errors assume that the covariance matrix of the errors is correctly specified.\n"
     ]
    }
   ],
   "source": [
    "# Defining the target column as well as which columns to drop\n",
    "target_column = \"Foreign_Percentage\"\n",
    "drop_columns = [\"Foreign_Percentage\", \"Domestic_Percentage\"]\n",
    "# Path to save CSV file containing the feature statistics\n",
    "output_csv_path = \"../src/data/Machine_learning_data/feature_stats_post_2010.csv\"\n",
    "\n",
    "# Train the model\n",
    "ols_model = train_ols_model(df_2010_and_after, target_column, drop_columns)\n",
    "\n",
    "# Extract feature statistics and save to CSV\n",
    "feature_stats_post_2010 = extract_feature_statistics(ols_model, output_csv_path)\n",
    "\n",
    "# Displaying the model summary\n",
    "print(ols_model.summary())"
   ]
  },
  {
   "cell_type": "markdown",
   "metadata": {},
   "source": [
    "## Comparing the statistically significant coefficients"
   ]
  },
  {
   "cell_type": "code",
   "execution_count": 420,
   "metadata": {},
   "outputs": [
    {
     "data": {
      "text/html": [
       "<div>\n",
       "<style scoped>\n",
       "    .dataframe tbody tr th:only-of-type {\n",
       "        vertical-align: middle;\n",
       "    }\n",
       "\n",
       "    .dataframe tbody tr th {\n",
       "        vertical-align: top;\n",
       "    }\n",
       "\n",
       "    .dataframe thead th {\n",
       "        text-align: right;\n",
       "    }\n",
       "</style>\n",
       "<table border=\"1\" class=\"dataframe\">\n",
       "  <thead>\n",
       "    <tr style=\"text-align: right;\">\n",
       "      <th></th>\n",
       "      <th>Feature</th>\n",
       "      <th>Coefficient</th>\n",
       "      <th>Std_Error</th>\n",
       "      <th>t_value</th>\n",
       "      <th>p_value</th>\n",
       "    </tr>\n",
       "  </thead>\n",
       "  <tbody>\n",
       "    <tr>\n",
       "      <th>0</th>\n",
       "      <td>const</td>\n",
       "      <td>-0.258459</td>\n",
       "      <td>0.214876</td>\n",
       "      <td>-1.202826</td>\n",
       "      <td>2.292845e-01</td>\n",
       "    </tr>\n",
       "    <tr>\n",
       "      <th>1</th>\n",
       "      <td>Budget(USD)_Inflated</td>\n",
       "      <td>0.216120</td>\n",
       "      <td>0.038300</td>\n",
       "      <td>5.642805</td>\n",
       "      <td>2.092620e-08</td>\n",
       "    </tr>\n",
       "    <tr>\n",
       "      <th>2</th>\n",
       "      <td>Runtime(mins)</td>\n",
       "      <td>0.009150</td>\n",
       "      <td>0.033127</td>\n",
       "      <td>0.276207</td>\n",
       "      <td>7.824370e-01</td>\n",
       "    </tr>\n",
       "    <tr>\n",
       "      <th>3</th>\n",
       "      <td>Audience_Score</td>\n",
       "      <td>-0.078971</td>\n",
       "      <td>0.034722</td>\n",
       "      <td>-2.274359</td>\n",
       "      <td>2.312303e-02</td>\n",
       "    </tr>\n",
       "    <tr>\n",
       "      <th>4</th>\n",
       "      <td>Critics_Score</td>\n",
       "      <td>0.140178</td>\n",
       "      <td>0.034487</td>\n",
       "      <td>4.064683</td>\n",
       "      <td>5.127671e-05</td>\n",
       "    </tr>\n",
       "  </tbody>\n",
       "</table>\n",
       "</div>"
      ],
      "text/plain": [
       "                Feature  Coefficient  Std_Error   t_value       p_value\n",
       "0                 const    -0.258459   0.214876 -1.202826  2.292845e-01\n",
       "1  Budget(USD)_Inflated     0.216120   0.038300  5.642805  2.092620e-08\n",
       "2         Runtime(mins)     0.009150   0.033127  0.276207  7.824370e-01\n",
       "3        Audience_Score    -0.078971   0.034722 -2.274359  2.312303e-02\n",
       "4         Critics_Score     0.140178   0.034487  4.064683  5.127671e-05"
      ]
     },
     "execution_count": 420,
     "metadata": {},
     "output_type": "execute_result"
    }
   ],
   "source": [
    "feature_stats_pre_2010.head(5)"
   ]
  },
  {
   "cell_type": "code",
   "execution_count": 421,
   "metadata": {},
   "outputs": [
    {
     "data": {
      "text/html": [
       "<div>\n",
       "<style scoped>\n",
       "    .dataframe tbody tr th:only-of-type {\n",
       "        vertical-align: middle;\n",
       "    }\n",
       "\n",
       "    .dataframe tbody tr th {\n",
       "        vertical-align: top;\n",
       "    }\n",
       "\n",
       "    .dataframe thead th {\n",
       "        text-align: right;\n",
       "    }\n",
       "</style>\n",
       "<table border=\"1\" class=\"dataframe\">\n",
       "  <thead>\n",
       "    <tr style=\"text-align: right;\">\n",
       "      <th></th>\n",
       "      <th>Feature</th>\n",
       "      <th>Coefficient</th>\n",
       "      <th>Std_Error</th>\n",
       "      <th>t_value</th>\n",
       "      <th>p_value</th>\n",
       "    </tr>\n",
       "  </thead>\n",
       "  <tbody>\n",
       "    <tr>\n",
       "      <th>0</th>\n",
       "      <td>const</td>\n",
       "      <td>-0.380963</td>\n",
       "      <td>0.372023</td>\n",
       "      <td>-1.024031</td>\n",
       "      <td>3.059966e-01</td>\n",
       "    </tr>\n",
       "    <tr>\n",
       "      <th>1</th>\n",
       "      <td>Budget(USD)_Inflated</td>\n",
       "      <td>0.271148</td>\n",
       "      <td>0.035662</td>\n",
       "      <td>7.603285</td>\n",
       "      <td>5.250117e-14</td>\n",
       "    </tr>\n",
       "    <tr>\n",
       "      <th>2</th>\n",
       "      <td>Runtime(mins)</td>\n",
       "      <td>0.084395</td>\n",
       "      <td>0.033909</td>\n",
       "      <td>2.488883</td>\n",
       "      <td>1.292940e-02</td>\n",
       "    </tr>\n",
       "    <tr>\n",
       "      <th>3</th>\n",
       "      <td>Audience_Score</td>\n",
       "      <td>-0.221952</td>\n",
       "      <td>0.036483</td>\n",
       "      <td>-6.083684</td>\n",
       "      <td>1.511206e-09</td>\n",
       "    </tr>\n",
       "    <tr>\n",
       "      <th>4</th>\n",
       "      <td>Critics_Score</td>\n",
       "      <td>0.069127</td>\n",
       "      <td>0.035091</td>\n",
       "      <td>1.969956</td>\n",
       "      <td>4.903930e-02</td>\n",
       "    </tr>\n",
       "  </tbody>\n",
       "</table>\n",
       "</div>"
      ],
      "text/plain": [
       "                Feature  Coefficient  Std_Error   t_value       p_value\n",
       "0                 const    -0.380963   0.372023 -1.024031  3.059966e-01\n",
       "1  Budget(USD)_Inflated     0.271148   0.035662  7.603285  5.250117e-14\n",
       "2         Runtime(mins)     0.084395   0.033909  2.488883  1.292940e-02\n",
       "3        Audience_Score    -0.221952   0.036483 -6.083684  1.511206e-09\n",
       "4         Critics_Score     0.069127   0.035091  1.969956  4.903930e-02"
      ]
     },
     "execution_count": 421,
     "metadata": {},
     "output_type": "execute_result"
    }
   ],
   "source": [
    "feature_stats_post_2010.head(5)"
   ]
  },
  {
   "cell_type": "markdown",
   "metadata": {},
   "source": [
    "Defining funciton that removes all the features with a P-value > 0.05"
   ]
  },
  {
   "cell_type": "code",
   "execution_count": 422,
   "metadata": {},
   "outputs": [],
   "source": [
    "def filter_significant_features(feature_stats, p_value_threshold=0.05):\n",
    "\n",
    "    # Filter the DataFrame based on the p-value threshold\n",
    "    significant_features = feature_stats[feature_stats[\"p_value\"] <= p_value_threshold]\n",
    "    \n",
    "    return significant_features"
   ]
  },
  {
   "cell_type": "code",
   "execution_count": 423,
   "metadata": {},
   "outputs": [],
   "source": [
    "feature_stats_pre_2010 = filter_significant_features(feature_stats_pre_2010)\n",
    "feature_stats_post_2010 = filter_significant_features(feature_stats_post_2010)"
   ]
  },
  {
   "cell_type": "code",
   "execution_count": 424,
   "metadata": {},
   "outputs": [
    {
     "data": {
      "text/html": [
       "<div>\n",
       "<style scoped>\n",
       "    .dataframe tbody tr th:only-of-type {\n",
       "        vertical-align: middle;\n",
       "    }\n",
       "\n",
       "    .dataframe tbody tr th {\n",
       "        vertical-align: top;\n",
       "    }\n",
       "\n",
       "    .dataframe thead th {\n",
       "        text-align: right;\n",
       "    }\n",
       "</style>\n",
       "<table border=\"1\" class=\"dataframe\">\n",
       "  <thead>\n",
       "    <tr style=\"text-align: right;\">\n",
       "      <th></th>\n",
       "      <th>Feature</th>\n",
       "      <th>Coefficient</th>\n",
       "      <th>Std_Error</th>\n",
       "      <th>t_value</th>\n",
       "      <th>p_value</th>\n",
       "    </tr>\n",
       "  </thead>\n",
       "  <tbody>\n",
       "    <tr>\n",
       "      <th>1</th>\n",
       "      <td>Budget(USD)_Inflated</td>\n",
       "      <td>0.216120</td>\n",
       "      <td>0.038300</td>\n",
       "      <td>5.642805</td>\n",
       "      <td>2.092620e-08</td>\n",
       "    </tr>\n",
       "    <tr>\n",
       "      <th>3</th>\n",
       "      <td>Audience_Score</td>\n",
       "      <td>-0.078971</td>\n",
       "      <td>0.034722</td>\n",
       "      <td>-2.274359</td>\n",
       "      <td>2.312303e-02</td>\n",
       "    </tr>\n",
       "    <tr>\n",
       "      <th>4</th>\n",
       "      <td>Critics_Score</td>\n",
       "      <td>0.140178</td>\n",
       "      <td>0.034487</td>\n",
       "      <td>4.064683</td>\n",
       "      <td>5.127671e-05</td>\n",
       "    </tr>\n",
       "    <tr>\n",
       "      <th>7</th>\n",
       "      <td>comedy</td>\n",
       "      <td>-0.231626</td>\n",
       "      <td>0.060537</td>\n",
       "      <td>-3.826157</td>\n",
       "      <td>1.369663e-04</td>\n",
       "    </tr>\n",
       "    <tr>\n",
       "      <th>11</th>\n",
       "      <td>romance film</td>\n",
       "      <td>0.185012</td>\n",
       "      <td>0.062931</td>\n",
       "      <td>2.939938</td>\n",
       "      <td>3.346622e-03</td>\n",
       "    </tr>\n",
       "    <tr>\n",
       "      <th>13</th>\n",
       "      <td>fantasy</td>\n",
       "      <td>0.192748</td>\n",
       "      <td>0.085760</td>\n",
       "      <td>2.247533</td>\n",
       "      <td>2.478979e-02</td>\n",
       "    </tr>\n",
       "    <tr>\n",
       "      <th>14</th>\n",
       "      <td>mystery</td>\n",
       "      <td>0.188412</td>\n",
       "      <td>0.092842</td>\n",
       "      <td>2.029392</td>\n",
       "      <td>4.264210e-02</td>\n",
       "    </tr>\n",
       "    <tr>\n",
       "      <th>21</th>\n",
       "      <td>animation</td>\n",
       "      <td>0.421005</td>\n",
       "      <td>0.145252</td>\n",
       "      <td>2.898447</td>\n",
       "      <td>3.819396e-03</td>\n",
       "    </tr>\n",
       "    <tr>\n",
       "      <th>27</th>\n",
       "      <td>sports</td>\n",
       "      <td>-0.481573</td>\n",
       "      <td>0.106367</td>\n",
       "      <td>-4.527477</td>\n",
       "      <td>6.572641e-06</td>\n",
       "    </tr>\n",
       "    <tr>\n",
       "      <th>28</th>\n",
       "      <td>war film</td>\n",
       "      <td>0.309143</td>\n",
       "      <td>0.128523</td>\n",
       "      <td>2.405358</td>\n",
       "      <td>1.630953e-02</td>\n",
       "    </tr>\n",
       "    <tr>\n",
       "      <th>34</th>\n",
       "      <td>Month_Dec</td>\n",
       "      <td>0.314111</td>\n",
       "      <td>0.116012</td>\n",
       "      <td>2.707566</td>\n",
       "      <td>6.875585e-03</td>\n",
       "    </tr>\n",
       "  </tbody>\n",
       "</table>\n",
       "</div>"
      ],
      "text/plain": [
       "                 Feature  Coefficient  Std_Error   t_value       p_value\n",
       "1   Budget(USD)_Inflated     0.216120   0.038300  5.642805  2.092620e-08\n",
       "3         Audience_Score    -0.078971   0.034722 -2.274359  2.312303e-02\n",
       "4          Critics_Score     0.140178   0.034487  4.064683  5.127671e-05\n",
       "7                 comedy    -0.231626   0.060537 -3.826157  1.369663e-04\n",
       "11          romance film     0.185012   0.062931  2.939938  3.346622e-03\n",
       "13               fantasy     0.192748   0.085760  2.247533  2.478979e-02\n",
       "14               mystery     0.188412   0.092842  2.029392  4.264210e-02\n",
       "21             animation     0.421005   0.145252  2.898447  3.819396e-03\n",
       "27                sports    -0.481573   0.106367 -4.527477  6.572641e-06\n",
       "28              war film     0.309143   0.128523  2.405358  1.630953e-02\n",
       "34             Month_Dec     0.314111   0.116012  2.707566  6.875585e-03"
      ]
     },
     "execution_count": 424,
     "metadata": {},
     "output_type": "execute_result"
    }
   ],
   "source": [
    "feature_stats_pre_2010"
   ]
  },
  {
   "cell_type": "code",
   "execution_count": 425,
   "metadata": {},
   "outputs": [
    {
     "data": {
      "text/html": [
       "<div>\n",
       "<style scoped>\n",
       "    .dataframe tbody tr th:only-of-type {\n",
       "        vertical-align: middle;\n",
       "    }\n",
       "\n",
       "    .dataframe tbody tr th {\n",
       "        vertical-align: top;\n",
       "    }\n",
       "\n",
       "    .dataframe thead th {\n",
       "        text-align: right;\n",
       "    }\n",
       "</style>\n",
       "<table border=\"1\" class=\"dataframe\">\n",
       "  <thead>\n",
       "    <tr style=\"text-align: right;\">\n",
       "      <th></th>\n",
       "      <th>Feature</th>\n",
       "      <th>Coefficient</th>\n",
       "      <th>Std_Error</th>\n",
       "      <th>t_value</th>\n",
       "      <th>p_value</th>\n",
       "    </tr>\n",
       "  </thead>\n",
       "  <tbody>\n",
       "    <tr>\n",
       "      <th>1</th>\n",
       "      <td>Budget(USD)_Inflated</td>\n",
       "      <td>0.271148</td>\n",
       "      <td>0.035662</td>\n",
       "      <td>7.603285</td>\n",
       "      <td>5.250117e-14</td>\n",
       "    </tr>\n",
       "    <tr>\n",
       "      <th>2</th>\n",
       "      <td>Runtime(mins)</td>\n",
       "      <td>0.084395</td>\n",
       "      <td>0.033909</td>\n",
       "      <td>2.488883</td>\n",
       "      <td>1.292940e-02</td>\n",
       "    </tr>\n",
       "    <tr>\n",
       "      <th>3</th>\n",
       "      <td>Audience_Score</td>\n",
       "      <td>-0.221952</td>\n",
       "      <td>0.036483</td>\n",
       "      <td>-6.083684</td>\n",
       "      <td>1.511206e-09</td>\n",
       "    </tr>\n",
       "    <tr>\n",
       "      <th>4</th>\n",
       "      <td>Critics_Score</td>\n",
       "      <td>0.069127</td>\n",
       "      <td>0.035091</td>\n",
       "      <td>1.969956</td>\n",
       "      <td>4.903930e-02</td>\n",
       "    </tr>\n",
       "    <tr>\n",
       "      <th>5</th>\n",
       "      <td>emotion_score</td>\n",
       "      <td>0.069881</td>\n",
       "      <td>0.024964</td>\n",
       "      <td>2.799239</td>\n",
       "      <td>5.192268e-03</td>\n",
       "    </tr>\n",
       "    <tr>\n",
       "      <th>7</th>\n",
       "      <td>comedy</td>\n",
       "      <td>-0.225915</td>\n",
       "      <td>0.061611</td>\n",
       "      <td>-3.666828</td>\n",
       "      <td>2.547237e-04</td>\n",
       "    </tr>\n",
       "    <tr>\n",
       "      <th>8</th>\n",
       "      <td>thriller</td>\n",
       "      <td>0.199663</td>\n",
       "      <td>0.067346</td>\n",
       "      <td>2.964726</td>\n",
       "      <td>3.080530e-03</td>\n",
       "    </tr>\n",
       "    <tr>\n",
       "      <th>9</th>\n",
       "      <td>action</td>\n",
       "      <td>0.166445</td>\n",
       "      <td>0.070575</td>\n",
       "      <td>2.358427</td>\n",
       "      <td>1.848869e-02</td>\n",
       "    </tr>\n",
       "    <tr>\n",
       "      <th>10</th>\n",
       "      <td>adventure</td>\n",
       "      <td>0.304298</td>\n",
       "      <td>0.075784</td>\n",
       "      <td>4.015345</td>\n",
       "      <td>6.249093e-05</td>\n",
       "    </tr>\n",
       "    <tr>\n",
       "      <th>21</th>\n",
       "      <td>animation</td>\n",
       "      <td>0.539948</td>\n",
       "      <td>0.148577</td>\n",
       "      <td>3.634124</td>\n",
       "      <td>2.889661e-04</td>\n",
       "    </tr>\n",
       "    <tr>\n",
       "      <th>27</th>\n",
       "      <td>sports</td>\n",
       "      <td>-0.463876</td>\n",
       "      <td>0.157224</td>\n",
       "      <td>-2.950420</td>\n",
       "      <td>3.225906e-03</td>\n",
       "    </tr>\n",
       "    <tr>\n",
       "      <th>34</th>\n",
       "      <td>Month_Dec</td>\n",
       "      <td>0.374618</td>\n",
       "      <td>0.118550</td>\n",
       "      <td>3.159996</td>\n",
       "      <td>1.611316e-03</td>\n",
       "    </tr>\n",
       "    <tr>\n",
       "      <th>41</th>\n",
       "      <td>Month_Nov</td>\n",
       "      <td>0.347714</td>\n",
       "      <td>0.115050</td>\n",
       "      <td>3.022289</td>\n",
       "      <td>2.554034e-03</td>\n",
       "    </tr>\n",
       "    <tr>\n",
       "      <th>42</th>\n",
       "      <td>Month_Oct</td>\n",
       "      <td>0.264217</td>\n",
       "      <td>0.109430</td>\n",
       "      <td>2.414474</td>\n",
       "      <td>1.588488e-02</td>\n",
       "    </tr>\n",
       "    <tr>\n",
       "      <th>44</th>\n",
       "      <td>emotion_disgust</td>\n",
       "      <td>0.243186</td>\n",
       "      <td>0.104776</td>\n",
       "      <td>2.320999</td>\n",
       "      <td>2.042923e-02</td>\n",
       "    </tr>\n",
       "    <tr>\n",
       "      <th>49</th>\n",
       "      <td>emotion_surprise</td>\n",
       "      <td>-0.376419</td>\n",
       "      <td>0.150907</td>\n",
       "      <td>-2.494383</td>\n",
       "      <td>1.273162e-02</td>\n",
       "    </tr>\n",
       "  </tbody>\n",
       "</table>\n",
       "</div>"
      ],
      "text/plain": [
       "                 Feature  Coefficient  Std_Error   t_value       p_value\n",
       "1   Budget(USD)_Inflated     0.271148   0.035662  7.603285  5.250117e-14\n",
       "2          Runtime(mins)     0.084395   0.033909  2.488883  1.292940e-02\n",
       "3         Audience_Score    -0.221952   0.036483 -6.083684  1.511206e-09\n",
       "4          Critics_Score     0.069127   0.035091  1.969956  4.903930e-02\n",
       "5          emotion_score     0.069881   0.024964  2.799239  5.192268e-03\n",
       "7                 comedy    -0.225915   0.061611 -3.666828  2.547237e-04\n",
       "8               thriller     0.199663   0.067346  2.964726  3.080530e-03\n",
       "9                 action     0.166445   0.070575  2.358427  1.848869e-02\n",
       "10             adventure     0.304298   0.075784  4.015345  6.249093e-05\n",
       "21             animation     0.539948   0.148577  3.634124  2.889661e-04\n",
       "27                sports    -0.463876   0.157224 -2.950420  3.225906e-03\n",
       "34             Month_Dec     0.374618   0.118550  3.159996  1.611316e-03\n",
       "41             Month_Nov     0.347714   0.115050  3.022289  2.554034e-03\n",
       "42             Month_Oct     0.264217   0.109430  2.414474  1.588488e-02\n",
       "44       emotion_disgust     0.243186   0.104776  2.320999  2.042923e-02\n",
       "49      emotion_surprise    -0.376419   0.150907 -2.494383  1.273162e-02"
      ]
     },
     "execution_count": 425,
     "metadata": {},
     "output_type": "execute_result"
    }
   ],
   "source": [
    "feature_stats_post_2010"
   ]
  },
  {
   "cell_type": "markdown",
   "metadata": {},
   "source": [
    "Plotting the coeffecients for the statistically significant features"
   ]
  },
  {
   "cell_type": "code",
   "execution_count": 426,
   "metadata": {},
   "outputs": [
    {
     "data": {
      "application/vnd.plotly.v1+json": {
       "config": {
        "plotlyServerURL": "https://plot.ly"
       },
       "data": [
        {
         "alignmentgroup": "True",
         "customdata": [
          [
           0.038300020308846446,
           5.642804704581479,
           2.092619571488994e-8
          ],
          [
           0.034722274906693086,
           -2.2743585165928457,
           0.023123026758821767
          ],
          [
           0.034486778053861,
           4.064683056222032,
           0.00005127671188424032
          ],
          [
           0.06053749469605106,
           -3.8261574181524507,
           0.00013696632238235923
          ],
          [
           0.06293064024894655,
           2.9399382722738006,
           0.003346622377767171
          ],
          [
           0.08575997943700546,
           2.247533181965168,
           0.02478978694384332
          ],
          [
           0.09284180044329271,
           2.0293917478013612,
           0.042642101841168234
          ],
          [
           0.14525187167170583,
           2.8984471217306105,
           0.0038193961025825367
          ],
          [
           0.10636679220699932,
           -4.527476646677241,
           0.000006572641136376739
          ],
          [
           0.12852262356466262,
           2.4053578589875837,
           0.01630952938770749
          ],
          [
           0.11601222260927448,
           2.707566446875427,
           0.006875585084649354
          ]
         ],
         "hovertemplate": "Feature Names=%{x}<br>Coefficient Value=%{marker.color}<br>Std_Error=%{customdata[0]}<br>t_value=%{customdata[1]}<br>p_value=%{customdata[2]}<extra></extra>",
         "legendgroup": "",
         "marker": {
          "color": [
           0.2161195347843249,
           -0.07897090164951548,
           0.14017782241921864,
           -0.2316259844076604,
           0.18501219776657202,
           0.19274839946932026,
           0.18841238367063898,
           0.42100486937283976,
           -0.48157316769916014,
           0.30914290264896405,
           0.31411080136431435
          ],
          "coloraxis": "coloraxis",
          "pattern": {
           "shape": ""
          }
         },
         "name": "",
         "offsetgroup": "",
         "orientation": "v",
         "showlegend": false,
         "textposition": "auto",
         "type": "bar",
         "x": [
          "Budget(USD)_Inflated",
          "Audience_Score",
          "Critics_Score",
          "comedy",
          "romance film",
          "fantasy",
          "mystery",
          "animation",
          "sports",
          "war film",
          "Month_Dec"
         ],
         "xaxis": "x",
         "y": [
          0.2161195347843249,
          -0.07897090164951548,
          0.14017782241921864,
          -0.2316259844076604,
          0.18501219776657202,
          0.19274839946932026,
          0.18841238367063898,
          0.42100486937283976,
          -0.48157316769916014,
          0.30914290264896405,
          0.31411080136431435
         ],
         "yaxis": "y"
        }
       ],
       "layout": {
        "barmode": "relative",
        "coloraxis": {
         "colorbar": {
          "title": {
           "text": "Coefficient Value"
          }
         },
         "colorscale": [
          [
           0,
           "#0d0887"
          ],
          [
           0.1111111111111111,
           "#46039f"
          ],
          [
           0.2222222222222222,
           "#7201a8"
          ],
          [
           0.3333333333333333,
           "#9c179e"
          ],
          [
           0.4444444444444444,
           "#bd3786"
          ],
          [
           0.5555555555555556,
           "#d8576b"
          ],
          [
           0.6666666666666666,
           "#ed7953"
          ],
          [
           0.7777777777777778,
           "#fb9f3a"
          ],
          [
           0.8888888888888888,
           "#fdca26"
          ],
          [
           1,
           "#f0f921"
          ]
         ]
        },
        "height": 400,
        "legend": {
         "tracegroupgap": 0
        },
        "margin": {
         "t": 60
        },
        "template": {
         "data": {
          "bar": [
           {
            "error_x": {
             "color": "#2a3f5f"
            },
            "error_y": {
             "color": "#2a3f5f"
            },
            "marker": {
             "line": {
              "color": "#E5ECF6",
              "width": 0.5
             },
             "pattern": {
              "fillmode": "overlay",
              "size": 10,
              "solidity": 0.2
             }
            },
            "type": "bar"
           }
          ],
          "barpolar": [
           {
            "marker": {
             "line": {
              "color": "#E5ECF6",
              "width": 0.5
             },
             "pattern": {
              "fillmode": "overlay",
              "size": 10,
              "solidity": 0.2
             }
            },
            "type": "barpolar"
           }
          ],
          "carpet": [
           {
            "aaxis": {
             "endlinecolor": "#2a3f5f",
             "gridcolor": "white",
             "linecolor": "white",
             "minorgridcolor": "white",
             "startlinecolor": "#2a3f5f"
            },
            "baxis": {
             "endlinecolor": "#2a3f5f",
             "gridcolor": "white",
             "linecolor": "white",
             "minorgridcolor": "white",
             "startlinecolor": "#2a3f5f"
            },
            "type": "carpet"
           }
          ],
          "choropleth": [
           {
            "colorbar": {
             "outlinewidth": 0,
             "ticks": ""
            },
            "type": "choropleth"
           }
          ],
          "contour": [
           {
            "colorbar": {
             "outlinewidth": 0,
             "ticks": ""
            },
            "colorscale": [
             [
              0,
              "#0d0887"
             ],
             [
              0.1111111111111111,
              "#46039f"
             ],
             [
              0.2222222222222222,
              "#7201a8"
             ],
             [
              0.3333333333333333,
              "#9c179e"
             ],
             [
              0.4444444444444444,
              "#bd3786"
             ],
             [
              0.5555555555555556,
              "#d8576b"
             ],
             [
              0.6666666666666666,
              "#ed7953"
             ],
             [
              0.7777777777777778,
              "#fb9f3a"
             ],
             [
              0.8888888888888888,
              "#fdca26"
             ],
             [
              1,
              "#f0f921"
             ]
            ],
            "type": "contour"
           }
          ],
          "contourcarpet": [
           {
            "colorbar": {
             "outlinewidth": 0,
             "ticks": ""
            },
            "type": "contourcarpet"
           }
          ],
          "heatmap": [
           {
            "colorbar": {
             "outlinewidth": 0,
             "ticks": ""
            },
            "colorscale": [
             [
              0,
              "#0d0887"
             ],
             [
              0.1111111111111111,
              "#46039f"
             ],
             [
              0.2222222222222222,
              "#7201a8"
             ],
             [
              0.3333333333333333,
              "#9c179e"
             ],
             [
              0.4444444444444444,
              "#bd3786"
             ],
             [
              0.5555555555555556,
              "#d8576b"
             ],
             [
              0.6666666666666666,
              "#ed7953"
             ],
             [
              0.7777777777777778,
              "#fb9f3a"
             ],
             [
              0.8888888888888888,
              "#fdca26"
             ],
             [
              1,
              "#f0f921"
             ]
            ],
            "type": "heatmap"
           }
          ],
          "heatmapgl": [
           {
            "colorbar": {
             "outlinewidth": 0,
             "ticks": ""
            },
            "colorscale": [
             [
              0,
              "#0d0887"
             ],
             [
              0.1111111111111111,
              "#46039f"
             ],
             [
              0.2222222222222222,
              "#7201a8"
             ],
             [
              0.3333333333333333,
              "#9c179e"
             ],
             [
              0.4444444444444444,
              "#bd3786"
             ],
             [
              0.5555555555555556,
              "#d8576b"
             ],
             [
              0.6666666666666666,
              "#ed7953"
             ],
             [
              0.7777777777777778,
              "#fb9f3a"
             ],
             [
              0.8888888888888888,
              "#fdca26"
             ],
             [
              1,
              "#f0f921"
             ]
            ],
            "type": "heatmapgl"
           }
          ],
          "histogram": [
           {
            "marker": {
             "pattern": {
              "fillmode": "overlay",
              "size": 10,
              "solidity": 0.2
             }
            },
            "type": "histogram"
           }
          ],
          "histogram2d": [
           {
            "colorbar": {
             "outlinewidth": 0,
             "ticks": ""
            },
            "colorscale": [
             [
              0,
              "#0d0887"
             ],
             [
              0.1111111111111111,
              "#46039f"
             ],
             [
              0.2222222222222222,
              "#7201a8"
             ],
             [
              0.3333333333333333,
              "#9c179e"
             ],
             [
              0.4444444444444444,
              "#bd3786"
             ],
             [
              0.5555555555555556,
              "#d8576b"
             ],
             [
              0.6666666666666666,
              "#ed7953"
             ],
             [
              0.7777777777777778,
              "#fb9f3a"
             ],
             [
              0.8888888888888888,
              "#fdca26"
             ],
             [
              1,
              "#f0f921"
             ]
            ],
            "type": "histogram2d"
           }
          ],
          "histogram2dcontour": [
           {
            "colorbar": {
             "outlinewidth": 0,
             "ticks": ""
            },
            "colorscale": [
             [
              0,
              "#0d0887"
             ],
             [
              0.1111111111111111,
              "#46039f"
             ],
             [
              0.2222222222222222,
              "#7201a8"
             ],
             [
              0.3333333333333333,
              "#9c179e"
             ],
             [
              0.4444444444444444,
              "#bd3786"
             ],
             [
              0.5555555555555556,
              "#d8576b"
             ],
             [
              0.6666666666666666,
              "#ed7953"
             ],
             [
              0.7777777777777778,
              "#fb9f3a"
             ],
             [
              0.8888888888888888,
              "#fdca26"
             ],
             [
              1,
              "#f0f921"
             ]
            ],
            "type": "histogram2dcontour"
           }
          ],
          "mesh3d": [
           {
            "colorbar": {
             "outlinewidth": 0,
             "ticks": ""
            },
            "type": "mesh3d"
           }
          ],
          "parcoords": [
           {
            "line": {
             "colorbar": {
              "outlinewidth": 0,
              "ticks": ""
             }
            },
            "type": "parcoords"
           }
          ],
          "pie": [
           {
            "automargin": true,
            "type": "pie"
           }
          ],
          "scatter": [
           {
            "fillpattern": {
             "fillmode": "overlay",
             "size": 10,
             "solidity": 0.2
            },
            "type": "scatter"
           }
          ],
          "scatter3d": [
           {
            "line": {
             "colorbar": {
              "outlinewidth": 0,
              "ticks": ""
             }
            },
            "marker": {
             "colorbar": {
              "outlinewidth": 0,
              "ticks": ""
             }
            },
            "type": "scatter3d"
           }
          ],
          "scattercarpet": [
           {
            "marker": {
             "colorbar": {
              "outlinewidth": 0,
              "ticks": ""
             }
            },
            "type": "scattercarpet"
           }
          ],
          "scattergeo": [
           {
            "marker": {
             "colorbar": {
              "outlinewidth": 0,
              "ticks": ""
             }
            },
            "type": "scattergeo"
           }
          ],
          "scattergl": [
           {
            "marker": {
             "colorbar": {
              "outlinewidth": 0,
              "ticks": ""
             }
            },
            "type": "scattergl"
           }
          ],
          "scattermapbox": [
           {
            "marker": {
             "colorbar": {
              "outlinewidth": 0,
              "ticks": ""
             }
            },
            "type": "scattermapbox"
           }
          ],
          "scatterpolar": [
           {
            "marker": {
             "colorbar": {
              "outlinewidth": 0,
              "ticks": ""
             }
            },
            "type": "scatterpolar"
           }
          ],
          "scatterpolargl": [
           {
            "marker": {
             "colorbar": {
              "outlinewidth": 0,
              "ticks": ""
             }
            },
            "type": "scatterpolargl"
           }
          ],
          "scatterternary": [
           {
            "marker": {
             "colorbar": {
              "outlinewidth": 0,
              "ticks": ""
             }
            },
            "type": "scatterternary"
           }
          ],
          "surface": [
           {
            "colorbar": {
             "outlinewidth": 0,
             "ticks": ""
            },
            "colorscale": [
             [
              0,
              "#0d0887"
             ],
             [
              0.1111111111111111,
              "#46039f"
             ],
             [
              0.2222222222222222,
              "#7201a8"
             ],
             [
              0.3333333333333333,
              "#9c179e"
             ],
             [
              0.4444444444444444,
              "#bd3786"
             ],
             [
              0.5555555555555556,
              "#d8576b"
             ],
             [
              0.6666666666666666,
              "#ed7953"
             ],
             [
              0.7777777777777778,
              "#fb9f3a"
             ],
             [
              0.8888888888888888,
              "#fdca26"
             ],
             [
              1,
              "#f0f921"
             ]
            ],
            "type": "surface"
           }
          ],
          "table": [
           {
            "cells": {
             "fill": {
              "color": "#EBF0F8"
             },
             "line": {
              "color": "white"
             }
            },
            "header": {
             "fill": {
              "color": "#C8D4E3"
             },
             "line": {
              "color": "white"
             }
            },
            "type": "table"
           }
          ]
         },
         "layout": {
          "annotationdefaults": {
           "arrowcolor": "#2a3f5f",
           "arrowhead": 0,
           "arrowwidth": 1
          },
          "autotypenumbers": "strict",
          "coloraxis": {
           "colorbar": {
            "outlinewidth": 0,
            "ticks": ""
           }
          },
          "colorscale": {
           "diverging": [
            [
             0,
             "#8e0152"
            ],
            [
             0.1,
             "#c51b7d"
            ],
            [
             0.2,
             "#de77ae"
            ],
            [
             0.3,
             "#f1b6da"
            ],
            [
             0.4,
             "#fde0ef"
            ],
            [
             0.5,
             "#f7f7f7"
            ],
            [
             0.6,
             "#e6f5d0"
            ],
            [
             0.7,
             "#b8e186"
            ],
            [
             0.8,
             "#7fbc41"
            ],
            [
             0.9,
             "#4d9221"
            ],
            [
             1,
             "#276419"
            ]
           ],
           "sequential": [
            [
             0,
             "#0d0887"
            ],
            [
             0.1111111111111111,
             "#46039f"
            ],
            [
             0.2222222222222222,
             "#7201a8"
            ],
            [
             0.3333333333333333,
             "#9c179e"
            ],
            [
             0.4444444444444444,
             "#bd3786"
            ],
            [
             0.5555555555555556,
             "#d8576b"
            ],
            [
             0.6666666666666666,
             "#ed7953"
            ],
            [
             0.7777777777777778,
             "#fb9f3a"
            ],
            [
             0.8888888888888888,
             "#fdca26"
            ],
            [
             1,
             "#f0f921"
            ]
           ],
           "sequentialminus": [
            [
             0,
             "#0d0887"
            ],
            [
             0.1111111111111111,
             "#46039f"
            ],
            [
             0.2222222222222222,
             "#7201a8"
            ],
            [
             0.3333333333333333,
             "#9c179e"
            ],
            [
             0.4444444444444444,
             "#bd3786"
            ],
            [
             0.5555555555555556,
             "#d8576b"
            ],
            [
             0.6666666666666666,
             "#ed7953"
            ],
            [
             0.7777777777777778,
             "#fb9f3a"
            ],
            [
             0.8888888888888888,
             "#fdca26"
            ],
            [
             1,
             "#f0f921"
            ]
           ]
          },
          "colorway": [
           "#636efa",
           "#EF553B",
           "#00cc96",
           "#ab63fa",
           "#FFA15A",
           "#19d3f3",
           "#FF6692",
           "#B6E880",
           "#FF97FF",
           "#FECB52"
          ],
          "font": {
           "color": "#2a3f5f"
          },
          "geo": {
           "bgcolor": "white",
           "lakecolor": "white",
           "landcolor": "#E5ECF6",
           "showlakes": true,
           "showland": true,
           "subunitcolor": "white"
          },
          "hoverlabel": {
           "align": "left"
          },
          "hovermode": "closest",
          "mapbox": {
           "style": "light"
          },
          "paper_bgcolor": "white",
          "plot_bgcolor": "#E5ECF6",
          "polar": {
           "angularaxis": {
            "gridcolor": "white",
            "linecolor": "white",
            "ticks": ""
           },
           "bgcolor": "#E5ECF6",
           "radialaxis": {
            "gridcolor": "white",
            "linecolor": "white",
            "ticks": ""
           }
          },
          "scene": {
           "xaxis": {
            "backgroundcolor": "#E5ECF6",
            "gridcolor": "white",
            "gridwidth": 2,
            "linecolor": "white",
            "showbackground": true,
            "ticks": "",
            "zerolinecolor": "white"
           },
           "yaxis": {
            "backgroundcolor": "#E5ECF6",
            "gridcolor": "white",
            "gridwidth": 2,
            "linecolor": "white",
            "showbackground": true,
            "ticks": "",
            "zerolinecolor": "white"
           },
           "zaxis": {
            "backgroundcolor": "#E5ECF6",
            "gridcolor": "white",
            "gridwidth": 2,
            "linecolor": "white",
            "showbackground": true,
            "ticks": "",
            "zerolinecolor": "white"
           }
          },
          "shapedefaults": {
           "line": {
            "color": "#2a3f5f"
           }
          },
          "ternary": {
           "aaxis": {
            "gridcolor": "white",
            "linecolor": "white",
            "ticks": ""
           },
           "baxis": {
            "gridcolor": "white",
            "linecolor": "white",
            "ticks": ""
           },
           "bgcolor": "#E5ECF6",
           "caxis": {
            "gridcolor": "white",
            "linecolor": "white",
            "ticks": ""
           }
          },
          "title": {
           "x": 0.05
          },
          "xaxis": {
           "automargin": true,
           "gridcolor": "white",
           "linecolor": "white",
           "ticks": "",
           "title": {
            "standoff": 15
           },
           "zerolinecolor": "white",
           "zerolinewidth": 2
          },
          "yaxis": {
           "automargin": true,
           "gridcolor": "white",
           "linecolor": "white",
           "ticks": "",
           "title": {
            "standoff": 15
           },
           "zerolinecolor": "white",
           "zerolinewidth": 2
          }
         }
        },
        "xaxis": {
         "anchor": "y",
         "domain": [
          0,
          1
         ],
         "title": {
          "text": "Feature Names"
         }
        },
        "yaxis": {
         "anchor": "x",
         "domain": [
          0,
          1
         ],
         "title": {
          "text": "Coefficient Value"
         }
        }
       }
      }
     },
     "metadata": {},
     "output_type": "display_data"
    }
   ],
   "source": [
    "import plotly.express as px\n",
    "\n",
    "df = feature_stats_pre_2010\n",
    "fig = px.bar(\n",
    "    df, \n",
    "    x='Feature', \n",
    "    y='Coefficient',\n",
    "    hover_data=['Std_Error', 't_value', 'p_value'], \n",
    "    color='Coefficient',\n",
    "    labels={'Feature': 'Feature Names', 'Coefficient': 'Coefficient Value'},  # Correctly map labels\n",
    "    height=400\n",
    ")\n",
    "fig.show()\n",
    "fig.write_html(\"../_includes/OLS_features_pre_2010.html\")"
   ]
  },
  {
   "cell_type": "code",
   "execution_count": 427,
   "metadata": {},
   "outputs": [
    {
     "data": {
      "application/vnd.plotly.v1+json": {
       "config": {
        "plotlyServerURL": "https://plot.ly"
       },
       "data": [
        {
         "alignmentgroup": "True",
         "customdata": [
          [
           0.14857709447591472,
           3.6341243358692963,
           0.00028896614168515686
          ],
          [
           0.15722356608829,
           -2.950420322877186,
           0.0032259062485544498
          ],
          [
           0.15090660186045668,
           -2.494383008186949,
           0.012731621268171449
          ],
          [
           0.11855010142743758,
           3.1599958311693164,
           0.0016113160604427437
          ],
          [
           0.11504974856763557,
           3.0222890083062235,
           0.002554033517382521
          ],
          [
           0.07578381299629938,
           4.015344813434343,
           0.00006249093037702357
          ],
          [
           0.035661945323506423,
           7.6032852900726215,
           5.250117013947622e-14
          ],
          [
           0.10943046255345905,
           2.414473723325021,
           0.015884876213698978
          ],
          [
           0.10477643476451944,
           2.3209987645685493,
           0.02042922671337176
          ],
          [
           0.06161055301730265,
           -3.666827928984994,
           0.00025472371388968873
          ],
          [
           0.03648320882230855,
           -6.083683603589453,
           1.511206026631437e-9
          ],
          [
           0.0673462719181923,
           2.9647259024330745,
           0.0030805304275583274
          ],
          [
           0.07057457257740352,
           2.3584272231592838,
           0.018488693175012557
          ],
          [
           0.033908835338820636,
           2.488882541979116,
           0.01292939736081452
          ],
          [
           0.02496420327960181,
           2.799238993649278,
           0.005192268076854972
          ],
          [
           0.03509062360323684,
           1.9699557926129647,
           0.049039304965404554
          ]
         ],
         "hovertemplate": "Feature Names=%{x}<br>Coefficient Value=%{marker.color}<br>Std_Error=%{customdata[0]}<br>t_value=%{customdata[1]}<br>p_value=%{customdata[2]}<extra></extra>",
         "legendgroup": "",
         "marker": {
          "color": [
           0.5399476347876733,
           -0.4638756046221152,
           -0.37641886350395615,
           0.37461782629540236,
           0.3477135905043597,
           0.30429814045696885,
           0.2711479442935905,
           0.26421697636662955,
           0.2431859756443468,
           -0.22591529652405604,
           -0.2219522993186086,
           0.1996632367881659,
           0.1664449932293791,
           0.08439510829363518,
           0.06988077126564858,
           0.06912697723359763
          ],
          "coloraxis": "coloraxis",
          "pattern": {
           "shape": ""
          }
         },
         "name": "",
         "offsetgroup": "",
         "orientation": "v",
         "showlegend": false,
         "textposition": "auto",
         "type": "bar",
         "x": [
          "animation",
          "sports",
          "emotion_surprise",
          "Month_Dec",
          "Month_Nov",
          "adventure",
          "Budget(USD)_Inflated",
          "Month_Oct",
          "emotion_disgust",
          "comedy",
          "Audience_Score",
          "thriller",
          "action",
          "Runtime(mins)",
          "emotion_score",
          "Critics_Score"
         ],
         "xaxis": "x",
         "y": [
          0.5399476347876733,
          -0.4638756046221152,
          -0.37641886350395615,
          0.37461782629540236,
          0.3477135905043597,
          0.30429814045696885,
          0.2711479442935905,
          0.26421697636662955,
          0.2431859756443468,
          -0.22591529652405604,
          -0.2219522993186086,
          0.1996632367881659,
          0.1664449932293791,
          0.08439510829363518,
          0.06988077126564858,
          0.06912697723359763
         ],
         "yaxis": "y"
        }
       ],
       "layout": {
        "barmode": "relative",
        "coloraxis": {
         "colorbar": {
          "title": {
           "text": "Coefficient Value"
          }
         },
         "colorscale": [
          [
           0,
           "#0d0887"
          ],
          [
           0.1111111111111111,
           "#46039f"
          ],
          [
           0.2222222222222222,
           "#7201a8"
          ],
          [
           0.3333333333333333,
           "#9c179e"
          ],
          [
           0.4444444444444444,
           "#bd3786"
          ],
          [
           0.5555555555555556,
           "#d8576b"
          ],
          [
           0.6666666666666666,
           "#ed7953"
          ],
          [
           0.7777777777777778,
           "#fb9f3a"
          ],
          [
           0.8888888888888888,
           "#fdca26"
          ],
          [
           1,
           "#f0f921"
          ]
         ]
        },
        "height": 400,
        "legend": {
         "tracegroupgap": 0
        },
        "margin": {
         "t": 60
        },
        "template": {
         "data": {
          "bar": [
           {
            "error_x": {
             "color": "#2a3f5f"
            },
            "error_y": {
             "color": "#2a3f5f"
            },
            "marker": {
             "line": {
              "color": "#E5ECF6",
              "width": 0.5
             },
             "pattern": {
              "fillmode": "overlay",
              "size": 10,
              "solidity": 0.2
             }
            },
            "type": "bar"
           }
          ],
          "barpolar": [
           {
            "marker": {
             "line": {
              "color": "#E5ECF6",
              "width": 0.5
             },
             "pattern": {
              "fillmode": "overlay",
              "size": 10,
              "solidity": 0.2
             }
            },
            "type": "barpolar"
           }
          ],
          "carpet": [
           {
            "aaxis": {
             "endlinecolor": "#2a3f5f",
             "gridcolor": "white",
             "linecolor": "white",
             "minorgridcolor": "white",
             "startlinecolor": "#2a3f5f"
            },
            "baxis": {
             "endlinecolor": "#2a3f5f",
             "gridcolor": "white",
             "linecolor": "white",
             "minorgridcolor": "white",
             "startlinecolor": "#2a3f5f"
            },
            "type": "carpet"
           }
          ],
          "choropleth": [
           {
            "colorbar": {
             "outlinewidth": 0,
             "ticks": ""
            },
            "type": "choropleth"
           }
          ],
          "contour": [
           {
            "colorbar": {
             "outlinewidth": 0,
             "ticks": ""
            },
            "colorscale": [
             [
              0,
              "#0d0887"
             ],
             [
              0.1111111111111111,
              "#46039f"
             ],
             [
              0.2222222222222222,
              "#7201a8"
             ],
             [
              0.3333333333333333,
              "#9c179e"
             ],
             [
              0.4444444444444444,
              "#bd3786"
             ],
             [
              0.5555555555555556,
              "#d8576b"
             ],
             [
              0.6666666666666666,
              "#ed7953"
             ],
             [
              0.7777777777777778,
              "#fb9f3a"
             ],
             [
              0.8888888888888888,
              "#fdca26"
             ],
             [
              1,
              "#f0f921"
             ]
            ],
            "type": "contour"
           }
          ],
          "contourcarpet": [
           {
            "colorbar": {
             "outlinewidth": 0,
             "ticks": ""
            },
            "type": "contourcarpet"
           }
          ],
          "heatmap": [
           {
            "colorbar": {
             "outlinewidth": 0,
             "ticks": ""
            },
            "colorscale": [
             [
              0,
              "#0d0887"
             ],
             [
              0.1111111111111111,
              "#46039f"
             ],
             [
              0.2222222222222222,
              "#7201a8"
             ],
             [
              0.3333333333333333,
              "#9c179e"
             ],
             [
              0.4444444444444444,
              "#bd3786"
             ],
             [
              0.5555555555555556,
              "#d8576b"
             ],
             [
              0.6666666666666666,
              "#ed7953"
             ],
             [
              0.7777777777777778,
              "#fb9f3a"
             ],
             [
              0.8888888888888888,
              "#fdca26"
             ],
             [
              1,
              "#f0f921"
             ]
            ],
            "type": "heatmap"
           }
          ],
          "heatmapgl": [
           {
            "colorbar": {
             "outlinewidth": 0,
             "ticks": ""
            },
            "colorscale": [
             [
              0,
              "#0d0887"
             ],
             [
              0.1111111111111111,
              "#46039f"
             ],
             [
              0.2222222222222222,
              "#7201a8"
             ],
             [
              0.3333333333333333,
              "#9c179e"
             ],
             [
              0.4444444444444444,
              "#bd3786"
             ],
             [
              0.5555555555555556,
              "#d8576b"
             ],
             [
              0.6666666666666666,
              "#ed7953"
             ],
             [
              0.7777777777777778,
              "#fb9f3a"
             ],
             [
              0.8888888888888888,
              "#fdca26"
             ],
             [
              1,
              "#f0f921"
             ]
            ],
            "type": "heatmapgl"
           }
          ],
          "histogram": [
           {
            "marker": {
             "pattern": {
              "fillmode": "overlay",
              "size": 10,
              "solidity": 0.2
             }
            },
            "type": "histogram"
           }
          ],
          "histogram2d": [
           {
            "colorbar": {
             "outlinewidth": 0,
             "ticks": ""
            },
            "colorscale": [
             [
              0,
              "#0d0887"
             ],
             [
              0.1111111111111111,
              "#46039f"
             ],
             [
              0.2222222222222222,
              "#7201a8"
             ],
             [
              0.3333333333333333,
              "#9c179e"
             ],
             [
              0.4444444444444444,
              "#bd3786"
             ],
             [
              0.5555555555555556,
              "#d8576b"
             ],
             [
              0.6666666666666666,
              "#ed7953"
             ],
             [
              0.7777777777777778,
              "#fb9f3a"
             ],
             [
              0.8888888888888888,
              "#fdca26"
             ],
             [
              1,
              "#f0f921"
             ]
            ],
            "type": "histogram2d"
           }
          ],
          "histogram2dcontour": [
           {
            "colorbar": {
             "outlinewidth": 0,
             "ticks": ""
            },
            "colorscale": [
             [
              0,
              "#0d0887"
             ],
             [
              0.1111111111111111,
              "#46039f"
             ],
             [
              0.2222222222222222,
              "#7201a8"
             ],
             [
              0.3333333333333333,
              "#9c179e"
             ],
             [
              0.4444444444444444,
              "#bd3786"
             ],
             [
              0.5555555555555556,
              "#d8576b"
             ],
             [
              0.6666666666666666,
              "#ed7953"
             ],
             [
              0.7777777777777778,
              "#fb9f3a"
             ],
             [
              0.8888888888888888,
              "#fdca26"
             ],
             [
              1,
              "#f0f921"
             ]
            ],
            "type": "histogram2dcontour"
           }
          ],
          "mesh3d": [
           {
            "colorbar": {
             "outlinewidth": 0,
             "ticks": ""
            },
            "type": "mesh3d"
           }
          ],
          "parcoords": [
           {
            "line": {
             "colorbar": {
              "outlinewidth": 0,
              "ticks": ""
             }
            },
            "type": "parcoords"
           }
          ],
          "pie": [
           {
            "automargin": true,
            "type": "pie"
           }
          ],
          "scatter": [
           {
            "fillpattern": {
             "fillmode": "overlay",
             "size": 10,
             "solidity": 0.2
            },
            "type": "scatter"
           }
          ],
          "scatter3d": [
           {
            "line": {
             "colorbar": {
              "outlinewidth": 0,
              "ticks": ""
             }
            },
            "marker": {
             "colorbar": {
              "outlinewidth": 0,
              "ticks": ""
             }
            },
            "type": "scatter3d"
           }
          ],
          "scattercarpet": [
           {
            "marker": {
             "colorbar": {
              "outlinewidth": 0,
              "ticks": ""
             }
            },
            "type": "scattercarpet"
           }
          ],
          "scattergeo": [
           {
            "marker": {
             "colorbar": {
              "outlinewidth": 0,
              "ticks": ""
             }
            },
            "type": "scattergeo"
           }
          ],
          "scattergl": [
           {
            "marker": {
             "colorbar": {
              "outlinewidth": 0,
              "ticks": ""
             }
            },
            "type": "scattergl"
           }
          ],
          "scattermapbox": [
           {
            "marker": {
             "colorbar": {
              "outlinewidth": 0,
              "ticks": ""
             }
            },
            "type": "scattermapbox"
           }
          ],
          "scatterpolar": [
           {
            "marker": {
             "colorbar": {
              "outlinewidth": 0,
              "ticks": ""
             }
            },
            "type": "scatterpolar"
           }
          ],
          "scatterpolargl": [
           {
            "marker": {
             "colorbar": {
              "outlinewidth": 0,
              "ticks": ""
             }
            },
            "type": "scatterpolargl"
           }
          ],
          "scatterternary": [
           {
            "marker": {
             "colorbar": {
              "outlinewidth": 0,
              "ticks": ""
             }
            },
            "type": "scatterternary"
           }
          ],
          "surface": [
           {
            "colorbar": {
             "outlinewidth": 0,
             "ticks": ""
            },
            "colorscale": [
             [
              0,
              "#0d0887"
             ],
             [
              0.1111111111111111,
              "#46039f"
             ],
             [
              0.2222222222222222,
              "#7201a8"
             ],
             [
              0.3333333333333333,
              "#9c179e"
             ],
             [
              0.4444444444444444,
              "#bd3786"
             ],
             [
              0.5555555555555556,
              "#d8576b"
             ],
             [
              0.6666666666666666,
              "#ed7953"
             ],
             [
              0.7777777777777778,
              "#fb9f3a"
             ],
             [
              0.8888888888888888,
              "#fdca26"
             ],
             [
              1,
              "#f0f921"
             ]
            ],
            "type": "surface"
           }
          ],
          "table": [
           {
            "cells": {
             "fill": {
              "color": "#EBF0F8"
             },
             "line": {
              "color": "white"
             }
            },
            "header": {
             "fill": {
              "color": "#C8D4E3"
             },
             "line": {
              "color": "white"
             }
            },
            "type": "table"
           }
          ]
         },
         "layout": {
          "annotationdefaults": {
           "arrowcolor": "#2a3f5f",
           "arrowhead": 0,
           "arrowwidth": 1
          },
          "autotypenumbers": "strict",
          "coloraxis": {
           "colorbar": {
            "outlinewidth": 0,
            "ticks": ""
           }
          },
          "colorscale": {
           "diverging": [
            [
             0,
             "#8e0152"
            ],
            [
             0.1,
             "#c51b7d"
            ],
            [
             0.2,
             "#de77ae"
            ],
            [
             0.3,
             "#f1b6da"
            ],
            [
             0.4,
             "#fde0ef"
            ],
            [
             0.5,
             "#f7f7f7"
            ],
            [
             0.6,
             "#e6f5d0"
            ],
            [
             0.7,
             "#b8e186"
            ],
            [
             0.8,
             "#7fbc41"
            ],
            [
             0.9,
             "#4d9221"
            ],
            [
             1,
             "#276419"
            ]
           ],
           "sequential": [
            [
             0,
             "#0d0887"
            ],
            [
             0.1111111111111111,
             "#46039f"
            ],
            [
             0.2222222222222222,
             "#7201a8"
            ],
            [
             0.3333333333333333,
             "#9c179e"
            ],
            [
             0.4444444444444444,
             "#bd3786"
            ],
            [
             0.5555555555555556,
             "#d8576b"
            ],
            [
             0.6666666666666666,
             "#ed7953"
            ],
            [
             0.7777777777777778,
             "#fb9f3a"
            ],
            [
             0.8888888888888888,
             "#fdca26"
            ],
            [
             1,
             "#f0f921"
            ]
           ],
           "sequentialminus": [
            [
             0,
             "#0d0887"
            ],
            [
             0.1111111111111111,
             "#46039f"
            ],
            [
             0.2222222222222222,
             "#7201a8"
            ],
            [
             0.3333333333333333,
             "#9c179e"
            ],
            [
             0.4444444444444444,
             "#bd3786"
            ],
            [
             0.5555555555555556,
             "#d8576b"
            ],
            [
             0.6666666666666666,
             "#ed7953"
            ],
            [
             0.7777777777777778,
             "#fb9f3a"
            ],
            [
             0.8888888888888888,
             "#fdca26"
            ],
            [
             1,
             "#f0f921"
            ]
           ]
          },
          "colorway": [
           "#636efa",
           "#EF553B",
           "#00cc96",
           "#ab63fa",
           "#FFA15A",
           "#19d3f3",
           "#FF6692",
           "#B6E880",
           "#FF97FF",
           "#FECB52"
          ],
          "font": {
           "color": "#2a3f5f"
          },
          "geo": {
           "bgcolor": "white",
           "lakecolor": "white",
           "landcolor": "#E5ECF6",
           "showlakes": true,
           "showland": true,
           "subunitcolor": "white"
          },
          "hoverlabel": {
           "align": "left"
          },
          "hovermode": "closest",
          "mapbox": {
           "style": "light"
          },
          "paper_bgcolor": "white",
          "plot_bgcolor": "#E5ECF6",
          "polar": {
           "angularaxis": {
            "gridcolor": "white",
            "linecolor": "white",
            "ticks": ""
           },
           "bgcolor": "#E5ECF6",
           "radialaxis": {
            "gridcolor": "white",
            "linecolor": "white",
            "ticks": ""
           }
          },
          "scene": {
           "xaxis": {
            "backgroundcolor": "#E5ECF6",
            "gridcolor": "white",
            "gridwidth": 2,
            "linecolor": "white",
            "showbackground": true,
            "ticks": "",
            "zerolinecolor": "white"
           },
           "yaxis": {
            "backgroundcolor": "#E5ECF6",
            "gridcolor": "white",
            "gridwidth": 2,
            "linecolor": "white",
            "showbackground": true,
            "ticks": "",
            "zerolinecolor": "white"
           },
           "zaxis": {
            "backgroundcolor": "#E5ECF6",
            "gridcolor": "white",
            "gridwidth": 2,
            "linecolor": "white",
            "showbackground": true,
            "ticks": "",
            "zerolinecolor": "white"
           }
          },
          "shapedefaults": {
           "line": {
            "color": "#2a3f5f"
           }
          },
          "ternary": {
           "aaxis": {
            "gridcolor": "white",
            "linecolor": "white",
            "ticks": ""
           },
           "baxis": {
            "gridcolor": "white",
            "linecolor": "white",
            "ticks": ""
           },
           "bgcolor": "#E5ECF6",
           "caxis": {
            "gridcolor": "white",
            "linecolor": "white",
            "ticks": ""
           }
          },
          "title": {
           "x": 0.05
          },
          "xaxis": {
           "automargin": true,
           "gridcolor": "white",
           "linecolor": "white",
           "ticks": "",
           "title": {
            "standoff": 15
           },
           "zerolinecolor": "white",
           "zerolinewidth": 2
          },
          "yaxis": {
           "automargin": true,
           "gridcolor": "white",
           "linecolor": "white",
           "ticks": "",
           "title": {
            "standoff": 15
           },
           "zerolinecolor": "white",
           "zerolinewidth": 2
          }
         }
        },
        "xaxis": {
         "anchor": "y",
         "domain": [
          0,
          1
         ],
         "title": {
          "text": "Feature Names"
         }
        },
        "yaxis": {
         "anchor": "x",
         "domain": [
          0,
          1
         ],
         "title": {
          "text": "Coefficient Value"
         }
        }
       }
      }
     },
     "metadata": {},
     "output_type": "display_data"
    }
   ],
   "source": [
    "import plotly.express as px\n",
    "\n",
    "# Your dataset\n",
    "df = feature_stats_post_2010\n",
    "\n",
    "# Sorting features by absolute coefficient value for better visualization (optional)\n",
    "df_sorted = df.sort_values(by=\"Coefficient\", key=abs, ascending=False)\n",
    "\n",
    "# Creating the bar plot\n",
    "fig = px.bar(\n",
    "    df_sorted, \n",
    "    x='Feature', \n",
    "    y='Coefficient', \n",
    "    hover_data=['Std_Error', 't_value', 'p_value'], \n",
    "    color='Coefficient',\n",
    "    labels={'Feature': 'Feature Names', 'Coefficient': 'Coefficient Value'},  # Map column names for display\n",
    "    height=400\n",
    ")\n",
    "\n",
    "# Display the plot\n",
    "fig.show()\n",
    "fig.write_html(\"../_includes/OLS_features_post_2010.html\")"
   ]
  },
  {
   "cell_type": "code",
   "execution_count": null,
   "metadata": {},
   "outputs": [],
   "source": []
  }
 ],
 "metadata": {
  "kernelspec": {
   "display_name": "ada",
   "language": "python",
   "name": "python3"
  },
  "language_info": {
   "codemirror_mode": {
    "name": "ipython",
    "version": 3
   },
   "file_extension": ".py",
   "mimetype": "text/x-python",
   "name": "python",
   "nbconvert_exporter": "python",
   "pygments_lexer": "ipython3",
   "version": "3.11.9"
  }
 },
 "nbformat": 4,
 "nbformat_minor": 2
}
