{
 "cells": [
  {
   "cell_type": "code",
   "execution_count": 768,
   "metadata": {},
   "outputs": [],
   "source": [
    "import pandas as pd\n",
    "import numpy as np\n",
    "import matplotlib.pyplot as plt\n",
    "import statsmodels.api as sm\n",
    "import random\n",
    "from sklearn.preprocessing import StandardScaler\n",
    "import plotly.express as px\n"
   ]
  },
  {
   "cell_type": "code",
   "execution_count": 769,
   "metadata": {},
   "outputs": [
    {
     "data": {
      "text/html": [
       "<div>\n",
       "<style scoped>\n",
       "    .dataframe tbody tr th:only-of-type {\n",
       "        vertical-align: middle;\n",
       "    }\n",
       "\n",
       "    .dataframe tbody tr th {\n",
       "        vertical-align: top;\n",
       "    }\n",
       "\n",
       "    .dataframe thead th {\n",
       "        text-align: right;\n",
       "    }\n",
       "</style>\n",
       "<table border=\"1\" class=\"dataframe\">\n",
       "  <thead>\n",
       "    <tr style=\"text-align: right;\">\n",
       "      <th></th>\n",
       "      <th>Name</th>\n",
       "      <th>Genres</th>\n",
       "      <th>Budget(USD)_Inflated</th>\n",
       "      <th>Domestic(USD)_Inflated</th>\n",
       "      <th>Domestic_Percentage</th>\n",
       "      <th>Foreign(USD)_Inflated</th>\n",
       "      <th>Foreign_Percentage</th>\n",
       "      <th>Worldwide(USD)_Inflated</th>\n",
       "      <th>Runtime(mins)</th>\n",
       "      <th>Rating</th>\n",
       "      <th>...</th>\n",
       "      <th>period piece</th>\n",
       "      <th>animation</th>\n",
       "      <th>teen</th>\n",
       "      <th>film adaptation</th>\n",
       "      <th>musical</th>\n",
       "      <th>history</th>\n",
       "      <th>coming of age</th>\n",
       "      <th>sports</th>\n",
       "      <th>war</th>\n",
       "      <th>Worldwide_profit</th>\n",
       "    </tr>\n",
       "  </thead>\n",
       "  <tbody>\n",
       "    <tr>\n",
       "      <th>0</th>\n",
       "      <td>10 cloverfield lane</td>\n",
       "      <td>drama, thriller, horror, sci-fi</td>\n",
       "      <td>6.076746e+06</td>\n",
       "      <td>8.760602e+07</td>\n",
       "      <td>0.654010</td>\n",
       "      <td>4.634613e+07</td>\n",
       "      <td>0.345990</td>\n",
       "      <td>1.339521e+08</td>\n",
       "      <td>103</td>\n",
       "      <td>pg-13</td>\n",
       "      <td>...</td>\n",
       "      <td>0</td>\n",
       "      <td>0</td>\n",
       "      <td>0</td>\n",
       "      <td>0</td>\n",
       "      <td>0</td>\n",
       "      <td>0</td>\n",
       "      <td>0</td>\n",
       "      <td>0</td>\n",
       "      <td>0</td>\n",
       "      <td>22.043400</td>\n",
       "    </tr>\n",
       "    <tr>\n",
       "      <th>1</th>\n",
       "      <td>10,000 bc</td>\n",
       "      <td>drama, thriller, action, adventure, romance fi...</td>\n",
       "      <td>1.441563e+08</td>\n",
       "      <td>1.301309e+08</td>\n",
       "      <td>0.351333</td>\n",
       "      <td>2.402606e+08</td>\n",
       "      <td>0.648667</td>\n",
       "      <td>3.703914e+08</td>\n",
       "      <td>109</td>\n",
       "      <td>pg-13</td>\n",
       "      <td>...</td>\n",
       "      <td>0</td>\n",
       "      <td>0</td>\n",
       "      <td>0</td>\n",
       "      <td>0</td>\n",
       "      <td>0</td>\n",
       "      <td>0</td>\n",
       "      <td>0</td>\n",
       "      <td>0</td>\n",
       "      <td>0</td>\n",
       "      <td>2.569373</td>\n",
       "    </tr>\n",
       "    <tr>\n",
       "      <th>2</th>\n",
       "      <td>12 rounds</td>\n",
       "      <td>thriller, action, crime</td>\n",
       "      <td>2.726275e+07</td>\n",
       "      <td>1.667757e+07</td>\n",
       "      <td>0.708013</td>\n",
       "      <td>6.877890e+06</td>\n",
       "      <td>0.291987</td>\n",
       "      <td>2.355546e+07</td>\n",
       "      <td>108</td>\n",
       "      <td>pg-13</td>\n",
       "      <td>...</td>\n",
       "      <td>0</td>\n",
       "      <td>0</td>\n",
       "      <td>0</td>\n",
       "      <td>0</td>\n",
       "      <td>0</td>\n",
       "      <td>0</td>\n",
       "      <td>0</td>\n",
       "      <td>0</td>\n",
       "      <td>0</td>\n",
       "      <td>0.864016</td>\n",
       "    </tr>\n",
       "    <tr>\n",
       "      <th>3</th>\n",
       "      <td>12 strong</td>\n",
       "      <td>drama, action, history, war</td>\n",
       "      <td>3.979050e+07</td>\n",
       "      <td>5.209113e+07</td>\n",
       "      <td>0.644274</td>\n",
       "      <td>2.876133e+07</td>\n",
       "      <td>0.355726</td>\n",
       "      <td>8.085246e+07</td>\n",
       "      <td>130</td>\n",
       "      <td>r</td>\n",
       "      <td>...</td>\n",
       "      <td>0</td>\n",
       "      <td>0</td>\n",
       "      <td>0</td>\n",
       "      <td>0</td>\n",
       "      <td>0</td>\n",
       "      <td>1</td>\n",
       "      <td>0</td>\n",
       "      <td>0</td>\n",
       "      <td>1</td>\n",
       "      <td>2.031954</td>\n",
       "    </tr>\n",
       "    <tr>\n",
       "      <th>4</th>\n",
       "      <td>12 years a slave</td>\n",
       "      <td>drama, biography, history</td>\n",
       "      <td>2.539260e+07</td>\n",
       "      <td>7.195247e+07</td>\n",
       "      <td>0.301875</td>\n",
       "      <td>1.663993e+08</td>\n",
       "      <td>0.698125</td>\n",
       "      <td>2.383517e+08</td>\n",
       "      <td>134</td>\n",
       "      <td>r</td>\n",
       "      <td>...</td>\n",
       "      <td>0</td>\n",
       "      <td>0</td>\n",
       "      <td>0</td>\n",
       "      <td>0</td>\n",
       "      <td>0</td>\n",
       "      <td>1</td>\n",
       "      <td>0</td>\n",
       "      <td>0</td>\n",
       "      <td>0</td>\n",
       "      <td>9.386660</td>\n",
       "    </tr>\n",
       "    <tr>\n",
       "      <th>...</th>\n",
       "      <td>...</td>\n",
       "      <td>...</td>\n",
       "      <td>...</td>\n",
       "      <td>...</td>\n",
       "      <td>...</td>\n",
       "      <td>...</td>\n",
       "      <td>...</td>\n",
       "      <td>...</td>\n",
       "      <td>...</td>\n",
       "      <td>...</td>\n",
       "      <td>...</td>\n",
       "      <td>...</td>\n",
       "      <td>...</td>\n",
       "      <td>...</td>\n",
       "      <td>...</td>\n",
       "      <td>...</td>\n",
       "      <td>...</td>\n",
       "      <td>...</td>\n",
       "      <td>...</td>\n",
       "      <td>...</td>\n",
       "      <td>...</td>\n",
       "    </tr>\n",
       "    <tr>\n",
       "      <th>2684</th>\n",
       "      <td>zoolander</td>\n",
       "      <td>comedy</td>\n",
       "      <td>4.851315e+07</td>\n",
       "      <td>7.826600e+07</td>\n",
       "      <td>0.743197</td>\n",
       "      <td>2.704388e+07</td>\n",
       "      <td>0.256803</td>\n",
       "      <td>1.053099e+08</td>\n",
       "      <td>90</td>\n",
       "      <td>pg-13</td>\n",
       "      <td>...</td>\n",
       "      <td>0</td>\n",
       "      <td>0</td>\n",
       "      <td>0</td>\n",
       "      <td>0</td>\n",
       "      <td>0</td>\n",
       "      <td>0</td>\n",
       "      <td>0</td>\n",
       "      <td>0</td>\n",
       "      <td>0</td>\n",
       "      <td>2.170749</td>\n",
       "    </tr>\n",
       "    <tr>\n",
       "      <th>2685</th>\n",
       "      <td>zoolander 2</td>\n",
       "      <td>comedy, action, adventure, romance film, mystery</td>\n",
       "      <td>6.076746e+07</td>\n",
       "      <td>3.506124e+07</td>\n",
       "      <td>0.508592</td>\n",
       "      <td>3.387664e+07</td>\n",
       "      <td>0.491408</td>\n",
       "      <td>6.893788e+07</td>\n",
       "      <td>101</td>\n",
       "      <td>pg-13</td>\n",
       "      <td>...</td>\n",
       "      <td>0</td>\n",
       "      <td>0</td>\n",
       "      <td>0</td>\n",
       "      <td>0</td>\n",
       "      <td>0</td>\n",
       "      <td>0</td>\n",
       "      <td>0</td>\n",
       "      <td>0</td>\n",
       "      <td>0</td>\n",
       "      <td>1.134454</td>\n",
       "    </tr>\n",
       "    <tr>\n",
       "      <th>2686</th>\n",
       "      <td>zoom</td>\n",
       "      <td>action, adventure, fantasy, sci-fi</td>\n",
       "      <td>5.014200e+07</td>\n",
       "      <td>1.717625e+07</td>\n",
       "      <td>0.958658</td>\n",
       "      <td>7.407176e+05</td>\n",
       "      <td>0.041342</td>\n",
       "      <td>1.791697e+07</td>\n",
       "      <td>93</td>\n",
       "      <td>pg</td>\n",
       "      <td>...</td>\n",
       "      <td>0</td>\n",
       "      <td>0</td>\n",
       "      <td>0</td>\n",
       "      <td>0</td>\n",
       "      <td>0</td>\n",
       "      <td>0</td>\n",
       "      <td>0</td>\n",
       "      <td>0</td>\n",
       "      <td>0</td>\n",
       "      <td>0.357325</td>\n",
       "    </tr>\n",
       "    <tr>\n",
       "      <th>2687</th>\n",
       "      <td>zootopia</td>\n",
       "      <td>comedy, action, adventure, mystery, crime, fam...</td>\n",
       "      <td>1.823024e+08</td>\n",
       "      <td>4.147601e+08</td>\n",
       "      <td>0.333340</td>\n",
       "      <td>8.294952e+08</td>\n",
       "      <td>0.666660</td>\n",
       "      <td>1.244255e+09</td>\n",
       "      <td>108</td>\n",
       "      <td>pg</td>\n",
       "      <td>...</td>\n",
       "      <td>0</td>\n",
       "      <td>1</td>\n",
       "      <td>0</td>\n",
       "      <td>0</td>\n",
       "      <td>0</td>\n",
       "      <td>0</td>\n",
       "      <td>0</td>\n",
       "      <td>0</td>\n",
       "      <td>0</td>\n",
       "      <td>6.825228</td>\n",
       "    </tr>\n",
       "    <tr>\n",
       "      <th>2688</th>\n",
       "      <td>aeon flux</td>\n",
       "      <td>thriller, action, adventure, sci-fi</td>\n",
       "      <td>9.055065e+07</td>\n",
       "      <td>3.778932e+07</td>\n",
       "      <td>0.485250</td>\n",
       "      <td>4.008668e+07</td>\n",
       "      <td>0.514750</td>\n",
       "      <td>7.787601e+07</td>\n",
       "      <td>93</td>\n",
       "      <td>pg-13</td>\n",
       "      <td>...</td>\n",
       "      <td>0</td>\n",
       "      <td>0</td>\n",
       "      <td>0</td>\n",
       "      <td>0</td>\n",
       "      <td>0</td>\n",
       "      <td>0</td>\n",
       "      <td>0</td>\n",
       "      <td>0</td>\n",
       "      <td>0</td>\n",
       "      <td>0.860027</td>\n",
       "    </tr>\n",
       "  </tbody>\n",
       "</table>\n",
       "<p>2689 rows × 43 columns</p>\n",
       "</div>"
      ],
      "text/plain": [
       "                     Name                                             Genres  \\\n",
       "0     10 cloverfield lane                    drama, thriller, horror, sci-fi   \n",
       "1               10,000 bc  drama, thriller, action, adventure, romance fi...   \n",
       "2               12 rounds                            thriller, action, crime   \n",
       "3               12 strong                        drama, action, history, war   \n",
       "4        12 years a slave                          drama, biography, history   \n",
       "...                   ...                                                ...   \n",
       "2684            zoolander                                             comedy   \n",
       "2685          zoolander 2   comedy, action, adventure, romance film, mystery   \n",
       "2686                 zoom                 action, adventure, fantasy, sci-fi   \n",
       "2687             zootopia  comedy, action, adventure, mystery, crime, fam...   \n",
       "2688            aeon flux                thriller, action, adventure, sci-fi   \n",
       "\n",
       "      Budget(USD)_Inflated  Domestic(USD)_Inflated  Domestic_Percentage  \\\n",
       "0             6.076746e+06            8.760602e+07             0.654010   \n",
       "1             1.441563e+08            1.301309e+08             0.351333   \n",
       "2             2.726275e+07            1.667757e+07             0.708013   \n",
       "3             3.979050e+07            5.209113e+07             0.644274   \n",
       "4             2.539260e+07            7.195247e+07             0.301875   \n",
       "...                    ...                     ...                  ...   \n",
       "2684          4.851315e+07            7.826600e+07             0.743197   \n",
       "2685          6.076746e+07            3.506124e+07             0.508592   \n",
       "2686          5.014200e+07            1.717625e+07             0.958658   \n",
       "2687          1.823024e+08            4.147601e+08             0.333340   \n",
       "2688          9.055065e+07            3.778932e+07             0.485250   \n",
       "\n",
       "      Foreign(USD)_Inflated  Foreign_Percentage  Worldwide(USD)_Inflated  \\\n",
       "0              4.634613e+07            0.345990             1.339521e+08   \n",
       "1              2.402606e+08            0.648667             3.703914e+08   \n",
       "2              6.877890e+06            0.291987             2.355546e+07   \n",
       "3              2.876133e+07            0.355726             8.085246e+07   \n",
       "4              1.663993e+08            0.698125             2.383517e+08   \n",
       "...                     ...                 ...                      ...   \n",
       "2684           2.704388e+07            0.256803             1.053099e+08   \n",
       "2685           3.387664e+07            0.491408             6.893788e+07   \n",
       "2686           7.407176e+05            0.041342             1.791697e+07   \n",
       "2687           8.294952e+08            0.666660             1.244255e+09   \n",
       "2688           4.008668e+07            0.514750             7.787601e+07   \n",
       "\n",
       "      Runtime(mins) Rating  ...  period piece  animation teen film adaptation  \\\n",
       "0               103  pg-13  ...             0          0    0               0   \n",
       "1               109  pg-13  ...             0          0    0               0   \n",
       "2               108  pg-13  ...             0          0    0               0   \n",
       "3               130      r  ...             0          0    0               0   \n",
       "4               134      r  ...             0          0    0               0   \n",
       "...             ...    ...  ...           ...        ...  ...             ...   \n",
       "2684             90  pg-13  ...             0          0    0               0   \n",
       "2685            101  pg-13  ...             0          0    0               0   \n",
       "2686             93     pg  ...             0          0    0               0   \n",
       "2687            108     pg  ...             0          1    0               0   \n",
       "2688             93  pg-13  ...             0          0    0               0   \n",
       "\n",
       "      musical  history  coming of age sports  war  Worldwide_profit  \n",
       "0           0        0              0      0    0         22.043400  \n",
       "1           0        0              0      0    0          2.569373  \n",
       "2           0        0              0      0    0          0.864016  \n",
       "3           0        1              0      0    1          2.031954  \n",
       "4           0        1              0      0    0          9.386660  \n",
       "...       ...      ...            ...    ...  ...               ...  \n",
       "2684        0        0              0      0    0          2.170749  \n",
       "2685        0        0              0      0    0          1.134454  \n",
       "2686        0        0              0      0    0          0.357325  \n",
       "2687        0        0              0      0    0          6.825228  \n",
       "2688        0        0              0      0    0          0.860027  \n",
       "\n",
       "[2689 rows x 43 columns]"
      ]
     },
     "execution_count": 769,
     "metadata": {},
     "output_type": "execute_result"
    }
   ],
   "source": [
    "final_df = pd.read_csv('../data/movie_final_dataset.csv')\n",
    "final_df"
   ]
  },
  {
   "cell_type": "code",
   "execution_count": 770,
   "metadata": {},
   "outputs": [
    {
     "data": {
      "text/plain": [
       "Index(['Name', 'Genres', 'Budget(USD)_Inflated', 'Domestic(USD)_Inflated',\n",
       "       'Domestic_Percentage', 'Foreign(USD)_Inflated', 'Foreign_Percentage',\n",
       "       'Worldwide(USD)_Inflated', 'Runtime(mins)', 'Rating', 'Audience_Score',\n",
       "       'Critics_Score', 'plot_summary', 'Month', 'Day', 'Year',\n",
       "       'Foreign_higher', 'emotion', 'emotion_score', 'drama', 'comedy',\n",
       "       'thriller', 'action', 'adventure', 'romance film', 'horror', 'fantasy',\n",
       "       'mystery', 'crime', 'indie', 'biography', 'family', 'sci-fi',\n",
       "       'period piece', 'animation', 'teen', 'film adaptation', 'musical',\n",
       "       'history', 'coming of age', 'sports', 'war', 'Worldwide_profit'],\n",
       "      dtype='object')"
      ]
     },
     "execution_count": 770,
     "metadata": {},
     "output_type": "execute_result"
    }
   ],
   "source": [
    "final_df.columns"
   ]
  },
  {
   "cell_type": "markdown",
   "metadata": {},
   "source": [
    "## Pre-processing for OLS "
   ]
  },
  {
   "cell_type": "code",
   "execution_count": 771,
   "metadata": {},
   "outputs": [],
   "source": [
    "# Dropping columns deemed irrelevant for the model\n",
    "df_ols = final_df.drop(columns=[ \"Genres\", \"Day\",\"Name\", \"plot_summary\", \"Worldwide(USD)_Inflated\", \"Domestic(USD)_Inflated\", \"Foreign(USD)_Inflated\", \"Worldwide(USD)_Inflated\", \"Foreign_higher\", \"emotion_score\", \"Worldwide_profit\"])"
   ]
  },
  {
   "cell_type": "code",
   "execution_count": 772,
   "metadata": {},
   "outputs": [
    {
     "data": {
      "text/html": [
       "<div>\n",
       "<style scoped>\n",
       "    .dataframe tbody tr th:only-of-type {\n",
       "        vertical-align: middle;\n",
       "    }\n",
       "\n",
       "    .dataframe tbody tr th {\n",
       "        vertical-align: top;\n",
       "    }\n",
       "\n",
       "    .dataframe thead th {\n",
       "        text-align: right;\n",
       "    }\n",
       "</style>\n",
       "<table border=\"1\" class=\"dataframe\">\n",
       "  <thead>\n",
       "    <tr style=\"text-align: right;\">\n",
       "      <th></th>\n",
       "      <th>Budget(USD)_Inflated</th>\n",
       "      <th>Domestic_Percentage</th>\n",
       "      <th>Foreign_Percentage</th>\n",
       "      <th>Runtime(mins)</th>\n",
       "      <th>Rating</th>\n",
       "      <th>Audience_Score</th>\n",
       "      <th>Critics_Score</th>\n",
       "      <th>Month</th>\n",
       "      <th>Year</th>\n",
       "      <th>emotion</th>\n",
       "      <th>...</th>\n",
       "      <th>sci-fi</th>\n",
       "      <th>period piece</th>\n",
       "      <th>animation</th>\n",
       "      <th>teen</th>\n",
       "      <th>film adaptation</th>\n",
       "      <th>musical</th>\n",
       "      <th>history</th>\n",
       "      <th>coming of age</th>\n",
       "      <th>sports</th>\n",
       "      <th>war</th>\n",
       "    </tr>\n",
       "  </thead>\n",
       "  <tbody>\n",
       "    <tr>\n",
       "      <th>0</th>\n",
       "      <td>6.076746e+06</td>\n",
       "      <td>0.654010</td>\n",
       "      <td>0.345990</td>\n",
       "      <td>103</td>\n",
       "      <td>pg-13</td>\n",
       "      <td>0.79</td>\n",
       "      <td>0.91</td>\n",
       "      <td>Mar</td>\n",
       "      <td>2016</td>\n",
       "      <td>fear</td>\n",
       "      <td>...</td>\n",
       "      <td>1</td>\n",
       "      <td>0</td>\n",
       "      <td>0</td>\n",
       "      <td>0</td>\n",
       "      <td>0</td>\n",
       "      <td>0</td>\n",
       "      <td>0</td>\n",
       "      <td>0</td>\n",
       "      <td>0</td>\n",
       "      <td>0</td>\n",
       "    </tr>\n",
       "    <tr>\n",
       "      <th>1</th>\n",
       "      <td>1.441563e+08</td>\n",
       "      <td>0.351333</td>\n",
       "      <td>0.648667</td>\n",
       "      <td>109</td>\n",
       "      <td>pg-13</td>\n",
       "      <td>0.37</td>\n",
       "      <td>0.10</td>\n",
       "      <td>Mar</td>\n",
       "      <td>2008</td>\n",
       "      <td>fear</td>\n",
       "      <td>...</td>\n",
       "      <td>0</td>\n",
       "      <td>0</td>\n",
       "      <td>0</td>\n",
       "      <td>0</td>\n",
       "      <td>0</td>\n",
       "      <td>0</td>\n",
       "      <td>0</td>\n",
       "      <td>0</td>\n",
       "      <td>0</td>\n",
       "      <td>0</td>\n",
       "    </tr>\n",
       "    <tr>\n",
       "      <th>2</th>\n",
       "      <td>2.726275e+07</td>\n",
       "      <td>0.708013</td>\n",
       "      <td>0.291987</td>\n",
       "      <td>108</td>\n",
       "      <td>pg-13</td>\n",
       "      <td>0.45</td>\n",
       "      <td>0.31</td>\n",
       "      <td>Mar</td>\n",
       "      <td>2009</td>\n",
       "      <td>anger</td>\n",
       "      <td>...</td>\n",
       "      <td>0</td>\n",
       "      <td>0</td>\n",
       "      <td>0</td>\n",
       "      <td>0</td>\n",
       "      <td>0</td>\n",
       "      <td>0</td>\n",
       "      <td>0</td>\n",
       "      <td>0</td>\n",
       "      <td>0</td>\n",
       "      <td>0</td>\n",
       "    </tr>\n",
       "    <tr>\n",
       "      <th>3</th>\n",
       "      <td>3.979050e+07</td>\n",
       "      <td>0.644274</td>\n",
       "      <td>0.355726</td>\n",
       "      <td>130</td>\n",
       "      <td>r</td>\n",
       "      <td>0.62</td>\n",
       "      <td>0.50</td>\n",
       "      <td>Jan</td>\n",
       "      <td>2018</td>\n",
       "      <td>fear</td>\n",
       "      <td>...</td>\n",
       "      <td>0</td>\n",
       "      <td>0</td>\n",
       "      <td>0</td>\n",
       "      <td>0</td>\n",
       "      <td>0</td>\n",
       "      <td>0</td>\n",
       "      <td>1</td>\n",
       "      <td>0</td>\n",
       "      <td>0</td>\n",
       "      <td>1</td>\n",
       "    </tr>\n",
       "    <tr>\n",
       "      <th>4</th>\n",
       "      <td>2.539260e+07</td>\n",
       "      <td>0.301875</td>\n",
       "      <td>0.698125</td>\n",
       "      <td>134</td>\n",
       "      <td>r</td>\n",
       "      <td>0.90</td>\n",
       "      <td>0.95</td>\n",
       "      <td>Oct</td>\n",
       "      <td>2013</td>\n",
       "      <td>sadness</td>\n",
       "      <td>...</td>\n",
       "      <td>0</td>\n",
       "      <td>0</td>\n",
       "      <td>0</td>\n",
       "      <td>0</td>\n",
       "      <td>0</td>\n",
       "      <td>0</td>\n",
       "      <td>1</td>\n",
       "      <td>0</td>\n",
       "      <td>0</td>\n",
       "      <td>0</td>\n",
       "    </tr>\n",
       "  </tbody>\n",
       "</table>\n",
       "<p>5 rows × 33 columns</p>\n",
       "</div>"
      ],
      "text/plain": [
       "   Budget(USD)_Inflated  Domestic_Percentage  Foreign_Percentage  \\\n",
       "0          6.076746e+06             0.654010            0.345990   \n",
       "1          1.441563e+08             0.351333            0.648667   \n",
       "2          2.726275e+07             0.708013            0.291987   \n",
       "3          3.979050e+07             0.644274            0.355726   \n",
       "4          2.539260e+07             0.301875            0.698125   \n",
       "\n",
       "   Runtime(mins) Rating  Audience_Score  Critics_Score Month  Year  emotion  \\\n",
       "0            103  pg-13            0.79           0.91   Mar  2016     fear   \n",
       "1            109  pg-13            0.37           0.10   Mar  2008     fear   \n",
       "2            108  pg-13            0.45           0.31   Mar  2009    anger   \n",
       "3            130      r            0.62           0.50   Jan  2018     fear   \n",
       "4            134      r            0.90           0.95   Oct  2013  sadness   \n",
       "\n",
       "   ...  sci-fi  period piece  animation  teen  film adaptation  musical  \\\n",
       "0  ...       1             0          0     0                0        0   \n",
       "1  ...       0             0          0     0                0        0   \n",
       "2  ...       0             0          0     0                0        0   \n",
       "3  ...       0             0          0     0                0        0   \n",
       "4  ...       0             0          0     0                0        0   \n",
       "\n",
       "   history  coming of age  sports  war  \n",
       "0        0              0       0    0  \n",
       "1        0              0       0    0  \n",
       "2        0              0       0    0  \n",
       "3        1              0       0    1  \n",
       "4        1              0       0    0  \n",
       "\n",
       "[5 rows x 33 columns]"
      ]
     },
     "execution_count": 772,
     "metadata": {},
     "output_type": "execute_result"
    }
   ],
   "source": [
    "df_ols.head(5)"
   ]
  },
  {
   "cell_type": "markdown",
   "metadata": {},
   "source": [
    "Standardizing columns"
   ]
  },
  {
   "cell_type": "code",
   "execution_count": 773,
   "metadata": {},
   "outputs": [],
   "source": [
    "# Standardizing \n",
    "\n",
    "columns_to_scale = ['Budget(USD)_Inflated', 'Domestic_Percentage', 'Foreign_Percentage', 'Runtime(mins)', 'Audience_Score', 'Critics_Score']\n",
    "scaler = StandardScaler()\n",
    "scaled_data = scaler.fit_transform(df_ols[columns_to_scale])\n",
    "df_ols[columns_to_scale] = scaled_data\n"
   ]
  },
  {
   "cell_type": "markdown",
   "metadata": {},
   "source": [
    "One hot encoding columns"
   ]
  },
  {
   "cell_type": "code",
   "execution_count": 774,
   "metadata": {},
   "outputs": [],
   "source": [
    "# one-hot encoding rating column, dropping the first column in order to avoid introducing multicollinearity\n",
    "df_ols = pd.get_dummies(df_ols, columns=['Rating'], drop_first=True)\n",
    "df_ols = df_ols.drop(columns=\"Rating_nc-17\") # Only 5 nc-17 movies, not considered for analysis\n",
    "# one-hot encoding month column, dropping first column for same reason\n",
    "df_ols = pd.get_dummies(df_ols, columns=['Month'], drop_first=True)\n",
    "# same thing for the emotion column\n",
    "df_ols = pd.get_dummies(df_ols, columns=['emotion'], drop_first=True)\n"
   ]
  },
  {
   "cell_type": "markdown",
   "metadata": {},
   "source": [
    "Checking for multicolinearity"
   ]
  },
  {
   "cell_type": "code",
   "execution_count": 775,
   "metadata": {},
   "outputs": [
    {
     "data": {
      "text/plain": [
       "'\"\\nfrom statsmodels.stats.outliers_influence import variance_inflation_factor\\n\\nvif_data = pd.DataFrame()\\nvif_data[\"Feature\"] = df_ols.columns\\nvif_data[\"VIF\"] = [variance_inflation_factor(X.values, i) for i in range(X.shape[1])]\\n\\nprint(vif_data)\\n'"
      ]
     },
     "execution_count": 775,
     "metadata": {},
     "output_type": "execute_result"
    }
   ],
   "source": [
    "\"\"\"\"\n",
    "from statsmodels.stats.outliers_influence import variance_inflation_factor\n",
    "\n",
    "vif_data = pd.DataFrame()\n",
    "vif_data[\"Feature\"] = df_ols.columns\n",
    "vif_data[\"VIF\"] = [variance_inflation_factor(X.values, i) for i in range(X.shape[1])]\n",
    "\n",
    "print(vif_data)\n",
    "\"\"\""
   ]
  },
  {
   "cell_type": "markdown",
   "metadata": {},
   "source": [
    "## Defining features and labels for the 4 different models:\n",
    "Labels: Foreign/domestic percentage for prediction\n",
    "Predictors: before and after 2010"
   ]
  },
  {
   "cell_type": "code",
   "execution_count": 776,
   "metadata": {},
   "outputs": [],
   "source": [
    "# Removing Year column, not used as a feature\n",
    "\n",
    "# Movies before 2010\n",
    "df_before_2010 = df_ols[df_ols['Year'] < 2010].drop(columns= \"Year\")\n",
    "\n",
    "# Movies including and after 2010\n",
    "df_2010_and_after = df_ols[df_ols['Year'] >= 2010].drop(columns= \"Year\")\n",
    "\n",
    "df_ols = df_ols.drop(columns= \"Year\")\n"
   ]
  },
  {
   "cell_type": "markdown",
   "metadata": {},
   "source": [
    "Function to train OLS model"
   ]
  },
  {
   "cell_type": "code",
   "execution_count": 777,
   "metadata": {},
   "outputs": [],
   "source": [
    "def train_ols_model(dataframe, target_column, drop_columns):\n",
    "    \"\"\"\n",
    "    Trains an OLS regression model.\n",
    "\n",
    "    Parameters:\n",
    "        dataframe (pd.DataFrame): The input DataFrame containing features and the target variable.\n",
    "        target_column (str): The name of the column to be used as the target variable.\n",
    "        drop_columns (list): List of columns to drop from the DataFrame.\n",
    "\n",
    "    Returns:\n",
    "        ols_model (sm.OLS): The trained OLS model.\n",
    "    \"\"\"\n",
    "    # Defining features and labels\n",
    "    y = dataframe[target_column]\n",
    "    X = dataframe.drop(columns=drop_columns)\n",
    "\n",
    "    # Adding a constant column for the OLS model\n",
    "    X = sm.add_constant(X)\n",
    "\n",
    "    # Training the OLS model\n",
    "    feature_names = list(X.columns)\n",
    "    label_name = target_column\n",
    "\n",
    "    # Ensure predictors and target are numeric\n",
    "    X = pd.DataFrame(X, columns=feature_names, dtype=float)\n",
    "    y = pd.Series(y, name=label_name, dtype=float) # Including the label name\n",
    "\n",
    "    # Fit the OLS model\n",
    "    ols_model = sm.OLS(y, X).fit()\n",
    "    return ols_model"
   ]
  },
  {
   "cell_type": "markdown",
   "metadata": {},
   "source": [
    "Function to save the feature statistics for later use"
   ]
  },
  {
   "cell_type": "code",
   "execution_count": 778,
   "metadata": {},
   "outputs": [],
   "source": [
    "def extract_feature_statistics(ols_model, output_csv_path=None):\n",
    "    \"\"\"\n",
    "    Extracts feature statistics from an OLS regression model.\n",
    "\n",
    "    Parameters:\n",
    "        ols_model (sm.OLS): The trained OLS regression model.\n",
    "        output_csv_path (str, optional): Path to save the feature statistics as a CSV file. Defaults to None.\n",
    "\n",
    "    Returns:\n",
    "        feature_stats (pd.DataFrame): A DataFrame containing the feature statistics.\n",
    "    \"\"\"\n",
    "    # Extracting feature statistics\n",
    "    coefficients = ols_model.params  # Coefficients (coef)\n",
    "    standard_errors = ols_model.bse  # Standard errors (std err)\n",
    "    t_values = ols_model.tvalues     # t-values (t)\n",
    "    p_values = ols_model.pvalues     # p-values (P>|t|)\n",
    "\n",
    "    # Creating a DataFrame\n",
    "    feature_stats = pd.DataFrame({\n",
    "        \"Feature\": coefficients.index,\n",
    "        \"Coefficient\": coefficients.values,\n",
    "        \"Std_Error\": standard_errors.values,\n",
    "        \"t_value\": t_values.values,\n",
    "        \"p_value\": p_values.values\n",
    "    })\n",
    "\n",
    "    # Saving the DataFrame to a CSV file if the path is provided\n",
    "    if output_csv_path:\n",
    "        feature_stats.to_csv(output_csv_path, index=False)\n",
    "\n",
    "    return feature_stats"
   ]
  },
  {
   "cell_type": "markdown",
   "metadata": {},
   "source": [
    "### 1st model: Foreign Percentage prediction "
   ]
  },
  {
   "cell_type": "code",
   "execution_count": 779,
   "metadata": {},
   "outputs": [
    {
     "name": "stdout",
     "output_type": "stream",
     "text": [
      "                            OLS Regression Results                            \n",
      "==============================================================================\n",
      "Dep. Variable:     Foreign_Percentage   R-squared:                       0.245\n",
      "Model:                            OLS   Adj. R-squared:                  0.231\n",
      "Method:                 Least Squares   F-statistic:                     18.21\n",
      "Date:                Fri, 20 Dec 2024   Prob (F-statistic):          6.79e-127\n",
      "Time:                        16:24:24   Log-Likelihood:                -3438.0\n",
      "No. Observations:                2689   AIC:                             6972.\n",
      "Df Residuals:                    2641   BIC:                             7255.\n",
      "Df Model:                          47                                         \n",
      "Covariance Type:            nonrobust                                         \n",
      "========================================================================================\n",
      "                           coef    std err          t      P>|t|      [0.025      0.975]\n",
      "----------------------------------------------------------------------------------------\n",
      "const                   -0.2410      0.184     -1.312      0.190      -0.601       0.119\n",
      "Budget(USD)_Inflated     0.2362      0.026      9.097      0.000       0.185       0.287\n",
      "Runtime(mins)            0.0560      0.024      2.347      0.019       0.009       0.103\n",
      "Audience_Score          -0.1554      0.025     -6.208      0.000      -0.204      -0.106\n",
      "Critics_Score            0.1168      0.025      4.757      0.000       0.069       0.165\n",
      "drama                   -0.0464      0.043     -1.079      0.281      -0.131       0.038\n",
      "comedy                  -0.2762      0.043     -6.356      0.000      -0.361      -0.191\n",
      "thriller                 0.1193      0.049      2.415      0.016       0.022       0.216\n",
      "action                   0.0931      0.053      1.756      0.079      -0.011       0.197\n",
      "adventure                0.1174      0.053      2.195      0.028       0.013       0.222\n",
      "romance film             0.1084      0.048      2.264      0.024       0.014       0.202\n",
      "horror                   0.0308      0.063      0.486      0.627      -0.094       0.155\n",
      "fantasy                  0.1012      0.060      1.676      0.094      -0.017       0.219\n",
      "mystery                  0.1673      0.062      2.693      0.007       0.046       0.289\n",
      "crime                   -0.0739      0.053     -1.402      0.161      -0.177       0.029\n",
      "indie                   -0.0548      0.073     -0.755      0.450      -0.197       0.088\n",
      "biography               -0.0407      0.074     -0.547      0.584      -0.186       0.105\n",
      "family                  -0.1033      0.082     -1.257      0.209      -0.264       0.058\n",
      "sci-fi                   0.0390      0.060      0.652      0.515      -0.078       0.156\n",
      "period piece            -0.1340      0.083     -1.616      0.106      -0.297       0.029\n",
      "animation                0.5774      0.102      5.636      0.000       0.376       0.778\n",
      "teen                    -0.1828      0.090     -2.027      0.043      -0.360      -0.006\n",
      "film adaptation         -0.0071      0.089     -0.080      0.936      -0.181       0.167\n",
      "musical                  0.0144      0.078      0.183      0.855      -0.139       0.168\n",
      "history                 -0.0667      0.104     -0.639      0.523      -0.271       0.138\n",
      "coming of age           -0.2064      0.108     -1.914      0.056      -0.418       0.005\n",
      "sports                  -0.5649      0.090     -6.266      0.000      -0.742      -0.388\n",
      "war                      0.0810      0.102      0.795      0.427      -0.119       0.281\n",
      "Rating_pg                0.0093      0.168      0.055      0.956      -0.321       0.339\n",
      "Rating_pg-13             0.1510      0.170      0.886      0.375      -0.183       0.485\n",
      "Rating_r                 0.3171      0.171      1.849      0.065      -0.019       0.653\n",
      "Month_Aug               -0.1229      0.082     -1.494      0.135      -0.284       0.038\n",
      "Month_Dec                0.3392      0.084      4.026      0.000       0.174       0.504\n",
      "Month_Feb               -0.0547      0.088     -0.622      0.534      -0.227       0.118\n",
      "Month_Jan                0.0608      0.085      0.719      0.472      -0.105       0.227\n",
      "Month_Jul                0.1001      0.087      1.148      0.251      -0.071       0.271\n",
      "Month_Jun                0.0341      0.087      0.393      0.694      -0.136       0.204\n",
      "Month_Mar               -0.1346      0.084     -1.604      0.109      -0.299       0.030\n",
      "Month_May                0.0745      0.090      0.832      0.406      -0.101       0.250\n",
      "Month_Nov                0.2494      0.084      2.980      0.003       0.085       0.413\n",
      "Month_Oct                0.1447      0.079      1.834      0.067      -0.010       0.299\n",
      "Month_Sep                0.0594      0.083      0.715      0.475      -0.104       0.222\n",
      "emotion_disgust          0.0778      0.072      1.080      0.280      -0.063       0.219\n",
      "emotion_fear             0.0141      0.061      0.233      0.816      -0.105       0.133\n",
      "emotion_joy              0.0333      0.095      0.349      0.727      -0.153       0.220\n",
      "emotion_neutral         -0.0042      0.059     -0.071      0.944      -0.120       0.111\n",
      "emotion_sadness         -0.0289      0.072     -0.400      0.689      -0.171       0.113\n",
      "emotion_surprise        -0.2867      0.110     -2.599      0.009      -0.503      -0.070\n",
      "==============================================================================\n",
      "Omnibus:                       41.412   Durbin-Watson:                   1.942\n",
      "Prob(Omnibus):                  0.000   Jarque-Bera (JB):               43.016\n",
      "Skew:                           0.309   Prob(JB):                     4.56e-10\n",
      "Kurtosis:                       3.040   Cond. No.                         31.5\n",
      "==============================================================================\n",
      "\n",
      "Notes:\n",
      "[1] Standard Errors assume that the covariance matrix of the errors is correctly specified.\n"
     ]
    }
   ],
   "source": [
    "# Defining the target column as well as which columns to drop\n",
    "target_column = \"Foreign_Percentage\"\n",
    "drop_columns = [\"Foreign_Percentage\", \"Domestic_Percentage\"]\n",
    "# Path to save CSV file containing the feature statistics\n",
    "output_csv_path = \"../src/data/Machine_learning_data/feature_stats_Foreign.csv\"\n",
    "\n",
    "# Train the model\n",
    "ols_model = train_ols_model(df_ols, target_column, drop_columns)\n",
    "\n",
    "# Extract feature statistics and save to CSV\n",
    "feature_stats_Foreign = extract_feature_statistics(ols_model, output_csv_path)\n",
    "\n",
    "# Displaying the model summary\n",
    "print(ols_model.summary())"
   ]
  },
  {
   "cell_type": "markdown",
   "metadata": {},
   "source": [
    "### \"2nd\" model: Domestic Percentage prediction "
   ]
  },
  {
   "cell_type": "code",
   "execution_count": 780,
   "metadata": {},
   "outputs": [
    {
     "name": "stdout",
     "output_type": "stream",
     "text": [
      "                             OLS Regression Results                            \n",
      "===============================================================================\n",
      "Dep. Variable:     Domestic_Percentage   R-squared:                       0.245\n",
      "Model:                             OLS   Adj. R-squared:                  0.231\n",
      "Method:                  Least Squares   F-statistic:                     18.21\n",
      "Date:                 Fri, 20 Dec 2024   Prob (F-statistic):          6.79e-127\n",
      "Time:                         16:24:24   Log-Likelihood:                -3438.0\n",
      "No. Observations:                 2689   AIC:                             6972.\n",
      "Df Residuals:                     2641   BIC:                             7255.\n",
      "Df Model:                           47                                         \n",
      "Covariance Type:             nonrobust                                         \n",
      "========================================================================================\n",
      "                           coef    std err          t      P>|t|      [0.025      0.975]\n",
      "----------------------------------------------------------------------------------------\n",
      "const                    0.2410      0.184      1.312      0.190      -0.119       0.601\n",
      "Budget(USD)_Inflated    -0.2362      0.026     -9.097      0.000      -0.287      -0.185\n",
      "Runtime(mins)           -0.0560      0.024     -2.347      0.019      -0.103      -0.009\n",
      "Audience_Score           0.1554      0.025      6.208      0.000       0.106       0.204\n",
      "Critics_Score           -0.1168      0.025     -4.757      0.000      -0.165      -0.069\n",
      "drama                    0.0464      0.043      1.079      0.281      -0.038       0.131\n",
      "comedy                   0.2762      0.043      6.356      0.000       0.191       0.361\n",
      "thriller                -0.1193      0.049     -2.415      0.016      -0.216      -0.022\n",
      "action                  -0.0931      0.053     -1.756      0.079      -0.197       0.011\n",
      "adventure               -0.1174      0.053     -2.195      0.028      -0.222      -0.013\n",
      "romance film            -0.1084      0.048     -2.264      0.024      -0.202      -0.014\n",
      "horror                  -0.0308      0.063     -0.486      0.627      -0.155       0.094\n",
      "fantasy                 -0.1012      0.060     -1.676      0.094      -0.219       0.017\n",
      "mystery                 -0.1673      0.062     -2.693      0.007      -0.289      -0.046\n",
      "crime                    0.0739      0.053      1.402      0.161      -0.029       0.177\n",
      "indie                    0.0548      0.073      0.755      0.450      -0.088       0.197\n",
      "biography                0.0407      0.074      0.547      0.584      -0.105       0.186\n",
      "family                   0.1033      0.082      1.257      0.209      -0.058       0.264\n",
      "sci-fi                  -0.0390      0.060     -0.652      0.515      -0.156       0.078\n",
      "period piece             0.1340      0.083      1.616      0.106      -0.029       0.297\n",
      "animation               -0.5774      0.102     -5.636      0.000      -0.778      -0.376\n",
      "teen                     0.1828      0.090      2.027      0.043       0.006       0.360\n",
      "film adaptation          0.0071      0.089      0.080      0.936      -0.167       0.181\n",
      "musical                 -0.0144      0.078     -0.183      0.855      -0.168       0.139\n",
      "history                  0.0667      0.104      0.639      0.523      -0.138       0.271\n",
      "coming of age            0.2064      0.108      1.914      0.056      -0.005       0.418\n",
      "sports                   0.5649      0.090      6.266      0.000       0.388       0.742\n",
      "war                     -0.0810      0.102     -0.795      0.427      -0.281       0.119\n",
      "Rating_pg               -0.0093      0.168     -0.055      0.956      -0.339       0.321\n",
      "Rating_pg-13            -0.1510      0.170     -0.886      0.375      -0.485       0.183\n",
      "Rating_r                -0.3171      0.171     -1.849      0.065      -0.653       0.019\n",
      "Month_Aug                0.1229      0.082      1.494      0.135      -0.038       0.284\n",
      "Month_Dec               -0.3392      0.084     -4.026      0.000      -0.504      -0.174\n",
      "Month_Feb                0.0547      0.088      0.622      0.534      -0.118       0.227\n",
      "Month_Jan               -0.0608      0.085     -0.719      0.472      -0.227       0.105\n",
      "Month_Jul               -0.1001      0.087     -1.148      0.251      -0.271       0.071\n",
      "Month_Jun               -0.0341      0.087     -0.393      0.694      -0.204       0.136\n",
      "Month_Mar                0.1346      0.084      1.604      0.109      -0.030       0.299\n",
      "Month_May               -0.0745      0.090     -0.832      0.406      -0.250       0.101\n",
      "Month_Nov               -0.2494      0.084     -2.980      0.003      -0.413      -0.085\n",
      "Month_Oct               -0.1447      0.079     -1.834      0.067      -0.299       0.010\n",
      "Month_Sep               -0.0594      0.083     -0.715      0.475      -0.222       0.104\n",
      "emotion_disgust         -0.0778      0.072     -1.080      0.280      -0.219       0.063\n",
      "emotion_fear            -0.0141      0.061     -0.233      0.816      -0.133       0.105\n",
      "emotion_joy             -0.0333      0.095     -0.349      0.727      -0.220       0.153\n",
      "emotion_neutral          0.0042      0.059      0.071      0.944      -0.111       0.120\n",
      "emotion_sadness          0.0289      0.072      0.400      0.689      -0.113       0.171\n",
      "emotion_surprise         0.2867      0.110      2.599      0.009       0.070       0.503\n",
      "==============================================================================\n",
      "Omnibus:                       41.412   Durbin-Watson:                   1.942\n",
      "Prob(Omnibus):                  0.000   Jarque-Bera (JB):               43.016\n",
      "Skew:                          -0.309   Prob(JB):                     4.56e-10\n",
      "Kurtosis:                       3.040   Cond. No.                         31.5\n",
      "==============================================================================\n",
      "\n",
      "Notes:\n",
      "[1] Standard Errors assume that the covariance matrix of the errors is correctly specified.\n"
     ]
    }
   ],
   "source": [
    "# Defining the target column as well as which columns to drop\n",
    "target_column = \"Domestic_Percentage\"\n",
    "drop_columns = [\"Foreign_Percentage\", \"Domestic_Percentage\"]\n",
    "# Path to save CSV file containing the feature statistics\n",
    "output_csv_path = \"../src/data/Machine_learning_data/feature_stats_Domestic.csv\"\n",
    "\n",
    "# Train the model\n",
    "ols_model = train_ols_model(df_ols, target_column, drop_columns)\n",
    "\n",
    "# Extract feature statistics and save to CSV\n",
    "feature_stats_domestic = extract_feature_statistics(ols_model, output_csv_path)\n",
    "\n",
    "# Displaying the model summary\n",
    "print(ols_model.summary())"
   ]
  },
  {
   "cell_type": "markdown",
   "metadata": {},
   "source": [
    "Only difference between the two models is the sign of the coeffecients. Subsquent Analysis will have only the foreign_percentage as a target column"
   ]
  },
  {
   "cell_type": "markdown",
   "metadata": {},
   "source": [
    "### Before 2010, foreign prediction"
   ]
  },
  {
   "cell_type": "code",
   "execution_count": 781,
   "metadata": {},
   "outputs": [
    {
     "name": "stdout",
     "output_type": "stream",
     "text": [
      "                            OLS Regression Results                            \n",
      "==============================================================================\n",
      "Dep. Variable:     Foreign_Percentage   R-squared:                       0.262\n",
      "Model:                            OLS   Adj. R-squared:                  0.233\n",
      "Method:                 Least Squares   F-statistic:                     8.957\n",
      "Date:                Fri, 20 Dec 2024   Prob (F-statistic):           3.94e-51\n",
      "Time:                        16:24:24   Log-Likelihood:                -1480.8\n",
      "No. Observations:                1232   AIC:                             3058.\n",
      "Df Residuals:                    1184   BIC:                             3303.\n",
      "Df Model:                          47                                         \n",
      "Covariance Type:            nonrobust                                         \n",
      "========================================================================================\n",
      "                           coef    std err          t      P>|t|      [0.025      0.975]\n",
      "----------------------------------------------------------------------------------------\n",
      "const                   -0.2530      0.215     -1.179      0.239      -0.674       0.168\n",
      "Budget(USD)_Inflated     0.2142      0.038      5.599      0.000       0.139       0.289\n",
      "Runtime(mins)            0.0092      0.033      0.278      0.781      -0.056       0.074\n",
      "Audience_Score          -0.0780      0.035     -2.246      0.025      -0.146      -0.010\n",
      "Critics_Score            0.1437      0.034      4.189      0.000       0.076       0.211\n",
      "drama                   -0.0647      0.060     -1.078      0.281      -0.183       0.053\n",
      "comedy                  -0.2322      0.060     -3.838      0.000      -0.351      -0.113\n",
      "thriller                 0.1392      0.072      1.923      0.055      -0.003       0.281\n",
      "action                  -0.0176      0.081     -0.219      0.827      -0.176       0.141\n",
      "adventure                0.0856      0.078      1.104      0.270      -0.067       0.238\n",
      "romance film             0.1852      0.063      2.943      0.003       0.062       0.309\n",
      "horror                   0.0741      0.093      0.797      0.425      -0.108       0.256\n",
      "fantasy                  0.1924      0.086      2.244      0.025       0.024       0.361\n",
      "mystery                  0.1888      0.093      2.034      0.042       0.007       0.371\n",
      "crime                    0.0247      0.071      0.347      0.729      -0.115       0.165\n",
      "indie                   -0.0792      0.081     -0.974      0.330      -0.239       0.080\n",
      "biography                0.0291      0.110      0.265      0.791      -0.186       0.245\n",
      "family                  -0.0888      0.098     -0.910      0.363      -0.280       0.103\n",
      "sci-fi                   0.0794      0.090      0.878      0.380      -0.098       0.257\n",
      "period piece            -0.0552      0.090     -0.616      0.538      -0.231       0.121\n",
      "animation                0.4213      0.145      2.902      0.004       0.136       0.706\n",
      "teen                    -0.0948      0.092     -1.031      0.303      -0.275       0.086\n",
      "film adaptation          0.0680      0.093      0.733      0.464      -0.114       0.250\n",
      "musical                  0.0632      0.108      0.587      0.557      -0.148       0.274\n",
      "history                 -0.0986      0.155     -0.636      0.525      -0.403       0.206\n",
      "coming of age           -0.1801      0.108     -1.670      0.095      -0.392       0.032\n",
      "sports                  -0.4812      0.106     -4.526      0.000      -0.690      -0.273\n",
      "war                      0.3109      0.128      2.420      0.016       0.059       0.563\n",
      "Rating_pg               -0.1313      0.188     -0.699      0.485      -0.500       0.237\n",
      "Rating_pg-13            -0.0058      0.190     -0.031      0.975      -0.378       0.366\n",
      "Rating_r                 0.2153      0.192      1.123      0.262      -0.161       0.591\n",
      "Month_Aug               -0.1937      0.117     -1.658      0.098      -0.423       0.035\n",
      "Month_Dec                0.3157      0.116      2.722      0.007       0.088       0.543\n",
      "Month_Feb               -0.0584      0.119     -0.489      0.625      -0.293       0.176\n",
      "Month_Jan                0.0353      0.116      0.303      0.762      -0.193       0.264\n",
      "Month_Jul                0.0292      0.124      0.236      0.813      -0.213       0.272\n",
      "Month_Jun                0.1091      0.125      0.873      0.383      -0.136       0.354\n",
      "Month_Mar               -0.1128      0.119     -0.946      0.344      -0.347       0.121\n",
      "Month_May                0.0289      0.129      0.224      0.823      -0.224       0.282\n",
      "Month_Nov                0.1860      0.118      1.573      0.116      -0.046       0.418\n",
      "Month_Oct                0.0530      0.109      0.485      0.628      -0.161       0.267\n",
      "Month_Sep               -0.0471      0.115     -0.409      0.682      -0.273       0.179\n",
      "emotion_disgust          0.0052      0.097      0.053      0.958      -0.185       0.196\n",
      "emotion_fear            -0.0210      0.089     -0.236      0.813      -0.196       0.153\n",
      "emotion_joy             -0.0284      0.136     -0.208      0.835      -0.296       0.239\n",
      "emotion_neutral         -0.0348      0.084     -0.415      0.678      -0.199       0.130\n",
      "emotion_sadness         -0.1086      0.101     -1.075      0.282      -0.307       0.090\n",
      "emotion_surprise        -0.1136      0.156     -0.728      0.467      -0.420       0.192\n",
      "==============================================================================\n",
      "Omnibus:                       54.398   Durbin-Watson:                   1.954\n",
      "Prob(Omnibus):                  0.000   Jarque-Bera (JB):               61.911\n",
      "Skew:                           0.499   Prob(JB):                     3.60e-14\n",
      "Kurtosis:                       3.458   Cond. No.                         26.0\n",
      "==============================================================================\n",
      "\n",
      "Notes:\n",
      "[1] Standard Errors assume that the covariance matrix of the errors is correctly specified.\n"
     ]
    }
   ],
   "source": [
    "# Defining the target column as well as which columns to drop\n",
    "target_column = \"Foreign_Percentage\"\n",
    "drop_columns = [\"Foreign_Percentage\", \"Domestic_Percentage\"]\n",
    "# Path to save CSV file containing the feature statistics\n",
    "output_csv_path = \"../src/data/Machine_learning_data/feature_stats_pre_2010.csv\"\n",
    "\n",
    "# Train the model\n",
    "ols_model = train_ols_model(df_before_2010, target_column, drop_columns)\n",
    "\n",
    "# Extract feature statistics and save to CSV\n",
    "feature_stats_pre_2010 = extract_feature_statistics(ols_model, output_csv_path)\n",
    "\n",
    "# Displaying the model summary\n",
    "print(ols_model.summary())"
   ]
  },
  {
   "cell_type": "markdown",
   "metadata": {},
   "source": [
    "### Including and after 2010, foreign prediction"
   ]
  },
  {
   "cell_type": "code",
   "execution_count": 782,
   "metadata": {},
   "outputs": [
    {
     "name": "stdout",
     "output_type": "stream",
     "text": [
      "                            OLS Regression Results                            \n",
      "==============================================================================\n",
      "Dep. Variable:     Foreign_Percentage   R-squared:                       0.266\n",
      "Model:                            OLS   Adj. R-squared:                  0.241\n",
      "Method:                 Least Squares   F-statistic:                     10.84\n",
      "Date:                Fri, 20 Dec 2024   Prob (F-statistic):           1.48e-65\n",
      "Time:                        16:24:24   Log-Likelihood:                -1873.4\n",
      "No. Observations:                1457   AIC:                             3843.\n",
      "Df Residuals:                    1409   BIC:                             4096.\n",
      "Df Model:                          47                                         \n",
      "Covariance Type:            nonrobust                                         \n",
      "========================================================================================\n",
      "                           coef    std err          t      P>|t|      [0.025      0.975]\n",
      "----------------------------------------------------------------------------------------\n",
      "const                   -0.3718      0.373     -0.997      0.319      -1.103       0.360\n",
      "Budget(USD)_Inflated     0.2721      0.036      7.615      0.000       0.202       0.342\n",
      "Runtime(mins)            0.0833      0.034      2.455      0.014       0.017       0.150\n",
      "Audience_Score          -0.2240      0.036     -6.142      0.000      -0.296      -0.152\n",
      "Critics_Score            0.0726      0.035      2.065      0.039       0.004       0.142\n",
      "drama                   -0.0025      0.061     -0.042      0.967      -0.122       0.116\n",
      "comedy                  -0.2359      0.062     -3.835      0.000      -0.357      -0.115\n",
      "thriller                 0.1963      0.067      2.912      0.004       0.064       0.328\n",
      "action                   0.1624      0.071      2.291      0.022       0.023       0.301\n",
      "adventure                0.3065      0.076      4.034      0.000       0.157       0.456\n",
      "romance film             0.0832      0.071      1.166      0.244      -0.057       0.223\n",
      "horror                   0.0896      0.086      1.038      0.300      -0.080       0.259\n",
      "fantasy                 -0.0250      0.083     -0.301      0.764      -0.188       0.138\n",
      "mystery                  0.0625      0.083      0.750      0.454      -0.101       0.226\n",
      "crime                   -0.0946      0.077     -1.231      0.219      -0.245       0.056\n",
      "indie                    0.2812      0.181      1.556      0.120      -0.073       0.636\n",
      "biography               -0.0856      0.101     -0.849      0.396      -0.283       0.112\n",
      "family                  -0.0488      0.143     -0.342      0.732      -0.329       0.231\n",
      "sci-fi                  -0.0415      0.079     -0.525      0.599      -0.197       0.114\n",
      "period piece            -0.2600      0.220     -1.182      0.237      -0.691       0.171\n",
      "animation                0.5475      0.149      3.676      0.000       0.255       0.840\n",
      "teen                    -0.1084      0.321     -0.338      0.736      -0.738       0.521\n",
      "film adaptation          0.1621      0.239      0.677      0.498      -0.307       0.632\n",
      "musical                 -0.0031      0.112     -0.027      0.978      -0.222       0.216\n",
      "history                 -0.0654      0.137     -0.476      0.634      -0.335       0.204\n",
      "coming of age           -0.2344      0.416     -0.563      0.573      -1.051       0.582\n",
      "sports                  -0.4766      0.158     -3.024      0.003      -0.786      -0.167\n",
      "war                     -0.0131      0.162     -0.081      0.936      -0.331       0.305\n",
      "Rating_pg                0.0558      0.352      0.158      0.874      -0.635       0.747\n",
      "Rating_pg-13             0.2314      0.360      0.642      0.521      -0.475       0.938\n",
      "Rating_r                 0.3378      0.362      0.934      0.350      -0.372       1.047\n",
      "Month_Aug               -0.0269      0.112     -0.239      0.811      -0.247       0.193\n",
      "Month_Dec                0.3859      0.119      3.252      0.001       0.153       0.619\n",
      "Month_Feb               -0.0283      0.125     -0.226      0.821      -0.274       0.217\n",
      "Month_Jan                0.0610      0.119      0.512      0.609      -0.173       0.295\n",
      "Month_Jul                0.1951      0.120      1.629      0.103      -0.040       0.430\n",
      "Month_Jun               -0.0059      0.118     -0.050      0.960      -0.237       0.225\n",
      "Month_Mar               -0.1688      0.114     -1.478      0.140      -0.393       0.055\n",
      "Month_May                0.0926      0.121      0.764      0.445      -0.145       0.330\n",
      "Month_Nov                0.3473      0.115      3.012      0.003       0.121       0.573\n",
      "Month_Oct                0.2587      0.110      2.359      0.018       0.044       0.474\n",
      "Month_Sep                0.1575      0.116      1.362      0.173      -0.069       0.384\n",
      "emotion_disgust          0.2375      0.105      2.261      0.024       0.031       0.444\n",
      "emotion_fear             0.0442      0.081      0.549      0.583      -0.114       0.202\n",
      "emotion_joy              0.1906      0.130      1.467      0.143      -0.064       0.445\n",
      "emotion_neutral          0.0756      0.081      0.933      0.351      -0.083       0.234\n",
      "emotion_sadness          0.0845      0.101      0.840      0.401      -0.113       0.282\n",
      "emotion_surprise        -0.3604      0.151     -2.384      0.017      -0.657      -0.064\n",
      "==============================================================================\n",
      "Omnibus:                        3.099   Durbin-Watson:                   1.928\n",
      "Prob(Omnibus):                  0.212   Jarque-Bera (JB):                3.114\n",
      "Skew:                           0.113   Prob(JB):                        0.211\n",
      "Kurtosis:                       2.976   Cond. No.                         48.1\n",
      "==============================================================================\n",
      "\n",
      "Notes:\n",
      "[1] Standard Errors assume that the covariance matrix of the errors is correctly specified.\n"
     ]
    }
   ],
   "source": [
    "# Defining the target column as well as which columns to drop\n",
    "target_column = \"Foreign_Percentage\"\n",
    "drop_columns = [\"Foreign_Percentage\", \"Domestic_Percentage\"]\n",
    "# Path to save CSV file containing the feature statistics\n",
    "output_csv_path = \"../src/data/Machine_learning_data/feature_stats_post_2010.csv\"\n",
    "\n",
    "# Train the model\n",
    "ols_model = train_ols_model(df_2010_and_after, target_column, drop_columns)\n",
    "\n",
    "# Extract feature statistics and save to CSV\n",
    "feature_stats_post_2010 = extract_feature_statistics(ols_model, output_csv_path)\n",
    "\n",
    "# Displaying the model summary\n",
    "print(ols_model.summary())"
   ]
  },
  {
   "cell_type": "markdown",
   "metadata": {},
   "source": [
    "## Comparing the statistically significant coefficients"
   ]
  },
  {
   "cell_type": "markdown",
   "metadata": {},
   "source": [
    "### Filtering significant features"
   ]
  },
  {
   "cell_type": "code",
   "execution_count": 783,
   "metadata": {},
   "outputs": [
    {
     "data": {
      "text/html": [
       "<div>\n",
       "<style scoped>\n",
       "    .dataframe tbody tr th:only-of-type {\n",
       "        vertical-align: middle;\n",
       "    }\n",
       "\n",
       "    .dataframe tbody tr th {\n",
       "        vertical-align: top;\n",
       "    }\n",
       "\n",
       "    .dataframe thead th {\n",
       "        text-align: right;\n",
       "    }\n",
       "</style>\n",
       "<table border=\"1\" class=\"dataframe\">\n",
       "  <thead>\n",
       "    <tr style=\"text-align: right;\">\n",
       "      <th></th>\n",
       "      <th>Feature</th>\n",
       "      <th>Coefficient</th>\n",
       "      <th>Std_Error</th>\n",
       "      <th>t_value</th>\n",
       "      <th>p_value</th>\n",
       "    </tr>\n",
       "  </thead>\n",
       "  <tbody>\n",
       "    <tr>\n",
       "      <th>0</th>\n",
       "      <td>const</td>\n",
       "      <td>-0.253036</td>\n",
       "      <td>0.214662</td>\n",
       "      <td>-1.178766</td>\n",
       "      <td>2.387284e-01</td>\n",
       "    </tr>\n",
       "    <tr>\n",
       "      <th>1</th>\n",
       "      <td>Budget(USD)_Inflated</td>\n",
       "      <td>0.214164</td>\n",
       "      <td>0.038253</td>\n",
       "      <td>5.598661</td>\n",
       "      <td>2.682997e-08</td>\n",
       "    </tr>\n",
       "    <tr>\n",
       "      <th>2</th>\n",
       "      <td>Runtime(mins)</td>\n",
       "      <td>0.009215</td>\n",
       "      <td>0.033120</td>\n",
       "      <td>0.278235</td>\n",
       "      <td>7.808809e-01</td>\n",
       "    </tr>\n",
       "    <tr>\n",
       "      <th>3</th>\n",
       "      <td>Audience_Score</td>\n",
       "      <td>-0.077959</td>\n",
       "      <td>0.034704</td>\n",
       "      <td>-2.246367</td>\n",
       "      <td>2.486422e-02</td>\n",
       "    </tr>\n",
       "    <tr>\n",
       "      <th>4</th>\n",
       "      <td>Critics_Score</td>\n",
       "      <td>0.143675</td>\n",
       "      <td>0.034302</td>\n",
       "      <td>4.188542</td>\n",
       "      <td>3.015804e-05</td>\n",
       "    </tr>\n",
       "  </tbody>\n",
       "</table>\n",
       "</div>"
      ],
      "text/plain": [
       "                Feature  Coefficient  Std_Error   t_value       p_value\n",
       "0                 const    -0.253036   0.214662 -1.178766  2.387284e-01\n",
       "1  Budget(USD)_Inflated     0.214164   0.038253  5.598661  2.682997e-08\n",
       "2         Runtime(mins)     0.009215   0.033120  0.278235  7.808809e-01\n",
       "3        Audience_Score    -0.077959   0.034704 -2.246367  2.486422e-02\n",
       "4         Critics_Score     0.143675   0.034302  4.188542  3.015804e-05"
      ]
     },
     "execution_count": 783,
     "metadata": {},
     "output_type": "execute_result"
    }
   ],
   "source": [
    "feature_stats_pre_2010.head(5)"
   ]
  },
  {
   "cell_type": "markdown",
   "metadata": {},
   "source": [
    "Defining funciton that removes all the features with a P-value > 0.05"
   ]
  },
  {
   "cell_type": "code",
   "execution_count": 784,
   "metadata": {},
   "outputs": [],
   "source": [
    "def filter_significant_features(feature_stats, p_value_threshold=0.05):\n",
    "\n",
    "    # Filter the DataFrame based on the p-value threshold\n",
    "    significant_features = feature_stats[feature_stats[\"p_value\"] <= p_value_threshold]\n",
    "    \n",
    "    return significant_features"
   ]
  },
  {
   "cell_type": "code",
   "execution_count": 785,
   "metadata": {},
   "outputs": [],
   "source": [
    "feature_stats_Foreign  = filter_significant_features(feature_stats_Foreign)\n",
    "feature_stats_pre_2010 = filter_significant_features(feature_stats_pre_2010)\n",
    "feature_stats_post_2010 = filter_significant_features(feature_stats_post_2010)\n"
   ]
  },
  {
   "cell_type": "markdown",
   "metadata": {},
   "source": [
    "### Plotting the coeffecients for the statistically significant features"
   ]
  },
  {
   "cell_type": "code",
   "execution_count": 786,
   "metadata": {},
   "outputs": [],
   "source": [
    "def plot_feature_coefficients(dataframe, title, output_path = None):\n",
    "    \"\"\"\n",
    "    Plots a bar chart for feature coefficients with predefined parameters.\n",
    "\n",
    "    Parameters:\n",
    "        dataframe (pd.DataFrame): DataFrame containing the feature statistics to plot.\n",
    "        title (str): Title of the bar chart.\n",
    "        Optional: output_path (str): Path to save the HTML file. If None, the plot is not saved.\n",
    "\n",
    "    Returns:\n",
    "        fig: The Plotly bar chart figure.\n",
    "    \"\"\"\n",
    "    # Aranges the features in descending order base on their coeffecients\n",
    "    dataframe_sorted = dataframe.sort_values(by=\"Coefficient\", ascending=False)\n",
    "\n",
    "    # Create the bar plot\n",
    "    fig = px.bar(\n",
    "        dataframe_sorted,\n",
    "        x='Feature',\n",
    "        y='Coefficient',\n",
    "        hover_data=['Std_Error', 't_value', 'p_value'],\n",
    "        color='Coefficient',\n",
    "        labels={'Feature': 'Feature Names', 'Coefficient': 'Coefficient Value'},\n",
    "        title=title,\n",
    "        height=400\n",
    "    )\n",
    "\n",
    "    # Centering the title and changing the font\n",
    "\n",
    "    fig.update_layout(\n",
    "        title={\n",
    "            'text': title,\n",
    "            'y': 0.95,  # Vertical alignment of the title\n",
    "            'x': 0.5,   # Horizontal alignment of the title\n",
    "            'xanchor': 'center',\n",
    "            'yanchor': 'top'\n",
    "        },\n",
    "        font=dict(\n",
    "            family=\"Futura\",  # Change to your preferred font\n",
    "            size=15,                     # Title font size\n",
    "            color=\"black\"                # Title font color\n",
    "        ),\n",
    "        title_font=dict(\n",
    "            size=20   \n",
    "        )\n",
    "    )\n",
    "\n",
    "    # Save the plot as html file if output_path provided\n",
    "    if output_path:\n",
    "        fig.write_html(output_path)\n",
    "        print(f\"Plot saved to {output_path}\")\n",
    "    else:\n",
    "        print(\"Plot not saved.\")\n",
    "\n",
    "    return fig"
   ]
  },
  {
   "cell_type": "code",
   "execution_count": 787,
   "metadata": {},
   "outputs": [
    {
     "name": "stdout",
     "output_type": "stream",
     "text": [
      "Plot saved to ../_includes/OLS_features_all_years.html\n"
     ]
    },
    {
     "data": {
      "application/vnd.plotly.v1+json": {
       "config": {
        "plotlyServerURL": "https://plot.ly"
       },
       "data": [
        {
         "alignmentgroup": "True",
         "customdata": [
          [
           0.10245047414831383,
           5.635564421524023,
           1.9295725964805716e-8
          ],
          [
           0.0842599024577601,
           4.0256069886924415,
           0.000058427878284620746
          ],
          [
           0.08369025690049497,
           2.9795906120230886,
           0.0029126502625921214
          ],
          [
           0.025961818696415964,
           9.096809120257511,
           1.7825272349023185e-19
          ],
          [
           0.06213124024543246,
           2.6933418223503973,
           0.007118687838082267
          ],
          [
           0.049402138078901904,
           2.4154600044786934,
           0.015782833213976017
          ],
          [
           0.05346638264723715,
           2.195304273027687,
           0.028228503259092208
          ],
          [
           0.024549675339377408,
           4.757321917948597,
           0.000002067337350299347
          ],
          [
           0.04787788369462512,
           2.2635706112232103,
           0.023681358870683077
          ],
          [
           0.023880195198169137,
           2.346992508922403,
           0.018999127175888288
          ],
          [
           0.025028763309026154,
           -6.208111806388927,
           6.208072916970245e-10
          ],
          [
           0.09017306053697649,
           -2.0274959980312426,
           0.04271194584229501
          ],
          [
           0.043452226284335316,
           -6.35563644267435,
           2.4368031751254135e-10
          ],
          [
           0.11033912345744924,
           -2.598650077614837,
           0.009411164448043421
          ],
          [
           0.09014915659891189,
           -6.266321525823169,
           4.3028802319115996e-10
          ]
         ],
         "hovertemplate": "Feature Names=%{x}<br>Coefficient Value=%{marker.color}<br>Std_Error=%{customdata[0]}<br>t_value=%{customdata[1]}<br>p_value=%{customdata[2]}<extra></extra>",
         "legendgroup": "",
         "marker": {
          "color": [
           0.5773662470785041,
           0.3391972522005025,
           0.24936270377851535,
           0.2361697090960287,
           0.1673406678275234,
           0.11932888866532142,
           0.11737497828881308,
           0.1167907085705423,
           0.10837497045871634,
           0.056046639241707705,
           -0.15538136099807925,
           -0.1828255193689488,
           -0.2761665528880538,
           -0.28673277173665357,
           -0.5649036005305653
          ],
          "coloraxis": "coloraxis",
          "pattern": {
           "shape": ""
          }
         },
         "name": "",
         "offsetgroup": "",
         "orientation": "v",
         "showlegend": false,
         "textposition": "auto",
         "type": "bar",
         "x": [
          "animation",
          "Month_Dec",
          "Month_Nov",
          "Budget(USD)_Inflated",
          "mystery",
          "thriller",
          "adventure",
          "Critics_Score",
          "romance film",
          "Runtime(mins)",
          "Audience_Score",
          "teen",
          "comedy",
          "emotion_surprise",
          "sports"
         ],
         "xaxis": "x",
         "y": [
          0.5773662470785041,
          0.3391972522005025,
          0.24936270377851535,
          0.2361697090960287,
          0.1673406678275234,
          0.11932888866532142,
          0.11737497828881308,
          0.1167907085705423,
          0.10837497045871634,
          0.056046639241707705,
          -0.15538136099807925,
          -0.1828255193689488,
          -0.2761665528880538,
          -0.28673277173665357,
          -0.5649036005305653
         ],
         "yaxis": "y"
        }
       ],
       "layout": {
        "barmode": "relative",
        "coloraxis": {
         "colorbar": {
          "title": {
           "text": "Coefficient Value"
          }
         },
         "colorscale": [
          [
           0,
           "#0d0887"
          ],
          [
           0.1111111111111111,
           "#46039f"
          ],
          [
           0.2222222222222222,
           "#7201a8"
          ],
          [
           0.3333333333333333,
           "#9c179e"
          ],
          [
           0.4444444444444444,
           "#bd3786"
          ],
          [
           0.5555555555555556,
           "#d8576b"
          ],
          [
           0.6666666666666666,
           "#ed7953"
          ],
          [
           0.7777777777777778,
           "#fb9f3a"
          ],
          [
           0.8888888888888888,
           "#fdca26"
          ],
          [
           1,
           "#f0f921"
          ]
         ]
        },
        "font": {
         "color": "black",
         "family": "Futura",
         "size": 15
        },
        "height": 400,
        "legend": {
         "tracegroupgap": 0
        },
        "template": {
         "data": {
          "bar": [
           {
            "error_x": {
             "color": "#2a3f5f"
            },
            "error_y": {
             "color": "#2a3f5f"
            },
            "marker": {
             "line": {
              "color": "#E5ECF6",
              "width": 0.5
             },
             "pattern": {
              "fillmode": "overlay",
              "size": 10,
              "solidity": 0.2
             }
            },
            "type": "bar"
           }
          ],
          "barpolar": [
           {
            "marker": {
             "line": {
              "color": "#E5ECF6",
              "width": 0.5
             },
             "pattern": {
              "fillmode": "overlay",
              "size": 10,
              "solidity": 0.2
             }
            },
            "type": "barpolar"
           }
          ],
          "carpet": [
           {
            "aaxis": {
             "endlinecolor": "#2a3f5f",
             "gridcolor": "white",
             "linecolor": "white",
             "minorgridcolor": "white",
             "startlinecolor": "#2a3f5f"
            },
            "baxis": {
             "endlinecolor": "#2a3f5f",
             "gridcolor": "white",
             "linecolor": "white",
             "minorgridcolor": "white",
             "startlinecolor": "#2a3f5f"
            },
            "type": "carpet"
           }
          ],
          "choropleth": [
           {
            "colorbar": {
             "outlinewidth": 0,
             "ticks": ""
            },
            "type": "choropleth"
           }
          ],
          "contour": [
           {
            "colorbar": {
             "outlinewidth": 0,
             "ticks": ""
            },
            "colorscale": [
             [
              0,
              "#0d0887"
             ],
             [
              0.1111111111111111,
              "#46039f"
             ],
             [
              0.2222222222222222,
              "#7201a8"
             ],
             [
              0.3333333333333333,
              "#9c179e"
             ],
             [
              0.4444444444444444,
              "#bd3786"
             ],
             [
              0.5555555555555556,
              "#d8576b"
             ],
             [
              0.6666666666666666,
              "#ed7953"
             ],
             [
              0.7777777777777778,
              "#fb9f3a"
             ],
             [
              0.8888888888888888,
              "#fdca26"
             ],
             [
              1,
              "#f0f921"
             ]
            ],
            "type": "contour"
           }
          ],
          "contourcarpet": [
           {
            "colorbar": {
             "outlinewidth": 0,
             "ticks": ""
            },
            "type": "contourcarpet"
           }
          ],
          "heatmap": [
           {
            "colorbar": {
             "outlinewidth": 0,
             "ticks": ""
            },
            "colorscale": [
             [
              0,
              "#0d0887"
             ],
             [
              0.1111111111111111,
              "#46039f"
             ],
             [
              0.2222222222222222,
              "#7201a8"
             ],
             [
              0.3333333333333333,
              "#9c179e"
             ],
             [
              0.4444444444444444,
              "#bd3786"
             ],
             [
              0.5555555555555556,
              "#d8576b"
             ],
             [
              0.6666666666666666,
              "#ed7953"
             ],
             [
              0.7777777777777778,
              "#fb9f3a"
             ],
             [
              0.8888888888888888,
              "#fdca26"
             ],
             [
              1,
              "#f0f921"
             ]
            ],
            "type": "heatmap"
           }
          ],
          "heatmapgl": [
           {
            "colorbar": {
             "outlinewidth": 0,
             "ticks": ""
            },
            "colorscale": [
             [
              0,
              "#0d0887"
             ],
             [
              0.1111111111111111,
              "#46039f"
             ],
             [
              0.2222222222222222,
              "#7201a8"
             ],
             [
              0.3333333333333333,
              "#9c179e"
             ],
             [
              0.4444444444444444,
              "#bd3786"
             ],
             [
              0.5555555555555556,
              "#d8576b"
             ],
             [
              0.6666666666666666,
              "#ed7953"
             ],
             [
              0.7777777777777778,
              "#fb9f3a"
             ],
             [
              0.8888888888888888,
              "#fdca26"
             ],
             [
              1,
              "#f0f921"
             ]
            ],
            "type": "heatmapgl"
           }
          ],
          "histogram": [
           {
            "marker": {
             "pattern": {
              "fillmode": "overlay",
              "size": 10,
              "solidity": 0.2
             }
            },
            "type": "histogram"
           }
          ],
          "histogram2d": [
           {
            "colorbar": {
             "outlinewidth": 0,
             "ticks": ""
            },
            "colorscale": [
             [
              0,
              "#0d0887"
             ],
             [
              0.1111111111111111,
              "#46039f"
             ],
             [
              0.2222222222222222,
              "#7201a8"
             ],
             [
              0.3333333333333333,
              "#9c179e"
             ],
             [
              0.4444444444444444,
              "#bd3786"
             ],
             [
              0.5555555555555556,
              "#d8576b"
             ],
             [
              0.6666666666666666,
              "#ed7953"
             ],
             [
              0.7777777777777778,
              "#fb9f3a"
             ],
             [
              0.8888888888888888,
              "#fdca26"
             ],
             [
              1,
              "#f0f921"
             ]
            ],
            "type": "histogram2d"
           }
          ],
          "histogram2dcontour": [
           {
            "colorbar": {
             "outlinewidth": 0,
             "ticks": ""
            },
            "colorscale": [
             [
              0,
              "#0d0887"
             ],
             [
              0.1111111111111111,
              "#46039f"
             ],
             [
              0.2222222222222222,
              "#7201a8"
             ],
             [
              0.3333333333333333,
              "#9c179e"
             ],
             [
              0.4444444444444444,
              "#bd3786"
             ],
             [
              0.5555555555555556,
              "#d8576b"
             ],
             [
              0.6666666666666666,
              "#ed7953"
             ],
             [
              0.7777777777777778,
              "#fb9f3a"
             ],
             [
              0.8888888888888888,
              "#fdca26"
             ],
             [
              1,
              "#f0f921"
             ]
            ],
            "type": "histogram2dcontour"
           }
          ],
          "mesh3d": [
           {
            "colorbar": {
             "outlinewidth": 0,
             "ticks": ""
            },
            "type": "mesh3d"
           }
          ],
          "parcoords": [
           {
            "line": {
             "colorbar": {
              "outlinewidth": 0,
              "ticks": ""
             }
            },
            "type": "parcoords"
           }
          ],
          "pie": [
           {
            "automargin": true,
            "type": "pie"
           }
          ],
          "scatter": [
           {
            "fillpattern": {
             "fillmode": "overlay",
             "size": 10,
             "solidity": 0.2
            },
            "type": "scatter"
           }
          ],
          "scatter3d": [
           {
            "line": {
             "colorbar": {
              "outlinewidth": 0,
              "ticks": ""
             }
            },
            "marker": {
             "colorbar": {
              "outlinewidth": 0,
              "ticks": ""
             }
            },
            "type": "scatter3d"
           }
          ],
          "scattercarpet": [
           {
            "marker": {
             "colorbar": {
              "outlinewidth": 0,
              "ticks": ""
             }
            },
            "type": "scattercarpet"
           }
          ],
          "scattergeo": [
           {
            "marker": {
             "colorbar": {
              "outlinewidth": 0,
              "ticks": ""
             }
            },
            "type": "scattergeo"
           }
          ],
          "scattergl": [
           {
            "marker": {
             "colorbar": {
              "outlinewidth": 0,
              "ticks": ""
             }
            },
            "type": "scattergl"
           }
          ],
          "scattermapbox": [
           {
            "marker": {
             "colorbar": {
              "outlinewidth": 0,
              "ticks": ""
             }
            },
            "type": "scattermapbox"
           }
          ],
          "scatterpolar": [
           {
            "marker": {
             "colorbar": {
              "outlinewidth": 0,
              "ticks": ""
             }
            },
            "type": "scatterpolar"
           }
          ],
          "scatterpolargl": [
           {
            "marker": {
             "colorbar": {
              "outlinewidth": 0,
              "ticks": ""
             }
            },
            "type": "scatterpolargl"
           }
          ],
          "scatterternary": [
           {
            "marker": {
             "colorbar": {
              "outlinewidth": 0,
              "ticks": ""
             }
            },
            "type": "scatterternary"
           }
          ],
          "surface": [
           {
            "colorbar": {
             "outlinewidth": 0,
             "ticks": ""
            },
            "colorscale": [
             [
              0,
              "#0d0887"
             ],
             [
              0.1111111111111111,
              "#46039f"
             ],
             [
              0.2222222222222222,
              "#7201a8"
             ],
             [
              0.3333333333333333,
              "#9c179e"
             ],
             [
              0.4444444444444444,
              "#bd3786"
             ],
             [
              0.5555555555555556,
              "#d8576b"
             ],
             [
              0.6666666666666666,
              "#ed7953"
             ],
             [
              0.7777777777777778,
              "#fb9f3a"
             ],
             [
              0.8888888888888888,
              "#fdca26"
             ],
             [
              1,
              "#f0f921"
             ]
            ],
            "type": "surface"
           }
          ],
          "table": [
           {
            "cells": {
             "fill": {
              "color": "#EBF0F8"
             },
             "line": {
              "color": "white"
             }
            },
            "header": {
             "fill": {
              "color": "#C8D4E3"
             },
             "line": {
              "color": "white"
             }
            },
            "type": "table"
           }
          ]
         },
         "layout": {
          "annotationdefaults": {
           "arrowcolor": "#2a3f5f",
           "arrowhead": 0,
           "arrowwidth": 1
          },
          "autotypenumbers": "strict",
          "coloraxis": {
           "colorbar": {
            "outlinewidth": 0,
            "ticks": ""
           }
          },
          "colorscale": {
           "diverging": [
            [
             0,
             "#8e0152"
            ],
            [
             0.1,
             "#c51b7d"
            ],
            [
             0.2,
             "#de77ae"
            ],
            [
             0.3,
             "#f1b6da"
            ],
            [
             0.4,
             "#fde0ef"
            ],
            [
             0.5,
             "#f7f7f7"
            ],
            [
             0.6,
             "#e6f5d0"
            ],
            [
             0.7,
             "#b8e186"
            ],
            [
             0.8,
             "#7fbc41"
            ],
            [
             0.9,
             "#4d9221"
            ],
            [
             1,
             "#276419"
            ]
           ],
           "sequential": [
            [
             0,
             "#0d0887"
            ],
            [
             0.1111111111111111,
             "#46039f"
            ],
            [
             0.2222222222222222,
             "#7201a8"
            ],
            [
             0.3333333333333333,
             "#9c179e"
            ],
            [
             0.4444444444444444,
             "#bd3786"
            ],
            [
             0.5555555555555556,
             "#d8576b"
            ],
            [
             0.6666666666666666,
             "#ed7953"
            ],
            [
             0.7777777777777778,
             "#fb9f3a"
            ],
            [
             0.8888888888888888,
             "#fdca26"
            ],
            [
             1,
             "#f0f921"
            ]
           ],
           "sequentialminus": [
            [
             0,
             "#0d0887"
            ],
            [
             0.1111111111111111,
             "#46039f"
            ],
            [
             0.2222222222222222,
             "#7201a8"
            ],
            [
             0.3333333333333333,
             "#9c179e"
            ],
            [
             0.4444444444444444,
             "#bd3786"
            ],
            [
             0.5555555555555556,
             "#d8576b"
            ],
            [
             0.6666666666666666,
             "#ed7953"
            ],
            [
             0.7777777777777778,
             "#fb9f3a"
            ],
            [
             0.8888888888888888,
             "#fdca26"
            ],
            [
             1,
             "#f0f921"
            ]
           ]
          },
          "colorway": [
           "#636efa",
           "#EF553B",
           "#00cc96",
           "#ab63fa",
           "#FFA15A",
           "#19d3f3",
           "#FF6692",
           "#B6E880",
           "#FF97FF",
           "#FECB52"
          ],
          "font": {
           "color": "#2a3f5f"
          },
          "geo": {
           "bgcolor": "white",
           "lakecolor": "white",
           "landcolor": "#E5ECF6",
           "showlakes": true,
           "showland": true,
           "subunitcolor": "white"
          },
          "hoverlabel": {
           "align": "left"
          },
          "hovermode": "closest",
          "mapbox": {
           "style": "light"
          },
          "paper_bgcolor": "white",
          "plot_bgcolor": "#E5ECF6",
          "polar": {
           "angularaxis": {
            "gridcolor": "white",
            "linecolor": "white",
            "ticks": ""
           },
           "bgcolor": "#E5ECF6",
           "radialaxis": {
            "gridcolor": "white",
            "linecolor": "white",
            "ticks": ""
           }
          },
          "scene": {
           "xaxis": {
            "backgroundcolor": "#E5ECF6",
            "gridcolor": "white",
            "gridwidth": 2,
            "linecolor": "white",
            "showbackground": true,
            "ticks": "",
            "zerolinecolor": "white"
           },
           "yaxis": {
            "backgroundcolor": "#E5ECF6",
            "gridcolor": "white",
            "gridwidth": 2,
            "linecolor": "white",
            "showbackground": true,
            "ticks": "",
            "zerolinecolor": "white"
           },
           "zaxis": {
            "backgroundcolor": "#E5ECF6",
            "gridcolor": "white",
            "gridwidth": 2,
            "linecolor": "white",
            "showbackground": true,
            "ticks": "",
            "zerolinecolor": "white"
           }
          },
          "shapedefaults": {
           "line": {
            "color": "#2a3f5f"
           }
          },
          "ternary": {
           "aaxis": {
            "gridcolor": "white",
            "linecolor": "white",
            "ticks": ""
           },
           "baxis": {
            "gridcolor": "white",
            "linecolor": "white",
            "ticks": ""
           },
           "bgcolor": "#E5ECF6",
           "caxis": {
            "gridcolor": "white",
            "linecolor": "white",
            "ticks": ""
           }
          },
          "title": {
           "x": 0.05
          },
          "xaxis": {
           "automargin": true,
           "gridcolor": "white",
           "linecolor": "white",
           "ticks": "",
           "title": {
            "standoff": 15
           },
           "zerolinecolor": "white",
           "zerolinewidth": 2
          },
          "yaxis": {
           "automargin": true,
           "gridcolor": "white",
           "linecolor": "white",
           "ticks": "",
           "title": {
            "standoff": 15
           },
           "zerolinecolor": "white",
           "zerolinewidth": 2
          }
         }
        },
        "title": {
         "font": {
          "size": 20
         },
         "text": "OLS Coeffecients 2000-2019",
         "x": 0.5,
         "xanchor": "center",
         "y": 0.95,
         "yanchor": "top"
        },
        "xaxis": {
         "anchor": "y",
         "domain": [
          0,
          1
         ],
         "title": {
          "text": "Feature Names"
         }
        },
        "yaxis": {
         "anchor": "x",
         "domain": [
          0,
          1
         ],
         "title": {
          "text": "Coefficient Value"
         }
        }
       }
      }
     },
     "metadata": {},
     "output_type": "display_data"
    }
   ],
   "source": [
    "plot_feature_coefficients(feature_stats_Foreign, \"OLS Coeffecients 2000-2019\", \"../_includes/OLS_features_all_years.html\")\n"
   ]
  },
  {
   "cell_type": "code",
   "execution_count": 788,
   "metadata": {},
   "outputs": [
    {
     "name": "stdout",
     "output_type": "stream",
     "text": [
      "Plot saved to ../_includes/OLS_features_pre_2010.html\n"
     ]
    },
    {
     "data": {
      "application/vnd.plotly.v1+json": {
       "config": {
        "plotlyServerURL": "https://plot.ly"
       },
       "data": [
        {
         "alignmentgroup": "True",
         "customdata": [
          [
           0.14518390594480804,
           2.9021088826719703,
           0.0037752330389268737
          ],
          [
           0.11598075335937227,
           2.7223842114402568,
           0.006576428435848432
          ],
          [
           0.12848816104763394,
           2.420009854108536,
           0.015669871145250862
          ],
          [
           0.038252699455027905,
           5.598660884530725,
           2.6829973374089882e-8
          ],
          [
           0.08570954005180632,
           2.244280171323359,
           0.024998514637584703
          ],
          [
           0.09282206071612652,
           2.0337453126123357,
           0.04219987690248582
          ],
          [
           0.06291772531284334,
           2.9427848468046958,
           0.003316122722267945
          ],
          [
           0.034301907911577376,
           4.188542260172052,
           0.00003015803869539996
          ],
          [
           0.03470427547395921,
           -2.2463672747447165,
           0.024864222390859603
          ],
          [
           0.06048919617457093,
           -3.8379218562410786,
           0.00013063510780943685
          ],
          [
           0.10632411485647991,
           -4.526179433816766,
           0.0000066113383168098814
          ]
         ],
         "hovertemplate": "Feature Names=%{x}<br>Coefficient Value=%{marker.color}<br>Std_Error=%{customdata[0]}<br>t_value=%{customdata[1]}<br>p_value=%{customdata[2]}<extra></extra>",
         "legendgroup": "",
         "marker": {
          "color": [
           0.4213395030634393,
           0.3157441717765016,
           0.3109426158715587,
           0.2141638921665745,
           0.1923562212315142,
           0.18877643088843993,
           0.18515332864605563,
           0.1436749908921719,
           -0.07795854871842767,
           -0.23215280806484,
           -0.48124202198217103
          ],
          "coloraxis": "coloraxis",
          "pattern": {
           "shape": ""
          }
         },
         "name": "",
         "offsetgroup": "",
         "orientation": "v",
         "showlegend": false,
         "textposition": "auto",
         "type": "bar",
         "x": [
          "animation",
          "Month_Dec",
          "war",
          "Budget(USD)_Inflated",
          "fantasy",
          "mystery",
          "romance film",
          "Critics_Score",
          "Audience_Score",
          "comedy",
          "sports"
         ],
         "xaxis": "x",
         "y": [
          0.4213395030634393,
          0.3157441717765016,
          0.3109426158715587,
          0.2141638921665745,
          0.1923562212315142,
          0.18877643088843993,
          0.18515332864605563,
          0.1436749908921719,
          -0.07795854871842767,
          -0.23215280806484,
          -0.48124202198217103
         ],
         "yaxis": "y"
        }
       ],
       "layout": {
        "barmode": "relative",
        "coloraxis": {
         "colorbar": {
          "title": {
           "text": "Coefficient Value"
          }
         },
         "colorscale": [
          [
           0,
           "#0d0887"
          ],
          [
           0.1111111111111111,
           "#46039f"
          ],
          [
           0.2222222222222222,
           "#7201a8"
          ],
          [
           0.3333333333333333,
           "#9c179e"
          ],
          [
           0.4444444444444444,
           "#bd3786"
          ],
          [
           0.5555555555555556,
           "#d8576b"
          ],
          [
           0.6666666666666666,
           "#ed7953"
          ],
          [
           0.7777777777777778,
           "#fb9f3a"
          ],
          [
           0.8888888888888888,
           "#fdca26"
          ],
          [
           1,
           "#f0f921"
          ]
         ]
        },
        "font": {
         "color": "black",
         "family": "Futura",
         "size": 15
        },
        "height": 400,
        "legend": {
         "tracegroupgap": 0
        },
        "template": {
         "data": {
          "bar": [
           {
            "error_x": {
             "color": "#2a3f5f"
            },
            "error_y": {
             "color": "#2a3f5f"
            },
            "marker": {
             "line": {
              "color": "#E5ECF6",
              "width": 0.5
             },
             "pattern": {
              "fillmode": "overlay",
              "size": 10,
              "solidity": 0.2
             }
            },
            "type": "bar"
           }
          ],
          "barpolar": [
           {
            "marker": {
             "line": {
              "color": "#E5ECF6",
              "width": 0.5
             },
             "pattern": {
              "fillmode": "overlay",
              "size": 10,
              "solidity": 0.2
             }
            },
            "type": "barpolar"
           }
          ],
          "carpet": [
           {
            "aaxis": {
             "endlinecolor": "#2a3f5f",
             "gridcolor": "white",
             "linecolor": "white",
             "minorgridcolor": "white",
             "startlinecolor": "#2a3f5f"
            },
            "baxis": {
             "endlinecolor": "#2a3f5f",
             "gridcolor": "white",
             "linecolor": "white",
             "minorgridcolor": "white",
             "startlinecolor": "#2a3f5f"
            },
            "type": "carpet"
           }
          ],
          "choropleth": [
           {
            "colorbar": {
             "outlinewidth": 0,
             "ticks": ""
            },
            "type": "choropleth"
           }
          ],
          "contour": [
           {
            "colorbar": {
             "outlinewidth": 0,
             "ticks": ""
            },
            "colorscale": [
             [
              0,
              "#0d0887"
             ],
             [
              0.1111111111111111,
              "#46039f"
             ],
             [
              0.2222222222222222,
              "#7201a8"
             ],
             [
              0.3333333333333333,
              "#9c179e"
             ],
             [
              0.4444444444444444,
              "#bd3786"
             ],
             [
              0.5555555555555556,
              "#d8576b"
             ],
             [
              0.6666666666666666,
              "#ed7953"
             ],
             [
              0.7777777777777778,
              "#fb9f3a"
             ],
             [
              0.8888888888888888,
              "#fdca26"
             ],
             [
              1,
              "#f0f921"
             ]
            ],
            "type": "contour"
           }
          ],
          "contourcarpet": [
           {
            "colorbar": {
             "outlinewidth": 0,
             "ticks": ""
            },
            "type": "contourcarpet"
           }
          ],
          "heatmap": [
           {
            "colorbar": {
             "outlinewidth": 0,
             "ticks": ""
            },
            "colorscale": [
             [
              0,
              "#0d0887"
             ],
             [
              0.1111111111111111,
              "#46039f"
             ],
             [
              0.2222222222222222,
              "#7201a8"
             ],
             [
              0.3333333333333333,
              "#9c179e"
             ],
             [
              0.4444444444444444,
              "#bd3786"
             ],
             [
              0.5555555555555556,
              "#d8576b"
             ],
             [
              0.6666666666666666,
              "#ed7953"
             ],
             [
              0.7777777777777778,
              "#fb9f3a"
             ],
             [
              0.8888888888888888,
              "#fdca26"
             ],
             [
              1,
              "#f0f921"
             ]
            ],
            "type": "heatmap"
           }
          ],
          "heatmapgl": [
           {
            "colorbar": {
             "outlinewidth": 0,
             "ticks": ""
            },
            "colorscale": [
             [
              0,
              "#0d0887"
             ],
             [
              0.1111111111111111,
              "#46039f"
             ],
             [
              0.2222222222222222,
              "#7201a8"
             ],
             [
              0.3333333333333333,
              "#9c179e"
             ],
             [
              0.4444444444444444,
              "#bd3786"
             ],
             [
              0.5555555555555556,
              "#d8576b"
             ],
             [
              0.6666666666666666,
              "#ed7953"
             ],
             [
              0.7777777777777778,
              "#fb9f3a"
             ],
             [
              0.8888888888888888,
              "#fdca26"
             ],
             [
              1,
              "#f0f921"
             ]
            ],
            "type": "heatmapgl"
           }
          ],
          "histogram": [
           {
            "marker": {
             "pattern": {
              "fillmode": "overlay",
              "size": 10,
              "solidity": 0.2
             }
            },
            "type": "histogram"
           }
          ],
          "histogram2d": [
           {
            "colorbar": {
             "outlinewidth": 0,
             "ticks": ""
            },
            "colorscale": [
             [
              0,
              "#0d0887"
             ],
             [
              0.1111111111111111,
              "#46039f"
             ],
             [
              0.2222222222222222,
              "#7201a8"
             ],
             [
              0.3333333333333333,
              "#9c179e"
             ],
             [
              0.4444444444444444,
              "#bd3786"
             ],
             [
              0.5555555555555556,
              "#d8576b"
             ],
             [
              0.6666666666666666,
              "#ed7953"
             ],
             [
              0.7777777777777778,
              "#fb9f3a"
             ],
             [
              0.8888888888888888,
              "#fdca26"
             ],
             [
              1,
              "#f0f921"
             ]
            ],
            "type": "histogram2d"
           }
          ],
          "histogram2dcontour": [
           {
            "colorbar": {
             "outlinewidth": 0,
             "ticks": ""
            },
            "colorscale": [
             [
              0,
              "#0d0887"
             ],
             [
              0.1111111111111111,
              "#46039f"
             ],
             [
              0.2222222222222222,
              "#7201a8"
             ],
             [
              0.3333333333333333,
              "#9c179e"
             ],
             [
              0.4444444444444444,
              "#bd3786"
             ],
             [
              0.5555555555555556,
              "#d8576b"
             ],
             [
              0.6666666666666666,
              "#ed7953"
             ],
             [
              0.7777777777777778,
              "#fb9f3a"
             ],
             [
              0.8888888888888888,
              "#fdca26"
             ],
             [
              1,
              "#f0f921"
             ]
            ],
            "type": "histogram2dcontour"
           }
          ],
          "mesh3d": [
           {
            "colorbar": {
             "outlinewidth": 0,
             "ticks": ""
            },
            "type": "mesh3d"
           }
          ],
          "parcoords": [
           {
            "line": {
             "colorbar": {
              "outlinewidth": 0,
              "ticks": ""
             }
            },
            "type": "parcoords"
           }
          ],
          "pie": [
           {
            "automargin": true,
            "type": "pie"
           }
          ],
          "scatter": [
           {
            "fillpattern": {
             "fillmode": "overlay",
             "size": 10,
             "solidity": 0.2
            },
            "type": "scatter"
           }
          ],
          "scatter3d": [
           {
            "line": {
             "colorbar": {
              "outlinewidth": 0,
              "ticks": ""
             }
            },
            "marker": {
             "colorbar": {
              "outlinewidth": 0,
              "ticks": ""
             }
            },
            "type": "scatter3d"
           }
          ],
          "scattercarpet": [
           {
            "marker": {
             "colorbar": {
              "outlinewidth": 0,
              "ticks": ""
             }
            },
            "type": "scattercarpet"
           }
          ],
          "scattergeo": [
           {
            "marker": {
             "colorbar": {
              "outlinewidth": 0,
              "ticks": ""
             }
            },
            "type": "scattergeo"
           }
          ],
          "scattergl": [
           {
            "marker": {
             "colorbar": {
              "outlinewidth": 0,
              "ticks": ""
             }
            },
            "type": "scattergl"
           }
          ],
          "scattermapbox": [
           {
            "marker": {
             "colorbar": {
              "outlinewidth": 0,
              "ticks": ""
             }
            },
            "type": "scattermapbox"
           }
          ],
          "scatterpolar": [
           {
            "marker": {
             "colorbar": {
              "outlinewidth": 0,
              "ticks": ""
             }
            },
            "type": "scatterpolar"
           }
          ],
          "scatterpolargl": [
           {
            "marker": {
             "colorbar": {
              "outlinewidth": 0,
              "ticks": ""
             }
            },
            "type": "scatterpolargl"
           }
          ],
          "scatterternary": [
           {
            "marker": {
             "colorbar": {
              "outlinewidth": 0,
              "ticks": ""
             }
            },
            "type": "scatterternary"
           }
          ],
          "surface": [
           {
            "colorbar": {
             "outlinewidth": 0,
             "ticks": ""
            },
            "colorscale": [
             [
              0,
              "#0d0887"
             ],
             [
              0.1111111111111111,
              "#46039f"
             ],
             [
              0.2222222222222222,
              "#7201a8"
             ],
             [
              0.3333333333333333,
              "#9c179e"
             ],
             [
              0.4444444444444444,
              "#bd3786"
             ],
             [
              0.5555555555555556,
              "#d8576b"
             ],
             [
              0.6666666666666666,
              "#ed7953"
             ],
             [
              0.7777777777777778,
              "#fb9f3a"
             ],
             [
              0.8888888888888888,
              "#fdca26"
             ],
             [
              1,
              "#f0f921"
             ]
            ],
            "type": "surface"
           }
          ],
          "table": [
           {
            "cells": {
             "fill": {
              "color": "#EBF0F8"
             },
             "line": {
              "color": "white"
             }
            },
            "header": {
             "fill": {
              "color": "#C8D4E3"
             },
             "line": {
              "color": "white"
             }
            },
            "type": "table"
           }
          ]
         },
         "layout": {
          "annotationdefaults": {
           "arrowcolor": "#2a3f5f",
           "arrowhead": 0,
           "arrowwidth": 1
          },
          "autotypenumbers": "strict",
          "coloraxis": {
           "colorbar": {
            "outlinewidth": 0,
            "ticks": ""
           }
          },
          "colorscale": {
           "diverging": [
            [
             0,
             "#8e0152"
            ],
            [
             0.1,
             "#c51b7d"
            ],
            [
             0.2,
             "#de77ae"
            ],
            [
             0.3,
             "#f1b6da"
            ],
            [
             0.4,
             "#fde0ef"
            ],
            [
             0.5,
             "#f7f7f7"
            ],
            [
             0.6,
             "#e6f5d0"
            ],
            [
             0.7,
             "#b8e186"
            ],
            [
             0.8,
             "#7fbc41"
            ],
            [
             0.9,
             "#4d9221"
            ],
            [
             1,
             "#276419"
            ]
           ],
           "sequential": [
            [
             0,
             "#0d0887"
            ],
            [
             0.1111111111111111,
             "#46039f"
            ],
            [
             0.2222222222222222,
             "#7201a8"
            ],
            [
             0.3333333333333333,
             "#9c179e"
            ],
            [
             0.4444444444444444,
             "#bd3786"
            ],
            [
             0.5555555555555556,
             "#d8576b"
            ],
            [
             0.6666666666666666,
             "#ed7953"
            ],
            [
             0.7777777777777778,
             "#fb9f3a"
            ],
            [
             0.8888888888888888,
             "#fdca26"
            ],
            [
             1,
             "#f0f921"
            ]
           ],
           "sequentialminus": [
            [
             0,
             "#0d0887"
            ],
            [
             0.1111111111111111,
             "#46039f"
            ],
            [
             0.2222222222222222,
             "#7201a8"
            ],
            [
             0.3333333333333333,
             "#9c179e"
            ],
            [
             0.4444444444444444,
             "#bd3786"
            ],
            [
             0.5555555555555556,
             "#d8576b"
            ],
            [
             0.6666666666666666,
             "#ed7953"
            ],
            [
             0.7777777777777778,
             "#fb9f3a"
            ],
            [
             0.8888888888888888,
             "#fdca26"
            ],
            [
             1,
             "#f0f921"
            ]
           ]
          },
          "colorway": [
           "#636efa",
           "#EF553B",
           "#00cc96",
           "#ab63fa",
           "#FFA15A",
           "#19d3f3",
           "#FF6692",
           "#B6E880",
           "#FF97FF",
           "#FECB52"
          ],
          "font": {
           "color": "#2a3f5f"
          },
          "geo": {
           "bgcolor": "white",
           "lakecolor": "white",
           "landcolor": "#E5ECF6",
           "showlakes": true,
           "showland": true,
           "subunitcolor": "white"
          },
          "hoverlabel": {
           "align": "left"
          },
          "hovermode": "closest",
          "mapbox": {
           "style": "light"
          },
          "paper_bgcolor": "white",
          "plot_bgcolor": "#E5ECF6",
          "polar": {
           "angularaxis": {
            "gridcolor": "white",
            "linecolor": "white",
            "ticks": ""
           },
           "bgcolor": "#E5ECF6",
           "radialaxis": {
            "gridcolor": "white",
            "linecolor": "white",
            "ticks": ""
           }
          },
          "scene": {
           "xaxis": {
            "backgroundcolor": "#E5ECF6",
            "gridcolor": "white",
            "gridwidth": 2,
            "linecolor": "white",
            "showbackground": true,
            "ticks": "",
            "zerolinecolor": "white"
           },
           "yaxis": {
            "backgroundcolor": "#E5ECF6",
            "gridcolor": "white",
            "gridwidth": 2,
            "linecolor": "white",
            "showbackground": true,
            "ticks": "",
            "zerolinecolor": "white"
           },
           "zaxis": {
            "backgroundcolor": "#E5ECF6",
            "gridcolor": "white",
            "gridwidth": 2,
            "linecolor": "white",
            "showbackground": true,
            "ticks": "",
            "zerolinecolor": "white"
           }
          },
          "shapedefaults": {
           "line": {
            "color": "#2a3f5f"
           }
          },
          "ternary": {
           "aaxis": {
            "gridcolor": "white",
            "linecolor": "white",
            "ticks": ""
           },
           "baxis": {
            "gridcolor": "white",
            "linecolor": "white",
            "ticks": ""
           },
           "bgcolor": "#E5ECF6",
           "caxis": {
            "gridcolor": "white",
            "linecolor": "white",
            "ticks": ""
           }
          },
          "title": {
           "x": 0.05
          },
          "xaxis": {
           "automargin": true,
           "gridcolor": "white",
           "linecolor": "white",
           "ticks": "",
           "title": {
            "standoff": 15
           },
           "zerolinecolor": "white",
           "zerolinewidth": 2
          },
          "yaxis": {
           "automargin": true,
           "gridcolor": "white",
           "linecolor": "white",
           "ticks": "",
           "title": {
            "standoff": 15
           },
           "zerolinecolor": "white",
           "zerolinewidth": 2
          }
         }
        },
        "title": {
         "font": {
          "size": 20
         },
         "text": "OLS Coeffecients 2000-2009",
         "x": 0.5,
         "xanchor": "center",
         "y": 0.95,
         "yanchor": "top"
        },
        "xaxis": {
         "anchor": "y",
         "domain": [
          0,
          1
         ],
         "title": {
          "text": "Feature Names"
         }
        },
        "yaxis": {
         "anchor": "x",
         "domain": [
          0,
          1
         ],
         "title": {
          "text": "Coefficient Value"
         }
        }
       }
      }
     },
     "metadata": {},
     "output_type": "display_data"
    }
   ],
   "source": [
    "plot_feature_coefficients(feature_stats_pre_2010, \"OLS Coeffecients 2000-2009\", \"../_includes/OLS_features_pre_2010.html\")"
   ]
  },
  {
   "cell_type": "code",
   "execution_count": 789,
   "metadata": {},
   "outputs": [
    {
     "name": "stdout",
     "output_type": "stream",
     "text": [
      "Plot saved to ../_includes/OLS_features_post_2010.html\n"
     ]
    },
    {
     "data": {
      "application/vnd.plotly.v1+json": {
       "config": {
        "plotlyServerURL": "https://plot.ly"
       },
       "data": [
        {
         "alignmentgroup": "True",
         "customdata": [
          [
           0.14894761919682903,
           3.6755557295976495,
           0.0002462384621912023
          ],
          [
           0.11867523835605827,
           3.2520710559382646,
           0.0011727846083411516
          ],
          [
           0.11527688331684871,
           3.012359894117532,
           0.002638455278677694
          ],
          [
           0.07598092214906625,
           4.034317966540208,
           0.000057699459568639035
          ],
          [
           0.035726887989037705,
           7.614841819200716,
           4.814102804085967e-14
          ],
          [
           0.10966905210353979,
           2.3588819707644233,
           0.0184659515156117
          ],
          [
           0.10505637498910488,
           2.261111201190849,
           0.023904329899083143
          ],
          [
           0.06739011324708098,
           2.912236637566943,
           0.0036450178170646377
          ],
          [
           0.07089480815621665,
           2.291025727391675,
           0.022108976557750487
          ],
          [
           0.03394562545556643,
           2.4548357654494777,
           0.014215070443103002
          ],
          [
           0.03515153327583787,
           2.0649043209522095,
           0.03911464924001112
          ],
          [
           0.03647210074945948,
           -6.14160850148097,
           1.0606131712417145e-9
          ],
          [
           0.0615136589150715,
           -3.8353954343915952,
           0.00013089796576487705
          ],
          [
           0.15117568026886036,
           -2.3838607581460614,
           0.017263838301769554
          ],
          [
           0.15760597691983363,
           -3.0242038287008324,
           0.0025379634450827322
          ]
         ],
         "hovertemplate": "Feature Names=%{x}<br>Coefficient Value=%{marker.color}<br>Std_Error=%{customdata[0]}<br>t_value=%{customdata[1]}<br>p_value=%{customdata[2]}<extra></extra>",
         "legendgroup": "",
         "marker": {
          "color": [
           0.5474652751488338,
           0.38594030771431165,
           0.3472554600225415,
           0.3065311993402708,
           0.2720546007288241,
           0.25869634975786415,
           0.23754414624437117,
           0.19625595680793462,
           0.16242182942438954,
           0.0833309354488767,
           0.072584552949373,
           -0.22399736402975082,
           -0.23592920655558708,
           -0.360381771778972,
           -0.4766325988270959
          ],
          "coloraxis": "coloraxis",
          "pattern": {
           "shape": ""
          }
         },
         "name": "",
         "offsetgroup": "",
         "orientation": "v",
         "showlegend": false,
         "textposition": "auto",
         "type": "bar",
         "x": [
          "animation",
          "Month_Dec",
          "Month_Nov",
          "adventure",
          "Budget(USD)_Inflated",
          "Month_Oct",
          "emotion_disgust",
          "thriller",
          "action",
          "Runtime(mins)",
          "Critics_Score",
          "Audience_Score",
          "comedy",
          "emotion_surprise",
          "sports"
         ],
         "xaxis": "x",
         "y": [
          0.5474652751488338,
          0.38594030771431165,
          0.3472554600225415,
          0.3065311993402708,
          0.2720546007288241,
          0.25869634975786415,
          0.23754414624437117,
          0.19625595680793462,
          0.16242182942438954,
          0.0833309354488767,
          0.072584552949373,
          -0.22399736402975082,
          -0.23592920655558708,
          -0.360381771778972,
          -0.4766325988270959
         ],
         "yaxis": "y"
        }
       ],
       "layout": {
        "barmode": "relative",
        "coloraxis": {
         "colorbar": {
          "title": {
           "text": "Coefficient Value"
          }
         },
         "colorscale": [
          [
           0,
           "#0d0887"
          ],
          [
           0.1111111111111111,
           "#46039f"
          ],
          [
           0.2222222222222222,
           "#7201a8"
          ],
          [
           0.3333333333333333,
           "#9c179e"
          ],
          [
           0.4444444444444444,
           "#bd3786"
          ],
          [
           0.5555555555555556,
           "#d8576b"
          ],
          [
           0.6666666666666666,
           "#ed7953"
          ],
          [
           0.7777777777777778,
           "#fb9f3a"
          ],
          [
           0.8888888888888888,
           "#fdca26"
          ],
          [
           1,
           "#f0f921"
          ]
         ]
        },
        "font": {
         "color": "black",
         "family": "Futura",
         "size": 15
        },
        "height": 400,
        "legend": {
         "tracegroupgap": 0
        },
        "template": {
         "data": {
          "bar": [
           {
            "error_x": {
             "color": "#2a3f5f"
            },
            "error_y": {
             "color": "#2a3f5f"
            },
            "marker": {
             "line": {
              "color": "#E5ECF6",
              "width": 0.5
             },
             "pattern": {
              "fillmode": "overlay",
              "size": 10,
              "solidity": 0.2
             }
            },
            "type": "bar"
           }
          ],
          "barpolar": [
           {
            "marker": {
             "line": {
              "color": "#E5ECF6",
              "width": 0.5
             },
             "pattern": {
              "fillmode": "overlay",
              "size": 10,
              "solidity": 0.2
             }
            },
            "type": "barpolar"
           }
          ],
          "carpet": [
           {
            "aaxis": {
             "endlinecolor": "#2a3f5f",
             "gridcolor": "white",
             "linecolor": "white",
             "minorgridcolor": "white",
             "startlinecolor": "#2a3f5f"
            },
            "baxis": {
             "endlinecolor": "#2a3f5f",
             "gridcolor": "white",
             "linecolor": "white",
             "minorgridcolor": "white",
             "startlinecolor": "#2a3f5f"
            },
            "type": "carpet"
           }
          ],
          "choropleth": [
           {
            "colorbar": {
             "outlinewidth": 0,
             "ticks": ""
            },
            "type": "choropleth"
           }
          ],
          "contour": [
           {
            "colorbar": {
             "outlinewidth": 0,
             "ticks": ""
            },
            "colorscale": [
             [
              0,
              "#0d0887"
             ],
             [
              0.1111111111111111,
              "#46039f"
             ],
             [
              0.2222222222222222,
              "#7201a8"
             ],
             [
              0.3333333333333333,
              "#9c179e"
             ],
             [
              0.4444444444444444,
              "#bd3786"
             ],
             [
              0.5555555555555556,
              "#d8576b"
             ],
             [
              0.6666666666666666,
              "#ed7953"
             ],
             [
              0.7777777777777778,
              "#fb9f3a"
             ],
             [
              0.8888888888888888,
              "#fdca26"
             ],
             [
              1,
              "#f0f921"
             ]
            ],
            "type": "contour"
           }
          ],
          "contourcarpet": [
           {
            "colorbar": {
             "outlinewidth": 0,
             "ticks": ""
            },
            "type": "contourcarpet"
           }
          ],
          "heatmap": [
           {
            "colorbar": {
             "outlinewidth": 0,
             "ticks": ""
            },
            "colorscale": [
             [
              0,
              "#0d0887"
             ],
             [
              0.1111111111111111,
              "#46039f"
             ],
             [
              0.2222222222222222,
              "#7201a8"
             ],
             [
              0.3333333333333333,
              "#9c179e"
             ],
             [
              0.4444444444444444,
              "#bd3786"
             ],
             [
              0.5555555555555556,
              "#d8576b"
             ],
             [
              0.6666666666666666,
              "#ed7953"
             ],
             [
              0.7777777777777778,
              "#fb9f3a"
             ],
             [
              0.8888888888888888,
              "#fdca26"
             ],
             [
              1,
              "#f0f921"
             ]
            ],
            "type": "heatmap"
           }
          ],
          "heatmapgl": [
           {
            "colorbar": {
             "outlinewidth": 0,
             "ticks": ""
            },
            "colorscale": [
             [
              0,
              "#0d0887"
             ],
             [
              0.1111111111111111,
              "#46039f"
             ],
             [
              0.2222222222222222,
              "#7201a8"
             ],
             [
              0.3333333333333333,
              "#9c179e"
             ],
             [
              0.4444444444444444,
              "#bd3786"
             ],
             [
              0.5555555555555556,
              "#d8576b"
             ],
             [
              0.6666666666666666,
              "#ed7953"
             ],
             [
              0.7777777777777778,
              "#fb9f3a"
             ],
             [
              0.8888888888888888,
              "#fdca26"
             ],
             [
              1,
              "#f0f921"
             ]
            ],
            "type": "heatmapgl"
           }
          ],
          "histogram": [
           {
            "marker": {
             "pattern": {
              "fillmode": "overlay",
              "size": 10,
              "solidity": 0.2
             }
            },
            "type": "histogram"
           }
          ],
          "histogram2d": [
           {
            "colorbar": {
             "outlinewidth": 0,
             "ticks": ""
            },
            "colorscale": [
             [
              0,
              "#0d0887"
             ],
             [
              0.1111111111111111,
              "#46039f"
             ],
             [
              0.2222222222222222,
              "#7201a8"
             ],
             [
              0.3333333333333333,
              "#9c179e"
             ],
             [
              0.4444444444444444,
              "#bd3786"
             ],
             [
              0.5555555555555556,
              "#d8576b"
             ],
             [
              0.6666666666666666,
              "#ed7953"
             ],
             [
              0.7777777777777778,
              "#fb9f3a"
             ],
             [
              0.8888888888888888,
              "#fdca26"
             ],
             [
              1,
              "#f0f921"
             ]
            ],
            "type": "histogram2d"
           }
          ],
          "histogram2dcontour": [
           {
            "colorbar": {
             "outlinewidth": 0,
             "ticks": ""
            },
            "colorscale": [
             [
              0,
              "#0d0887"
             ],
             [
              0.1111111111111111,
              "#46039f"
             ],
             [
              0.2222222222222222,
              "#7201a8"
             ],
             [
              0.3333333333333333,
              "#9c179e"
             ],
             [
              0.4444444444444444,
              "#bd3786"
             ],
             [
              0.5555555555555556,
              "#d8576b"
             ],
             [
              0.6666666666666666,
              "#ed7953"
             ],
             [
              0.7777777777777778,
              "#fb9f3a"
             ],
             [
              0.8888888888888888,
              "#fdca26"
             ],
             [
              1,
              "#f0f921"
             ]
            ],
            "type": "histogram2dcontour"
           }
          ],
          "mesh3d": [
           {
            "colorbar": {
             "outlinewidth": 0,
             "ticks": ""
            },
            "type": "mesh3d"
           }
          ],
          "parcoords": [
           {
            "line": {
             "colorbar": {
              "outlinewidth": 0,
              "ticks": ""
             }
            },
            "type": "parcoords"
           }
          ],
          "pie": [
           {
            "automargin": true,
            "type": "pie"
           }
          ],
          "scatter": [
           {
            "fillpattern": {
             "fillmode": "overlay",
             "size": 10,
             "solidity": 0.2
            },
            "type": "scatter"
           }
          ],
          "scatter3d": [
           {
            "line": {
             "colorbar": {
              "outlinewidth": 0,
              "ticks": ""
             }
            },
            "marker": {
             "colorbar": {
              "outlinewidth": 0,
              "ticks": ""
             }
            },
            "type": "scatter3d"
           }
          ],
          "scattercarpet": [
           {
            "marker": {
             "colorbar": {
              "outlinewidth": 0,
              "ticks": ""
             }
            },
            "type": "scattercarpet"
           }
          ],
          "scattergeo": [
           {
            "marker": {
             "colorbar": {
              "outlinewidth": 0,
              "ticks": ""
             }
            },
            "type": "scattergeo"
           }
          ],
          "scattergl": [
           {
            "marker": {
             "colorbar": {
              "outlinewidth": 0,
              "ticks": ""
             }
            },
            "type": "scattergl"
           }
          ],
          "scattermapbox": [
           {
            "marker": {
             "colorbar": {
              "outlinewidth": 0,
              "ticks": ""
             }
            },
            "type": "scattermapbox"
           }
          ],
          "scatterpolar": [
           {
            "marker": {
             "colorbar": {
              "outlinewidth": 0,
              "ticks": ""
             }
            },
            "type": "scatterpolar"
           }
          ],
          "scatterpolargl": [
           {
            "marker": {
             "colorbar": {
              "outlinewidth": 0,
              "ticks": ""
             }
            },
            "type": "scatterpolargl"
           }
          ],
          "scatterternary": [
           {
            "marker": {
             "colorbar": {
              "outlinewidth": 0,
              "ticks": ""
             }
            },
            "type": "scatterternary"
           }
          ],
          "surface": [
           {
            "colorbar": {
             "outlinewidth": 0,
             "ticks": ""
            },
            "colorscale": [
             [
              0,
              "#0d0887"
             ],
             [
              0.1111111111111111,
              "#46039f"
             ],
             [
              0.2222222222222222,
              "#7201a8"
             ],
             [
              0.3333333333333333,
              "#9c179e"
             ],
             [
              0.4444444444444444,
              "#bd3786"
             ],
             [
              0.5555555555555556,
              "#d8576b"
             ],
             [
              0.6666666666666666,
              "#ed7953"
             ],
             [
              0.7777777777777778,
              "#fb9f3a"
             ],
             [
              0.8888888888888888,
              "#fdca26"
             ],
             [
              1,
              "#f0f921"
             ]
            ],
            "type": "surface"
           }
          ],
          "table": [
           {
            "cells": {
             "fill": {
              "color": "#EBF0F8"
             },
             "line": {
              "color": "white"
             }
            },
            "header": {
             "fill": {
              "color": "#C8D4E3"
             },
             "line": {
              "color": "white"
             }
            },
            "type": "table"
           }
          ]
         },
         "layout": {
          "annotationdefaults": {
           "arrowcolor": "#2a3f5f",
           "arrowhead": 0,
           "arrowwidth": 1
          },
          "autotypenumbers": "strict",
          "coloraxis": {
           "colorbar": {
            "outlinewidth": 0,
            "ticks": ""
           }
          },
          "colorscale": {
           "diverging": [
            [
             0,
             "#8e0152"
            ],
            [
             0.1,
             "#c51b7d"
            ],
            [
             0.2,
             "#de77ae"
            ],
            [
             0.3,
             "#f1b6da"
            ],
            [
             0.4,
             "#fde0ef"
            ],
            [
             0.5,
             "#f7f7f7"
            ],
            [
             0.6,
             "#e6f5d0"
            ],
            [
             0.7,
             "#b8e186"
            ],
            [
             0.8,
             "#7fbc41"
            ],
            [
             0.9,
             "#4d9221"
            ],
            [
             1,
             "#276419"
            ]
           ],
           "sequential": [
            [
             0,
             "#0d0887"
            ],
            [
             0.1111111111111111,
             "#46039f"
            ],
            [
             0.2222222222222222,
             "#7201a8"
            ],
            [
             0.3333333333333333,
             "#9c179e"
            ],
            [
             0.4444444444444444,
             "#bd3786"
            ],
            [
             0.5555555555555556,
             "#d8576b"
            ],
            [
             0.6666666666666666,
             "#ed7953"
            ],
            [
             0.7777777777777778,
             "#fb9f3a"
            ],
            [
             0.8888888888888888,
             "#fdca26"
            ],
            [
             1,
             "#f0f921"
            ]
           ],
           "sequentialminus": [
            [
             0,
             "#0d0887"
            ],
            [
             0.1111111111111111,
             "#46039f"
            ],
            [
             0.2222222222222222,
             "#7201a8"
            ],
            [
             0.3333333333333333,
             "#9c179e"
            ],
            [
             0.4444444444444444,
             "#bd3786"
            ],
            [
             0.5555555555555556,
             "#d8576b"
            ],
            [
             0.6666666666666666,
             "#ed7953"
            ],
            [
             0.7777777777777778,
             "#fb9f3a"
            ],
            [
             0.8888888888888888,
             "#fdca26"
            ],
            [
             1,
             "#f0f921"
            ]
           ]
          },
          "colorway": [
           "#636efa",
           "#EF553B",
           "#00cc96",
           "#ab63fa",
           "#FFA15A",
           "#19d3f3",
           "#FF6692",
           "#B6E880",
           "#FF97FF",
           "#FECB52"
          ],
          "font": {
           "color": "#2a3f5f"
          },
          "geo": {
           "bgcolor": "white",
           "lakecolor": "white",
           "landcolor": "#E5ECF6",
           "showlakes": true,
           "showland": true,
           "subunitcolor": "white"
          },
          "hoverlabel": {
           "align": "left"
          },
          "hovermode": "closest",
          "mapbox": {
           "style": "light"
          },
          "paper_bgcolor": "white",
          "plot_bgcolor": "#E5ECF6",
          "polar": {
           "angularaxis": {
            "gridcolor": "white",
            "linecolor": "white",
            "ticks": ""
           },
           "bgcolor": "#E5ECF6",
           "radialaxis": {
            "gridcolor": "white",
            "linecolor": "white",
            "ticks": ""
           }
          },
          "scene": {
           "xaxis": {
            "backgroundcolor": "#E5ECF6",
            "gridcolor": "white",
            "gridwidth": 2,
            "linecolor": "white",
            "showbackground": true,
            "ticks": "",
            "zerolinecolor": "white"
           },
           "yaxis": {
            "backgroundcolor": "#E5ECF6",
            "gridcolor": "white",
            "gridwidth": 2,
            "linecolor": "white",
            "showbackground": true,
            "ticks": "",
            "zerolinecolor": "white"
           },
           "zaxis": {
            "backgroundcolor": "#E5ECF6",
            "gridcolor": "white",
            "gridwidth": 2,
            "linecolor": "white",
            "showbackground": true,
            "ticks": "",
            "zerolinecolor": "white"
           }
          },
          "shapedefaults": {
           "line": {
            "color": "#2a3f5f"
           }
          },
          "ternary": {
           "aaxis": {
            "gridcolor": "white",
            "linecolor": "white",
            "ticks": ""
           },
           "baxis": {
            "gridcolor": "white",
            "linecolor": "white",
            "ticks": ""
           },
           "bgcolor": "#E5ECF6",
           "caxis": {
            "gridcolor": "white",
            "linecolor": "white",
            "ticks": ""
           }
          },
          "title": {
           "x": 0.05
          },
          "xaxis": {
           "automargin": true,
           "gridcolor": "white",
           "linecolor": "white",
           "ticks": "",
           "title": {
            "standoff": 15
           },
           "zerolinecolor": "white",
           "zerolinewidth": 2
          },
          "yaxis": {
           "automargin": true,
           "gridcolor": "white",
           "linecolor": "white",
           "ticks": "",
           "title": {
            "standoff": 15
           },
           "zerolinecolor": "white",
           "zerolinewidth": 2
          }
         }
        },
        "title": {
         "font": {
          "size": 20
         },
         "text": "OLS Coeffecients 2010-2019",
         "x": 0.5,
         "xanchor": "center",
         "y": 0.95,
         "yanchor": "top"
        },
        "xaxis": {
         "anchor": "y",
         "domain": [
          0,
          1
         ],
         "title": {
          "text": "Feature Names"
         }
        },
        "yaxis": {
         "anchor": "x",
         "domain": [
          0,
          1
         ],
         "title": {
          "text": "Coefficient Value"
         }
        }
       }
      }
     },
     "metadata": {},
     "output_type": "display_data"
    }
   ],
   "source": [
    "plot_feature_coefficients(feature_stats_post_2010, \"OLS Coeffecients 2010-2019\", \"../_includes/OLS_features_post_2010.html\")"
   ]
  },
  {
   "cell_type": "code",
   "execution_count": null,
   "metadata": {},
   "outputs": [],
   "source": []
  }
 ],
 "metadata": {
  "kernelspec": {
   "display_name": "ada",
   "language": "python",
   "name": "python3"
  },
  "language_info": {
   "codemirror_mode": {
    "name": "ipython",
    "version": 3
   },
   "file_extension": ".py",
   "mimetype": "text/x-python",
   "name": "python",
   "nbconvert_exporter": "python",
   "pygments_lexer": "ipython3",
   "version": "3.11.9"
  }
 },
 "nbformat": 4,
 "nbformat_minor": 2
}
