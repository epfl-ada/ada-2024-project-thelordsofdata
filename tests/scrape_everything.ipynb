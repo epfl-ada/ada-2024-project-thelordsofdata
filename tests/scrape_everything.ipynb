{
 "cells": [
  {
   "cell_type": "code",
   "execution_count": 1,
   "metadata": {},
   "outputs": [],
   "source": [
    "#Imports\n",
    "import numpy as np\n",
    "import pandas as pd\n",
    "import ast\n",
    "import re\n",
    "import matplotlib.pyplot as plt\n",
    "import seaborn as sns\n",
    "import os\n",
    "import math\n",
    "import random"
   ]
  },
  {
   "cell_type": "code",
   "execution_count": 12,
   "metadata": {},
   "outputs": [],
   "source": [
    "df_megaset = pd.read_csv('../data/megaset.csv')"
   ]
  },
  {
   "cell_type": "code",
   "execution_count": 13,
   "metadata": {},
   "outputs": [
    {
     "data": {
      "text/html": [
       "<div>\n",
       "<style scoped>\n",
       "    .dataframe tbody tr th:only-of-type {\n",
       "        vertical-align: middle;\n",
       "    }\n",
       "\n",
       "    .dataframe tbody tr th {\n",
       "        vertical-align: top;\n",
       "    }\n",
       "\n",
       "    .dataframe thead th {\n",
       "        text-align: right;\n",
       "    }\n",
       "</style>\n",
       "<table border=\"1\" class=\"dataframe\">\n",
       "  <thead>\n",
       "    <tr style=\"text-align: right;\">\n",
       "      <th></th>\n",
       "      <th>Name</th>\n",
       "      <th>Year</th>\n",
       "      <th>Languages</th>\n",
       "      <th>Countries</th>\n",
       "      <th>Genres</th>\n",
       "      <th>Tropes</th>\n",
       "      <th>Budget</th>\n",
       "      <th>domestic_gross</th>\n",
       "      <th>domestic_percentage</th>\n",
       "      <th>foreign_gross</th>\n",
       "      <th>foreign_percentage</th>\n",
       "      <th>worldwide_gross</th>\n",
       "    </tr>\n",
       "  </thead>\n",
       "  <tbody>\n",
       "    <tr>\n",
       "      <th>0</th>\n",
       "      <td></td>\n",
       "      <td>1916.0</td>\n",
       "      <td>silent film, hungarian</td>\n",
       "      <td>hungary</td>\n",
       "      <td>silent film, drama</td>\n",
       "      <td>NaN</td>\n",
       "      <td>NaN</td>\n",
       "      <td>NaN</td>\n",
       "      <td>NaN</td>\n",
       "      <td>NaN</td>\n",
       "      <td>NaN</td>\n",
       "      <td>NaN</td>\n",
       "    </tr>\n",
       "    <tr>\n",
       "      <th>1</th>\n",
       "      <td>!women art revolution</td>\n",
       "      <td>2010.0</td>\n",
       "      <td>english</td>\n",
       "      <td>united states of america, canada</td>\n",
       "      <td>lgbt, history, documentary</td>\n",
       "      <td>NaN</td>\n",
       "      <td>NaN</td>\n",
       "      <td>NaN</td>\n",
       "      <td>NaN</td>\n",
       "      <td>NaN</td>\n",
       "      <td>NaN</td>\n",
       "      <td>NaN</td>\n",
       "    </tr>\n",
       "    <tr>\n",
       "      <th>2</th>\n",
       "      <td>#1 cheerleader camp</td>\n",
       "      <td>2010.0</td>\n",
       "      <td>NaN</td>\n",
       "      <td>united states of america</td>\n",
       "      <td>sports, sex comedy, comedy film, comedy, teen</td>\n",
       "      <td>NaN</td>\n",
       "      <td>NaN</td>\n",
       "      <td>NaN</td>\n",
       "      <td>NaN</td>\n",
       "      <td>NaN</td>\n",
       "      <td>NaN</td>\n",
       "      <td>NaN</td>\n",
       "    </tr>\n",
       "    <tr>\n",
       "      <th>3</th>\n",
       "      <td>#alive</td>\n",
       "      <td>2020.0</td>\n",
       "      <td>NaN</td>\n",
       "      <td>NaN</td>\n",
       "      <td>NaN</td>\n",
       "      <td>NaN</td>\n",
       "      <td>NaN</td>\n",
       "      <td>NaN</td>\n",
       "      <td>NaN</td>\n",
       "      <td>NaN</td>\n",
       "      <td>NaN</td>\n",
       "      <td>NaN</td>\n",
       "    </tr>\n",
       "    <tr>\n",
       "      <th>4</th>\n",
       "      <td>#horror</td>\n",
       "      <td>2015.0</td>\n",
       "      <td>NaN</td>\n",
       "      <td>NaN</td>\n",
       "      <td>NaN</td>\n",
       "      <td>NaN</td>\n",
       "      <td>1500000.0</td>\n",
       "      <td>NaN</td>\n",
       "      <td>NaN</td>\n",
       "      <td>NaN</td>\n",
       "      <td>NaN</td>\n",
       "      <td>NaN</td>\n",
       "    </tr>\n",
       "  </tbody>\n",
       "</table>\n",
       "</div>"
      ],
      "text/plain": [
       "                    Name    Year               Languages  \\\n",
       "0                         1916.0  silent film, hungarian   \n",
       "1  !women art revolution  2010.0                 english   \n",
       "2    #1 cheerleader camp  2010.0                     NaN   \n",
       "3                 #alive  2020.0                     NaN   \n",
       "4                #horror  2015.0                     NaN   \n",
       "\n",
       "                          Countries  \\\n",
       "0                           hungary   \n",
       "1  united states of america, canada   \n",
       "2          united states of america   \n",
       "3                               NaN   \n",
       "4                               NaN   \n",
       "\n",
       "                                          Genres Tropes     Budget  \\\n",
       "0                             silent film, drama    NaN        NaN   \n",
       "1                     lgbt, history, documentary    NaN        NaN   \n",
       "2  sports, sex comedy, comedy film, comedy, teen    NaN        NaN   \n",
       "3                                            NaN    NaN        NaN   \n",
       "4                                            NaN    NaN  1500000.0   \n",
       "\n",
       "   domestic_gross  domestic_percentage  foreign_gross  foreign_percentage  \\\n",
       "0             NaN                  NaN            NaN                 NaN   \n",
       "1             NaN                  NaN            NaN                 NaN   \n",
       "2             NaN                  NaN            NaN                 NaN   \n",
       "3             NaN                  NaN            NaN                 NaN   \n",
       "4             NaN                  NaN            NaN                 NaN   \n",
       "\n",
       "   worldwide_gross  \n",
       "0              NaN  \n",
       "1              NaN  \n",
       "2              NaN  \n",
       "3              NaN  \n",
       "4              NaN  "
      ]
     },
     "execution_count": 13,
     "metadata": {},
     "output_type": "execute_result"
    }
   ],
   "source": [
    "df_megaset.head()"
   ]
  },
  {
   "cell_type": "code",
   "execution_count": 14,
   "metadata": {},
   "outputs": [
    {
     "name": "stdout",
     "output_type": "stream",
     "text": [
      "The length of the megaset is 87071\n"
     ]
    }
   ],
   "source": [
    "print(f\"The length of the megaset is {len(df_megaset)}\")"
   ]
  },
  {
   "cell_type": "code",
   "execution_count": 15,
   "metadata": {},
   "outputs": [
    {
     "name": "stdout",
     "output_type": "stream",
     "text": [
      "Length after dropping nan countries 80123\n"
     ]
    }
   ],
   "source": [
    "df_copy = df_megaset.copy(deep=True)\n",
    "df_copy = df_copy.dropna(subset=['Name', 'Year'])\n",
    "print(f\"Length after dropping nan countries {len(df_copy)}\")\n"
   ]
  },
  {
   "cell_type": "code",
   "execution_count": 16,
   "metadata": {},
   "outputs": [],
   "source": [
    "df_copy = df_copy.drop(['Languages', 'Countries', 'Tropes', 'domestic_percentage', 'foreign_percentage'], axis=1)"
   ]
  },
  {
   "cell_type": "code",
   "execution_count": 17,
   "metadata": {},
   "outputs": [
    {
     "data": {
      "text/html": [
       "<div>\n",
       "<style scoped>\n",
       "    .dataframe tbody tr th:only-of-type {\n",
       "        vertical-align: middle;\n",
       "    }\n",
       "\n",
       "    .dataframe tbody tr th {\n",
       "        vertical-align: top;\n",
       "    }\n",
       "\n",
       "    .dataframe thead th {\n",
       "        text-align: right;\n",
       "    }\n",
       "</style>\n",
       "<table border=\"1\" class=\"dataframe\">\n",
       "  <thead>\n",
       "    <tr style=\"text-align: right;\">\n",
       "      <th></th>\n",
       "      <th>Name</th>\n",
       "      <th>Year</th>\n",
       "      <th>Genres</th>\n",
       "      <th>Budget</th>\n",
       "      <th>domestic_gross</th>\n",
       "      <th>foreign_gross</th>\n",
       "      <th>worldwide_gross</th>\n",
       "    </tr>\n",
       "  </thead>\n",
       "  <tbody>\n",
       "    <tr>\n",
       "      <th>0</th>\n",
       "      <td></td>\n",
       "      <td>1916.0</td>\n",
       "      <td>silent film, drama</td>\n",
       "      <td>NaN</td>\n",
       "      <td>NaN</td>\n",
       "      <td>NaN</td>\n",
       "      <td>NaN</td>\n",
       "    </tr>\n",
       "    <tr>\n",
       "      <th>1</th>\n",
       "      <td>!women art revolution</td>\n",
       "      <td>2010.0</td>\n",
       "      <td>lgbt, history, documentary</td>\n",
       "      <td>NaN</td>\n",
       "      <td>NaN</td>\n",
       "      <td>NaN</td>\n",
       "      <td>NaN</td>\n",
       "    </tr>\n",
       "    <tr>\n",
       "      <th>2</th>\n",
       "      <td>#1 cheerleader camp</td>\n",
       "      <td>2010.0</td>\n",
       "      <td>sports, sex comedy, comedy film, comedy, teen</td>\n",
       "      <td>NaN</td>\n",
       "      <td>NaN</td>\n",
       "      <td>NaN</td>\n",
       "      <td>NaN</td>\n",
       "    </tr>\n",
       "    <tr>\n",
       "      <th>3</th>\n",
       "      <td>#alive</td>\n",
       "      <td>2020.0</td>\n",
       "      <td>NaN</td>\n",
       "      <td>NaN</td>\n",
       "      <td>NaN</td>\n",
       "      <td>NaN</td>\n",
       "      <td>NaN</td>\n",
       "    </tr>\n",
       "    <tr>\n",
       "      <th>4</th>\n",
       "      <td>#horror</td>\n",
       "      <td>2015.0</td>\n",
       "      <td>NaN</td>\n",
       "      <td>1500000.0</td>\n",
       "      <td>NaN</td>\n",
       "      <td>NaN</td>\n",
       "      <td>NaN</td>\n",
       "    </tr>\n",
       "  </tbody>\n",
       "</table>\n",
       "</div>"
      ],
      "text/plain": [
       "                    Name    Year  \\\n",
       "0                         1916.0   \n",
       "1  !women art revolution  2010.0   \n",
       "2    #1 cheerleader camp  2010.0   \n",
       "3                 #alive  2020.0   \n",
       "4                #horror  2015.0   \n",
       "\n",
       "                                          Genres     Budget  domestic_gross  \\\n",
       "0                             silent film, drama        NaN             NaN   \n",
       "1                     lgbt, history, documentary        NaN             NaN   \n",
       "2  sports, sex comedy, comedy film, comedy, teen        NaN             NaN   \n",
       "3                                            NaN        NaN             NaN   \n",
       "4                                            NaN  1500000.0             NaN   \n",
       "\n",
       "   foreign_gross  worldwide_gross  \n",
       "0            NaN              NaN  \n",
       "1            NaN              NaN  \n",
       "2            NaN              NaN  \n",
       "3            NaN              NaN  \n",
       "4            NaN              NaN  "
      ]
     },
     "execution_count": 17,
     "metadata": {},
     "output_type": "execute_result"
    }
   ],
   "source": [
    "df_copy.head()"
   ]
  },
  {
   "cell_type": "code",
   "execution_count": 18,
   "metadata": {},
   "outputs": [
    {
     "name": "stdout",
     "output_type": "stream",
     "text": [
      "The amount of movies to scrape is 77727\n"
     ]
    }
   ],
   "source": [
    "df_to_scrape = df_copy[df_copy.isnull().any(axis=1)]\n",
    "print(f\"The amount of movies to scrape is {len(df_to_scrape)}\")"
   ]
  },
  {
   "cell_type": "code",
   "execution_count": 16,
   "metadata": {},
   "outputs": [],
   "source": [
    "df_to_scrape.to_csv('MEGASET_movies_to_scrape.csv', index=False)"
   ]
  },
  {
   "cell_type": "code",
   "execution_count": 28,
   "metadata": {},
   "outputs": [],
   "source": [
    "# Creating the batches\n",
    "num_of_batches = 16\n",
    "batch_size = round(len(df_to_scrape)/num_of_batches)\n",
    "for i in range(num_of_batches):\n",
    "    start = batch_size*i+1\n",
    "    end = start + batch_size\n",
    "    if (i == num_of_batches - 1):\n",
    "         batch = df_to_scrape.iloc[start:, :]\n",
    "    elif(i == 0):\n",
    "        batch = df_to_scrape.iloc[0:batch_size, :]\n",
    "    else:\n",
    "        batch = df_to_scrape.iloc[start:end, :]\n",
    "    s = 'batch/megaset-batch-' + str(i+1) + '.csv'\n",
    "    batch.to_csv(s, index=False)"
   ]
  },
  {
   "cell_type": "code",
   "execution_count": 19,
   "metadata": {},
   "outputs": [
    {
     "name": "stdout",
     "output_type": "stream",
     "text": [
      "The amount of movies to scrape is 2396\n"
     ]
    }
   ],
   "source": [
    "clean_movies = df_copy.dropna()\n",
    "print(f\"The amount of movies to scrape is {len(clean_movies)}\")"
   ]
  },
  {
   "cell_type": "code",
   "execution_count": 20,
   "metadata": {},
   "outputs": [],
   "source": [
    "clean_movies.to_csv('MEGASET_movies_to_scrape_SMALL.csv', index=False)"
   ]
  },
  {
   "cell_type": "code",
   "execution_count": null,
   "metadata": {},
   "outputs": [],
   "source": []
  }
 ],
 "metadata": {
  "kernelspec": {
   "display_name": "ada",
   "language": "python",
   "name": "python3"
  },
  "language_info": {
   "codemirror_mode": {
    "name": "ipython",
    "version": 3
   },
   "file_extension": ".py",
   "mimetype": "text/x-python",
   "name": "python",
   "nbconvert_exporter": "python",
   "pygments_lexer": "ipython3",
   "version": "3.11.9"
  }
 },
 "nbformat": 4,
 "nbformat_minor": 2
}
