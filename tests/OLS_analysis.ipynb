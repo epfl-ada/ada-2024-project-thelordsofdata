{
 "cells": [
  {
   "cell_type": "code",
   "execution_count": 138,
   "metadata": {},
   "outputs": [],
   "source": [
    "import sys\n",
    "import os\n",
    "\n",
    "import pandas as pd\n",
    "import numpy as np\n",
    "\n",
    "import random\n",
    "from sklearn.preprocessing import StandardScaler\n",
    "import plotly.express as px\n",
    "from statsmodels.stats.outliers_influence import variance_inflation_factor\n",
    "\n",
    "\n"
   ]
  },
  {
   "cell_type": "code",
   "execution_count": 139,
   "metadata": {},
   "outputs": [
    {
     "data": {
      "text/html": [
       "<div>\n",
       "<style scoped>\n",
       "    .dataframe tbody tr th:only-of-type {\n",
       "        vertical-align: middle;\n",
       "    }\n",
       "\n",
       "    .dataframe tbody tr th {\n",
       "        vertical-align: top;\n",
       "    }\n",
       "\n",
       "    .dataframe thead th {\n",
       "        text-align: right;\n",
       "    }\n",
       "</style>\n",
       "<table border=\"1\" class=\"dataframe\">\n",
       "  <thead>\n",
       "    <tr style=\"text-align: right;\">\n",
       "      <th></th>\n",
       "      <th>Name</th>\n",
       "      <th>Genres</th>\n",
       "      <th>Budget(USD)_Inflated</th>\n",
       "      <th>Domestic(USD)_Inflated</th>\n",
       "      <th>Domestic_Percentage</th>\n",
       "      <th>Foreign(USD)_Inflated</th>\n",
       "      <th>Foreign_Percentage</th>\n",
       "      <th>Worldwide(USD)_Inflated</th>\n",
       "      <th>Runtime(mins)</th>\n",
       "      <th>Rating</th>\n",
       "      <th>...</th>\n",
       "      <th>period piece</th>\n",
       "      <th>animation</th>\n",
       "      <th>teen</th>\n",
       "      <th>film adaptation</th>\n",
       "      <th>musical</th>\n",
       "      <th>history</th>\n",
       "      <th>coming of age</th>\n",
       "      <th>sports</th>\n",
       "      <th>war</th>\n",
       "      <th>Worldwide_profit</th>\n",
       "    </tr>\n",
       "  </thead>\n",
       "  <tbody>\n",
       "    <tr>\n",
       "      <th>0</th>\n",
       "      <td>10 cloverfield lane</td>\n",
       "      <td>drama, thriller, horror, sci-fi</td>\n",
       "      <td>6.076746e+06</td>\n",
       "      <td>8.760602e+07</td>\n",
       "      <td>0.654010</td>\n",
       "      <td>4.634613e+07</td>\n",
       "      <td>0.345990</td>\n",
       "      <td>1.339521e+08</td>\n",
       "      <td>103</td>\n",
       "      <td>pg-13</td>\n",
       "      <td>...</td>\n",
       "      <td>0</td>\n",
       "      <td>0</td>\n",
       "      <td>0</td>\n",
       "      <td>0</td>\n",
       "      <td>0</td>\n",
       "      <td>0</td>\n",
       "      <td>0</td>\n",
       "      <td>0</td>\n",
       "      <td>0</td>\n",
       "      <td>22.043400</td>\n",
       "    </tr>\n",
       "    <tr>\n",
       "      <th>1</th>\n",
       "      <td>10,000 bc</td>\n",
       "      <td>drama, thriller, action, adventure, romance fi...</td>\n",
       "      <td>1.441563e+08</td>\n",
       "      <td>1.301309e+08</td>\n",
       "      <td>0.351333</td>\n",
       "      <td>2.402606e+08</td>\n",
       "      <td>0.648667</td>\n",
       "      <td>3.703914e+08</td>\n",
       "      <td>109</td>\n",
       "      <td>pg-13</td>\n",
       "      <td>...</td>\n",
       "      <td>0</td>\n",
       "      <td>0</td>\n",
       "      <td>0</td>\n",
       "      <td>0</td>\n",
       "      <td>0</td>\n",
       "      <td>0</td>\n",
       "      <td>0</td>\n",
       "      <td>0</td>\n",
       "      <td>0</td>\n",
       "      <td>2.569373</td>\n",
       "    </tr>\n",
       "    <tr>\n",
       "      <th>2</th>\n",
       "      <td>12 rounds</td>\n",
       "      <td>thriller, action, crime</td>\n",
       "      <td>2.726275e+07</td>\n",
       "      <td>1.667757e+07</td>\n",
       "      <td>0.708013</td>\n",
       "      <td>6.877890e+06</td>\n",
       "      <td>0.291987</td>\n",
       "      <td>2.355546e+07</td>\n",
       "      <td>108</td>\n",
       "      <td>pg-13</td>\n",
       "      <td>...</td>\n",
       "      <td>0</td>\n",
       "      <td>0</td>\n",
       "      <td>0</td>\n",
       "      <td>0</td>\n",
       "      <td>0</td>\n",
       "      <td>0</td>\n",
       "      <td>0</td>\n",
       "      <td>0</td>\n",
       "      <td>0</td>\n",
       "      <td>0.864016</td>\n",
       "    </tr>\n",
       "    <tr>\n",
       "      <th>3</th>\n",
       "      <td>12 strong</td>\n",
       "      <td>drama, action, history, war</td>\n",
       "      <td>3.979050e+07</td>\n",
       "      <td>5.209113e+07</td>\n",
       "      <td>0.644274</td>\n",
       "      <td>2.876133e+07</td>\n",
       "      <td>0.355726</td>\n",
       "      <td>8.085246e+07</td>\n",
       "      <td>130</td>\n",
       "      <td>r</td>\n",
       "      <td>...</td>\n",
       "      <td>0</td>\n",
       "      <td>0</td>\n",
       "      <td>0</td>\n",
       "      <td>0</td>\n",
       "      <td>0</td>\n",
       "      <td>1</td>\n",
       "      <td>0</td>\n",
       "      <td>0</td>\n",
       "      <td>1</td>\n",
       "      <td>2.031954</td>\n",
       "    </tr>\n",
       "    <tr>\n",
       "      <th>4</th>\n",
       "      <td>12 years a slave</td>\n",
       "      <td>drama, biography, history</td>\n",
       "      <td>2.539260e+07</td>\n",
       "      <td>7.195247e+07</td>\n",
       "      <td>0.301875</td>\n",
       "      <td>1.663993e+08</td>\n",
       "      <td>0.698125</td>\n",
       "      <td>2.383517e+08</td>\n",
       "      <td>134</td>\n",
       "      <td>r</td>\n",
       "      <td>...</td>\n",
       "      <td>0</td>\n",
       "      <td>0</td>\n",
       "      <td>0</td>\n",
       "      <td>0</td>\n",
       "      <td>0</td>\n",
       "      <td>1</td>\n",
       "      <td>0</td>\n",
       "      <td>0</td>\n",
       "      <td>0</td>\n",
       "      <td>9.386660</td>\n",
       "    </tr>\n",
       "    <tr>\n",
       "      <th>...</th>\n",
       "      <td>...</td>\n",
       "      <td>...</td>\n",
       "      <td>...</td>\n",
       "      <td>...</td>\n",
       "      <td>...</td>\n",
       "      <td>...</td>\n",
       "      <td>...</td>\n",
       "      <td>...</td>\n",
       "      <td>...</td>\n",
       "      <td>...</td>\n",
       "      <td>...</td>\n",
       "      <td>...</td>\n",
       "      <td>...</td>\n",
       "      <td>...</td>\n",
       "      <td>...</td>\n",
       "      <td>...</td>\n",
       "      <td>...</td>\n",
       "      <td>...</td>\n",
       "      <td>...</td>\n",
       "      <td>...</td>\n",
       "      <td>...</td>\n",
       "    </tr>\n",
       "    <tr>\n",
       "      <th>2684</th>\n",
       "      <td>zoolander</td>\n",
       "      <td>comedy</td>\n",
       "      <td>4.851315e+07</td>\n",
       "      <td>7.826600e+07</td>\n",
       "      <td>0.743197</td>\n",
       "      <td>2.704388e+07</td>\n",
       "      <td>0.256803</td>\n",
       "      <td>1.053099e+08</td>\n",
       "      <td>90</td>\n",
       "      <td>pg-13</td>\n",
       "      <td>...</td>\n",
       "      <td>0</td>\n",
       "      <td>0</td>\n",
       "      <td>0</td>\n",
       "      <td>0</td>\n",
       "      <td>0</td>\n",
       "      <td>0</td>\n",
       "      <td>0</td>\n",
       "      <td>0</td>\n",
       "      <td>0</td>\n",
       "      <td>2.170749</td>\n",
       "    </tr>\n",
       "    <tr>\n",
       "      <th>2685</th>\n",
       "      <td>zoolander 2</td>\n",
       "      <td>comedy, action, adventure, romance film, mystery</td>\n",
       "      <td>6.076746e+07</td>\n",
       "      <td>3.506124e+07</td>\n",
       "      <td>0.508592</td>\n",
       "      <td>3.387664e+07</td>\n",
       "      <td>0.491408</td>\n",
       "      <td>6.893788e+07</td>\n",
       "      <td>101</td>\n",
       "      <td>pg-13</td>\n",
       "      <td>...</td>\n",
       "      <td>0</td>\n",
       "      <td>0</td>\n",
       "      <td>0</td>\n",
       "      <td>0</td>\n",
       "      <td>0</td>\n",
       "      <td>0</td>\n",
       "      <td>0</td>\n",
       "      <td>0</td>\n",
       "      <td>0</td>\n",
       "      <td>1.134454</td>\n",
       "    </tr>\n",
       "    <tr>\n",
       "      <th>2686</th>\n",
       "      <td>zoom</td>\n",
       "      <td>action, adventure, fantasy, sci-fi</td>\n",
       "      <td>5.014200e+07</td>\n",
       "      <td>1.717625e+07</td>\n",
       "      <td>0.958658</td>\n",
       "      <td>7.407176e+05</td>\n",
       "      <td>0.041342</td>\n",
       "      <td>1.791697e+07</td>\n",
       "      <td>93</td>\n",
       "      <td>pg</td>\n",
       "      <td>...</td>\n",
       "      <td>0</td>\n",
       "      <td>0</td>\n",
       "      <td>0</td>\n",
       "      <td>0</td>\n",
       "      <td>0</td>\n",
       "      <td>0</td>\n",
       "      <td>0</td>\n",
       "      <td>0</td>\n",
       "      <td>0</td>\n",
       "      <td>0.357325</td>\n",
       "    </tr>\n",
       "    <tr>\n",
       "      <th>2687</th>\n",
       "      <td>zootopia</td>\n",
       "      <td>comedy, action, adventure, mystery, crime, fam...</td>\n",
       "      <td>1.823024e+08</td>\n",
       "      <td>4.147601e+08</td>\n",
       "      <td>0.333340</td>\n",
       "      <td>8.294952e+08</td>\n",
       "      <td>0.666660</td>\n",
       "      <td>1.244255e+09</td>\n",
       "      <td>108</td>\n",
       "      <td>pg</td>\n",
       "      <td>...</td>\n",
       "      <td>0</td>\n",
       "      <td>1</td>\n",
       "      <td>0</td>\n",
       "      <td>0</td>\n",
       "      <td>0</td>\n",
       "      <td>0</td>\n",
       "      <td>0</td>\n",
       "      <td>0</td>\n",
       "      <td>0</td>\n",
       "      <td>6.825228</td>\n",
       "    </tr>\n",
       "    <tr>\n",
       "      <th>2688</th>\n",
       "      <td>aeon flux</td>\n",
       "      <td>thriller, action, adventure, sci-fi</td>\n",
       "      <td>9.055065e+07</td>\n",
       "      <td>3.778932e+07</td>\n",
       "      <td>0.485250</td>\n",
       "      <td>4.008668e+07</td>\n",
       "      <td>0.514750</td>\n",
       "      <td>7.787601e+07</td>\n",
       "      <td>93</td>\n",
       "      <td>pg-13</td>\n",
       "      <td>...</td>\n",
       "      <td>0</td>\n",
       "      <td>0</td>\n",
       "      <td>0</td>\n",
       "      <td>0</td>\n",
       "      <td>0</td>\n",
       "      <td>0</td>\n",
       "      <td>0</td>\n",
       "      <td>0</td>\n",
       "      <td>0</td>\n",
       "      <td>0.860027</td>\n",
       "    </tr>\n",
       "  </tbody>\n",
       "</table>\n",
       "<p>2689 rows × 43 columns</p>\n",
       "</div>"
      ],
      "text/plain": [
       "                     Name                                             Genres  \\\n",
       "0     10 cloverfield lane                    drama, thriller, horror, sci-fi   \n",
       "1               10,000 bc  drama, thriller, action, adventure, romance fi...   \n",
       "2               12 rounds                            thriller, action, crime   \n",
       "3               12 strong                        drama, action, history, war   \n",
       "4        12 years a slave                          drama, biography, history   \n",
       "...                   ...                                                ...   \n",
       "2684            zoolander                                             comedy   \n",
       "2685          zoolander 2   comedy, action, adventure, romance film, mystery   \n",
       "2686                 zoom                 action, adventure, fantasy, sci-fi   \n",
       "2687             zootopia  comedy, action, adventure, mystery, crime, fam...   \n",
       "2688            aeon flux                thriller, action, adventure, sci-fi   \n",
       "\n",
       "      Budget(USD)_Inflated  Domestic(USD)_Inflated  Domestic_Percentage  \\\n",
       "0             6.076746e+06            8.760602e+07             0.654010   \n",
       "1             1.441563e+08            1.301309e+08             0.351333   \n",
       "2             2.726275e+07            1.667757e+07             0.708013   \n",
       "3             3.979050e+07            5.209113e+07             0.644274   \n",
       "4             2.539260e+07            7.195247e+07             0.301875   \n",
       "...                    ...                     ...                  ...   \n",
       "2684          4.851315e+07            7.826600e+07             0.743197   \n",
       "2685          6.076746e+07            3.506124e+07             0.508592   \n",
       "2686          5.014200e+07            1.717625e+07             0.958658   \n",
       "2687          1.823024e+08            4.147601e+08             0.333340   \n",
       "2688          9.055065e+07            3.778932e+07             0.485250   \n",
       "\n",
       "      Foreign(USD)_Inflated  Foreign_Percentage  Worldwide(USD)_Inflated  \\\n",
       "0              4.634613e+07            0.345990             1.339521e+08   \n",
       "1              2.402606e+08            0.648667             3.703914e+08   \n",
       "2              6.877890e+06            0.291987             2.355546e+07   \n",
       "3              2.876133e+07            0.355726             8.085246e+07   \n",
       "4              1.663993e+08            0.698125             2.383517e+08   \n",
       "...                     ...                 ...                      ...   \n",
       "2684           2.704388e+07            0.256803             1.053099e+08   \n",
       "2685           3.387664e+07            0.491408             6.893788e+07   \n",
       "2686           7.407176e+05            0.041342             1.791697e+07   \n",
       "2687           8.294952e+08            0.666660             1.244255e+09   \n",
       "2688           4.008668e+07            0.514750             7.787601e+07   \n",
       "\n",
       "      Runtime(mins) Rating  ...  period piece  animation teen film adaptation  \\\n",
       "0               103  pg-13  ...             0          0    0               0   \n",
       "1               109  pg-13  ...             0          0    0               0   \n",
       "2               108  pg-13  ...             0          0    0               0   \n",
       "3               130      r  ...             0          0    0               0   \n",
       "4               134      r  ...             0          0    0               0   \n",
       "...             ...    ...  ...           ...        ...  ...             ...   \n",
       "2684             90  pg-13  ...             0          0    0               0   \n",
       "2685            101  pg-13  ...             0          0    0               0   \n",
       "2686             93     pg  ...             0          0    0               0   \n",
       "2687            108     pg  ...             0          1    0               0   \n",
       "2688             93  pg-13  ...             0          0    0               0   \n",
       "\n",
       "      musical  history  coming of age sports  war  Worldwide_profit  \n",
       "0           0        0              0      0    0         22.043400  \n",
       "1           0        0              0      0    0          2.569373  \n",
       "2           0        0              0      0    0          0.864016  \n",
       "3           0        1              0      0    1          2.031954  \n",
       "4           0        1              0      0    0          9.386660  \n",
       "...       ...      ...            ...    ...  ...               ...  \n",
       "2684        0        0              0      0    0          2.170749  \n",
       "2685        0        0              0      0    0          1.134454  \n",
       "2686        0        0              0      0    0          0.357325  \n",
       "2687        0        0              0      0    0          6.825228  \n",
       "2688        0        0              0      0    0          0.860027  \n",
       "\n",
       "[2689 rows x 43 columns]"
      ]
     },
     "execution_count": 139,
     "metadata": {},
     "output_type": "execute_result"
    }
   ],
   "source": [
    "final_df = pd.read_csv('../data/movie_final_dataset.csv')\n",
    "final_df"
   ]
  },
  {
   "cell_type": "code",
   "execution_count": 140,
   "metadata": {},
   "outputs": [
    {
     "data": {
      "text/plain": [
       "Index(['Name', 'Genres', 'Budget(USD)_Inflated', 'Domestic(USD)_Inflated',\n",
       "       'Domestic_Percentage', 'Foreign(USD)_Inflated', 'Foreign_Percentage',\n",
       "       'Worldwide(USD)_Inflated', 'Runtime(mins)', 'Rating', 'Audience_Score',\n",
       "       'Critics_Score', 'plot_summary', 'Month', 'Day', 'Year',\n",
       "       'Foreign_higher', 'emotion', 'emotion_score', 'drama', 'comedy',\n",
       "       'thriller', 'action', 'adventure', 'romance film', 'horror', 'fantasy',\n",
       "       'mystery', 'crime', 'indie', 'biography', 'family', 'sci-fi',\n",
       "       'period piece', 'animation', 'teen', 'film adaptation', 'musical',\n",
       "       'history', 'coming of age', 'sports', 'war', 'Worldwide_profit'],\n",
       "      dtype='object')"
      ]
     },
     "execution_count": 140,
     "metadata": {},
     "output_type": "execute_result"
    }
   ],
   "source": [
    "final_df.columns"
   ]
  },
  {
   "cell_type": "markdown",
   "metadata": {},
   "source": [
    "## Pre-processing for OLS "
   ]
  },
  {
   "cell_type": "code",
   "execution_count": 141,
   "metadata": {},
   "outputs": [],
   "source": [
    "# Dropping columns deemed irrelevant for the model\n",
    "df_ols = final_df.drop(columns=[ \"Genres\", \"Day\",\"Name\", \"plot_summary\", \"Worldwide(USD)_Inflated\", \"Domestic(USD)_Inflated\", \"Foreign(USD)_Inflated\", \"Worldwide(USD)_Inflated\", \"Foreign_higher\", \"emotion_score\", \"Worldwide_profit\"])"
   ]
  },
  {
   "cell_type": "code",
   "execution_count": 142,
   "metadata": {},
   "outputs": [
    {
     "data": {
      "text/html": [
       "<div>\n",
       "<style scoped>\n",
       "    .dataframe tbody tr th:only-of-type {\n",
       "        vertical-align: middle;\n",
       "    }\n",
       "\n",
       "    .dataframe tbody tr th {\n",
       "        vertical-align: top;\n",
       "    }\n",
       "\n",
       "    .dataframe thead th {\n",
       "        text-align: right;\n",
       "    }\n",
       "</style>\n",
       "<table border=\"1\" class=\"dataframe\">\n",
       "  <thead>\n",
       "    <tr style=\"text-align: right;\">\n",
       "      <th></th>\n",
       "      <th>Budget(USD)_Inflated</th>\n",
       "      <th>Domestic_Percentage</th>\n",
       "      <th>Foreign_Percentage</th>\n",
       "      <th>Runtime(mins)</th>\n",
       "      <th>Rating</th>\n",
       "      <th>Audience_Score</th>\n",
       "      <th>Critics_Score</th>\n",
       "      <th>Month</th>\n",
       "      <th>Year</th>\n",
       "      <th>emotion</th>\n",
       "      <th>...</th>\n",
       "      <th>sci-fi</th>\n",
       "      <th>period piece</th>\n",
       "      <th>animation</th>\n",
       "      <th>teen</th>\n",
       "      <th>film adaptation</th>\n",
       "      <th>musical</th>\n",
       "      <th>history</th>\n",
       "      <th>coming of age</th>\n",
       "      <th>sports</th>\n",
       "      <th>war</th>\n",
       "    </tr>\n",
       "  </thead>\n",
       "  <tbody>\n",
       "    <tr>\n",
       "      <th>0</th>\n",
       "      <td>6.076746e+06</td>\n",
       "      <td>0.654010</td>\n",
       "      <td>0.345990</td>\n",
       "      <td>103</td>\n",
       "      <td>pg-13</td>\n",
       "      <td>0.79</td>\n",
       "      <td>0.91</td>\n",
       "      <td>Mar</td>\n",
       "      <td>2016</td>\n",
       "      <td>fear</td>\n",
       "      <td>...</td>\n",
       "      <td>1</td>\n",
       "      <td>0</td>\n",
       "      <td>0</td>\n",
       "      <td>0</td>\n",
       "      <td>0</td>\n",
       "      <td>0</td>\n",
       "      <td>0</td>\n",
       "      <td>0</td>\n",
       "      <td>0</td>\n",
       "      <td>0</td>\n",
       "    </tr>\n",
       "    <tr>\n",
       "      <th>1</th>\n",
       "      <td>1.441563e+08</td>\n",
       "      <td>0.351333</td>\n",
       "      <td>0.648667</td>\n",
       "      <td>109</td>\n",
       "      <td>pg-13</td>\n",
       "      <td>0.37</td>\n",
       "      <td>0.10</td>\n",
       "      <td>Mar</td>\n",
       "      <td>2008</td>\n",
       "      <td>fear</td>\n",
       "      <td>...</td>\n",
       "      <td>0</td>\n",
       "      <td>0</td>\n",
       "      <td>0</td>\n",
       "      <td>0</td>\n",
       "      <td>0</td>\n",
       "      <td>0</td>\n",
       "      <td>0</td>\n",
       "      <td>0</td>\n",
       "      <td>0</td>\n",
       "      <td>0</td>\n",
       "    </tr>\n",
       "    <tr>\n",
       "      <th>2</th>\n",
       "      <td>2.726275e+07</td>\n",
       "      <td>0.708013</td>\n",
       "      <td>0.291987</td>\n",
       "      <td>108</td>\n",
       "      <td>pg-13</td>\n",
       "      <td>0.45</td>\n",
       "      <td>0.31</td>\n",
       "      <td>Mar</td>\n",
       "      <td>2009</td>\n",
       "      <td>anger</td>\n",
       "      <td>...</td>\n",
       "      <td>0</td>\n",
       "      <td>0</td>\n",
       "      <td>0</td>\n",
       "      <td>0</td>\n",
       "      <td>0</td>\n",
       "      <td>0</td>\n",
       "      <td>0</td>\n",
       "      <td>0</td>\n",
       "      <td>0</td>\n",
       "      <td>0</td>\n",
       "    </tr>\n",
       "    <tr>\n",
       "      <th>3</th>\n",
       "      <td>3.979050e+07</td>\n",
       "      <td>0.644274</td>\n",
       "      <td>0.355726</td>\n",
       "      <td>130</td>\n",
       "      <td>r</td>\n",
       "      <td>0.62</td>\n",
       "      <td>0.50</td>\n",
       "      <td>Jan</td>\n",
       "      <td>2018</td>\n",
       "      <td>fear</td>\n",
       "      <td>...</td>\n",
       "      <td>0</td>\n",
       "      <td>0</td>\n",
       "      <td>0</td>\n",
       "      <td>0</td>\n",
       "      <td>0</td>\n",
       "      <td>0</td>\n",
       "      <td>1</td>\n",
       "      <td>0</td>\n",
       "      <td>0</td>\n",
       "      <td>1</td>\n",
       "    </tr>\n",
       "    <tr>\n",
       "      <th>4</th>\n",
       "      <td>2.539260e+07</td>\n",
       "      <td>0.301875</td>\n",
       "      <td>0.698125</td>\n",
       "      <td>134</td>\n",
       "      <td>r</td>\n",
       "      <td>0.90</td>\n",
       "      <td>0.95</td>\n",
       "      <td>Oct</td>\n",
       "      <td>2013</td>\n",
       "      <td>sadness</td>\n",
       "      <td>...</td>\n",
       "      <td>0</td>\n",
       "      <td>0</td>\n",
       "      <td>0</td>\n",
       "      <td>0</td>\n",
       "      <td>0</td>\n",
       "      <td>0</td>\n",
       "      <td>1</td>\n",
       "      <td>0</td>\n",
       "      <td>0</td>\n",
       "      <td>0</td>\n",
       "    </tr>\n",
       "  </tbody>\n",
       "</table>\n",
       "<p>5 rows × 33 columns</p>\n",
       "</div>"
      ],
      "text/plain": [
       "   Budget(USD)_Inflated  Domestic_Percentage  Foreign_Percentage  \\\n",
       "0          6.076746e+06             0.654010            0.345990   \n",
       "1          1.441563e+08             0.351333            0.648667   \n",
       "2          2.726275e+07             0.708013            0.291987   \n",
       "3          3.979050e+07             0.644274            0.355726   \n",
       "4          2.539260e+07             0.301875            0.698125   \n",
       "\n",
       "   Runtime(mins) Rating  Audience_Score  Critics_Score Month  Year  emotion  \\\n",
       "0            103  pg-13            0.79           0.91   Mar  2016     fear   \n",
       "1            109  pg-13            0.37           0.10   Mar  2008     fear   \n",
       "2            108  pg-13            0.45           0.31   Mar  2009    anger   \n",
       "3            130      r            0.62           0.50   Jan  2018     fear   \n",
       "4            134      r            0.90           0.95   Oct  2013  sadness   \n",
       "\n",
       "   ...  sci-fi  period piece  animation  teen  film adaptation  musical  \\\n",
       "0  ...       1             0          0     0                0        0   \n",
       "1  ...       0             0          0     0                0        0   \n",
       "2  ...       0             0          0     0                0        0   \n",
       "3  ...       0             0          0     0                0        0   \n",
       "4  ...       0             0          0     0                0        0   \n",
       "\n",
       "   history  coming of age  sports  war  \n",
       "0        0              0       0    0  \n",
       "1        0              0       0    0  \n",
       "2        0              0       0    0  \n",
       "3        1              0       0    1  \n",
       "4        1              0       0    0  \n",
       "\n",
       "[5 rows x 33 columns]"
      ]
     },
     "execution_count": 142,
     "metadata": {},
     "output_type": "execute_result"
    }
   ],
   "source": [
    "df_ols.head(5)"
   ]
  },
  {
   "cell_type": "markdown",
   "metadata": {},
   "source": [
    "Standardizing columns"
   ]
  },
  {
   "cell_type": "code",
   "execution_count": 143,
   "metadata": {},
   "outputs": [],
   "source": [
    "# Standardizing \n",
    "\n",
    "columns_to_scale = ['Budget(USD)_Inflated', 'Domestic_Percentage', 'Foreign_Percentage', 'Runtime(mins)', 'Audience_Score', 'Critics_Score']\n",
    "scaler = StandardScaler()\n",
    "scaled_data = scaler.fit_transform(df_ols[columns_to_scale])\n",
    "df_ols[columns_to_scale] = scaled_data\n"
   ]
  },
  {
   "cell_type": "markdown",
   "metadata": {},
   "source": [
    "One hot encoding columns"
   ]
  },
  {
   "cell_type": "code",
   "execution_count": 144,
   "metadata": {},
   "outputs": [],
   "source": [
    "# one-hot encoding rating column, dropping the first column in order to avoid introducing multicollinearity\n",
    "df_ols = pd.get_dummies(df_ols, columns=['Rating'], drop_first=True)\n",
    "df_ols = df_ols.drop(columns=\"Rating_nc-17\") # Only 5 nc-17 movies, not considered for analysis\n",
    "# one-hot encoding month column, dropping first column for same reason\n",
    "df_ols = pd.get_dummies(df_ols, columns=['Month'], drop_first=True)\n",
    "# same thing for the emotion column\n",
    "df_ols = pd.get_dummies(df_ols, columns=['emotion'], drop_first=True)\n"
   ]
  },
  {
   "cell_type": "markdown",
   "metadata": {},
   "source": [
    "Checking for multicolinearity with VIF"
   ]
  },
  {
   "cell_type": "code",
   "execution_count": 145,
   "metadata": {},
   "outputs": [],
   "source": [
    "# Function calculating the VIF (Variance inflation factor)\n",
    "def calculate_vif(dataframe):\n",
    "\n",
    "    # Ensuring the data contains only numeric columns\n",
    "    data = dataframe.select_dtypes(include=['number'])\n",
    "\n",
    "    data = sm.add_constant(data)\n",
    "\n",
    "    # Compute VIF for each feature\n",
    "    vif_data = pd.DataFrame()\n",
    "    vif_data[\"Feature\"] = data.columns\n",
    "    vif_data[\"VIF\"] = [variance_inflation_factor(data.values, i) for i in range(data.shape[1])]\n",
    "\n",
    "    # Drop the constant row from the VIF results\n",
    "    return vif_data[vif_data[\"Feature\"] != \"const\"]\n",
    "\n"
   ]
  },
  {
   "cell_type": "code",
   "execution_count": 146,
   "metadata": {},
   "outputs": [
    {
     "name": "stdout",
     "output_type": "stream",
     "text": [
      "                 Feature        VIF\n",
      "1   Budget(USD)_Inflated   2.357069\n",
      "2          Runtime(mins)   1.994242\n",
      "3         Audience_Score   2.190690\n",
      "4          Critics_Score   2.107627\n",
      "5                  drama   1.616573\n",
      "6                 comedy   1.587771\n",
      "7               thriller   1.816373\n",
      "8                 action   1.958124\n",
      "9              adventure   1.942613\n",
      "10          romance film   1.304259\n",
      "11                horror   1.499739\n",
      "12               fantasy   1.331925\n",
      "13               mystery   1.283100\n",
      "14                 crime   1.406517\n",
      "15                 indie   1.140862\n",
      "16             biography   1.312084\n",
      "17                family   2.368413\n",
      "18                sci-fi   1.296999\n",
      "19          period piece   1.202336\n",
      "20             animation   1.651701\n",
      "21                  teen   1.164074\n",
      "22       film adaptation   1.106382\n",
      "23               musical   1.089489\n",
      "24               history   1.231568\n",
      "25         coming of age   1.215961\n",
      "26                sports   1.105325\n",
      "27                   war   1.201885\n",
      "28             Rating_pg  11.891518\n",
      "29          Rating_pg-13  24.613922\n",
      "30              Rating_r  25.263054\n",
      "31             Month_Aug   1.950656\n",
      "32             Month_Dec   1.987797\n",
      "33             Month_Feb   1.759576\n",
      "34             Month_Jan   1.856125\n",
      "35             Month_Jul   1.837406\n",
      "36             Month_Jun   1.843836\n",
      "37             Month_Mar   1.895188\n",
      "38             Month_May   1.780528\n",
      "39             Month_Nov   1.998475\n",
      "40             Month_Oct   2.138610\n",
      "41             Month_Sep   1.910795\n",
      "42       emotion_disgust   1.779006\n",
      "43          emotion_fear   2.499478\n",
      "44           emotion_joy   1.403463\n",
      "45       emotion_neutral   2.609898\n",
      "46       emotion_sadness   1.852343\n",
      "47      emotion_surprise   1.258736\n"
     ]
    }
   ],
   "source": [
    "# Drop target variables\n",
    "predictors = df_ols.drop(columns=[\"Foreign_Percentage\", \"Domestic_Percentage\", \"Year\"]).astype(float)\n",
    "# Saving for later use in final_results.ipynb\n",
    "predictors.to_csv(\"../src/data/OLS_data/predictors.csv\", index=False)\n",
    "vif_results = calculate_vif(predictors)\n",
    "print(vif_results)"
   ]
  },
  {
   "cell_type": "markdown",
   "metadata": {},
   "source": [
    "The one-hot encoded rating columns seem to be multicolinear, removal of one of the ratings is thus necessary"
   ]
  },
  {
   "cell_type": "code",
   "execution_count": 147,
   "metadata": {},
   "outputs": [
    {
     "name": "stdout",
     "output_type": "stream",
     "text": [
      "                 Feature       VIF\n",
      "1   Budget(USD)_Inflated  2.338089\n",
      "2          Runtime(mins)  1.964846\n",
      "3         Audience_Score  2.189151\n",
      "4          Critics_Score  2.107565\n",
      "5                  drama  1.611259\n",
      "6                 comedy  1.568428\n",
      "7               thriller  1.812405\n",
      "8                 action  1.918804\n",
      "9              adventure  1.914379\n",
      "10          romance film  1.304259\n",
      "11                horror  1.491241\n",
      "12               fantasy  1.331849\n",
      "13               mystery  1.283076\n",
      "14                 crime  1.403300\n",
      "15                 indie  1.139938\n",
      "16             biography  1.312038\n",
      "17                family  2.339399\n",
      "18                sci-fi  1.293860\n",
      "19          period piece  1.202083\n",
      "20             animation  1.632124\n",
      "21                  teen  1.163777\n",
      "22       film adaptation  1.105897\n",
      "23               musical  1.089058\n",
      "24               history  1.231371\n",
      "25         coming of age  1.215783\n",
      "26                sports  1.103321\n",
      "27                   war  1.201854\n",
      "28             Rating_pg  2.332290\n",
      "29          Rating_pg-13  1.447303\n",
      "30             Month_Aug  1.950623\n",
      "31             Month_Dec  1.987787\n",
      "32             Month_Feb  1.759352\n",
      "33             Month_Jan  1.855611\n",
      "34             Month_Jul  1.837062\n",
      "35             Month_Jun  1.842382\n",
      "36             Month_Mar  1.894869\n",
      "37             Month_May  1.780171\n",
      "38             Month_Nov  1.998244\n",
      "39             Month_Oct  2.138117\n",
      "40             Month_Sep  1.910367\n",
      "41       emotion_disgust  1.779006\n",
      "42          emotion_fear  2.499462\n",
      "43           emotion_joy  1.403462\n",
      "44       emotion_neutral  2.607914\n",
      "45       emotion_sadness  1.852271\n",
      "46      emotion_surprise  1.257327\n"
     ]
    }
   ],
   "source": [
    "# Drop target variables\n",
    "predictors = df_ols.drop(columns=[\"Foreign_Percentage\", \"Domestic_Percentage\", \"Year\", \"Rating_r\"]).astype(float)\n",
    "vif_results = calculate_vif(predictors)\n",
    "print(vif_results)"
   ]
  },
  {
   "cell_type": "markdown",
   "metadata": {},
   "source": [
    "Removing the \"Rating_r\" columns thus resolves the issue"
   ]
  },
  {
   "cell_type": "code",
   "execution_count": 148,
   "metadata": {},
   "outputs": [],
   "source": [
    "df_ols = df_ols.drop(columns = \"Rating_r\")"
   ]
  },
  {
   "cell_type": "markdown",
   "metadata": {},
   "source": [
    "## Defining features and labels for the 4 different models:\n",
    "Labels: Foreign/domestic percentage for prediction\n",
    "Predictors: before and after 2010"
   ]
  },
  {
   "cell_type": "code",
   "execution_count": 149,
   "metadata": {},
   "outputs": [],
   "source": [
    "# Removing Year column, not used as a feature\n",
    "\n",
    "# Movies before 2010\n",
    "df_before_2010 = df_ols[df_ols['Year'] < 2010].drop(columns= \"Year\")\n",
    "\n",
    "# Movies including and after 2010\n",
    "df_2010_and_after = df_ols[df_ols['Year'] >= 2010].drop(columns= \"Year\")\n",
    "\n",
    "df_ols = df_ols.drop(columns= \"Year\")\n"
   ]
  },
  {
   "cell_type": "markdown",
   "metadata": {},
   "source": [
    "Function to train OLS model"
   ]
  },
  {
   "cell_type": "code",
   "execution_count": 150,
   "metadata": {},
   "outputs": [],
   "source": [
    "def train_ols_model(dataframe, target_column, drop_columns):\n",
    "    \"\"\"\n",
    "    Trains an OLS regression model.\n",
    "\n",
    "    Parameters:\n",
    "        dataframe (pd.DataFrame): The input DataFrame containing features and the target variable.\n",
    "        target_column (str): The name of the column to be used as the target variable.\n",
    "        drop_columns (list): List of columns to drop from the DataFrame.\n",
    "\n",
    "    Returns:\n",
    "        ols_model (sm.OLS): The trained OLS model.\n",
    "    \"\"\"\n",
    "    # Defining features and labels\n",
    "    y = dataframe[target_column]\n",
    "    X = dataframe.drop(columns=drop_columns)\n",
    "\n",
    "    # Adding a constant column for the OLS model\n",
    "    X = sm.add_constant(X)\n",
    "\n",
    "    # Training the OLS model\n",
    "    feature_names = list(X.columns)\n",
    "    label_name = target_column\n",
    "\n",
    "    # Ensure predictors and target are numeric\n",
    "    X = pd.DataFrame(X, columns=feature_names, dtype=float)\n",
    "    y = pd.Series(y, name=label_name, dtype=float) # Including the label name\n",
    "\n",
    "    # Fit the OLS model\n",
    "    ols_model = sm.OLS(y, X).fit()\n",
    "    return ols_model"
   ]
  },
  {
   "cell_type": "markdown",
   "metadata": {},
   "source": [
    "Function to save the feature statistics for later use"
   ]
  },
  {
   "cell_type": "code",
   "execution_count": 151,
   "metadata": {},
   "outputs": [],
   "source": [
    "def extract_feature_statistics(ols_model, output_csv_path=None):\n",
    "    \"\"\"\n",
    "    Extracts feature statistics from an OLS regression model.\n",
    "\n",
    "    Parameters:\n",
    "        ols_model (sm.OLS): The trained OLS regression model.\n",
    "        output_csv_path (str, optional): Path to save the feature statistics as a CSV file. Defaults to None.\n",
    "\n",
    "    Returns:\n",
    "        feature_stats (pd.DataFrame): A DataFrame containing the feature statistics.\n",
    "    \"\"\"\n",
    "    # Extracting feature statistics\n",
    "    coefficients = ols_model.params  # Coefficients (coef)\n",
    "    standard_errors = ols_model.bse  # Standard errors (std err)\n",
    "    t_values = ols_model.tvalues     # t-values (t)\n",
    "    p_values = ols_model.pvalues     # p-values (P>|t|)\n",
    "\n",
    "    # Creating a DataFrame\n",
    "    feature_stats = pd.DataFrame({\n",
    "        \"Feature\": coefficients.index,\n",
    "        \"Coefficient\": coefficients.values,\n",
    "        \"Std_Error\": standard_errors.values,\n",
    "        \"t_value\": t_values.values,\n",
    "        \"p_value\": p_values.values\n",
    "    })\n",
    "\n",
    "    # Saving the DataFrame to a CSV file if the path is provided\n",
    "    if output_csv_path:\n",
    "        feature_stats.to_csv(output_csv_path, index=False)\n",
    "\n",
    "    return feature_stats"
   ]
  },
  {
   "cell_type": "markdown",
   "metadata": {},
   "source": [
    "### 1st model: Foreign Percentage prediction "
   ]
  },
  {
   "cell_type": "code",
   "execution_count": 152,
   "metadata": {},
   "outputs": [
    {
     "name": "stdout",
     "output_type": "stream",
     "text": [
      "                            OLS Regression Results                            \n",
      "==============================================================================\n",
      "Dep. Variable:     Foreign_Percentage   R-squared:                       0.244\n",
      "Model:                            OLS   Adj. R-squared:                  0.231\n",
      "Method:                 Least Squares   F-statistic:                     18.52\n",
      "Date:                Fri, 20 Dec 2024   Prob (F-statistic):          7.91e-127\n",
      "Time:                        21:40:47   Log-Likelihood:                -3439.8\n",
      "No. Observations:                2689   AIC:                             6974.\n",
      "Df Residuals:                    2642   BIC:                             7251.\n",
      "Df Model:                          46                                         \n",
      "Covariance Type:            nonrobust                                         \n",
      "========================================================================================\n",
      "                           coef    std err          t      P>|t|      [0.025      0.975]\n",
      "----------------------------------------------------------------------------------------\n",
      "const                    0.0547      0.091      0.605      0.545      -0.123       0.232\n",
      "Budget(USD)_Inflated     0.2319      0.026      8.963      0.000       0.181       0.283\n",
      "Runtime(mins)            0.0614      0.024      2.590      0.010       0.015       0.108\n",
      "Audience_Score          -0.1566      0.025     -6.256      0.000      -0.206      -0.108\n",
      "Critics_Score            0.1165      0.025      4.745      0.000       0.068       0.165\n",
      "drama                   -0.0418      0.043     -0.974      0.330      -0.126       0.042\n",
      "comedy                  -0.2673      0.043     -6.186      0.000      -0.352      -0.183\n",
      "thriller                 0.1236      0.049      2.503      0.012       0.027       0.220\n",
      "action                   0.1070      0.053      2.038      0.042       0.004       0.210\n",
      "adventure                0.1055      0.053      1.986      0.047       0.001       0.210\n",
      "romance film             0.1084      0.048      2.264      0.024       0.014       0.202\n",
      "horror                   0.0397      0.063      0.626      0.531      -0.084       0.164\n",
      "fantasy                  0.1020      0.060      1.689      0.091      -0.016       0.220\n",
      "mystery                  0.1678      0.062      2.700      0.007       0.046       0.290\n",
      "crime                   -0.0692      0.053     -1.314      0.189      -0.173       0.034\n",
      "indie                   -0.0510      0.073     -0.702      0.483      -0.193       0.091\n",
      "biography               -0.0399      0.074     -0.536      0.592      -0.186       0.106\n",
      "family                  -0.1202      0.082     -1.470      0.142      -0.280       0.040\n",
      "sci-fi                   0.0445      0.060      0.743      0.457      -0.073       0.162\n",
      "period piece            -0.1362      0.083     -1.642      0.101      -0.299       0.026\n",
      "animation                0.5567      0.102      5.464      0.000       0.357       0.757\n",
      "teen                    -0.1802      0.090     -1.997      0.046      -0.357      -0.003\n",
      "film adaptation         -0.0036      0.089     -0.041      0.967      -0.178       0.170\n",
      "musical                  0.0172      0.078      0.220      0.826      -0.137       0.171\n",
      "history                 -0.0691      0.104     -0.662      0.508      -0.274       0.136\n",
      "coming of age           -0.2088      0.108     -1.936      0.053      -0.420       0.003\n",
      "sports                  -0.5720      0.090     -6.348      0.000      -0.749      -0.395\n",
      "war                      0.0820      0.102      0.804      0.422      -0.118       0.282\n",
      "Rating_pg               -0.2698      0.075     -3.618      0.000      -0.416      -0.124\n",
      "Rating_pg-13            -0.1546      0.041     -3.742      0.000      -0.236      -0.074\n",
      "Month_Aug               -0.1222      0.082     -1.486      0.137      -0.284       0.039\n",
      "Month_Dec                0.3395      0.084      4.028      0.000       0.174       0.505\n",
      "Month_Feb               -0.0566      0.088     -0.643      0.520      -0.229       0.116\n",
      "Month_Jan                0.0634      0.085      0.749      0.454      -0.103       0.229\n",
      "Month_Jul                0.1023      0.087      1.173      0.241      -0.069       0.273\n",
      "Month_Jun                0.0296      0.087      0.341      0.733      -0.140       0.200\n",
      "Month_Mar               -0.1326      0.084     -1.580      0.114      -0.297       0.032\n",
      "Month_May                0.0769      0.090      0.857      0.391      -0.099       0.253\n",
      "Month_Nov                0.2510      0.084      2.998      0.003       0.087       0.415\n",
      "Month_Oct                0.1469      0.079      1.862      0.063      -0.008       0.302\n",
      "Month_Sep                0.0617      0.083      0.742      0.458      -0.101       0.225\n",
      "emotion_disgust          0.0778      0.072      1.078      0.281      -0.064       0.219\n",
      "emotion_fear             0.0144      0.061      0.237      0.812      -0.104       0.133\n",
      "emotion_joy              0.0331      0.095      0.348      0.728      -0.154       0.220\n",
      "emotion_neutral         -0.0072      0.059     -0.122      0.903      -0.123       0.108\n",
      "emotion_sadness         -0.0298      0.072     -0.412      0.680      -0.172       0.112\n",
      "emotion_surprise        -0.2936      0.110     -2.661      0.008      -0.510      -0.077\n",
      "==============================================================================\n",
      "Omnibus:                       41.158   Durbin-Watson:                   1.939\n",
      "Prob(Omnibus):                  0.000   Jarque-Bera (JB):               42.734\n",
      "Skew:                           0.308   Prob(JB):                     5.25e-10\n",
      "Kurtosis:                       3.043   Cond. No.                         19.9\n",
      "==============================================================================\n",
      "\n",
      "Notes:\n",
      "[1] Standard Errors assume that the covariance matrix of the errors is correctly specified.\n"
     ]
    }
   ],
   "source": [
    "# Defining the target column as well as which columns to drop\n",
    "target_column = \"Foreign_Percentage\"\n",
    "drop_columns = [\"Foreign_Percentage\", \"Domestic_Percentage\"]\n",
    "# Path to save CSV file containing the feature statistics\n",
    "output_csv_path = \"../src/data/OLS_data/feature_stats_Foreign.csv\"\n",
    "\n",
    "# Train the model\n",
    "ols_model = train_ols_model(df_ols, target_column, drop_columns)\n",
    "\n",
    "# Extract feature statistics and save to CSV\n",
    "feature_stats_Foreign = extract_feature_statistics(ols_model, output_csv_path)\n",
    "\n",
    "# Displaying the model summary\n",
    "print(ols_model.summary())"
   ]
  },
  {
   "cell_type": "markdown",
   "metadata": {},
   "source": [
    "### \"2nd\" model: Domestic Percentage prediction "
   ]
  },
  {
   "cell_type": "code",
   "execution_count": 153,
   "metadata": {},
   "outputs": [
    {
     "name": "stdout",
     "output_type": "stream",
     "text": [
      "                             OLS Regression Results                            \n",
      "===============================================================================\n",
      "Dep. Variable:     Domestic_Percentage   R-squared:                       0.244\n",
      "Model:                             OLS   Adj. R-squared:                  0.231\n",
      "Method:                  Least Squares   F-statistic:                     18.52\n",
      "Date:                 Fri, 20 Dec 2024   Prob (F-statistic):          7.91e-127\n",
      "Time:                         21:40:47   Log-Likelihood:                -3439.8\n",
      "No. Observations:                 2689   AIC:                             6974.\n",
      "Df Residuals:                     2642   BIC:                             7251.\n",
      "Df Model:                           46                                         \n",
      "Covariance Type:             nonrobust                                         \n",
      "========================================================================================\n",
      "                           coef    std err          t      P>|t|      [0.025      0.975]\n",
      "----------------------------------------------------------------------------------------\n",
      "const                   -0.0547      0.091     -0.605      0.545      -0.232       0.123\n",
      "Budget(USD)_Inflated    -0.2319      0.026     -8.963      0.000      -0.283      -0.181\n",
      "Runtime(mins)           -0.0614      0.024     -2.590      0.010      -0.108      -0.015\n",
      "Audience_Score           0.1566      0.025      6.256      0.000       0.108       0.206\n",
      "Critics_Score           -0.1165      0.025     -4.745      0.000      -0.165      -0.068\n",
      "drama                    0.0418      0.043      0.974      0.330      -0.042       0.126\n",
      "comedy                   0.2673      0.043      6.186      0.000       0.183       0.352\n",
      "thriller                -0.1236      0.049     -2.503      0.012      -0.220      -0.027\n",
      "action                  -0.1070      0.053     -2.038      0.042      -0.210      -0.004\n",
      "adventure               -0.1055      0.053     -1.986      0.047      -0.210      -0.001\n",
      "romance film            -0.1084      0.048     -2.264      0.024      -0.202      -0.014\n",
      "horror                  -0.0397      0.063     -0.626      0.531      -0.164       0.084\n",
      "fantasy                 -0.1020      0.060     -1.689      0.091      -0.220       0.016\n",
      "mystery                 -0.1678      0.062     -2.700      0.007      -0.290      -0.046\n",
      "crime                    0.0692      0.053      1.314      0.189      -0.034       0.173\n",
      "indie                    0.0510      0.073      0.702      0.483      -0.091       0.193\n",
      "biography                0.0399      0.074      0.536      0.592      -0.106       0.186\n",
      "family                   0.1202      0.082      1.470      0.142      -0.040       0.280\n",
      "sci-fi                  -0.0445      0.060     -0.743      0.457      -0.162       0.073\n",
      "period piece             0.1362      0.083      1.642      0.101      -0.026       0.299\n",
      "animation               -0.5567      0.102     -5.464      0.000      -0.757      -0.357\n",
      "teen                     0.1802      0.090      1.997      0.046       0.003       0.357\n",
      "film adaptation          0.0036      0.089      0.041      0.967      -0.170       0.178\n",
      "musical                 -0.0172      0.078     -0.220      0.826      -0.171       0.137\n",
      "history                  0.0691      0.104      0.662      0.508      -0.136       0.274\n",
      "coming of age            0.2088      0.108      1.936      0.053      -0.003       0.420\n",
      "sports                   0.5720      0.090      6.348      0.000       0.395       0.749\n",
      "war                     -0.0820      0.102     -0.804      0.422      -0.282       0.118\n",
      "Rating_pg                0.2698      0.075      3.618      0.000       0.124       0.416\n",
      "Rating_pg-13             0.1546      0.041      3.742      0.000       0.074       0.236\n",
      "Month_Aug                0.1222      0.082      1.486      0.137      -0.039       0.284\n",
      "Month_Dec               -0.3395      0.084     -4.028      0.000      -0.505      -0.174\n",
      "Month_Feb                0.0566      0.088      0.643      0.520      -0.116       0.229\n",
      "Month_Jan               -0.0634      0.085     -0.749      0.454      -0.229       0.103\n",
      "Month_Jul               -0.1023      0.087     -1.173      0.241      -0.273       0.069\n",
      "Month_Jun               -0.0296      0.087     -0.341      0.733      -0.200       0.140\n",
      "Month_Mar                0.1326      0.084      1.580      0.114      -0.032       0.297\n",
      "Month_May               -0.0769      0.090     -0.857      0.391      -0.253       0.099\n",
      "Month_Nov               -0.2510      0.084     -2.998      0.003      -0.415      -0.087\n",
      "Month_Oct               -0.1469      0.079     -1.862      0.063      -0.302       0.008\n",
      "Month_Sep               -0.0617      0.083     -0.742      0.458      -0.225       0.101\n",
      "emotion_disgust         -0.0778      0.072     -1.078      0.281      -0.219       0.064\n",
      "emotion_fear            -0.0144      0.061     -0.237      0.812      -0.133       0.104\n",
      "emotion_joy             -0.0331      0.095     -0.348      0.728      -0.220       0.154\n",
      "emotion_neutral          0.0072      0.059      0.122      0.903      -0.108       0.123\n",
      "emotion_sadness          0.0298      0.072      0.412      0.680      -0.112       0.172\n",
      "emotion_surprise         0.2936      0.110      2.661      0.008       0.077       0.510\n",
      "==============================================================================\n",
      "Omnibus:                       41.158   Durbin-Watson:                   1.939\n",
      "Prob(Omnibus):                  0.000   Jarque-Bera (JB):               42.734\n",
      "Skew:                          -0.308   Prob(JB):                     5.25e-10\n",
      "Kurtosis:                       3.043   Cond. No.                         19.9\n",
      "==============================================================================\n",
      "\n",
      "Notes:\n",
      "[1] Standard Errors assume that the covariance matrix of the errors is correctly specified.\n"
     ]
    }
   ],
   "source": [
    "# Defining the target column as well as which columns to drop\n",
    "target_column = \"Domestic_Percentage\"\n",
    "drop_columns = [\"Foreign_Percentage\", \"Domestic_Percentage\"]\n",
    "# Path to save CSV file containing the feature statistics\n",
    "output_csv_path = \"../src/data/OLS_data/feature_stats_Domestic.csv\"\n",
    "\n",
    "# Train the model\n",
    "ols_model = train_ols_model(df_ols, target_column, drop_columns)\n",
    "\n",
    "# Extract feature statistics and save to CSV\n",
    "feature_stats_domestic = extract_feature_statistics(ols_model, output_csv_path)\n",
    "\n",
    "# Displaying the model summary\n",
    "print(ols_model.summary())"
   ]
  },
  {
   "cell_type": "markdown",
   "metadata": {},
   "source": [
    "Only difference between the two models is the sign of the coeffecients. Subsquent Analysis will have only the foreign_percentage as a target column"
   ]
  },
  {
   "cell_type": "markdown",
   "metadata": {},
   "source": [
    "### Before 2010, foreign prediction"
   ]
  },
  {
   "cell_type": "code",
   "execution_count": 154,
   "metadata": {},
   "outputs": [
    {
     "name": "stdout",
     "output_type": "stream",
     "text": [
      "                            OLS Regression Results                            \n",
      "==============================================================================\n",
      "Dep. Variable:     Foreign_Percentage   R-squared:                       0.262\n",
      "Model:                            OLS   Adj. R-squared:                  0.233\n",
      "Method:                 Least Squares   F-statistic:                     9.123\n",
      "Date:                Fri, 20 Dec 2024   Prob (F-statistic):           2.27e-51\n",
      "Time:                        21:40:47   Log-Likelihood:                -1481.4\n",
      "No. Observations:                1232   AIC:                             3057.\n",
      "Df Residuals:                    1185   BIC:                             3297.\n",
      "Df Model:                          46                                         \n",
      "Covariance Type:            nonrobust                                         \n",
      "========================================================================================\n",
      "                           coef    std err          t      P>|t|      [0.025      0.975]\n",
      "----------------------------------------------------------------------------------------\n",
      "const                   -0.0654      0.135     -0.485      0.628      -0.330       0.199\n",
      "Budget(USD)_Inflated     0.2106      0.038      5.524      0.000       0.136       0.285\n",
      "Runtime(mins)            0.0139      0.033      0.423      0.673      -0.051       0.078\n",
      "Audience_Score          -0.0769      0.035     -2.215      0.027      -0.145      -0.009\n",
      "Critics_Score            0.1415      0.034      4.132      0.000       0.074       0.209\n",
      "drama                   -0.0598      0.060     -0.999      0.318      -0.177       0.058\n",
      "comedy                  -0.2217      0.060     -3.709      0.000      -0.339      -0.104\n",
      "thriller                 0.1453      0.072      2.013      0.044       0.004       0.287\n",
      "action                  -0.0008      0.079     -0.010      0.992      -0.156       0.155\n",
      "adventure                0.0698      0.076      0.916      0.360      -0.080       0.219\n",
      "romance film             0.1852      0.063      2.943      0.003       0.062       0.309\n",
      "horror                   0.0857      0.092      0.927      0.354      -0.096       0.267\n",
      "fantasy                  0.1922      0.086      2.242      0.025       0.024       0.360\n",
      "mystery                  0.1904      0.093      2.051      0.040       0.008       0.373\n",
      "crime                    0.0310      0.071      0.436      0.663      -0.109       0.171\n",
      "indie                   -0.0740      0.081     -0.911      0.362      -0.233       0.085\n",
      "biography                0.0298      0.110      0.272      0.786      -0.186       0.245\n",
      "family                  -0.1016      0.097     -1.048      0.295      -0.292       0.089\n",
      "sci-fi                   0.0846      0.090      0.936      0.349      -0.093       0.262\n",
      "period piece            -0.0564      0.090     -0.629      0.529      -0.232       0.119\n",
      "animation                0.3995      0.144      2.776      0.006       0.117       0.682\n",
      "teen                    -0.0921      0.092     -1.002      0.317      -0.273       0.088\n",
      "film adaptation          0.0724      0.093      0.781      0.435      -0.109       0.254\n",
      "musical                  0.0623      0.108      0.579      0.563      -0.149       0.273\n",
      "history                 -0.1013      0.155     -0.653      0.514      -0.406       0.203\n",
      "coming of age           -0.1813      0.108     -1.680      0.093      -0.393       0.030\n",
      "sports                  -0.4839      0.106     -4.552      0.000      -0.693      -0.275\n",
      "war                      0.3137      0.128      2.442      0.015       0.062       0.566\n",
      "Rating_pg               -0.3118      0.097     -3.207      0.001      -0.503      -0.121\n",
      "Rating_pg-13            -0.2081      0.060     -3.496      0.000      -0.325      -0.091\n",
      "Month_Aug               -0.1921      0.117     -1.645      0.100      -0.421       0.037\n",
      "Month_Dec                0.3187      0.116      2.748      0.006       0.091       0.546\n",
      "Month_Feb               -0.0589      0.120     -0.493      0.622      -0.293       0.176\n",
      "Month_Jan                0.0404      0.116      0.347      0.728      -0.188       0.269\n",
      "Month_Jul                0.0377      0.123      0.306      0.760      -0.204       0.280\n",
      "Month_Jun                0.1077      0.125      0.861      0.389      -0.138       0.353\n",
      "Month_Mar               -0.1114      0.119     -0.934      0.351      -0.345       0.123\n",
      "Month_May                0.0323      0.129      0.250      0.802      -0.221       0.285\n",
      "Month_Nov                0.1891      0.118      1.599      0.110      -0.043       0.421\n",
      "Month_Oct                0.0579      0.109      0.530      0.596      -0.156       0.272\n",
      "Month_Sep               -0.0437      0.115     -0.380      0.704      -0.269       0.182\n",
      "emotion_disgust          0.0041      0.097      0.042      0.966      -0.187       0.195\n",
      "emotion_fear            -0.0206      0.089     -0.232      0.817      -0.195       0.154\n",
      "emotion_joy             -0.0234      0.136     -0.172      0.864      -0.291       0.244\n",
      "emotion_neutral         -0.0358      0.084     -0.427      0.669      -0.200       0.129\n",
      "emotion_sadness         -0.1082      0.101     -1.071      0.284      -0.306       0.090\n",
      "emotion_surprise        -0.1204      0.156     -0.772      0.440      -0.426       0.185\n",
      "==============================================================================\n",
      "Omnibus:                       54.145   Durbin-Watson:                   1.951\n",
      "Prob(Omnibus):                  0.000   Jarque-Bera (JB):               61.747\n",
      "Skew:                           0.496   Prob(JB):                     3.91e-14\n",
      "Kurtosis:                       3.468   Cond. No.                         21.0\n",
      "==============================================================================\n",
      "\n",
      "Notes:\n",
      "[1] Standard Errors assume that the covariance matrix of the errors is correctly specified.\n"
     ]
    }
   ],
   "source": [
    "# Defining the target column as well as which columns to drop\n",
    "target_column = \"Foreign_Percentage\"\n",
    "drop_columns = [\"Foreign_Percentage\", \"Domestic_Percentage\"]\n",
    "# Path to save CSV file containing the feature statistics\n",
    "output_csv_path = \"../src/data/OLS_data/feature_stats_pre_2010.csv\"\n",
    "\n",
    "# Train the model\n",
    "ols_model = train_ols_model(df_before_2010, target_column, drop_columns)\n",
    "\n",
    "# Extract feature statistics and save to CSV\n",
    "feature_stats_pre_2010 = extract_feature_statistics(ols_model, output_csv_path)\n",
    "\n",
    "# Displaying the model summary\n",
    "print(ols_model.summary())"
   ]
  },
  {
   "cell_type": "markdown",
   "metadata": {},
   "source": [
    "### Including and after 2010, foreign prediction"
   ]
  },
  {
   "cell_type": "code",
   "execution_count": 155,
   "metadata": {},
   "outputs": [
    {
     "name": "stdout",
     "output_type": "stream",
     "text": [
      "                            OLS Regression Results                            \n",
      "==============================================================================\n",
      "Dep. Variable:     Foreign_Percentage   R-squared:                       0.265\n",
      "Model:                            OLS   Adj. R-squared:                  0.241\n",
      "Method:                 Least Squares   F-statistic:                     11.06\n",
      "Date:                Fri, 20 Dec 2024   Prob (F-statistic):           6.55e-66\n",
      "Time:                        21:40:47   Log-Likelihood:                -1873.8\n",
      "No. Observations:                1457   AIC:                             3842.\n",
      "Df Residuals:                    1410   BIC:                             4090.\n",
      "Df Model:                          46                                         \n",
      "Covariance Type:            nonrobust                                         \n",
      "========================================================================================\n",
      "                           coef    std err          t      P>|t|      [0.025      0.975]\n",
      "----------------------------------------------------------------------------------------\n",
      "const                   -0.0423      0.121     -0.350      0.726      -0.280       0.195\n",
      "Budget(USD)_Inflated     0.2681      0.035      7.558      0.000       0.199       0.338\n",
      "Runtime(mins)            0.0869      0.034      2.578      0.010       0.021       0.153\n",
      "Audience_Score          -0.2268      0.036     -6.239      0.000      -0.298      -0.155\n",
      "Critics_Score            0.0738      0.035      2.100      0.036       0.005       0.143\n",
      "drama                   -0.0006      0.061     -0.010      0.992      -0.120       0.118\n",
      "comedy                  -0.2331      0.061     -3.794      0.000      -0.354      -0.113\n",
      "thriller                 0.1971      0.067      2.925      0.003       0.065       0.329\n",
      "action                   0.1695      0.070      2.404      0.016       0.031       0.308\n",
      "adventure                0.3034      0.076      3.997      0.000       0.155       0.452\n",
      "romance film             0.0842      0.071      1.180      0.238      -0.056       0.224\n",
      "horror                   0.0923      0.086      1.069      0.285      -0.077       0.262\n",
      "fantasy                 -0.0252      0.083     -0.303      0.762      -0.188       0.138\n",
      "mystery                  0.0619      0.083      0.743      0.457      -0.101       0.225\n",
      "crime                   -0.0932      0.077     -1.214      0.225      -0.244       0.057\n",
      "indie                    0.2854      0.181      1.579      0.114      -0.069       0.640\n",
      "biography               -0.0846      0.101     -0.839      0.402      -0.282       0.113\n",
      "family                  -0.0635      0.142     -0.447      0.655      -0.342       0.215\n",
      "sci-fi                  -0.0377      0.079     -0.478      0.633      -0.193       0.117\n",
      "period piece            -0.2606      0.220     -1.185      0.236      -0.692       0.171\n",
      "animation                0.5351      0.148      3.607      0.000       0.244       0.826\n",
      "teen                    -0.1101      0.321     -0.343      0.732      -0.740       0.519\n",
      "film adaptation          0.1600      0.239      0.668      0.504      -0.310       0.629\n",
      "musical                  0.0006      0.112      0.006      0.995      -0.219       0.220\n",
      "history                 -0.0658      0.137     -0.479      0.632      -0.335       0.204\n",
      "coming of age           -0.2401      0.416     -0.577      0.564      -1.056       0.576\n",
      "sports                  -0.4885      0.157     -3.110      0.002      -0.797      -0.180\n",
      "war                     -0.0124      0.162     -0.076      0.939      -0.331       0.306\n",
      "Rating_pg               -0.2555      0.115     -2.230      0.026      -0.480      -0.031\n",
      "Rating_pg-13            -0.1009      0.057     -1.765      0.078      -0.213       0.011\n",
      "Month_Aug               -0.0266      0.112     -0.237      0.813      -0.247       0.194\n",
      "Month_Dec                0.3843      0.119      3.239      0.001       0.152       0.617\n",
      "Month_Feb               -0.0281      0.125     -0.225      0.822      -0.273       0.217\n",
      "Month_Jan                0.0609      0.119      0.511      0.609      -0.173       0.295\n",
      "Month_Jul                0.1906      0.120      1.593      0.111      -0.044       0.425\n",
      "Month_Jun               -0.0136      0.117     -0.116      0.908      -0.244       0.217\n",
      "Month_Mar               -0.1673      0.114     -1.464      0.143      -0.391       0.057\n",
      "Month_May                0.0945      0.121      0.780      0.436      -0.143       0.332\n",
      "Month_Nov                0.3501      0.115      3.038      0.002       0.124       0.576\n",
      "Month_Oct                0.2584      0.110      2.356      0.019       0.043       0.473\n",
      "Month_Sep                0.1579      0.116      1.366      0.172      -0.069       0.385\n",
      "emotion_disgust          0.2387      0.105      2.272      0.023       0.033       0.445\n",
      "emotion_fear             0.0443      0.081      0.550      0.583      -0.114       0.202\n",
      "emotion_joy              0.1849      0.130      1.425      0.154      -0.070       0.439\n",
      "emotion_neutral          0.0722      0.081      0.892      0.373      -0.087       0.231\n",
      "emotion_sadness          0.0824      0.101      0.820      0.412      -0.115       0.280\n",
      "emotion_surprise        -0.3629      0.151     -2.401      0.016      -0.659      -0.066\n",
      "==============================================================================\n",
      "Omnibus:                        3.131   Durbin-Watson:                   1.927\n",
      "Prob(Omnibus):                  0.209   Jarque-Bera (JB):                3.146\n",
      "Skew:                           0.113   Prob(JB):                        0.207\n",
      "Kurtosis:                       2.976   Cond. No.                         27.5\n",
      "==============================================================================\n",
      "\n",
      "Notes:\n",
      "[1] Standard Errors assume that the covariance matrix of the errors is correctly specified.\n"
     ]
    }
   ],
   "source": [
    "# Defining the target column as well as which columns to drop\n",
    "target_column = \"Foreign_Percentage\"\n",
    "drop_columns = [\"Foreign_Percentage\", \"Domestic_Percentage\"]\n",
    "# Path to save CSV file containing the feature statistics\n",
    "output_csv_path = \"../src/data/OLS_data/feature_stats_post_2010.csv\"\n",
    "\n",
    "# Train the model\n",
    "ols_model = train_ols_model(df_2010_and_after, target_column, drop_columns)\n",
    "\n",
    "# Extract feature statistics and save to CSV\n",
    "feature_stats_post_2010 = extract_feature_statistics(ols_model, output_csv_path)\n",
    "\n",
    "# Displaying the model summary\n",
    "print(ols_model.summary())"
   ]
  },
  {
   "cell_type": "markdown",
   "metadata": {},
   "source": [
    "## Comparing the statistically significant coefficients"
   ]
  },
  {
   "cell_type": "markdown",
   "metadata": {},
   "source": [
    "### Filtering significant features"
   ]
  },
  {
   "cell_type": "code",
   "execution_count": 156,
   "metadata": {},
   "outputs": [
    {
     "data": {
      "text/html": [
       "<div>\n",
       "<style scoped>\n",
       "    .dataframe tbody tr th:only-of-type {\n",
       "        vertical-align: middle;\n",
       "    }\n",
       "\n",
       "    .dataframe tbody tr th {\n",
       "        vertical-align: top;\n",
       "    }\n",
       "\n",
       "    .dataframe thead th {\n",
       "        text-align: right;\n",
       "    }\n",
       "</style>\n",
       "<table border=\"1\" class=\"dataframe\">\n",
       "  <thead>\n",
       "    <tr style=\"text-align: right;\">\n",
       "      <th></th>\n",
       "      <th>Feature</th>\n",
       "      <th>Coefficient</th>\n",
       "      <th>Std_Error</th>\n",
       "      <th>t_value</th>\n",
       "      <th>p_value</th>\n",
       "    </tr>\n",
       "  </thead>\n",
       "  <tbody>\n",
       "    <tr>\n",
       "      <th>0</th>\n",
       "      <td>const</td>\n",
       "      <td>0.054742</td>\n",
       "      <td>0.090505</td>\n",
       "      <td>0.604854</td>\n",
       "      <td>5.453278e-01</td>\n",
       "    </tr>\n",
       "    <tr>\n",
       "      <th>1</th>\n",
       "      <td>Budget(USD)_Inflated</td>\n",
       "      <td>0.231861</td>\n",
       "      <td>0.025869</td>\n",
       "      <td>8.962917</td>\n",
       "      <td>5.839609e-19</td>\n",
       "    </tr>\n",
       "    <tr>\n",
       "      <th>2</th>\n",
       "      <td>Runtime(mins)</td>\n",
       "      <td>0.061409</td>\n",
       "      <td>0.023714</td>\n",
       "      <td>2.589517</td>\n",
       "      <td>9.663843e-03</td>\n",
       "    </tr>\n",
       "    <tr>\n",
       "      <th>3</th>\n",
       "      <td>Audience_Score</td>\n",
       "      <td>-0.156608</td>\n",
       "      <td>0.025031</td>\n",
       "      <td>-6.256467</td>\n",
       "      <td>4.579128e-10</td>\n",
       "    </tr>\n",
       "    <tr>\n",
       "      <th>4</th>\n",
       "      <td>Critics_Score</td>\n",
       "      <td>0.116545</td>\n",
       "      <td>0.024561</td>\n",
       "      <td>4.745215</td>\n",
       "      <td>2.193754e-06</td>\n",
       "    </tr>\n",
       "  </tbody>\n",
       "</table>\n",
       "</div>"
      ],
      "text/plain": [
       "                Feature  Coefficient  Std_Error   t_value       p_value\n",
       "0                 const     0.054742   0.090505  0.604854  5.453278e-01\n",
       "1  Budget(USD)_Inflated     0.231861   0.025869  8.962917  5.839609e-19\n",
       "2         Runtime(mins)     0.061409   0.023714  2.589517  9.663843e-03\n",
       "3        Audience_Score    -0.156608   0.025031 -6.256467  4.579128e-10\n",
       "4         Critics_Score     0.116545   0.024561  4.745215  2.193754e-06"
      ]
     },
     "execution_count": 156,
     "metadata": {},
     "output_type": "execute_result"
    }
   ],
   "source": [
    "feature_stats_Foreign.head(5)"
   ]
  },
  {
   "cell_type": "markdown",
   "metadata": {},
   "source": [
    "Defining funciton that removes all the features with a P-value > 0.05"
   ]
  },
  {
   "cell_type": "code",
   "execution_count": 157,
   "metadata": {},
   "outputs": [],
   "source": [
    "def filter_significant_features(feature_stats, p_value_threshold=0.05):\n",
    "\n",
    "    # Filter the DataFrame based on the p-value threshold\n",
    "    significant_features = feature_stats[feature_stats[\"p_value\"] <= p_value_threshold]\n",
    "    \n",
    "    return significant_features"
   ]
  },
  {
   "cell_type": "code",
   "execution_count": 158,
   "metadata": {},
   "outputs": [],
   "source": [
    "feature_stats_Foreign  = filter_significant_features(feature_stats_Foreign)\n",
    "feature_stats_pre_2010 = filter_significant_features(feature_stats_pre_2010)\n",
    "feature_stats_post_2010 = filter_significant_features(feature_stats_post_2010)\n"
   ]
  },
  {
   "cell_type": "markdown",
   "metadata": {},
   "source": [
    "Renaming the statisticaly significant features for plotting:"
   ]
  },
  {
   "cell_type": "code",
   "execution_count": 159,
   "metadata": {},
   "outputs": [
    {
     "data": {
      "text/plain": [
       "['Budget(USD)_Inflated',\n",
       " 'Runtime(mins)',\n",
       " 'Audience_Score',\n",
       " 'Critics_Score',\n",
       " 'comedy',\n",
       " 'thriller',\n",
       " 'action',\n",
       " 'adventure',\n",
       " 'romance film',\n",
       " 'mystery',\n",
       " 'animation',\n",
       " 'teen',\n",
       " 'sports',\n",
       " 'Rating_pg',\n",
       " 'Rating_pg-13',\n",
       " 'Month_Dec',\n",
       " 'Month_Nov',\n",
       " 'emotion_surprise']"
      ]
     },
     "execution_count": 159,
     "metadata": {},
     "output_type": "execute_result"
    }
   ],
   "source": [
    "extracted_feature_names = feature_stats_Foreign[\"Feature\"].tolist()\n",
    "extracted_feature_names"
   ]
  },
  {
   "cell_type": "code",
   "execution_count": 160,
   "metadata": {},
   "outputs": [],
   "source": [
    "def clean_feature_names(dataframe):\n",
    "\n",
    "    mapping = {\n",
    "    'animation':'Animation',\n",
    "    'Budget(USD)_Inflated': 'Budget (USD) Inflated',\n",
    "    'Runtime(mins)': 'Runtime (Minutes)',\n",
    "    'Audience_Score': 'Audience Score',\n",
    "    'Critics_Score': 'Critics Score',\n",
    "    'drama': 'Drama',\n",
    "    'comedy': 'Comedy',\n",
    "    'thriller': 'Thriller',\n",
    "    'action': 'Action',\n",
    "    'adventure': 'Adventure',\n",
    "    'romance film': 'Romance Film',\n",
    "    'horror': 'Horror',\n",
    "    'fantasy': 'Fantasy',\n",
    "    'mystery': 'Mystery',\n",
    "    'crime': 'Crime',\n",
    "    'indie': 'Indie',\n",
    "    'biography': 'Biography',\n",
    "    'family': 'Family',\n",
    "    'sci-fi': 'Sci-Fi',\n",
    "    'period piece': 'Period Piece',\n",
    "    'animation': 'Animation',\n",
    "    'teen': 'Teen',\n",
    "    'film adaptation': 'Film Adaptation',\n",
    "    'musical': 'Musical',\n",
    "    'history': 'History',\n",
    "    'coming of age': 'Coming Of Age',\n",
    "    'sports': 'Sports',\n",
    "    'war': 'War',\n",
    "    'Month_Dec':'Month: December',\n",
    "    'Month_Nov':'Month: November',\n",
    "    'Month_Oct':'Month: October',\n",
    "    'Rating_pg-13': 'Rating: PG 13',\n",
    "    'Rating_pg': 'Rating: PG',\n",
    "    'emotion_surprise': 'Emotion: Surprise',\n",
    "    'emotion_disgust': 'Emotion: Disgust'\n",
    "}\n",
    "\n",
    "    dataframe[\"Feature\"] = dataframe[\"Feature\"].replace(mapping)\n",
    "    return dataframe\n"
   ]
  },
  {
   "cell_type": "code",
   "execution_count": 161,
   "metadata": {},
   "outputs": [],
   "source": [
    "feature_stats_Foreign = clean_feature_names(feature_stats_Foreign)\n",
    "feature_stats_pre_2010 = clean_feature_names(feature_stats_pre_2010)\n",
    "feature_stats_post_2010 = clean_feature_names(feature_stats_post_2010)\n",
    "\n",
    "feature_stats_Foreign.to_csv(\"../src/data/OLS_data/feature_stats_Foreign.csv\", index=False)\n",
    "feature_stats_pre_2010.to_csv(\"../src/data/OLS_data/feature_stats_pre_2010.csv\", index=False)\n",
    "feature_stats_post_2010.to_csv(\"../src/data/OLS_data/feature_stats_post_2010.csv\", index=False)"
   ]
  },
  {
   "cell_type": "markdown",
   "metadata": {},
   "source": [
    "### Plotting the coeffecients for the statistically significant features"
   ]
  },
  {
   "cell_type": "code",
   "execution_count": 162,
   "metadata": {},
   "outputs": [],
   "source": [
    "def plot_feature_coefficients(dataframe, title, output_path = None):\n",
    "    \"\"\"\n",
    "    Plots a bar chart for feature coefficients.\n",
    "\n",
    "    Parameters:\n",
    "        dataframe (pd.DataFrame): DataFrame containing the feature statistics to plot.\n",
    "        title (str): Title of the bar chart.\n",
    "        Optional: output_path (str): Path to save the HTML file. If None, the plot is not saved.\n",
    "\n",
    "    Returns:\n",
    "        fig: The Plotly bar chart figure.\n",
    "    \"\"\"\n",
    "    # Aranges the features in descending order base on their coeffecients\n",
    "    dataframe_sorted = dataframe.sort_values(by=\"Coefficient\", ascending=False)\n",
    "\n",
    "    # Create the bar plot\n",
    "    fig = px.bar(\n",
    "        dataframe_sorted,\n",
    "        x='Feature',\n",
    "        y='Coefficient',\n",
    "        hover_data=['Std_Error', 't_value', 'p_value'],\n",
    "        color='Coefficient',\n",
    "        labels={'Feature': 'Feature Names', 'Coefficient': 'Coefficient Value'},\n",
    "        title=title,\n",
    "        height=400\n",
    "    )\n",
    "\n",
    "    # Centering the title and changing the font\n",
    "\n",
    "    fig.update_layout(\n",
    "        title={\n",
    "            'text': title,\n",
    "            'y': 0.95,  # Vertical alignment of the title\n",
    "            'x': 0.5,   # Horizontal alignment of the title\n",
    "            'xanchor': 'center',\n",
    "            'yanchor': 'top'\n",
    "        },\n",
    "        title_font=dict(\n",
    "            size=20,\n",
    "            color=\"black\"    \n",
    "        )\n",
    "    )\n",
    "\n",
    "    # Save the plot as html file if output_path provided\n",
    "    if output_path:\n",
    "        fig.write_html(output_path)\n",
    "        print(f\"Plot saved to {output_path}\")\n",
    "    else:\n",
    "        print(\"Plot not saved.\")\n",
    "\n",
    "    return fig"
   ]
  },
  {
   "cell_type": "code",
   "execution_count": 163,
   "metadata": {},
   "outputs": [
    {
     "name": "stdout",
     "output_type": "stream",
     "text": [
      "Plot saved to ../_includes/OLS_features_all_years.html\n"
     ]
    },
    {
     "data": {
      "application/vnd.plotly.v1+json": {
       "config": {
        "plotlyServerURL": "https://plot.ly"
       },
       "data": [
        {
         "alignmentgroup": "True",
         "customdata": [
          [
           0.10188814976366567,
           5.464204468247469,
           5.0840591781447064e-8
          ],
          [
           0.08429828415383867,
           4.02787909918303,
           0.000057869062630945695
          ],
          [
           0.08372374390193779,
           2.998280004073586,
           0.0027403948401089912
          ],
          [
           0.025868919270982053,
           8.962916716431902,
           5.839608772927505e-19
          ],
          [
           0.062159127086811844,
           2.7000374727706578,
           0.006977369913003208
          ],
          [
           0.04937075001546312,
           2.5034919472620363,
           0.012357332686928948
          ],
          [
           0.02456055943885848,
           4.745215493990869,
           0.0000021937543270444003
          ],
          [
           0.04789980359118632,
           2.2635567258207905,
           0.023682184340722418
          ],
          [
           0.05251666037459572,
           2.037620807106003,
           0.041687308806699366
          ],
          [
           0.05310072777677198,
           1.9859193520613434,
           0.047145471838061837
          ],
          [
           0.02371439408323344,
           2.5895166911493837,
           0.009663843238957918
          ],
          [
           0.04131221658503893,
           -3.7419945677961515,
           0.000186453239728706
          ],
          [
           0.025031428508939253,
           -6.256466886010784,
           4.579127767539681e-10
          ],
          [
           0.0902028656691741,
           -1.997315722852231,
           0.0458932843893051
          ],
          [
           0.04320652077761165,
           -6.186486758929574,
           7.10763842114595e-10
          ],
          [
           0.0745817526733871,
           -3.6180069425788743,
           0.0003024462121453435
          ],
          [
           0.11032787383031444,
           -2.660790097114919,
           0.00784291357917129
          ],
          [
           0.09010863651052443,
           -6.34792970976939,
           2.559938935436124e-10
          ]
         ],
         "hovertemplate": "Feature Names=%{x}<br>Coefficient Value=%{marker.color}<br>Std_Error=%{customdata[0]}<br>t_value=%{customdata[1]}<br>p_value=%{customdata[2]}<extra></extra>",
         "legendgroup": "",
         "marker": {
          "color": [
           0.5567376832000892,
           0.33954329684023876,
           0.25102722720735793,
           0.23186096896991243,
           0.16783197240910558,
           0.12359927509399898,
           0.11654514719035494,
           0.10842392258432465,
           0.10700903989899559,
           0.10545376290043279,
           0.06140881929902718,
           -0.15459009004483376,
           -0.15660830357572475,
           -0.18016360184736915,
           -0.26729656869011,
           -0.269837298962015,
           -0.2935593141234449,
           -0.5720032908119688
          ],
          "coloraxis": "coloraxis",
          "pattern": {
           "shape": ""
          }
         },
         "name": "",
         "offsetgroup": "",
         "orientation": "v",
         "showlegend": false,
         "textposition": "auto",
         "type": "bar",
         "x": [
          "Animation",
          "Month: December",
          "Month: November",
          "Budget (USD) Inflated",
          "Mystery",
          "Thriller",
          "Critics Score",
          "Romance Film",
          "Action",
          "Adventure",
          "Runtime (Minutes)",
          "Rating: PG 13",
          "Audience Score",
          "Teen",
          "Comedy",
          "Rating: PG",
          "Emotion: Surprise",
          "Sports"
         ],
         "xaxis": "x",
         "y": [
          0.5567376832000892,
          0.33954329684023876,
          0.25102722720735793,
          0.23186096896991243,
          0.16783197240910558,
          0.12359927509399898,
          0.11654514719035494,
          0.10842392258432465,
          0.10700903989899559,
          0.10545376290043279,
          0.06140881929902718,
          -0.15459009004483376,
          -0.15660830357572475,
          -0.18016360184736915,
          -0.26729656869011,
          -0.269837298962015,
          -0.2935593141234449,
          -0.5720032908119688
         ],
         "yaxis": "y"
        }
       ],
       "layout": {
        "barmode": "relative",
        "coloraxis": {
         "colorbar": {
          "title": {
           "text": "Coefficient Value"
          }
         },
         "colorscale": [
          [
           0,
           "#0d0887"
          ],
          [
           0.1111111111111111,
           "#46039f"
          ],
          [
           0.2222222222222222,
           "#7201a8"
          ],
          [
           0.3333333333333333,
           "#9c179e"
          ],
          [
           0.4444444444444444,
           "#bd3786"
          ],
          [
           0.5555555555555556,
           "#d8576b"
          ],
          [
           0.6666666666666666,
           "#ed7953"
          ],
          [
           0.7777777777777778,
           "#fb9f3a"
          ],
          [
           0.8888888888888888,
           "#fdca26"
          ],
          [
           1,
           "#f0f921"
          ]
         ]
        },
        "height": 400,
        "legend": {
         "tracegroupgap": 0
        },
        "template": {
         "data": {
          "bar": [
           {
            "error_x": {
             "color": "#2a3f5f"
            },
            "error_y": {
             "color": "#2a3f5f"
            },
            "marker": {
             "line": {
              "color": "#E5ECF6",
              "width": 0.5
             },
             "pattern": {
              "fillmode": "overlay",
              "size": 10,
              "solidity": 0.2
             }
            },
            "type": "bar"
           }
          ],
          "barpolar": [
           {
            "marker": {
             "line": {
              "color": "#E5ECF6",
              "width": 0.5
             },
             "pattern": {
              "fillmode": "overlay",
              "size": 10,
              "solidity": 0.2
             }
            },
            "type": "barpolar"
           }
          ],
          "carpet": [
           {
            "aaxis": {
             "endlinecolor": "#2a3f5f",
             "gridcolor": "white",
             "linecolor": "white",
             "minorgridcolor": "white",
             "startlinecolor": "#2a3f5f"
            },
            "baxis": {
             "endlinecolor": "#2a3f5f",
             "gridcolor": "white",
             "linecolor": "white",
             "minorgridcolor": "white",
             "startlinecolor": "#2a3f5f"
            },
            "type": "carpet"
           }
          ],
          "choropleth": [
           {
            "colorbar": {
             "outlinewidth": 0,
             "ticks": ""
            },
            "type": "choropleth"
           }
          ],
          "contour": [
           {
            "colorbar": {
             "outlinewidth": 0,
             "ticks": ""
            },
            "colorscale": [
             [
              0,
              "#0d0887"
             ],
             [
              0.1111111111111111,
              "#46039f"
             ],
             [
              0.2222222222222222,
              "#7201a8"
             ],
             [
              0.3333333333333333,
              "#9c179e"
             ],
             [
              0.4444444444444444,
              "#bd3786"
             ],
             [
              0.5555555555555556,
              "#d8576b"
             ],
             [
              0.6666666666666666,
              "#ed7953"
             ],
             [
              0.7777777777777778,
              "#fb9f3a"
             ],
             [
              0.8888888888888888,
              "#fdca26"
             ],
             [
              1,
              "#f0f921"
             ]
            ],
            "type": "contour"
           }
          ],
          "contourcarpet": [
           {
            "colorbar": {
             "outlinewidth": 0,
             "ticks": ""
            },
            "type": "contourcarpet"
           }
          ],
          "heatmap": [
           {
            "colorbar": {
             "outlinewidth": 0,
             "ticks": ""
            },
            "colorscale": [
             [
              0,
              "#0d0887"
             ],
             [
              0.1111111111111111,
              "#46039f"
             ],
             [
              0.2222222222222222,
              "#7201a8"
             ],
             [
              0.3333333333333333,
              "#9c179e"
             ],
             [
              0.4444444444444444,
              "#bd3786"
             ],
             [
              0.5555555555555556,
              "#d8576b"
             ],
             [
              0.6666666666666666,
              "#ed7953"
             ],
             [
              0.7777777777777778,
              "#fb9f3a"
             ],
             [
              0.8888888888888888,
              "#fdca26"
             ],
             [
              1,
              "#f0f921"
             ]
            ],
            "type": "heatmap"
           }
          ],
          "heatmapgl": [
           {
            "colorbar": {
             "outlinewidth": 0,
             "ticks": ""
            },
            "colorscale": [
             [
              0,
              "#0d0887"
             ],
             [
              0.1111111111111111,
              "#46039f"
             ],
             [
              0.2222222222222222,
              "#7201a8"
             ],
             [
              0.3333333333333333,
              "#9c179e"
             ],
             [
              0.4444444444444444,
              "#bd3786"
             ],
             [
              0.5555555555555556,
              "#d8576b"
             ],
             [
              0.6666666666666666,
              "#ed7953"
             ],
             [
              0.7777777777777778,
              "#fb9f3a"
             ],
             [
              0.8888888888888888,
              "#fdca26"
             ],
             [
              1,
              "#f0f921"
             ]
            ],
            "type": "heatmapgl"
           }
          ],
          "histogram": [
           {
            "marker": {
             "pattern": {
              "fillmode": "overlay",
              "size": 10,
              "solidity": 0.2
             }
            },
            "type": "histogram"
           }
          ],
          "histogram2d": [
           {
            "colorbar": {
             "outlinewidth": 0,
             "ticks": ""
            },
            "colorscale": [
             [
              0,
              "#0d0887"
             ],
             [
              0.1111111111111111,
              "#46039f"
             ],
             [
              0.2222222222222222,
              "#7201a8"
             ],
             [
              0.3333333333333333,
              "#9c179e"
             ],
             [
              0.4444444444444444,
              "#bd3786"
             ],
             [
              0.5555555555555556,
              "#d8576b"
             ],
             [
              0.6666666666666666,
              "#ed7953"
             ],
             [
              0.7777777777777778,
              "#fb9f3a"
             ],
             [
              0.8888888888888888,
              "#fdca26"
             ],
             [
              1,
              "#f0f921"
             ]
            ],
            "type": "histogram2d"
           }
          ],
          "histogram2dcontour": [
           {
            "colorbar": {
             "outlinewidth": 0,
             "ticks": ""
            },
            "colorscale": [
             [
              0,
              "#0d0887"
             ],
             [
              0.1111111111111111,
              "#46039f"
             ],
             [
              0.2222222222222222,
              "#7201a8"
             ],
             [
              0.3333333333333333,
              "#9c179e"
             ],
             [
              0.4444444444444444,
              "#bd3786"
             ],
             [
              0.5555555555555556,
              "#d8576b"
             ],
             [
              0.6666666666666666,
              "#ed7953"
             ],
             [
              0.7777777777777778,
              "#fb9f3a"
             ],
             [
              0.8888888888888888,
              "#fdca26"
             ],
             [
              1,
              "#f0f921"
             ]
            ],
            "type": "histogram2dcontour"
           }
          ],
          "mesh3d": [
           {
            "colorbar": {
             "outlinewidth": 0,
             "ticks": ""
            },
            "type": "mesh3d"
           }
          ],
          "parcoords": [
           {
            "line": {
             "colorbar": {
              "outlinewidth": 0,
              "ticks": ""
             }
            },
            "type": "parcoords"
           }
          ],
          "pie": [
           {
            "automargin": true,
            "type": "pie"
           }
          ],
          "scatter": [
           {
            "fillpattern": {
             "fillmode": "overlay",
             "size": 10,
             "solidity": 0.2
            },
            "type": "scatter"
           }
          ],
          "scatter3d": [
           {
            "line": {
             "colorbar": {
              "outlinewidth": 0,
              "ticks": ""
             }
            },
            "marker": {
             "colorbar": {
              "outlinewidth": 0,
              "ticks": ""
             }
            },
            "type": "scatter3d"
           }
          ],
          "scattercarpet": [
           {
            "marker": {
             "colorbar": {
              "outlinewidth": 0,
              "ticks": ""
             }
            },
            "type": "scattercarpet"
           }
          ],
          "scattergeo": [
           {
            "marker": {
             "colorbar": {
              "outlinewidth": 0,
              "ticks": ""
             }
            },
            "type": "scattergeo"
           }
          ],
          "scattergl": [
           {
            "marker": {
             "colorbar": {
              "outlinewidth": 0,
              "ticks": ""
             }
            },
            "type": "scattergl"
           }
          ],
          "scattermapbox": [
           {
            "marker": {
             "colorbar": {
              "outlinewidth": 0,
              "ticks": ""
             }
            },
            "type": "scattermapbox"
           }
          ],
          "scatterpolar": [
           {
            "marker": {
             "colorbar": {
              "outlinewidth": 0,
              "ticks": ""
             }
            },
            "type": "scatterpolar"
           }
          ],
          "scatterpolargl": [
           {
            "marker": {
             "colorbar": {
              "outlinewidth": 0,
              "ticks": ""
             }
            },
            "type": "scatterpolargl"
           }
          ],
          "scatterternary": [
           {
            "marker": {
             "colorbar": {
              "outlinewidth": 0,
              "ticks": ""
             }
            },
            "type": "scatterternary"
           }
          ],
          "surface": [
           {
            "colorbar": {
             "outlinewidth": 0,
             "ticks": ""
            },
            "colorscale": [
             [
              0,
              "#0d0887"
             ],
             [
              0.1111111111111111,
              "#46039f"
             ],
             [
              0.2222222222222222,
              "#7201a8"
             ],
             [
              0.3333333333333333,
              "#9c179e"
             ],
             [
              0.4444444444444444,
              "#bd3786"
             ],
             [
              0.5555555555555556,
              "#d8576b"
             ],
             [
              0.6666666666666666,
              "#ed7953"
             ],
             [
              0.7777777777777778,
              "#fb9f3a"
             ],
             [
              0.8888888888888888,
              "#fdca26"
             ],
             [
              1,
              "#f0f921"
             ]
            ],
            "type": "surface"
           }
          ],
          "table": [
           {
            "cells": {
             "fill": {
              "color": "#EBF0F8"
             },
             "line": {
              "color": "white"
             }
            },
            "header": {
             "fill": {
              "color": "#C8D4E3"
             },
             "line": {
              "color": "white"
             }
            },
            "type": "table"
           }
          ]
         },
         "layout": {
          "annotationdefaults": {
           "arrowcolor": "#2a3f5f",
           "arrowhead": 0,
           "arrowwidth": 1
          },
          "autotypenumbers": "strict",
          "coloraxis": {
           "colorbar": {
            "outlinewidth": 0,
            "ticks": ""
           }
          },
          "colorscale": {
           "diverging": [
            [
             0,
             "#8e0152"
            ],
            [
             0.1,
             "#c51b7d"
            ],
            [
             0.2,
             "#de77ae"
            ],
            [
             0.3,
             "#f1b6da"
            ],
            [
             0.4,
             "#fde0ef"
            ],
            [
             0.5,
             "#f7f7f7"
            ],
            [
             0.6,
             "#e6f5d0"
            ],
            [
             0.7,
             "#b8e186"
            ],
            [
             0.8,
             "#7fbc41"
            ],
            [
             0.9,
             "#4d9221"
            ],
            [
             1,
             "#276419"
            ]
           ],
           "sequential": [
            [
             0,
             "#0d0887"
            ],
            [
             0.1111111111111111,
             "#46039f"
            ],
            [
             0.2222222222222222,
             "#7201a8"
            ],
            [
             0.3333333333333333,
             "#9c179e"
            ],
            [
             0.4444444444444444,
             "#bd3786"
            ],
            [
             0.5555555555555556,
             "#d8576b"
            ],
            [
             0.6666666666666666,
             "#ed7953"
            ],
            [
             0.7777777777777778,
             "#fb9f3a"
            ],
            [
             0.8888888888888888,
             "#fdca26"
            ],
            [
             1,
             "#f0f921"
            ]
           ],
           "sequentialminus": [
            [
             0,
             "#0d0887"
            ],
            [
             0.1111111111111111,
             "#46039f"
            ],
            [
             0.2222222222222222,
             "#7201a8"
            ],
            [
             0.3333333333333333,
             "#9c179e"
            ],
            [
             0.4444444444444444,
             "#bd3786"
            ],
            [
             0.5555555555555556,
             "#d8576b"
            ],
            [
             0.6666666666666666,
             "#ed7953"
            ],
            [
             0.7777777777777778,
             "#fb9f3a"
            ],
            [
             0.8888888888888888,
             "#fdca26"
            ],
            [
             1,
             "#f0f921"
            ]
           ]
          },
          "colorway": [
           "#636efa",
           "#EF553B",
           "#00cc96",
           "#ab63fa",
           "#FFA15A",
           "#19d3f3",
           "#FF6692",
           "#B6E880",
           "#FF97FF",
           "#FECB52"
          ],
          "font": {
           "color": "#2a3f5f"
          },
          "geo": {
           "bgcolor": "white",
           "lakecolor": "white",
           "landcolor": "#E5ECF6",
           "showlakes": true,
           "showland": true,
           "subunitcolor": "white"
          },
          "hoverlabel": {
           "align": "left"
          },
          "hovermode": "closest",
          "mapbox": {
           "style": "light"
          },
          "paper_bgcolor": "white",
          "plot_bgcolor": "#E5ECF6",
          "polar": {
           "angularaxis": {
            "gridcolor": "white",
            "linecolor": "white",
            "ticks": ""
           },
           "bgcolor": "#E5ECF6",
           "radialaxis": {
            "gridcolor": "white",
            "linecolor": "white",
            "ticks": ""
           }
          },
          "scene": {
           "xaxis": {
            "backgroundcolor": "#E5ECF6",
            "gridcolor": "white",
            "gridwidth": 2,
            "linecolor": "white",
            "showbackground": true,
            "ticks": "",
            "zerolinecolor": "white"
           },
           "yaxis": {
            "backgroundcolor": "#E5ECF6",
            "gridcolor": "white",
            "gridwidth": 2,
            "linecolor": "white",
            "showbackground": true,
            "ticks": "",
            "zerolinecolor": "white"
           },
           "zaxis": {
            "backgroundcolor": "#E5ECF6",
            "gridcolor": "white",
            "gridwidth": 2,
            "linecolor": "white",
            "showbackground": true,
            "ticks": "",
            "zerolinecolor": "white"
           }
          },
          "shapedefaults": {
           "line": {
            "color": "#2a3f5f"
           }
          },
          "ternary": {
           "aaxis": {
            "gridcolor": "white",
            "linecolor": "white",
            "ticks": ""
           },
           "baxis": {
            "gridcolor": "white",
            "linecolor": "white",
            "ticks": ""
           },
           "bgcolor": "#E5ECF6",
           "caxis": {
            "gridcolor": "white",
            "linecolor": "white",
            "ticks": ""
           }
          },
          "title": {
           "x": 0.05
          },
          "xaxis": {
           "automargin": true,
           "gridcolor": "white",
           "linecolor": "white",
           "ticks": "",
           "title": {
            "standoff": 15
           },
           "zerolinecolor": "white",
           "zerolinewidth": 2
          },
          "yaxis": {
           "automargin": true,
           "gridcolor": "white",
           "linecolor": "white",
           "ticks": "",
           "title": {
            "standoff": 15
           },
           "zerolinecolor": "white",
           "zerolinewidth": 2
          }
         }
        },
        "title": {
         "font": {
          "color": "black",
          "size": 20
         },
         "text": "OLS Coeffecients 2000-2019",
         "x": 0.5,
         "xanchor": "center",
         "y": 0.95,
         "yanchor": "top"
        },
        "xaxis": {
         "anchor": "y",
         "domain": [
          0,
          1
         ],
         "title": {
          "text": "Feature Names"
         }
        },
        "yaxis": {
         "anchor": "x",
         "domain": [
          0,
          1
         ],
         "title": {
          "text": "Coefficient Value"
         }
        }
       }
      }
     },
     "metadata": {},
     "output_type": "display_data"
    }
   ],
   "source": [
    "plot_feature_coefficients(feature_stats_Foreign, \"OLS Coeffecients 2000-2019\", \"../_includes/OLS_features_all_years.html\")\n"
   ]
  },
  {
   "cell_type": "code",
   "execution_count": 164,
   "metadata": {},
   "outputs": [
    {
     "name": "stdout",
     "output_type": "stream",
     "text": [
      "Plot saved to ../_includes/OLS_features_pre_2010.html\n"
     ]
    },
    {
     "data": {
      "application/vnd.plotly.v1+json": {
       "config": {
        "plotlyServerURL": "https://plot.ly"
       },
       "data": [
        {
         "alignmentgroup": "True",
         "customdata": [
          [
           0.1438868697332663,
           2.7762578624218786,
           0.005585441536461097
          ],
          [
           0.11596425872613109,
           2.7479883089940778,
           0.006087197308790197
          ],
          [
           0.12847865063832278,
           2.4417268389883566,
           0.014762657815843695
          ],
          [
           0.03812554402318381,
           5.5240581221195395,
           4.069072111119059e-8
          ],
          [
           0.08571884132572531,
           2.2421220007671705,
           0.025137884564485936
          ],
          [
           0.09282092530945035,
           2.0513223324486995,
           0.040455020333933424
          ],
          [
           0.06292464262261363,
           2.9427504198223264,
           0.0033164350168629754
          ],
          [
           0.07216909301417226,
           2.0129356755304535,
           0.04434722135959659
          ],
          [
           0.03425192613902921,
           4.131732818667513,
           0.000038533740118154147
          ],
          [
           0.03469440178680669,
           -2.215464866877123,
           0.026917702479531517
          ],
          [
           0.059507021585413836,
           -3.496281455229021,
           0.0004892391843337399
          ],
          [
           0.05977465811048137,
           -3.708880465257769,
           0.00021781483968673248
          ],
          [
           0.09722021290936772,
           -3.20696072468091,
           0.001377328722704635
          ],
          [
           0.10630852189278149,
           -4.552281096795277,
           0.000005853580841311104
          ]
         ],
         "hovertemplate": "Feature Names=%{x}<br>Coefficient Value=%{marker.color}<br>Std_Error=%{customdata[0]}<br>t_value=%{customdata[1]}<br>p_value=%{customdata[2]}<extra></extra>",
         "legendgroup": "",
         "marker": {
          "color": [
           0.3994670533962532,
           0.3186684272405727,
           0.3137097695006013,
           0.21060772112149462,
           0.19219210001667886,
           0.19040563700582824,
           0.18517151849486613,
           0.14527174199890297,
           0.1415198073312026,
           -0.0768642282359891,
           -0.20805329602499545,
           -0.2216970617834262,
           -0.31178140444545827,
           -0.48394627464075607
          ],
          "coloraxis": "coloraxis",
          "pattern": {
           "shape": ""
          }
         },
         "name": "",
         "offsetgroup": "",
         "orientation": "v",
         "showlegend": false,
         "textposition": "auto",
         "type": "bar",
         "x": [
          "Animation",
          "Month: December",
          "War",
          "Budget (USD) Inflated",
          "Fantasy",
          "Mystery",
          "Romance Film",
          "Thriller",
          "Critics Score",
          "Audience Score",
          "Rating: PG 13",
          "Comedy",
          "Rating: PG",
          "Sports"
         ],
         "xaxis": "x",
         "y": [
          0.3994670533962532,
          0.3186684272405727,
          0.3137097695006013,
          0.21060772112149462,
          0.19219210001667886,
          0.19040563700582824,
          0.18517151849486613,
          0.14527174199890297,
          0.1415198073312026,
          -0.0768642282359891,
          -0.20805329602499545,
          -0.2216970617834262,
          -0.31178140444545827,
          -0.48394627464075607
         ],
         "yaxis": "y"
        }
       ],
       "layout": {
        "barmode": "relative",
        "coloraxis": {
         "colorbar": {
          "title": {
           "text": "Coefficient Value"
          }
         },
         "colorscale": [
          [
           0,
           "#0d0887"
          ],
          [
           0.1111111111111111,
           "#46039f"
          ],
          [
           0.2222222222222222,
           "#7201a8"
          ],
          [
           0.3333333333333333,
           "#9c179e"
          ],
          [
           0.4444444444444444,
           "#bd3786"
          ],
          [
           0.5555555555555556,
           "#d8576b"
          ],
          [
           0.6666666666666666,
           "#ed7953"
          ],
          [
           0.7777777777777778,
           "#fb9f3a"
          ],
          [
           0.8888888888888888,
           "#fdca26"
          ],
          [
           1,
           "#f0f921"
          ]
         ]
        },
        "height": 400,
        "legend": {
         "tracegroupgap": 0
        },
        "template": {
         "data": {
          "bar": [
           {
            "error_x": {
             "color": "#2a3f5f"
            },
            "error_y": {
             "color": "#2a3f5f"
            },
            "marker": {
             "line": {
              "color": "#E5ECF6",
              "width": 0.5
             },
             "pattern": {
              "fillmode": "overlay",
              "size": 10,
              "solidity": 0.2
             }
            },
            "type": "bar"
           }
          ],
          "barpolar": [
           {
            "marker": {
             "line": {
              "color": "#E5ECF6",
              "width": 0.5
             },
             "pattern": {
              "fillmode": "overlay",
              "size": 10,
              "solidity": 0.2
             }
            },
            "type": "barpolar"
           }
          ],
          "carpet": [
           {
            "aaxis": {
             "endlinecolor": "#2a3f5f",
             "gridcolor": "white",
             "linecolor": "white",
             "minorgridcolor": "white",
             "startlinecolor": "#2a3f5f"
            },
            "baxis": {
             "endlinecolor": "#2a3f5f",
             "gridcolor": "white",
             "linecolor": "white",
             "minorgridcolor": "white",
             "startlinecolor": "#2a3f5f"
            },
            "type": "carpet"
           }
          ],
          "choropleth": [
           {
            "colorbar": {
             "outlinewidth": 0,
             "ticks": ""
            },
            "type": "choropleth"
           }
          ],
          "contour": [
           {
            "colorbar": {
             "outlinewidth": 0,
             "ticks": ""
            },
            "colorscale": [
             [
              0,
              "#0d0887"
             ],
             [
              0.1111111111111111,
              "#46039f"
             ],
             [
              0.2222222222222222,
              "#7201a8"
             ],
             [
              0.3333333333333333,
              "#9c179e"
             ],
             [
              0.4444444444444444,
              "#bd3786"
             ],
             [
              0.5555555555555556,
              "#d8576b"
             ],
             [
              0.6666666666666666,
              "#ed7953"
             ],
             [
              0.7777777777777778,
              "#fb9f3a"
             ],
             [
              0.8888888888888888,
              "#fdca26"
             ],
             [
              1,
              "#f0f921"
             ]
            ],
            "type": "contour"
           }
          ],
          "contourcarpet": [
           {
            "colorbar": {
             "outlinewidth": 0,
             "ticks": ""
            },
            "type": "contourcarpet"
           }
          ],
          "heatmap": [
           {
            "colorbar": {
             "outlinewidth": 0,
             "ticks": ""
            },
            "colorscale": [
             [
              0,
              "#0d0887"
             ],
             [
              0.1111111111111111,
              "#46039f"
             ],
             [
              0.2222222222222222,
              "#7201a8"
             ],
             [
              0.3333333333333333,
              "#9c179e"
             ],
             [
              0.4444444444444444,
              "#bd3786"
             ],
             [
              0.5555555555555556,
              "#d8576b"
             ],
             [
              0.6666666666666666,
              "#ed7953"
             ],
             [
              0.7777777777777778,
              "#fb9f3a"
             ],
             [
              0.8888888888888888,
              "#fdca26"
             ],
             [
              1,
              "#f0f921"
             ]
            ],
            "type": "heatmap"
           }
          ],
          "heatmapgl": [
           {
            "colorbar": {
             "outlinewidth": 0,
             "ticks": ""
            },
            "colorscale": [
             [
              0,
              "#0d0887"
             ],
             [
              0.1111111111111111,
              "#46039f"
             ],
             [
              0.2222222222222222,
              "#7201a8"
             ],
             [
              0.3333333333333333,
              "#9c179e"
             ],
             [
              0.4444444444444444,
              "#bd3786"
             ],
             [
              0.5555555555555556,
              "#d8576b"
             ],
             [
              0.6666666666666666,
              "#ed7953"
             ],
             [
              0.7777777777777778,
              "#fb9f3a"
             ],
             [
              0.8888888888888888,
              "#fdca26"
             ],
             [
              1,
              "#f0f921"
             ]
            ],
            "type": "heatmapgl"
           }
          ],
          "histogram": [
           {
            "marker": {
             "pattern": {
              "fillmode": "overlay",
              "size": 10,
              "solidity": 0.2
             }
            },
            "type": "histogram"
           }
          ],
          "histogram2d": [
           {
            "colorbar": {
             "outlinewidth": 0,
             "ticks": ""
            },
            "colorscale": [
             [
              0,
              "#0d0887"
             ],
             [
              0.1111111111111111,
              "#46039f"
             ],
             [
              0.2222222222222222,
              "#7201a8"
             ],
             [
              0.3333333333333333,
              "#9c179e"
             ],
             [
              0.4444444444444444,
              "#bd3786"
             ],
             [
              0.5555555555555556,
              "#d8576b"
             ],
             [
              0.6666666666666666,
              "#ed7953"
             ],
             [
              0.7777777777777778,
              "#fb9f3a"
             ],
             [
              0.8888888888888888,
              "#fdca26"
             ],
             [
              1,
              "#f0f921"
             ]
            ],
            "type": "histogram2d"
           }
          ],
          "histogram2dcontour": [
           {
            "colorbar": {
             "outlinewidth": 0,
             "ticks": ""
            },
            "colorscale": [
             [
              0,
              "#0d0887"
             ],
             [
              0.1111111111111111,
              "#46039f"
             ],
             [
              0.2222222222222222,
              "#7201a8"
             ],
             [
              0.3333333333333333,
              "#9c179e"
             ],
             [
              0.4444444444444444,
              "#bd3786"
             ],
             [
              0.5555555555555556,
              "#d8576b"
             ],
             [
              0.6666666666666666,
              "#ed7953"
             ],
             [
              0.7777777777777778,
              "#fb9f3a"
             ],
             [
              0.8888888888888888,
              "#fdca26"
             ],
             [
              1,
              "#f0f921"
             ]
            ],
            "type": "histogram2dcontour"
           }
          ],
          "mesh3d": [
           {
            "colorbar": {
             "outlinewidth": 0,
             "ticks": ""
            },
            "type": "mesh3d"
           }
          ],
          "parcoords": [
           {
            "line": {
             "colorbar": {
              "outlinewidth": 0,
              "ticks": ""
             }
            },
            "type": "parcoords"
           }
          ],
          "pie": [
           {
            "automargin": true,
            "type": "pie"
           }
          ],
          "scatter": [
           {
            "fillpattern": {
             "fillmode": "overlay",
             "size": 10,
             "solidity": 0.2
            },
            "type": "scatter"
           }
          ],
          "scatter3d": [
           {
            "line": {
             "colorbar": {
              "outlinewidth": 0,
              "ticks": ""
             }
            },
            "marker": {
             "colorbar": {
              "outlinewidth": 0,
              "ticks": ""
             }
            },
            "type": "scatter3d"
           }
          ],
          "scattercarpet": [
           {
            "marker": {
             "colorbar": {
              "outlinewidth": 0,
              "ticks": ""
             }
            },
            "type": "scattercarpet"
           }
          ],
          "scattergeo": [
           {
            "marker": {
             "colorbar": {
              "outlinewidth": 0,
              "ticks": ""
             }
            },
            "type": "scattergeo"
           }
          ],
          "scattergl": [
           {
            "marker": {
             "colorbar": {
              "outlinewidth": 0,
              "ticks": ""
             }
            },
            "type": "scattergl"
           }
          ],
          "scattermapbox": [
           {
            "marker": {
             "colorbar": {
              "outlinewidth": 0,
              "ticks": ""
             }
            },
            "type": "scattermapbox"
           }
          ],
          "scatterpolar": [
           {
            "marker": {
             "colorbar": {
              "outlinewidth": 0,
              "ticks": ""
             }
            },
            "type": "scatterpolar"
           }
          ],
          "scatterpolargl": [
           {
            "marker": {
             "colorbar": {
              "outlinewidth": 0,
              "ticks": ""
             }
            },
            "type": "scatterpolargl"
           }
          ],
          "scatterternary": [
           {
            "marker": {
             "colorbar": {
              "outlinewidth": 0,
              "ticks": ""
             }
            },
            "type": "scatterternary"
           }
          ],
          "surface": [
           {
            "colorbar": {
             "outlinewidth": 0,
             "ticks": ""
            },
            "colorscale": [
             [
              0,
              "#0d0887"
             ],
             [
              0.1111111111111111,
              "#46039f"
             ],
             [
              0.2222222222222222,
              "#7201a8"
             ],
             [
              0.3333333333333333,
              "#9c179e"
             ],
             [
              0.4444444444444444,
              "#bd3786"
             ],
             [
              0.5555555555555556,
              "#d8576b"
             ],
             [
              0.6666666666666666,
              "#ed7953"
             ],
             [
              0.7777777777777778,
              "#fb9f3a"
             ],
             [
              0.8888888888888888,
              "#fdca26"
             ],
             [
              1,
              "#f0f921"
             ]
            ],
            "type": "surface"
           }
          ],
          "table": [
           {
            "cells": {
             "fill": {
              "color": "#EBF0F8"
             },
             "line": {
              "color": "white"
             }
            },
            "header": {
             "fill": {
              "color": "#C8D4E3"
             },
             "line": {
              "color": "white"
             }
            },
            "type": "table"
           }
          ]
         },
         "layout": {
          "annotationdefaults": {
           "arrowcolor": "#2a3f5f",
           "arrowhead": 0,
           "arrowwidth": 1
          },
          "autotypenumbers": "strict",
          "coloraxis": {
           "colorbar": {
            "outlinewidth": 0,
            "ticks": ""
           }
          },
          "colorscale": {
           "diverging": [
            [
             0,
             "#8e0152"
            ],
            [
             0.1,
             "#c51b7d"
            ],
            [
             0.2,
             "#de77ae"
            ],
            [
             0.3,
             "#f1b6da"
            ],
            [
             0.4,
             "#fde0ef"
            ],
            [
             0.5,
             "#f7f7f7"
            ],
            [
             0.6,
             "#e6f5d0"
            ],
            [
             0.7,
             "#b8e186"
            ],
            [
             0.8,
             "#7fbc41"
            ],
            [
             0.9,
             "#4d9221"
            ],
            [
             1,
             "#276419"
            ]
           ],
           "sequential": [
            [
             0,
             "#0d0887"
            ],
            [
             0.1111111111111111,
             "#46039f"
            ],
            [
             0.2222222222222222,
             "#7201a8"
            ],
            [
             0.3333333333333333,
             "#9c179e"
            ],
            [
             0.4444444444444444,
             "#bd3786"
            ],
            [
             0.5555555555555556,
             "#d8576b"
            ],
            [
             0.6666666666666666,
             "#ed7953"
            ],
            [
             0.7777777777777778,
             "#fb9f3a"
            ],
            [
             0.8888888888888888,
             "#fdca26"
            ],
            [
             1,
             "#f0f921"
            ]
           ],
           "sequentialminus": [
            [
             0,
             "#0d0887"
            ],
            [
             0.1111111111111111,
             "#46039f"
            ],
            [
             0.2222222222222222,
             "#7201a8"
            ],
            [
             0.3333333333333333,
             "#9c179e"
            ],
            [
             0.4444444444444444,
             "#bd3786"
            ],
            [
             0.5555555555555556,
             "#d8576b"
            ],
            [
             0.6666666666666666,
             "#ed7953"
            ],
            [
             0.7777777777777778,
             "#fb9f3a"
            ],
            [
             0.8888888888888888,
             "#fdca26"
            ],
            [
             1,
             "#f0f921"
            ]
           ]
          },
          "colorway": [
           "#636efa",
           "#EF553B",
           "#00cc96",
           "#ab63fa",
           "#FFA15A",
           "#19d3f3",
           "#FF6692",
           "#B6E880",
           "#FF97FF",
           "#FECB52"
          ],
          "font": {
           "color": "#2a3f5f"
          },
          "geo": {
           "bgcolor": "white",
           "lakecolor": "white",
           "landcolor": "#E5ECF6",
           "showlakes": true,
           "showland": true,
           "subunitcolor": "white"
          },
          "hoverlabel": {
           "align": "left"
          },
          "hovermode": "closest",
          "mapbox": {
           "style": "light"
          },
          "paper_bgcolor": "white",
          "plot_bgcolor": "#E5ECF6",
          "polar": {
           "angularaxis": {
            "gridcolor": "white",
            "linecolor": "white",
            "ticks": ""
           },
           "bgcolor": "#E5ECF6",
           "radialaxis": {
            "gridcolor": "white",
            "linecolor": "white",
            "ticks": ""
           }
          },
          "scene": {
           "xaxis": {
            "backgroundcolor": "#E5ECF6",
            "gridcolor": "white",
            "gridwidth": 2,
            "linecolor": "white",
            "showbackground": true,
            "ticks": "",
            "zerolinecolor": "white"
           },
           "yaxis": {
            "backgroundcolor": "#E5ECF6",
            "gridcolor": "white",
            "gridwidth": 2,
            "linecolor": "white",
            "showbackground": true,
            "ticks": "",
            "zerolinecolor": "white"
           },
           "zaxis": {
            "backgroundcolor": "#E5ECF6",
            "gridcolor": "white",
            "gridwidth": 2,
            "linecolor": "white",
            "showbackground": true,
            "ticks": "",
            "zerolinecolor": "white"
           }
          },
          "shapedefaults": {
           "line": {
            "color": "#2a3f5f"
           }
          },
          "ternary": {
           "aaxis": {
            "gridcolor": "white",
            "linecolor": "white",
            "ticks": ""
           },
           "baxis": {
            "gridcolor": "white",
            "linecolor": "white",
            "ticks": ""
           },
           "bgcolor": "#E5ECF6",
           "caxis": {
            "gridcolor": "white",
            "linecolor": "white",
            "ticks": ""
           }
          },
          "title": {
           "x": 0.05
          },
          "xaxis": {
           "automargin": true,
           "gridcolor": "white",
           "linecolor": "white",
           "ticks": "",
           "title": {
            "standoff": 15
           },
           "zerolinecolor": "white",
           "zerolinewidth": 2
          },
          "yaxis": {
           "automargin": true,
           "gridcolor": "white",
           "linecolor": "white",
           "ticks": "",
           "title": {
            "standoff": 15
           },
           "zerolinecolor": "white",
           "zerolinewidth": 2
          }
         }
        },
        "title": {
         "font": {
          "color": "black",
          "size": 20
         },
         "text": "OLS Coeffecients 2000-2009",
         "x": 0.5,
         "xanchor": "center",
         "y": 0.95,
         "yanchor": "top"
        },
        "xaxis": {
         "anchor": "y",
         "domain": [
          0,
          1
         ],
         "title": {
          "text": "Feature Names"
         }
        },
        "yaxis": {
         "anchor": "x",
         "domain": [
          0,
          1
         ],
         "title": {
          "text": "Coefficient Value"
         }
        }
       }
      }
     },
     "metadata": {},
     "output_type": "display_data"
    }
   ],
   "source": [
    "plot_feature_coefficients(feature_stats_pre_2010, \"OLS Coeffecients 2000-2009\", \"../_includes/OLS_features_pre_2010.html\")"
   ]
  },
  {
   "cell_type": "code",
   "execution_count": 165,
   "metadata": {},
   "outputs": [
    {
     "name": "stdout",
     "output_type": "stream",
     "text": [
      "Plot saved to ../_includes/OLS_features_post_2010.html\n"
     ]
    },
    {
     "data": {
      "application/vnd.plotly.v1+json": {
       "config": {
        "plotlyServerURL": "https://plot.ly"
       },
       "data": [
        {
         "alignmentgroup": "True",
         "customdata": [
          [
           0.14835146971196703,
           3.606974163509299,
           0.0003206027973722597
          ],
          [
           0.11865675551025524,
           3.2386874281549054,
           0.001228773351959774
          ],
          [
           0.11523156502994505,
           3.038192402568314,
           0.0024237635940542977
          ],
          [
           0.07590335228500084,
           3.9971451208186903,
           0.00006742761015340725
          ],
          [
           0.03547430002718808,
           7.557749798595271,
           7.34673441183668e-14
          ],
          [
           0.10966349145546929,
           2.3559054668271373,
           0.018613879840796956
          ],
          [
           0.10504456304397591,
           2.272197481875398,
           0.023224621351212397
          ],
          [
           0.06738110082265927,
           2.9250566298198226,
           0.003499008147207104
          ],
          [
           0.0704907615176965,
           2.4039175206820205,
           0.016348804883792513
          ],
          [
           0.03372254728490451,
           2.578325534018841,
           0.010028708863092943
          ],
          [
           0.03512662015232241,
           2.1004153940792216,
           0.03586954430105783
          ],
          [
           0.036347802783020924,
           -6.23941383331587,
           5.795943421923731e-10
          ],
          [
           0.061436133014613106,
           -3.7941428663049965,
           0.00015442618091903332
          ],
          [
           0.11456152619122827,
           -2.2299056230581784,
           0.025910637545448045
          ],
          [
           0.15114561099786328,
           -2.4007146291693684,
           0.016491988565757735
          ],
          [
           0.15708250960246162,
           -3.1100837378787083,
           0.0019078171320920697
          ]
         ],
         "hovertemplate": "Feature Names=%{x}<br>Coefficient Value=%{marker.color}<br>Std_Error=%{customdata[0]}<br>t_value=%{customdata[1]}<br>p_value=%{customdata[2]}<extra></extra>",
         "legendgroup": "",
         "marker": {
          "color": [
           0.5350999183696974,
           0.38429214233671394,
           0.3500956654100357,
           0.30339671423977327,
           0.26810588388578893,
           0.25835681903129115,
           0.23868199163322357,
           0.1970935356858774,
           0.16945397665860853,
           0.08694770473682704,
           0.0737804937099114,
           -0.22678898349501786,
           -0.23309746581075919,
           -0.2554613914399467,
           -0.36285747945731295,
           -0.48853975861979193
          ],
          "coloraxis": "coloraxis",
          "pattern": {
           "shape": ""
          }
         },
         "name": "",
         "offsetgroup": "",
         "orientation": "v",
         "showlegend": false,
         "textposition": "auto",
         "type": "bar",
         "x": [
          "Animation",
          "Month: December",
          "Month: November",
          "Adventure",
          "Budget (USD) Inflated",
          "Month: October",
          "Emotion: Disgust",
          "Thriller",
          "Action",
          "Runtime (Minutes)",
          "Critics Score",
          "Audience Score",
          "Comedy",
          "Rating: PG",
          "Emotion: Surprise",
          "Sports"
         ],
         "xaxis": "x",
         "y": [
          0.5350999183696974,
          0.38429214233671394,
          0.3500956654100357,
          0.30339671423977327,
          0.26810588388578893,
          0.25835681903129115,
          0.23868199163322357,
          0.1970935356858774,
          0.16945397665860853,
          0.08694770473682704,
          0.0737804937099114,
          -0.22678898349501786,
          -0.23309746581075919,
          -0.2554613914399467,
          -0.36285747945731295,
          -0.48853975861979193
         ],
         "yaxis": "y"
        }
       ],
       "layout": {
        "barmode": "relative",
        "coloraxis": {
         "colorbar": {
          "title": {
           "text": "Coefficient Value"
          }
         },
         "colorscale": [
          [
           0,
           "#0d0887"
          ],
          [
           0.1111111111111111,
           "#46039f"
          ],
          [
           0.2222222222222222,
           "#7201a8"
          ],
          [
           0.3333333333333333,
           "#9c179e"
          ],
          [
           0.4444444444444444,
           "#bd3786"
          ],
          [
           0.5555555555555556,
           "#d8576b"
          ],
          [
           0.6666666666666666,
           "#ed7953"
          ],
          [
           0.7777777777777778,
           "#fb9f3a"
          ],
          [
           0.8888888888888888,
           "#fdca26"
          ],
          [
           1,
           "#f0f921"
          ]
         ]
        },
        "height": 400,
        "legend": {
         "tracegroupgap": 0
        },
        "template": {
         "data": {
          "bar": [
           {
            "error_x": {
             "color": "#2a3f5f"
            },
            "error_y": {
             "color": "#2a3f5f"
            },
            "marker": {
             "line": {
              "color": "#E5ECF6",
              "width": 0.5
             },
             "pattern": {
              "fillmode": "overlay",
              "size": 10,
              "solidity": 0.2
             }
            },
            "type": "bar"
           }
          ],
          "barpolar": [
           {
            "marker": {
             "line": {
              "color": "#E5ECF6",
              "width": 0.5
             },
             "pattern": {
              "fillmode": "overlay",
              "size": 10,
              "solidity": 0.2
             }
            },
            "type": "barpolar"
           }
          ],
          "carpet": [
           {
            "aaxis": {
             "endlinecolor": "#2a3f5f",
             "gridcolor": "white",
             "linecolor": "white",
             "minorgridcolor": "white",
             "startlinecolor": "#2a3f5f"
            },
            "baxis": {
             "endlinecolor": "#2a3f5f",
             "gridcolor": "white",
             "linecolor": "white",
             "minorgridcolor": "white",
             "startlinecolor": "#2a3f5f"
            },
            "type": "carpet"
           }
          ],
          "choropleth": [
           {
            "colorbar": {
             "outlinewidth": 0,
             "ticks": ""
            },
            "type": "choropleth"
           }
          ],
          "contour": [
           {
            "colorbar": {
             "outlinewidth": 0,
             "ticks": ""
            },
            "colorscale": [
             [
              0,
              "#0d0887"
             ],
             [
              0.1111111111111111,
              "#46039f"
             ],
             [
              0.2222222222222222,
              "#7201a8"
             ],
             [
              0.3333333333333333,
              "#9c179e"
             ],
             [
              0.4444444444444444,
              "#bd3786"
             ],
             [
              0.5555555555555556,
              "#d8576b"
             ],
             [
              0.6666666666666666,
              "#ed7953"
             ],
             [
              0.7777777777777778,
              "#fb9f3a"
             ],
             [
              0.8888888888888888,
              "#fdca26"
             ],
             [
              1,
              "#f0f921"
             ]
            ],
            "type": "contour"
           }
          ],
          "contourcarpet": [
           {
            "colorbar": {
             "outlinewidth": 0,
             "ticks": ""
            },
            "type": "contourcarpet"
           }
          ],
          "heatmap": [
           {
            "colorbar": {
             "outlinewidth": 0,
             "ticks": ""
            },
            "colorscale": [
             [
              0,
              "#0d0887"
             ],
             [
              0.1111111111111111,
              "#46039f"
             ],
             [
              0.2222222222222222,
              "#7201a8"
             ],
             [
              0.3333333333333333,
              "#9c179e"
             ],
             [
              0.4444444444444444,
              "#bd3786"
             ],
             [
              0.5555555555555556,
              "#d8576b"
             ],
             [
              0.6666666666666666,
              "#ed7953"
             ],
             [
              0.7777777777777778,
              "#fb9f3a"
             ],
             [
              0.8888888888888888,
              "#fdca26"
             ],
             [
              1,
              "#f0f921"
             ]
            ],
            "type": "heatmap"
           }
          ],
          "heatmapgl": [
           {
            "colorbar": {
             "outlinewidth": 0,
             "ticks": ""
            },
            "colorscale": [
             [
              0,
              "#0d0887"
             ],
             [
              0.1111111111111111,
              "#46039f"
             ],
             [
              0.2222222222222222,
              "#7201a8"
             ],
             [
              0.3333333333333333,
              "#9c179e"
             ],
             [
              0.4444444444444444,
              "#bd3786"
             ],
             [
              0.5555555555555556,
              "#d8576b"
             ],
             [
              0.6666666666666666,
              "#ed7953"
             ],
             [
              0.7777777777777778,
              "#fb9f3a"
             ],
             [
              0.8888888888888888,
              "#fdca26"
             ],
             [
              1,
              "#f0f921"
             ]
            ],
            "type": "heatmapgl"
           }
          ],
          "histogram": [
           {
            "marker": {
             "pattern": {
              "fillmode": "overlay",
              "size": 10,
              "solidity": 0.2
             }
            },
            "type": "histogram"
           }
          ],
          "histogram2d": [
           {
            "colorbar": {
             "outlinewidth": 0,
             "ticks": ""
            },
            "colorscale": [
             [
              0,
              "#0d0887"
             ],
             [
              0.1111111111111111,
              "#46039f"
             ],
             [
              0.2222222222222222,
              "#7201a8"
             ],
             [
              0.3333333333333333,
              "#9c179e"
             ],
             [
              0.4444444444444444,
              "#bd3786"
             ],
             [
              0.5555555555555556,
              "#d8576b"
             ],
             [
              0.6666666666666666,
              "#ed7953"
             ],
             [
              0.7777777777777778,
              "#fb9f3a"
             ],
             [
              0.8888888888888888,
              "#fdca26"
             ],
             [
              1,
              "#f0f921"
             ]
            ],
            "type": "histogram2d"
           }
          ],
          "histogram2dcontour": [
           {
            "colorbar": {
             "outlinewidth": 0,
             "ticks": ""
            },
            "colorscale": [
             [
              0,
              "#0d0887"
             ],
             [
              0.1111111111111111,
              "#46039f"
             ],
             [
              0.2222222222222222,
              "#7201a8"
             ],
             [
              0.3333333333333333,
              "#9c179e"
             ],
             [
              0.4444444444444444,
              "#bd3786"
             ],
             [
              0.5555555555555556,
              "#d8576b"
             ],
             [
              0.6666666666666666,
              "#ed7953"
             ],
             [
              0.7777777777777778,
              "#fb9f3a"
             ],
             [
              0.8888888888888888,
              "#fdca26"
             ],
             [
              1,
              "#f0f921"
             ]
            ],
            "type": "histogram2dcontour"
           }
          ],
          "mesh3d": [
           {
            "colorbar": {
             "outlinewidth": 0,
             "ticks": ""
            },
            "type": "mesh3d"
           }
          ],
          "parcoords": [
           {
            "line": {
             "colorbar": {
              "outlinewidth": 0,
              "ticks": ""
             }
            },
            "type": "parcoords"
           }
          ],
          "pie": [
           {
            "automargin": true,
            "type": "pie"
           }
          ],
          "scatter": [
           {
            "fillpattern": {
             "fillmode": "overlay",
             "size": 10,
             "solidity": 0.2
            },
            "type": "scatter"
           }
          ],
          "scatter3d": [
           {
            "line": {
             "colorbar": {
              "outlinewidth": 0,
              "ticks": ""
             }
            },
            "marker": {
             "colorbar": {
              "outlinewidth": 0,
              "ticks": ""
             }
            },
            "type": "scatter3d"
           }
          ],
          "scattercarpet": [
           {
            "marker": {
             "colorbar": {
              "outlinewidth": 0,
              "ticks": ""
             }
            },
            "type": "scattercarpet"
           }
          ],
          "scattergeo": [
           {
            "marker": {
             "colorbar": {
              "outlinewidth": 0,
              "ticks": ""
             }
            },
            "type": "scattergeo"
           }
          ],
          "scattergl": [
           {
            "marker": {
             "colorbar": {
              "outlinewidth": 0,
              "ticks": ""
             }
            },
            "type": "scattergl"
           }
          ],
          "scattermapbox": [
           {
            "marker": {
             "colorbar": {
              "outlinewidth": 0,
              "ticks": ""
             }
            },
            "type": "scattermapbox"
           }
          ],
          "scatterpolar": [
           {
            "marker": {
             "colorbar": {
              "outlinewidth": 0,
              "ticks": ""
             }
            },
            "type": "scatterpolar"
           }
          ],
          "scatterpolargl": [
           {
            "marker": {
             "colorbar": {
              "outlinewidth": 0,
              "ticks": ""
             }
            },
            "type": "scatterpolargl"
           }
          ],
          "scatterternary": [
           {
            "marker": {
             "colorbar": {
              "outlinewidth": 0,
              "ticks": ""
             }
            },
            "type": "scatterternary"
           }
          ],
          "surface": [
           {
            "colorbar": {
             "outlinewidth": 0,
             "ticks": ""
            },
            "colorscale": [
             [
              0,
              "#0d0887"
             ],
             [
              0.1111111111111111,
              "#46039f"
             ],
             [
              0.2222222222222222,
              "#7201a8"
             ],
             [
              0.3333333333333333,
              "#9c179e"
             ],
             [
              0.4444444444444444,
              "#bd3786"
             ],
             [
              0.5555555555555556,
              "#d8576b"
             ],
             [
              0.6666666666666666,
              "#ed7953"
             ],
             [
              0.7777777777777778,
              "#fb9f3a"
             ],
             [
              0.8888888888888888,
              "#fdca26"
             ],
             [
              1,
              "#f0f921"
             ]
            ],
            "type": "surface"
           }
          ],
          "table": [
           {
            "cells": {
             "fill": {
              "color": "#EBF0F8"
             },
             "line": {
              "color": "white"
             }
            },
            "header": {
             "fill": {
              "color": "#C8D4E3"
             },
             "line": {
              "color": "white"
             }
            },
            "type": "table"
           }
          ]
         },
         "layout": {
          "annotationdefaults": {
           "arrowcolor": "#2a3f5f",
           "arrowhead": 0,
           "arrowwidth": 1
          },
          "autotypenumbers": "strict",
          "coloraxis": {
           "colorbar": {
            "outlinewidth": 0,
            "ticks": ""
           }
          },
          "colorscale": {
           "diverging": [
            [
             0,
             "#8e0152"
            ],
            [
             0.1,
             "#c51b7d"
            ],
            [
             0.2,
             "#de77ae"
            ],
            [
             0.3,
             "#f1b6da"
            ],
            [
             0.4,
             "#fde0ef"
            ],
            [
             0.5,
             "#f7f7f7"
            ],
            [
             0.6,
             "#e6f5d0"
            ],
            [
             0.7,
             "#b8e186"
            ],
            [
             0.8,
             "#7fbc41"
            ],
            [
             0.9,
             "#4d9221"
            ],
            [
             1,
             "#276419"
            ]
           ],
           "sequential": [
            [
             0,
             "#0d0887"
            ],
            [
             0.1111111111111111,
             "#46039f"
            ],
            [
             0.2222222222222222,
             "#7201a8"
            ],
            [
             0.3333333333333333,
             "#9c179e"
            ],
            [
             0.4444444444444444,
             "#bd3786"
            ],
            [
             0.5555555555555556,
             "#d8576b"
            ],
            [
             0.6666666666666666,
             "#ed7953"
            ],
            [
             0.7777777777777778,
             "#fb9f3a"
            ],
            [
             0.8888888888888888,
             "#fdca26"
            ],
            [
             1,
             "#f0f921"
            ]
           ],
           "sequentialminus": [
            [
             0,
             "#0d0887"
            ],
            [
             0.1111111111111111,
             "#46039f"
            ],
            [
             0.2222222222222222,
             "#7201a8"
            ],
            [
             0.3333333333333333,
             "#9c179e"
            ],
            [
             0.4444444444444444,
             "#bd3786"
            ],
            [
             0.5555555555555556,
             "#d8576b"
            ],
            [
             0.6666666666666666,
             "#ed7953"
            ],
            [
             0.7777777777777778,
             "#fb9f3a"
            ],
            [
             0.8888888888888888,
             "#fdca26"
            ],
            [
             1,
             "#f0f921"
            ]
           ]
          },
          "colorway": [
           "#636efa",
           "#EF553B",
           "#00cc96",
           "#ab63fa",
           "#FFA15A",
           "#19d3f3",
           "#FF6692",
           "#B6E880",
           "#FF97FF",
           "#FECB52"
          ],
          "font": {
           "color": "#2a3f5f"
          },
          "geo": {
           "bgcolor": "white",
           "lakecolor": "white",
           "landcolor": "#E5ECF6",
           "showlakes": true,
           "showland": true,
           "subunitcolor": "white"
          },
          "hoverlabel": {
           "align": "left"
          },
          "hovermode": "closest",
          "mapbox": {
           "style": "light"
          },
          "paper_bgcolor": "white",
          "plot_bgcolor": "#E5ECF6",
          "polar": {
           "angularaxis": {
            "gridcolor": "white",
            "linecolor": "white",
            "ticks": ""
           },
           "bgcolor": "#E5ECF6",
           "radialaxis": {
            "gridcolor": "white",
            "linecolor": "white",
            "ticks": ""
           }
          },
          "scene": {
           "xaxis": {
            "backgroundcolor": "#E5ECF6",
            "gridcolor": "white",
            "gridwidth": 2,
            "linecolor": "white",
            "showbackground": true,
            "ticks": "",
            "zerolinecolor": "white"
           },
           "yaxis": {
            "backgroundcolor": "#E5ECF6",
            "gridcolor": "white",
            "gridwidth": 2,
            "linecolor": "white",
            "showbackground": true,
            "ticks": "",
            "zerolinecolor": "white"
           },
           "zaxis": {
            "backgroundcolor": "#E5ECF6",
            "gridcolor": "white",
            "gridwidth": 2,
            "linecolor": "white",
            "showbackground": true,
            "ticks": "",
            "zerolinecolor": "white"
           }
          },
          "shapedefaults": {
           "line": {
            "color": "#2a3f5f"
           }
          },
          "ternary": {
           "aaxis": {
            "gridcolor": "white",
            "linecolor": "white",
            "ticks": ""
           },
           "baxis": {
            "gridcolor": "white",
            "linecolor": "white",
            "ticks": ""
           },
           "bgcolor": "#E5ECF6",
           "caxis": {
            "gridcolor": "white",
            "linecolor": "white",
            "ticks": ""
           }
          },
          "title": {
           "x": 0.05
          },
          "xaxis": {
           "automargin": true,
           "gridcolor": "white",
           "linecolor": "white",
           "ticks": "",
           "title": {
            "standoff": 15
           },
           "zerolinecolor": "white",
           "zerolinewidth": 2
          },
          "yaxis": {
           "automargin": true,
           "gridcolor": "white",
           "linecolor": "white",
           "ticks": "",
           "title": {
            "standoff": 15
           },
           "zerolinecolor": "white",
           "zerolinewidth": 2
          }
         }
        },
        "title": {
         "font": {
          "color": "black",
          "size": 20
         },
         "text": "OLS Coeffecients 2010-2019",
         "x": 0.5,
         "xanchor": "center",
         "y": 0.95,
         "yanchor": "top"
        },
        "xaxis": {
         "anchor": "y",
         "domain": [
          0,
          1
         ],
         "title": {
          "text": "Feature Names"
         }
        },
        "yaxis": {
         "anchor": "x",
         "domain": [
          0,
          1
         ],
         "title": {
          "text": "Coefficient Value"
         }
        }
       }
      }
     },
     "metadata": {},
     "output_type": "display_data"
    }
   ],
   "source": [
    "plot_feature_coefficients(feature_stats_post_2010, \"OLS Coeffecients 2010-2019\", \"../_includes/OLS_features_post_2010.html\")"
   ]
  },
  {
   "cell_type": "code",
   "execution_count": null,
   "metadata": {},
   "outputs": [],
   "source": []
  }
 ],
 "metadata": {
  "kernelspec": {
   "display_name": "ada",
   "language": "python",
   "name": "python3"
  },
  "language_info": {
   "codemirror_mode": {
    "name": "ipython",
    "version": 3
   },
   "file_extension": ".py",
   "mimetype": "text/x-python",
   "name": "python",
   "nbconvert_exporter": "python",
   "pygments_lexer": "ipython3",
   "version": "3.11.9"
  }
 },
 "nbformat": 4,
 "nbformat_minor": 2
}
